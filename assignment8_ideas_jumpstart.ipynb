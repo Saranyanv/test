{
  "nbformat": 4,
  "nbformat_minor": 0,
  "metadata": {
    "colab": {
      "name": "assignment8-ideas-jumpstart.ipynb",
      "version": "0.3.2",
      "provenance": [],
      "include_colab_link": true
    },
    "kernelspec": {
      "name": "python3",
      "display_name": "Python 3"
    }
  },
  "cells": [
    {
      "cell_type": "markdown",
      "metadata": {
        "id": "view-in-github",
        "colab_type": "text"
      },
      "source": [
        "<a href=\"https://colab.research.google.com/github/Saranyanv/test/blob/master/assignment8_ideas_jumpstart.ipynb\" target=\"_parent\"><img src=\"https://colab.research.google.com/assets/colab-badge.svg\" alt=\"Open In Colab\"/></a>"
      ]
    },
    {
      "metadata": {
        "id": "yUYHL_sxDVbX",
        "colab_type": "text"
      },
      "cell_type": "markdown",
      "source": [
        "# Assignment 8- Jumpstart and Ideas"
      ]
    },
    {
      "metadata": {
        "id": "LyP1t6_tDfV4",
        "colab_type": "text"
      },
      "cell_type": "markdown",
      "source": [
        "## Chakin"
      ]
    },
    {
      "metadata": {
        "id": "yt2h_AQ_Djgw",
        "colab_type": "code",
        "outputId": "d9f9f9ed-401b-4f5c-c306-e1da88590ab7",
        "colab": {
          "base_uri": "https://localhost:8080/",
          "height": 973
        }
      },
      "cell_type": "code",
      "source": [
        "!pip install chakin\n",
        "\n",
        "import numpy as np\n",
        "import tensorflow as tf\n",
        "\n",
        "# Python chakin package previously installed by \n",
        "#    pip install chakin\n",
        "import chakin  \n",
        "\n",
        "import json\n",
        "import os\n",
        "from collections import defaultdict\n",
        "\n",
        "chakin.search(lang='English')  # lists available indices in English\n",
        "\n",
        "# Specify English embeddings file to download and install\n",
        "# by index number, number of dimensions, and subfoder name\n",
        "# Note that GloVe 50-, 100-, 200-, and 300-dimensional folders\n",
        "# are downloaded with a single zip download\n",
        "\n",
        "#CHAKIN_INDEX = 11\n",
        "#NUMBER_OF_DIMENSIONS = 50\n",
        "#SUBFOLDER_NAME = \"glove.6B\"\n",
        "CHAKIN_INDEX = 18\n",
        "NUMBER_OF_DIMENSIONS = 50\n",
        "SUBFOLDER_NAME = \"glove.twitter.27B\"\n",
        "\n",
        "DATA_FOLDER = \"embeddings\"\n",
        "ZIP_FILE = os.path.join(DATA_FOLDER, \"{}.zip\".format(SUBFOLDER_NAME))\n",
        "ZIP_FILE_ALT = \"glove\" + ZIP_FILE[5:]  # sometimes it's lowercase only...\n",
        "UNZIP_FOLDER = os.path.join(DATA_FOLDER, SUBFOLDER_NAME)\n",
        "if SUBFOLDER_NAME[-1] == \"d\":\n",
        "    GLOVE_FILENAME = os.path.join(\n",
        "        UNZIP_FOLDER, \"{}.txt\".format(SUBFOLDER_NAME))\n",
        "else:\n",
        "    GLOVE_FILENAME = os.path.join(UNZIP_FOLDER, \"{}.{}d.txt\".format(\n",
        "        SUBFOLDER_NAME, NUMBER_OF_DIMENSIONS))\n",
        "    \n",
        "if not os.path.exists(ZIP_FILE) and not os.path.exists(UNZIP_FOLDER):\n",
        "    # GloVe by Stanford is licensed Apache 2.0:\n",
        "    #     https://github.com/stanfordnlp/GloVe/blob/master/LICENSE\n",
        "    #     http://nlp.stanford.edu/data/glove.twitter.27B.zip\n",
        "    #     Copyright 2014 The Board of Trustees of The Leland Stanford Junior University\n",
        "    print(\"Downloading embeddings to '{}'\".format(ZIP_FILE))\n",
        "    chakin.download(number=CHAKIN_INDEX, save_dir='./{}'.format(DATA_FOLDER))\n",
        "else:\n",
        "    print(\"Embeddings already downloaded.\")\n",
        "\n",
        "if not os.path.exists(UNZIP_FOLDER):\n",
        "    import zipfile\n",
        "    if not os.path.exists(ZIP_FILE) and os.path.exists(ZIP_FILE_ALT):\n",
        "        ZIP_FILE = ZIP_FILE_ALT\n",
        "    with zipfile.ZipFile(ZIP_FILE, \"r\") as zip_ref:\n",
        "        print(\"Extracting embeddings to '{}'\".format(UNZIP_FOLDER))\n",
        "        zip_ref.extractall(UNZIP_FOLDER)\n",
        "else:\n",
        "    print(\"Embeddings already extracted.\")\n",
        "\n",
        "print('\\nRun complete')\n",
        "\n",
        "# Do the same for a different vector/dimension\n",
        "\n",
        "CHAKIN_INDEX = 11\n",
        "NUMBER_OF_DIMENSIONS = 50\n",
        "SUBFOLDER_NAME = \"glove.6B\"\n",
        "\n",
        "DATA_FOLDER = \"embeddings\"\n",
        "ZIP_FILE = os.path.join(DATA_FOLDER, \"{}.zip\".format(SUBFOLDER_NAME))\n",
        "ZIP_FILE_ALT = \"glove\" + ZIP_FILE[5:]  # sometimes it's lowercase only...\n",
        "UNZIP_FOLDER = os.path.join(DATA_FOLDER, SUBFOLDER_NAME)\n",
        "if SUBFOLDER_NAME[-1] == \"d\":\n",
        "    GLOVE_FILENAME = os.path.join(\n",
        "        UNZIP_FOLDER, \"{}.txt\".format(SUBFOLDER_NAME))\n",
        "else:\n",
        "    GLOVE_FILENAME = os.path.join(UNZIP_FOLDER, \"{}.{}d.txt\".format(\n",
        "        SUBFOLDER_NAME, NUMBER_OF_DIMENSIONS))\n",
        "    \n",
        "if not os.path.exists(ZIP_FILE) and not os.path.exists(UNZIP_FOLDER):\n",
        "    # GloVe by Stanford is licensed Apache 2.0:\n",
        "    #     https://github.com/stanfordnlp/GloVe/blob/master/LICENSE\n",
        "    #     http://nlp.stanford.edu/data/glove.twitter.27B.zip\n",
        "    #     Copyright 2014 The Board of Trustees of The Leland Stanford Junior University\n",
        "    print(\"Downloading embeddings to '{}'\".format(ZIP_FILE))\n",
        "    chakin.download(number=CHAKIN_INDEX, save_dir='./{}'.format(DATA_FOLDER))\n",
        "else:\n",
        "    print(\"Embeddings already downloaded.\")\n",
        "\n",
        "if not os.path.exists(UNZIP_FOLDER):\n",
        "    import zipfile\n",
        "    if not os.path.exists(ZIP_FILE) and os.path.exists(ZIP_FILE_ALT):\n",
        "        ZIP_FILE = ZIP_FILE_ALT\n",
        "    with zipfile.ZipFile(ZIP_FILE, \"r\") as zip_ref:\n",
        "        print(\"Extracting embeddings to '{}'\".format(UNZIP_FOLDER))\n",
        "        zip_ref.extractall(UNZIP_FOLDER)\n",
        "else:\n",
        "    print(\"Embeddings already extracted.\")\n",
        "\n",
        "print('\\nRun complete')\n"
      ],
      "execution_count": 1,
      "outputs": [
        {
          "output_type": "stream",
          "text": [
            "Collecting chakin\n",
            "  Downloading https://files.pythonhosted.org/packages/45/a3/26d2b5b5b1700fb9923aadf6c8812c2128ab71a099c51855e92f994c49bd/chakin-0.0.6.tar.gz\n",
            "Requirement already satisfied: pandas>=0.20.1 in /usr/local/lib/python3.6/dist-packages (from chakin) (0.22.0)\n",
            "Collecting progressbar2>=3.20.0 (from chakin)\n",
            "  Downloading https://files.pythonhosted.org/packages/4f/6f/acb2dd76f2c77527584bd3a4c2509782bb35c481c610521fc3656de5a9e0/progressbar2-3.38.0-py2.py3-none-any.whl\n",
            "Requirement already satisfied: six>=1.10.0 in /usr/local/lib/python3.6/dist-packages (from chakin) (1.11.0)\n",
            "Requirement already satisfied: numpy>=1.9.0 in /usr/local/lib/python3.6/dist-packages (from pandas>=0.20.1->chakin) (1.14.6)\n",
            "Requirement already satisfied: pytz>=2011k in /usr/local/lib/python3.6/dist-packages (from pandas>=0.20.1->chakin) (2018.7)\n",
            "Requirement already satisfied: python-dateutil>=2 in /usr/local/lib/python3.6/dist-packages (from pandas>=0.20.1->chakin) (2.5.3)\n",
            "Collecting python-utils>=2.3.0 (from progressbar2>=3.20.0->chakin)\n",
            "  Downloading https://files.pythonhosted.org/packages/eb/a0/19119d8b7c05be49baf6c593f11c432d571b70d805f2fe94c0585e55e4c8/python_utils-2.3.0-py2.py3-none-any.whl\n",
            "Building wheels for collected packages: chakin\n",
            "  Running setup.py bdist_wheel for chakin ... \u001b[?25l-\b \bdone\n",
            "\u001b[?25h  Stored in directory: /root/.cache/pip/wheels/0f/00/a8/306996e292c7a68d22e81d6350dc8adbb101b05163eb3b6915\n",
            "Successfully built chakin\n",
            "Installing collected packages: python-utils, progressbar2, chakin\n",
            "Successfully installed chakin-0.0.6 progressbar2-3.38.0 python-utils-2.3.0\n",
            "                   Name  Dimension                     Corpus VocabularySize  \\\n",
            "2          fastText(en)        300                  Wikipedia           2.5M   \n",
            "11         GloVe.6B.50d         50  Wikipedia+Gigaword 5 (6B)           400K   \n",
            "12        GloVe.6B.100d        100  Wikipedia+Gigaword 5 (6B)           400K   \n",
            "13        GloVe.6B.200d        200  Wikipedia+Gigaword 5 (6B)           400K   \n",
            "14        GloVe.6B.300d        300  Wikipedia+Gigaword 5 (6B)           400K   \n",
            "15       GloVe.42B.300d        300          Common Crawl(42B)           1.9M   \n",
            "16      GloVe.840B.300d        300         Common Crawl(840B)           2.2M   \n",
            "17    GloVe.Twitter.25d         25               Twitter(27B)           1.2M   \n",
            "18    GloVe.Twitter.50d         50               Twitter(27B)           1.2M   \n",
            "19   GloVe.Twitter.100d        100               Twitter(27B)           1.2M   \n",
            "20   GloVe.Twitter.200d        200               Twitter(27B)           1.2M   \n",
            "21  word2vec.GoogleNews        300          Google News(100B)           3.0M   \n",
            "\n",
            "      Method Language    Author  \n",
            "2   fastText  English  Facebook  \n",
            "11     GloVe  English  Stanford  \n",
            "12     GloVe  English  Stanford  \n",
            "13     GloVe  English  Stanford  \n",
            "14     GloVe  English  Stanford  \n",
            "15     GloVe  English  Stanford  \n",
            "16     GloVe  English  Stanford  \n",
            "17     GloVe  English  Stanford  \n",
            "18     GloVe  English  Stanford  \n",
            "19     GloVe  English  Stanford  \n",
            "20     GloVe  English  Stanford  \n",
            "21  word2vec  English    Google  \n",
            "Downloading embeddings to 'embeddings/glove.twitter.27B.zip'\n"
          ],
          "name": "stdout"
        },
        {
          "output_type": "stream",
          "text": [
            "Test: 100% ||                                      | Time:  0:00:50  29.0 MiB/s\n"
          ],
          "name": "stderr"
        },
        {
          "output_type": "stream",
          "text": [
            "Extracting embeddings to 'embeddings/glove.twitter.27B'\n",
            "\n",
            "Run complete\n",
            "Downloading embeddings to 'embeddings/glove.6B.zip'\n"
          ],
          "name": "stdout"
        },
        {
          "output_type": "stream",
          "text": [
            "Test: 100% ||                                      | Time:  0:00:49  16.7 MiB/s\n"
          ],
          "name": "stderr"
        },
        {
          "output_type": "stream",
          "text": [
            "Extracting embeddings to 'embeddings/glove.6B'\n",
            "\n",
            "Run complete\n"
          ],
          "name": "stdout"
        }
      ]
    },
    {
      "metadata": {
        "id": "ZF2rEgDVDoS3",
        "colab_type": "code",
        "outputId": "ac638839-b1c0-4a36-9156-334e9c5bd7d5",
        "colab": {
          "base_uri": "https://localhost:8080/",
          "height": 104
        }
      },
      "cell_type": "code",
      "source": [
        "!ls -l embeddings"
      ],
      "execution_count": 2,
      "outputs": [
        {
          "output_type": "stream",
          "text": [
            "total 2326768\n",
            "drwxr-xr-x 2 root root       4096 Nov 27 01:59 glove.6B\n",
            "-rw-r--r-- 1 root root  862182613 Nov 27 01:59 glove.6B.zip\n",
            "drwxr-xr-x 2 root root       4096 Nov 27 01:57 glove.twitter.27B\n",
            "-rw-r--r-- 1 root root 1520408563 Nov 27 01:56 glove.twitter.27B.zip\n"
          ],
          "name": "stdout"
        }
      ]
    },
    {
      "metadata": {
        "id": "BRl0hqmmG3l_",
        "colab_type": "text"
      },
      "cell_type": "markdown",
      "source": [
        "## Load Movie Reviews Google Drive"
      ]
    },
    {
      "metadata": {
        "id": "GdCjiPY2EoIq",
        "colab_type": "code",
        "outputId": "63f45b66-9e64-49ee-ecfb-5df527d6c511",
        "colab": {
          "base_uri": "https://localhost:8080/",
          "height": 125
        }
      },
      "cell_type": "code",
      "source": [
        "from google.colab import drive\n",
        "drive.mount('/content/gdrive')"
      ],
      "execution_count": 3,
      "outputs": [
        {
          "output_type": "stream",
          "text": [
            "Go to this URL in a browser: https://accounts.google.com/o/oauth2/auth?client_id=947318989803-6bn6qk8qdgf4n4g3pfee6491hc0brc4i.apps.googleusercontent.com&redirect_uri=urn%3Aietf%3Awg%3Aoauth%3A2.0%3Aoob&scope=email%20https%3A%2F%2Fwww.googleapis.com%2Fauth%2Fdocs.test%20https%3A%2F%2Fwww.googleapis.com%2Fauth%2Fdrive%20https%3A%2F%2Fwww.googleapis.com%2Fauth%2Fdrive.photos.readonly%20https%3A%2F%2Fwww.googleapis.com%2Fauth%2Fpeopleapi.readonly&response_type=code\n",
            "\n",
            "Enter your authorization code:\n",
            "··········\n",
            "Mounted at /content/gdrive\n"
          ],
          "name": "stdout"
        }
      ]
    },
    {
      "metadata": {
        "id": "Pys6IxPCJKro",
        "colab_type": "text"
      },
      "cell_type": "markdown",
      "source": [
        "Note, I downloaded *run-jump-start-rnn-sentiment-big-v002.zip*, then uploaded to 422 Directory in Google Drive"
      ]
    },
    {
      "metadata": {
        "id": "ifvh-yJWIj9z",
        "colab_type": "code",
        "outputId": "d2f8445c-96c7-450e-ca46-b136279690cf",
        "colab": {
          "base_uri": "https://localhost:8080/",
          "height": 52
        }
      },
      "cell_type": "code",
      "source": [
        "!ls -l /content/gdrive/'My Drive'/MSPA/'Predict 422'/'Week 8'"
      ],
      "execution_count": 19,
      "outputs": [
        {
          "output_type": "stream",
          "text": [
            "total 200225\n",
            "-rw------- 1 root root 205029578 Nov 27 01:46 run-jump-start-rnn-sentiment-big-v002.zip\n"
          ],
          "name": "stdout"
        }
      ]
    },
    {
      "metadata": {
        "id": "l-9Rw2k4PE73",
        "colab_type": "code",
        "colab": {
          "base_uri": "https://localhost:8080/",
          "height": 140
        },
        "outputId": "9a6ca876-bf9c-4bae-ff55-22423e3e5741"
      },
      "cell_type": "code",
      "source": [
        "!ls -l /content/gdrive/'My Drive'/"
      ],
      "execution_count": 32,
      "outputs": [
        {
          "output_type": "stream",
          "text": [
            "total 24\n",
            "drwx------ 2 root root 4096 Jul 25  2015  assignment_1\n",
            "drwx------ 2 root root 4096 Aug 23  2015  assignment_2\n",
            "drwx------ 2 root root 4096 Oct  7 19:02 'Colab Notebooks'\n",
            "drwx------ 2 root root 4096 Jun 11  2016 'Memorial day'\n",
            "drwx------ 4 root root 4096 Jul 20  2015  MSPA\n",
            "drwx------ 2 root root 4096 May 15  2016 'Ny trip'\n"
          ],
          "name": "stdout"
        }
      ]
    },
    {
      "metadata": {
        "id": "nvuWABMfM_Qo",
        "colab_type": "code",
        "colab": {}
      },
      "cell_type": "code",
      "source": [
        "#training_data=[]\n",
        "\n",
        "#with zipfile.ZipFile(\"/content/gdrive/My Drive/MSPA/Predict 422/Week 8/run-jump-start-rnn-sentiment-big-v002.zip\", 'r') as z:\n",
        "#  print (z.namelist())\n",
        "\n",
        "from zipfile import ZipFile\n",
        "def extract_zip(input_zip):\n",
        "  input_zip=ZipFile(input_zip)\n",
        "  for file in input_zip.namelist():\n",
        "    if file.startswith('movie-reviews-negative/'):\n",
        "      return {name: input_zip.read(name) for name in input_zip.namelist()}\n",
        "    print (file)"
      ],
      "execution_count": 0,
      "outputs": []
    },
    {
      "metadata": {
        "id": "3UFUEZkLQOZ6",
        "colab_type": "code",
        "colab": {}
      },
      "cell_type": "code",
      "source": [
        "extract_zip(\"/content/gdrive/My Drive/MSPA/Predict 422/Week 8/run-jump-start-rnn-sentiment-big-v002.zip\")"
      ],
      "execution_count": 0,
      "outputs": []
    },
    {
      "metadata": {
        "id": "IwuMtesHRsRp",
        "colab_type": "code",
        "colab": {
          "base_uri": "https://localhost:8080/",
          "height": 34
        },
        "outputId": "32635dad-37d6-4cf6-b892-5d3db805f9ba"
      },
      "cell_type": "code",
      "source": [
        "import os;os.listdir(\"/content/gdrive/My Drive/MSPA/Predict 422/Week 8/movie-reviews-positive\")[0:5]"
      ],
      "execution_count": 62,
      "outputs": [
        {
          "output_type": "execute_result",
          "data": {
            "text/plain": [
              "['12311_9.txt', '12320_8.txt', '12310_10.txt', '12304_10.txt', '12306_9.txt']"
            ]
          },
          "metadata": {
            "tags": []
          },
          "execution_count": 62
        }
      ]
    },
    {
      "metadata": {
        "id": "EfblXlT9NfJ7",
        "colab_type": "code",
        "colab": {
          "base_uri": "https://localhost:8080/",
          "height": 34
        },
        "outputId": "f929419e-8503-4c3e-97be-fd133e04bd17"
      },
      "cell_type": "code",
      "source": [
        "import os;os.listdir(\"/content/gdrive/My Drive/MSPA/Predict 422/Week 8/movie-reviews-negative\")[0:5]"
      ],
      "execution_count": 61,
      "outputs": [
        {
          "output_type": "execute_result",
          "data": {
            "text/plain": [
              "['12259_1.txt', '12255_3.txt', '116_1.txt', '112_1.txt', '117_3.txt']"
            ]
          },
          "metadata": {
            "tags": []
          },
          "execution_count": 61
        }
      ]
    },
    {
      "metadata": {
        "id": "csldjbxSUy43",
        "colab_type": "code",
        "colab": {}
      },
      "cell_type": "code",
      "source": [
        ""
      ],
      "execution_count": 0,
      "outputs": []
    },
    {
      "metadata": {
        "id": "kFcUJD8aJwpI",
        "colab_type": "text"
      },
      "cell_type": "markdown",
      "source": [
        "### Show python way to get to path"
      ]
    },
    {
      "metadata": {
        "id": "fKAWbc18Jk_i",
        "colab_type": "code",
        "outputId": "4494c0aa-4260-4710-94b3-4c6f1c70cabf",
        "colab": {
          "base_uri": "https://localhost:8080/",
          "height": 34
        }
      },
      "cell_type": "code",
      "source": [
        "import os;os.listdir(\"/content/gdrive/My Drive/422/movie-reviews-negative\")[0:5]"
      ],
      "execution_count": 0,
      "outputs": [
        {
          "output_type": "execute_result",
          "data": {
            "text/plain": [
              "['12300_4.txt', '12383_2.txt', '12358_1.txt', '145_2.txt', '12488_1.txt']"
            ]
          },
          "metadata": {
            "tags": []
          },
          "execution_count": 13
        }
      ]
    },
    {
      "metadata": {
        "id": "BvlmK0ZDFZUZ",
        "colab_type": "text"
      },
      "cell_type": "markdown",
      "source": [
        "## Jumpstart"
      ]
    },
    {
      "metadata": {
        "id": "zvIx3PNwLp_p",
        "colab_type": "text"
      },
      "cell_type": "markdown",
      "source": [
        "### Load the reviews"
      ]
    },
    {
      "metadata": {
        "id": "jZWZ7FRvFcoF",
        "colab_type": "code",
        "outputId": "8d6acea8-18f9-4645-80dc-ebf523b6d405",
        "colab": {
          "base_uri": "https://localhost:8080/",
          "height": 3233
        }
      },
      "cell_type": "code",
      "source": [
        "# coding: utf-8\n",
        "\n",
        "# Program by Thomas W. Miller, August 16, 2018\n",
        "\n",
        "# Previous work involved gathering embeddings via chakin\n",
        "# Following methods described in\n",
        "#    https://github.com/chakki-works/chakin\n",
        "# The previous program, run-chakin-to-get-embeddings-v001.py\n",
        "# downloaded pre-trained GloVe embeddings, saved them in a zip archive,\n",
        "# and unzipped that archive to create the four word-to-embeddings\n",
        "# text files for use in language models. \n",
        "\n",
        "# This program sets uses word embeddings to set up defaultdict \n",
        "# dictionary data structures, that can them be employed in language\n",
        "# models. This is demonstrated with a simple RNN model for predicting\n",
        "# sentiment (thumbs-down versus thumbs-up) for movie reviews.\n",
        "\n",
        "from __future__ import absolute_import\n",
        "from __future__ import division\n",
        "from __future__ import print_function\n",
        "\n",
        "import re  # regular expressions\n",
        "from collections import defaultdict\n",
        "import nltk\n",
        "from nltk.tokenize import TreebankWordTokenizer\n",
        "\n",
        "RANDOM_SEED = 42\n",
        "\n",
        "# ------------------------------------------------------------- \n",
        "# Select the pre-defined embeddings source        \n",
        "# Define vocabulary size for the language model    \n",
        "# Create a word_to_embedding_dict for GloVe.6B.50d\n",
        "# To make output stable across runs\n",
        "\n",
        "def reset_graph(seed= RANDOM_SEED):\n",
        "    tf.reset_default_graph()\n",
        "    tf.set_random_seed(seed)\n",
        "    np.random.seed(seed)\n",
        "\n",
        "REMOVE_STOPWORDS = False  # no stopword removal \n",
        "#EVOCABSIZE = 20000  # specify desired size of pre-defined embedding vocabulary\n",
        "EVOCABSIZE = 400000\n",
        "\n",
        "embeddings_directory = 'embeddings/glove.6B'\n",
        "filename = 'glove.6B.50d.txt'\n",
        "#embeddings_directory = 'embeddings/glove.twitter.27B'\n",
        "#filename = 'glove.twitter.27B.100d.txt'\n",
        "\n",
        "embeddings_filename = os.path.join(embeddings_directory, filename)\n",
        "# ------------------------------------------------------------- \n",
        "\n",
        "# Utility function for loading embeddings follows methods described in\n",
        "# https://github.com/guillaume-chevalier/GloVe-as-a-TensorFlow-Embedding-Layer\n",
        "# Creates the Python defaultdict dictionary word_to_embedding_dict\n",
        "# for the requested pre-trained word embeddings\n",
        "# \n",
        "# Note the use of defaultdict data structure from the Python Standard Library\n",
        "# collections_defaultdict.py lets the caller specify a default value up front\n",
        "# The default value will be retuned if the key is not a known dictionary key\n",
        "# That is, unknown words are represented by a vector of zeros\n",
        "# For word embeddings, this default value is a vector of zeros\n",
        "# Documentation for the Python standard library:\n",
        "#   Hellmann, D. 2017. The Python 3 Standard Library by Example. Boston: \n",
        "#     Addison-Wesley. [ISBN-13: 978-0-13-429105-5]\n",
        "def load_embedding_from_disks(embeddings_filename, with_indexes=True):\n",
        "    \"\"\"\n",
        "    Read a embeddings txt file. If `with_indexes=True`, \n",
        "    we return a tuple of two dictionnaries\n",
        "    `(word_to_index_dict, index_to_embedding_array)`, \n",
        "    otherwise we return only a direct \n",
        "    `word_to_embedding_dict` dictionnary mapping \n",
        "    from a string to a numpy array.\n",
        "    \"\"\"\n",
        "    if with_indexes:\n",
        "        word_to_index_dict = dict()\n",
        "        index_to_embedding_array = []\n",
        "  \n",
        "    else:\n",
        "        word_to_embedding_dict = dict()\n",
        "\n",
        "    with open(embeddings_filename, 'r') as embeddings_file:\n",
        "        for (i, line) in enumerate(embeddings_file):\n",
        "\n",
        "            split = line.split(' ')\n",
        "\n",
        "            word = split[0]\n",
        "\n",
        "            representation = split[1:]\n",
        "            representation = np.array(\n",
        "                [float(val) for val in representation]\n",
        "            )\n",
        "\n",
        "            if with_indexes:\n",
        "                word_to_index_dict[word] = i\n",
        "                index_to_embedding_array.append(representation)\n",
        "            else:\n",
        "                word_to_embedding_dict[word] = representation\n",
        "\n",
        "    # Empty representation for unknown words.\n",
        "    _WORD_NOT_FOUND = [0.0] * len(representation)\n",
        "    if with_indexes:\n",
        "        _LAST_INDEX = i + 1\n",
        "        word_to_index_dict = defaultdict(\n",
        "            lambda: _LAST_INDEX, word_to_index_dict)\n",
        "        index_to_embedding_array = np.array(\n",
        "            index_to_embedding_array + [_WORD_NOT_FOUND])\n",
        "        return word_to_index_dict, index_to_embedding_array\n",
        "    else:\n",
        "        word_to_embedding_dict = defaultdict(lambda: _WORD_NOT_FOUND)\n",
        "        return word_to_embedding_dict\n",
        "\n",
        "print('\\nLoading embeddings from', embeddings_filename)\n",
        "word_to_index, index_to_embedding = \\\n",
        "    load_embedding_from_disks(embeddings_filename, with_indexes=True)\n",
        "print(\"Embedding loaded from disks.\")\n",
        "\n",
        "# Note: unknown words have representations with values [0, 0, ..., 0]\n",
        "\n",
        "# Additional background code from\n",
        "# https://github.com/guillaume-chevalier/GloVe-as-a-TensorFlow-Embedding-Layer\n",
        "# shows the general structure of the data structures for word embeddings\n",
        "# This code is modified for our purposes in language modeling \n",
        "vocab_size, embedding_dim = index_to_embedding.shape\n",
        "print(\"Embedding is of shape: {}\".format(index_to_embedding.shape))\n",
        "print(\"This means (number of words, number of dimensions per word)\\n\")\n",
        "print(\"The first words are words that tend occur more often.\")\n",
        "\n",
        "print(\"Note: for unknown words, the representation is an empty vector,\\n\"\n",
        "      \"and the index is the last one. The dictionnary has a limit:\")\n",
        "print(\"    {} --> {} --> {}\".format(\"A word\", \"Index in embedding\", \n",
        "      \"Representation\"))\n",
        "word = \"worsdfkljsdf\"  # a word obviously not in the vocabulary\n",
        "idx = word_to_index[word] # index for word obviously not in the vocabulary\n",
        "complete_vocabulary_size = idx \n",
        "embd = list(np.array(index_to_embedding[idx], dtype=int)) # \"int\" compact print\n",
        "print(\"    {} --> {} --> {}\".format(word, idx, embd))\n",
        "word = \"the\"\n",
        "idx = word_to_index[word]\n",
        "embd = list(index_to_embedding[idx])  # \"int\" for compact print only.\n",
        "print(\"    {} --> {} --> {}\".format(word, idx, embd))\n",
        "\n",
        "# Show how to use embeddings dictionaries with a test sentence\n",
        "# This is a famous typing exercise with all letters of the alphabet\n",
        "# https://en.wikipedia.org/wiki/The_quick_brown_fox_jumps_over_the_lazy_dog\n",
        "a_typing_test_sentence = 'The quick brown fox jumps over the lazy dog'\n",
        "print('\\nTest sentence: ', a_typing_test_sentence, '\\n')\n",
        "words_in_test_sentence = a_typing_test_sentence.split()\n",
        "\n",
        "print('Test sentence embeddings from complete vocabulary of', \n",
        "      complete_vocabulary_size, 'words:\\n')\n",
        "for word in words_in_test_sentence:\n",
        "    word_ = word.lower()\n",
        "    embedding = index_to_embedding[word_to_index[word_]]\n",
        "    print(word_ + \": \", embedding)\n",
        "\n",
        "# ------------------------------------------------------------- \n",
        "# Define vocabulary size for the language model    \n",
        "# To reduce the size of the vocabulary to the n most frequently used words\n",
        "\n",
        "def default_factory():\n",
        "    return EVOCABSIZE  # last/unknown-word row in limited_index_to_embedding\n",
        "# dictionary has the items() function, returns list of (key, value) tuples\n",
        "limited_word_to_index = defaultdict(default_factory, \\\n",
        "    {k: v for k, v in word_to_index.items() if v < EVOCABSIZE})\n",
        "\n",
        "# Select the first EVOCABSIZE rows to the index_to_embedding\n",
        "limited_index_to_embedding = index_to_embedding[0:EVOCABSIZE,:]\n",
        "# Set the unknown-word row to be all zeros as previously\n",
        "limited_index_to_embedding = np.append(limited_index_to_embedding, \n",
        "    index_to_embedding[index_to_embedding.shape[0] - 1, :].\\\n",
        "        reshape(1,embedding_dim), \n",
        "    axis = 0)\n",
        "\n",
        "# Delete large numpy array to clear some CPU RAM\n",
        "del index_to_embedding\n",
        "\n",
        "# Verify the new vocabulary: should get same embeddings for test sentence\n",
        "# Note that a small EVOCABSIZE may yield some zero vectors for embeddings\n",
        "print('\\nTest sentence embeddings from vocabulary of', EVOCABSIZE, 'words:\\n')\n",
        "for word in words_in_test_sentence:\n",
        "    word_ = word.lower()\n",
        "    embedding = limited_index_to_embedding[limited_word_to_index[word_]]\n",
        "    print(word_ + \": \", embedding)\n",
        "\n",
        "# ------------------------------------------------------------\n",
        "# code for working with movie reviews data \n",
        "# Source: Miller, T. W. (2016). Web and Network Data Science.\n",
        "#    Upper Saddle River, N.J.: Pearson Education.\n",
        "#    ISBN-13: 978-0-13-388644-3\n",
        "# This original study used a simple bag-of-words approach\n",
        "# to sentiment analysis, along with pre-defined lists of\n",
        "# negative and positive words.        \n",
        "# Code available at:  https://github.com/mtpa/wnds       \n",
        "# ------------------------------------------------------------\n",
        "# Utility function to get file names within a directory\n",
        "def listdir_no_hidden(path):\n",
        "    start_list = os.listdir(path)\n",
        "    end_list = []\n",
        "    for file in start_list:\n",
        "        if (not file.startswith('.')):\n",
        "            end_list.append(file)\n",
        "    return(end_list)\n",
        "\n",
        "# define list of codes to be dropped from document\n",
        "# carriage-returns, line-feeds, tabs\n",
        "codelist = ['\\r', '\\n', '\\t']   \n",
        "\n",
        "# We will not remove stopwords in this exercise because they are\n",
        "# important to keeping sentences intact\n",
        "if REMOVE_STOPWORDS:\n",
        "    print(nltk.corpus.stopwords.words('english'))\n",
        "\n",
        "# previous analysis of a list of top terms showed a number of words, along \n",
        "# with contractions and other word strings to drop from further analysis, add\n",
        "# these to the usual English stopwords to be dropped from a document collection\n",
        "    more_stop_words = ['cant','didnt','doesnt','dont','goes','isnt','hes',\\\n",
        "        'shes','thats','theres','theyre','wont','youll','youre','youve', 'br'\\\n",
        "        've', 're', 'vs'] \n",
        "\n",
        "    some_proper_nouns_to_remove = ['dick','ginger','hollywood','jack',\\\n",
        "        'jill','john','karloff','kudrow','orson','peter','tcm','tom',\\\n",
        "        'toni','welles','william','wolheim','nikita']\n",
        "\n",
        "    # start with the initial list and add to it for movie text work \n",
        "    stoplist = nltk.corpus.stopwords.words('english') + more_stop_words +\\\n",
        "        some_proper_nouns_to_remove\n",
        "\n",
        "# text parsing function for creating text documents \n",
        "# there is more we could do for data preparation \n",
        "# stemming... looking for contractions... possessives... \n",
        "# but we will work with what we have in this parsing function\n",
        "# if we want to do stemming at a later time, we can use\n",
        "#     porter = nltk.PorterStemmer()  \n",
        "# in a construction like this\n",
        "#     words_stemmed =  [porter.stem(word) for word in initial_words]  \n",
        "def text_parse(string):\n",
        "    # replace non-alphanumeric with space \n",
        "    temp_string = re.sub('[^a-zA-Z]', '  ', string)    \n",
        "    # replace codes with space\n",
        "    for i in range(len(codelist)):\n",
        "        stopstring = ' ' + codelist[i] + '  '\n",
        "        temp_string = re.sub(stopstring, '  ', temp_string)      \n",
        "    # replace single-character words with space\n",
        "    temp_string = re.sub('\\s.\\s', ' ', temp_string)   \n",
        "    # convert uppercase to lowercase\n",
        "    temp_string = temp_string.lower()    \n",
        "    if REMOVE_STOPWORDS:\n",
        "        # replace selected character strings/stop-words with space\n",
        "        for i in range(len(stoplist)):\n",
        "            stopstring = ' ' + str(stoplist[i]) + ' '\n",
        "            temp_string = re.sub(stopstring, ' ', temp_string)        \n",
        "    # replace multiple blank characters with one blank character\n",
        "    temp_string = re.sub('\\s+', ' ', temp_string)    \n",
        "    return(temp_string)\n",
        "\n",
        "def read_data(filename):\n",
        "\n",
        "  with open(filename) as f:\n",
        "    data = tf.compat.as_str(f.read())\n",
        "    data = data.lower()\n",
        "    data = text_parse(data)\n",
        "    data = TreebankWordTokenizer().tokenize(data)  # The Penn Treebank\n",
        "\n",
        "  return data\n",
        "\n",
        "# -----------------------------------------------\n",
        "# gather data for 500 negative movie reviews\n",
        "# -----------------------------------------------\n",
        "\n",
        "dir_name = \"/content/gdrive/My Drive/422/movie-reviews-negative\"\n",
        "#dir_name = '/root/movie-reviews-negative'\n",
        "    \n",
        "filenames = listdir_no_hidden(path=dir_name)\n",
        "num_files = len(filenames)\n",
        "\n",
        "for i in range(len(filenames)):\n",
        "    file_exists = os.path.isfile(os.path.join(dir_name, filenames[i]))\n",
        "    assert file_exists\n",
        "print('\\nDirectory:',dir_name)    \n",
        "print('%d files found' % len(filenames))\n",
        "\n",
        "# Read data for negative movie reviews\n",
        "# Data will be stored in a list of lists where the each list represents \n",
        "# a document and document is a list of words.\n",
        "# We then break the text into words.\n",
        "\n",
        "negative_documents = []\n",
        "\n",
        "print('\\nProcessing document files under', dir_name)\n",
        "for i in range(num_files):\n",
        "    ## print(' ', filenames[i])\n",
        "\n",
        "    words = read_data(os.path.join(dir_name, filenames[i]))\n",
        "\n",
        "    negative_documents.append(words)\n",
        "    # print('Data size (Characters) (Document %d) %d' %(i,len(words)))\n",
        "    # print('Sample string (Document %d) %s'%(i,words[:50]))\n",
        "\n",
        "# -----------------------------------------------\n",
        "# gather data for 500 positive movie reviews\n",
        "# -----------------------------------------------\n",
        "#dir_name = '/root/movie-reviews-positive'\n",
        "dir_name = \"/content/gdrive/My Drive/422/movie-reviews-positive\"\n",
        "filenames = listdir_no_hidden(path=dir_name)\n",
        "num_files = len(filenames)\n",
        "\n",
        "for i in range(len(filenames)):\n",
        "    file_exists = os.path.isfile(os.path.join(dir_name, filenames[i]))\n",
        "    assert file_exists\n",
        "print('\\nDirectory:',dir_name)    \n",
        "print('%d files found' % len(filenames))\n",
        "\n",
        "# Read data for positive movie reviews\n",
        "# Data will be stored in a list of lists where the each list \n",
        "# represents a document and document is a list of words.\n",
        "# We then break the text into words.\n",
        "\n",
        "positive_documents = []\n",
        "\n",
        "print('\\nProcessing document files under', dir_name)\n",
        "for i in range(num_files):\n",
        "    ## print(' ', filenames[i])\n",
        "\n",
        "    words = read_data(os.path.join(dir_name, filenames[i]))\n",
        "\n",
        "    positive_documents.append(words)\n",
        "    # print('Data size (Characters) (Document %d) %d' %(i,len(words)))\n",
        "    # print('Sample string (Document %d) %s'%(i,words[:50]))\n",
        "\n",
        "# -----------------------------------------------------\n",
        "# convert positive/negative documents into numpy array\n",
        "# note that reviews vary from 22 to 1052 words   \n",
        "# so we use the first 20 and last 20 words of each review \n",
        "# as our word sequences for analysis\n",
        "# -----------------------------------------------------\n",
        "max_review_length = 0  # initialize\n",
        "for doc in negative_documents:\n",
        "    max_review_length = max(max_review_length, len(doc))    \n",
        "for doc in positive_documents:\n",
        "    max_review_length = max(max_review_length, len(doc)) \n",
        "print('max_review_length:', max_review_length) \n",
        "\n",
        "min_review_length = max_review_length  # initialize\n",
        "for doc in negative_documents:\n",
        "    min_review_length = min(min_review_length, len(doc))    \n",
        "for doc in positive_documents:\n",
        "    min_review_length = min(min_review_length, len(doc)) \n",
        "print('min_review_length:', min_review_length) \n",
        "\n",
        "# construct list of 1000 lists with 40 words in each list\n",
        "from itertools import chain\n",
        "documents = []\n",
        "for doc in negative_documents:\n",
        "    doc_begin = doc[0:20]\n",
        "    doc_end = doc[len(doc) - 20: len(doc)]\n",
        "    documents.append(list(chain(*[doc_begin, doc_end])))    \n",
        "for doc in positive_documents:\n",
        "    doc_begin = doc[0:20]\n",
        "    doc_end = doc[len(doc) - 20: len(doc)]\n",
        "    documents.append(list(chain(*[doc_begin, doc_end])))    \n",
        "\n",
        "# create list of lists of lists for embeddings\n",
        "embeddings = []    \n",
        "for doc in documents:\n",
        "    embedding = []\n",
        "    for word in doc:\n",
        "       embedding.append(limited_index_to_embedding[limited_word_to_index[word]]) \n",
        "    embeddings.append(embedding)\n",
        "\n"
      ],
      "execution_count": 0,
      "outputs": [
        {
          "output_type": "stream",
          "text": [
            "\n",
            "Loading embeddings from embeddings/glove.6B/glove.6B.50d.txt\n",
            "Embedding loaded from disks.\n",
            "Embedding is of shape: (400001, 50)\n",
            "This means (number of words, number of dimensions per word)\n",
            "\n",
            "The first words are words that tend occur more often.\n",
            "Note: for unknown words, the representation is an empty vector,\n",
            "and the index is the last one. The dictionnary has a limit:\n",
            "    A word --> Index in embedding --> Representation\n",
            "    worsdfkljsdf --> 400000 --> [0, 0, 0, 0, 0, 0, 0, 0, 0, 0, 0, 0, 0, 0, 0, 0, 0, 0, 0, 0, 0, 0, 0, 0, 0, 0, 0, 0, 0, 0, 0, 0, 0, 0, 0, 0, 0, 0, 0, 0, 0, 0, 0, 0, 0, 0, 0, 0, 0, 0]\n",
            "    the --> 0 --> [0.418, 0.24968, -0.41242, 0.1217, 0.34527, -0.044457, -0.49688, -0.17862, -0.00066023, -0.6566, 0.27843, -0.14767, -0.55677, 0.14658, -0.0095095, 0.011658, 0.10204, -0.12792, -0.8443, -0.12181, -0.016801, -0.33279, -0.1552, -0.23131, -0.19181, -1.8823, -0.76746, 0.099051, -0.42125, -0.19526, 4.0071, -0.18594, -0.52287, -0.31681, 0.00059213, 0.0074449, 0.17778, -0.15897, 0.012041, -0.054223, -0.29871, -0.15749, -0.34758, -0.045637, -0.44251, 0.18785, 0.0027849, -0.18411, -0.11514, -0.78581]\n",
            "\n",
            "Test sentence:  The quick brown fox jumps over the lazy dog \n",
            "\n",
            "Test sentence embeddings from complete vocabulary of 400000 words:\n",
            "\n",
            "the:  [ 4.1800e-01  2.4968e-01 -4.1242e-01  1.2170e-01  3.4527e-01 -4.4457e-02\n",
            " -4.9688e-01 -1.7862e-01 -6.6023e-04 -6.5660e-01  2.7843e-01 -1.4767e-01\n",
            " -5.5677e-01  1.4658e-01 -9.5095e-03  1.1658e-02  1.0204e-01 -1.2792e-01\n",
            " -8.4430e-01 -1.2181e-01 -1.6801e-02 -3.3279e-01 -1.5520e-01 -2.3131e-01\n",
            " -1.9181e-01 -1.8823e+00 -7.6746e-01  9.9051e-02 -4.2125e-01 -1.9526e-01\n",
            "  4.0071e+00 -1.8594e-01 -5.2287e-01 -3.1681e-01  5.9213e-04  7.4449e-03\n",
            "  1.7778e-01 -1.5897e-01  1.2041e-02 -5.4223e-02 -2.9871e-01 -1.5749e-01\n",
            " -3.4758e-01 -4.5637e-02 -4.4251e-01  1.8785e-01  2.7849e-03 -1.8411e-01\n",
            " -1.1514e-01 -7.8581e-01]\n",
            "quick:  [ 0.13967   -0.53798   -0.18047   -0.25142    0.16203   -0.13868\n",
            " -0.24637    0.75111    0.27264    0.61035   -0.82548    0.038647\n",
            " -0.32361    0.30373   -0.14598   -0.23551    0.39267   -1.1287\n",
            " -0.23636   -1.0629     0.046277   0.29143   -0.25819   -0.094902\n",
            "  0.79478   -1.2095    -0.01039   -0.092086   0.84322   -0.11061\n",
            "  3.0096     0.51652   -0.76986    0.51074    0.37508    0.12156\n",
            "  0.082794   0.43605   -0.1584    -0.61048    0.35006    0.52465\n",
            " -0.51747    0.0034705  0.73625    0.16252    0.85279    0.85268\n",
            "  0.57892    0.64483  ]\n",
            "brown:  [-0.88497   0.71685  -0.40379  -0.10698   0.81457   1.0258   -1.2698\n",
            " -0.49382  -0.27839  -0.92251  -0.49409   0.78942  -0.20066  -0.057371\n",
            "  0.060682  0.30746   0.13441  -0.49376  -0.54788  -0.81912  -0.45394\n",
            "  0.52098   1.0325   -0.8584   -0.65848  -1.2736    0.23616   1.0486\n",
            "  0.18442  -0.3901    2.1385   -0.45301  -0.16911  -0.46737   0.15938\n",
            " -0.095071 -0.26512  -0.056479  0.63849  -1.0494    0.037507  0.76434\n",
            " -0.6412   -0.59594   0.46589   0.31494  -0.34072  -0.59167  -0.31057\n",
            "  0.73274 ]\n",
            "fox:  [ 0.44206   0.059552  0.15861   0.92777   0.1876    0.24256  -1.593\n",
            " -0.79847  -0.34099  -0.24021  -0.32756   0.43639  -0.11057   0.50472\n",
            "  0.43853   0.19738  -0.1498   -0.046979 -0.83286   0.39878   0.062174\n",
            "  0.28803   0.79134   0.31798  -0.21933  -1.1015   -0.080309  0.39122\n",
            "  0.19503  -0.5936    1.7921    0.3826   -0.30509  -0.58686  -0.76935\n",
            " -0.61914  -0.61771  -0.68484  -0.67919  -0.74626  -0.036646  0.78251\n",
            " -1.0072   -0.59057  -0.7849   -0.39113  -0.49727  -0.4283   -0.15204\n",
            "  1.5064  ]\n",
            "jumps:  [-0.46105   -0.34219    0.71473   -0.29778    0.28839    0.6248\n",
            "  0.36807   -0.072746   0.60476    0.31463   -0.052247  -0.62302\n",
            " -0.56332    0.7855     0.18116   -0.31698    0.38298   -0.081953\n",
            " -1.3658    -0.78263    0.39804   -0.17001   -0.11926   -0.40146\n",
            "  1.1057    -0.51142   -0.36614    0.22177    0.34626   -0.30648\n",
            "  1.3869     0.77328    0.5946     1.2577     0.23472   -0.46087\n",
            " -0.009223   0.44534    0.012732  -0.24749   -0.7142     0.02422\n",
            "  0.083527   0.25088   -0.24259   -1.354      1.5481    -0.31728\n",
            "  0.55305   -0.0028062]\n",
            "over:  [ 0.12972    0.088073   0.24375    0.078102  -0.12783    0.27831\n",
            " -0.48693    0.19649   -0.39558   -0.28362   -0.47425   -0.59317\n",
            " -0.58804   -0.31702    0.49593    0.0087594  0.039613  -0.42495\n",
            " -0.97641   -0.46534    0.020675   0.086042   0.39317   -0.51255\n",
            " -0.17913   -1.8333     0.5622     0.41626    0.075127   0.02189\n",
            "  3.784      0.71067   -0.073943   0.15373   -0.3853    -0.070163\n",
            " -0.35374    0.074501  -0.084228  -0.45548   -0.081068   0.39157\n",
            "  0.173      0.2254    -0.12836    0.40951   -0.26079    0.090912\n",
            " -0.60515   -0.9827   ]\n",
            "the:  [ 4.1800e-01  2.4968e-01 -4.1242e-01  1.2170e-01  3.4527e-01 -4.4457e-02\n",
            " -4.9688e-01 -1.7862e-01 -6.6023e-04 -6.5660e-01  2.7843e-01 -1.4767e-01\n",
            " -5.5677e-01  1.4658e-01 -9.5095e-03  1.1658e-02  1.0204e-01 -1.2792e-01\n",
            " -8.4430e-01 -1.2181e-01 -1.6801e-02 -3.3279e-01 -1.5520e-01 -2.3131e-01\n",
            " -1.9181e-01 -1.8823e+00 -7.6746e-01  9.9051e-02 -4.2125e-01 -1.9526e-01\n",
            "  4.0071e+00 -1.8594e-01 -5.2287e-01 -3.1681e-01  5.9213e-04  7.4449e-03\n",
            "  1.7778e-01 -1.5897e-01  1.2041e-02 -5.4223e-02 -2.9871e-01 -1.5749e-01\n",
            " -3.4758e-01 -4.5637e-02 -4.4251e-01  1.8785e-01  2.7849e-03 -1.8411e-01\n",
            " -1.1514e-01 -7.8581e-01]\n",
            "lazy:  [-0.27611  -0.59712  -0.49227  -1.0372   -0.35878  -0.097425 -0.21014\n",
            " -0.092836 -0.054118  0.4542   -0.53296   0.37602   0.77087   0.79669\n",
            " -0.076608 -0.42515   0.42576   0.32791  -0.21996  -0.20261  -0.85139\n",
            "  0.80547   0.97621   0.9792    1.1118   -0.36062  -0.2588    0.8596\n",
            "  0.73631  -0.18601   1.2376   -0.038938  0.19246   0.52473  -0.04842\n",
            " -0.044149  0.064432  0.087822  0.42232  -0.55991  -0.44096   0.097736\n",
            " -0.17589   1.1799    0.13152  -1.0795    0.45685  -0.63312   1.2752\n",
            "  1.1672  ]\n",
            "dog:  [ 0.11008   -0.38781   -0.57615   -0.27714    0.70521    0.53994\n",
            " -1.0786    -0.40146    1.1504    -0.5678     0.0038977  0.52878\n",
            "  0.64561    0.47262    0.48549   -0.18407    0.1801     0.91397\n",
            " -1.1979    -0.5778    -0.37985    0.33606    0.772      0.75555\n",
            "  0.45506   -1.7671    -1.0503     0.42566    0.41893   -0.68327\n",
            "  1.5673     0.27685   -0.61708    0.64638   -0.076996   0.37118\n",
            "  0.1308    -0.45137    0.25398   -0.74392   -0.086199   0.24068\n",
            " -0.64819    0.83549    1.2502    -0.51379    0.04224   -0.88118\n",
            "  0.7158     0.38519  ]\n",
            "\n",
            "Test sentence embeddings from vocabulary of 400000 words:\n",
            "\n",
            "the:  [ 4.1800e-01  2.4968e-01 -4.1242e-01  1.2170e-01  3.4527e-01 -4.4457e-02\n",
            " -4.9688e-01 -1.7862e-01 -6.6023e-04 -6.5660e-01  2.7843e-01 -1.4767e-01\n",
            " -5.5677e-01  1.4658e-01 -9.5095e-03  1.1658e-02  1.0204e-01 -1.2792e-01\n",
            " -8.4430e-01 -1.2181e-01 -1.6801e-02 -3.3279e-01 -1.5520e-01 -2.3131e-01\n",
            " -1.9181e-01 -1.8823e+00 -7.6746e-01  9.9051e-02 -4.2125e-01 -1.9526e-01\n",
            "  4.0071e+00 -1.8594e-01 -5.2287e-01 -3.1681e-01  5.9213e-04  7.4449e-03\n",
            "  1.7778e-01 -1.5897e-01  1.2041e-02 -5.4223e-02 -2.9871e-01 -1.5749e-01\n",
            " -3.4758e-01 -4.5637e-02 -4.4251e-01  1.8785e-01  2.7849e-03 -1.8411e-01\n",
            " -1.1514e-01 -7.8581e-01]\n",
            "quick:  [ 0.13967   -0.53798   -0.18047   -0.25142    0.16203   -0.13868\n",
            " -0.24637    0.75111    0.27264    0.61035   -0.82548    0.038647\n",
            " -0.32361    0.30373   -0.14598   -0.23551    0.39267   -1.1287\n",
            " -0.23636   -1.0629     0.046277   0.29143   -0.25819   -0.094902\n",
            "  0.79478   -1.2095    -0.01039   -0.092086   0.84322   -0.11061\n",
            "  3.0096     0.51652   -0.76986    0.51074    0.37508    0.12156\n",
            "  0.082794   0.43605   -0.1584    -0.61048    0.35006    0.52465\n",
            " -0.51747    0.0034705  0.73625    0.16252    0.85279    0.85268\n",
            "  0.57892    0.64483  ]\n",
            "brown:  [-0.88497   0.71685  -0.40379  -0.10698   0.81457   1.0258   -1.2698\n",
            " -0.49382  -0.27839  -0.92251  -0.49409   0.78942  -0.20066  -0.057371\n",
            "  0.060682  0.30746   0.13441  -0.49376  -0.54788  -0.81912  -0.45394\n",
            "  0.52098   1.0325   -0.8584   -0.65848  -1.2736    0.23616   1.0486\n",
            "  0.18442  -0.3901    2.1385   -0.45301  -0.16911  -0.46737   0.15938\n",
            " -0.095071 -0.26512  -0.056479  0.63849  -1.0494    0.037507  0.76434\n",
            " -0.6412   -0.59594   0.46589   0.31494  -0.34072  -0.59167  -0.31057\n",
            "  0.73274 ]\n",
            "fox:  [ 0.44206   0.059552  0.15861   0.92777   0.1876    0.24256  -1.593\n",
            " -0.79847  -0.34099  -0.24021  -0.32756   0.43639  -0.11057   0.50472\n",
            "  0.43853   0.19738  -0.1498   -0.046979 -0.83286   0.39878   0.062174\n",
            "  0.28803   0.79134   0.31798  -0.21933  -1.1015   -0.080309  0.39122\n",
            "  0.19503  -0.5936    1.7921    0.3826   -0.30509  -0.58686  -0.76935\n",
            " -0.61914  -0.61771  -0.68484  -0.67919  -0.74626  -0.036646  0.78251\n",
            " -1.0072   -0.59057  -0.7849   -0.39113  -0.49727  -0.4283   -0.15204\n",
            "  1.5064  ]\n",
            "jumps:  [-0.46105   -0.34219    0.71473   -0.29778    0.28839    0.6248\n",
            "  0.36807   -0.072746   0.60476    0.31463   -0.052247  -0.62302\n",
            " -0.56332    0.7855     0.18116   -0.31698    0.38298   -0.081953\n",
            " -1.3658    -0.78263    0.39804   -0.17001   -0.11926   -0.40146\n",
            "  1.1057    -0.51142   -0.36614    0.22177    0.34626   -0.30648\n",
            "  1.3869     0.77328    0.5946     1.2577     0.23472   -0.46087\n",
            " -0.009223   0.44534    0.012732  -0.24749   -0.7142     0.02422\n",
            "  0.083527   0.25088   -0.24259   -1.354      1.5481    -0.31728\n",
            "  0.55305   -0.0028062]\n",
            "over:  [ 0.12972    0.088073   0.24375    0.078102  -0.12783    0.27831\n",
            " -0.48693    0.19649   -0.39558   -0.28362   -0.47425   -0.59317\n",
            " -0.58804   -0.31702    0.49593    0.0087594  0.039613  -0.42495\n",
            " -0.97641   -0.46534    0.020675   0.086042   0.39317   -0.51255\n",
            " -0.17913   -1.8333     0.5622     0.41626    0.075127   0.02189\n",
            "  3.784      0.71067   -0.073943   0.15373   -0.3853    -0.070163\n",
            " -0.35374    0.074501  -0.084228  -0.45548   -0.081068   0.39157\n",
            "  0.173      0.2254    -0.12836    0.40951   -0.26079    0.090912\n",
            " -0.60515   -0.9827   ]\n",
            "the:  [ 4.1800e-01  2.4968e-01 -4.1242e-01  1.2170e-01  3.4527e-01 -4.4457e-02\n",
            " -4.9688e-01 -1.7862e-01 -6.6023e-04 -6.5660e-01  2.7843e-01 -1.4767e-01\n",
            " -5.5677e-01  1.4658e-01 -9.5095e-03  1.1658e-02  1.0204e-01 -1.2792e-01\n",
            " -8.4430e-01 -1.2181e-01 -1.6801e-02 -3.3279e-01 -1.5520e-01 -2.3131e-01\n",
            " -1.9181e-01 -1.8823e+00 -7.6746e-01  9.9051e-02 -4.2125e-01 -1.9526e-01\n",
            "  4.0071e+00 -1.8594e-01 -5.2287e-01 -3.1681e-01  5.9213e-04  7.4449e-03\n",
            "  1.7778e-01 -1.5897e-01  1.2041e-02 -5.4223e-02 -2.9871e-01 -1.5749e-01\n",
            " -3.4758e-01 -4.5637e-02 -4.4251e-01  1.8785e-01  2.7849e-03 -1.8411e-01\n",
            " -1.1514e-01 -7.8581e-01]\n",
            "lazy:  [-0.27611  -0.59712  -0.49227  -1.0372   -0.35878  -0.097425 -0.21014\n",
            " -0.092836 -0.054118  0.4542   -0.53296   0.37602   0.77087   0.79669\n",
            " -0.076608 -0.42515   0.42576   0.32791  -0.21996  -0.20261  -0.85139\n",
            "  0.80547   0.97621   0.9792    1.1118   -0.36062  -0.2588    0.8596\n",
            "  0.73631  -0.18601   1.2376   -0.038938  0.19246   0.52473  -0.04842\n",
            " -0.044149  0.064432  0.087822  0.42232  -0.55991  -0.44096   0.097736\n",
            " -0.17589   1.1799    0.13152  -1.0795    0.45685  -0.63312   1.2752\n",
            "  1.1672  ]\n",
            "dog:  [ 0.11008   -0.38781   -0.57615   -0.27714    0.70521    0.53994\n",
            " -1.0786    -0.40146    1.1504    -0.5678     0.0038977  0.52878\n",
            "  0.64561    0.47262    0.48549   -0.18407    0.1801     0.91397\n",
            " -1.1979    -0.5778    -0.37985    0.33606    0.772      0.75555\n",
            "  0.45506   -1.7671    -1.0503     0.42566    0.41893   -0.68327\n",
            "  1.5673     0.27685   -0.61708    0.64638   -0.076996   0.37118\n",
            "  0.1308    -0.45137    0.25398   -0.74392   -0.086199   0.24068\n",
            " -0.64819    0.83549    1.2502    -0.51379    0.04224   -0.88118\n",
            "  0.7158     0.38519  ]\n",
            "\n",
            "Directory: /content/gdrive/My Drive/422/movie-reviews-negative\n",
            "500 files found\n",
            "\n",
            "Processing document files under /content/gdrive/My Drive/422/movie-reviews-negative\n",
            "\n",
            "Directory: /content/gdrive/My Drive/422/movie-reviews-positive\n",
            "500 files found\n",
            "\n",
            "Processing document files under /content/gdrive/My Drive/422/movie-reviews-positive\n",
            "max_review_length: 1052\n",
            "min_review_length: 22\n"
          ],
          "name": "stdout"
        }
      ]
    },
    {
      "metadata": {
        "id": "ZGkQ_mBTLOc9",
        "colab_type": "text"
      },
      "cell_type": "markdown",
      "source": [
        "### Test Words"
      ]
    },
    {
      "metadata": {
        "id": "u1vXmKGVLVc4",
        "colab_type": "code",
        "outputId": "e90f8c3d-7521-4801-cb6a-77ff86649899",
        "colab": {
          "base_uri": "https://localhost:8080/",
          "height": 34
        }
      },
      "cell_type": "code",
      "source": [
        "documents[0][0]"
      ],
      "execution_count": 0,
      "outputs": [
        {
          "output_type": "execute_result",
          "data": {
            "text/plain": [
              "'there'"
            ]
          },
          "metadata": {
            "tags": []
          },
          "execution_count": 20
        }
      ]
    },
    {
      "metadata": {
        "id": "veOxizZoLNcy",
        "colab_type": "code",
        "outputId": "256d6ed3-fbec-4bef-a982-005c6d439db8",
        "colab": {
          "base_uri": "https://localhost:8080/",
          "height": 1020
        }
      },
      "cell_type": "code",
      "source": [
        "# -----------------------------------------------------    \n",
        "# Check on the embeddings list of list of lists \n",
        "# -----------------------------------------------------\n",
        "# Show the first word in the first document\n",
        "test_word = documents[0][0]    \n",
        "print('First word in first document:', test_word)    \n",
        "print('Embedding for this word:\\n', \n",
        "      limited_index_to_embedding[limited_word_to_index[test_word]])\n",
        "print('Corresponding embedding from embeddings list of list of lists\\n',\n",
        "      embeddings[0][0][:])\n",
        "\n",
        "# Show the seventh word in the tenth document\n",
        "test_word = documents[6][9]    \n",
        "print('First word in first document:', test_word)    \n",
        "print('Embedding for this word:\\n', \n",
        "      limited_index_to_embedding[limited_word_to_index[test_word]])\n",
        "print('Corresponding embedding from embeddings list of list of lists\\n',\n",
        "      embeddings[6][9][:])\n",
        "\n",
        "# Show the last word in the last document\n",
        "test_word = documents[999][39]    \n",
        "print('First word in first document:', test_word)    \n",
        "print('Embedding for this word:\\n', \n",
        "      limited_index_to_embedding[limited_word_to_index[test_word]])\n",
        "print('Corresponding embedding from embeddings list of list of lists\\n',\n",
        "      embeddings[999][39][:])        \n",
        "\n",
        "# -----------------------------------------------------    \n",
        "# Make embeddings a numpy array for use in an RNN \n",
        "# Create training and test sets with Scikit Learn\n",
        "# -----------------------------------------------------\n",
        "embeddings_array = np.array(embeddings)\n",
        "\n",
        "# Define the labels to be used 500 negative (0) and 500 positive (1)\n",
        "thumbs_down_up = np.concatenate((np.zeros((500), dtype = np.int32), \n",
        "                      np.ones((500), dtype = np.int32)), axis = 0)\n",
        "\n",
        "# Scikit Learn for random splitting of the data  \n",
        "from sklearn.model_selection import train_test_split\n",
        "\n",
        "# Random splitting of the data in to training (80%) and test (20%)  \n",
        "X_train, X_test, y_train, y_test = \\\n",
        "    train_test_split(embeddings_array, thumbs_down_up, test_size=0.20, \n",
        "                     random_state = RANDOM_SEED)"
      ],
      "execution_count": 0,
      "outputs": [
        {
          "output_type": "stream",
          "text": [
            "First word in first document: there\n",
            "Embedding for this word:\n",
            " [ 0.68491   0.32385  -0.11592  -0.35925   0.49889   0.042541 -0.40153\n",
            " -0.36793  -0.61441  -0.41148  -0.3482   -0.21952  -0.22393  -0.64966\n",
            "  0.85443   0.33582   0.2931    0.16552  -0.55082  -0.61277  -0.14768\n",
            "  0.47551   0.65877  -0.07103   0.56147  -1.2651   -0.74117   0.36365\n",
            "  0.5623   -0.27365   3.8506    0.27645  -0.1009   -0.71568   0.18511\n",
            " -0.12312   0.56631  -0.22377  -0.016831  0.57539  -0.51761   0.033823\n",
            "  0.19643   0.63498  -0.24866   0.038716 -0.50559   0.17874  -0.1693\n",
            "  0.062375]\n",
            "Corresponding embedding from embeddings list of list of lists\n",
            " [ 0.68491   0.32385  -0.11592  -0.35925   0.49889   0.042541 -0.40153\n",
            " -0.36793  -0.61441  -0.41148  -0.3482   -0.21952  -0.22393  -0.64966\n",
            "  0.85443   0.33582   0.2931    0.16552  -0.55082  -0.61277  -0.14768\n",
            "  0.47551   0.65877  -0.07103   0.56147  -1.2651   -0.74117   0.36365\n",
            "  0.5623   -0.27365   3.8506    0.27645  -0.1009   -0.71568   0.18511\n",
            " -0.12312   0.56631  -0.22377  -0.016831  0.57539  -0.51761   0.033823\n",
            "  0.19643   0.63498  -0.24866   0.038716 -0.50559   0.17874  -0.1693\n",
            "  0.062375]\n",
            "First word in first document: it\n",
            "Embedding for this word:\n",
            " [ 0.61183  -0.22072  -0.10898  -0.052967  0.50804   0.34684  -0.33558\n",
            " -0.19152  -0.035865  0.1051    0.07935   0.2449   -0.4373   -0.33344\n",
            "  0.57479   0.69052   0.29713   0.090669 -0.54992  -0.46176   0.10113\n",
            " -0.02024   0.28479   0.043512  0.45735  -2.0466   -0.58084   0.61797\n",
            "  0.6518   -0.58263   4.0786   -0.2542   -0.14649  -0.34321  -0.25437\n",
            " -0.44677   0.12657   0.28134   0.13331  -0.36974   0.050059 -0.10058\n",
            " -0.017907  0.11142  -0.71798   0.491    -0.099974 -0.043688 -0.097922\n",
            "  0.16806 ]\n",
            "Corresponding embedding from embeddings list of list of lists\n",
            " [ 0.61183  -0.22072  -0.10898  -0.052967  0.50804   0.34684  -0.33558\n",
            " -0.19152  -0.035865  0.1051    0.07935   0.2449   -0.4373   -0.33344\n",
            "  0.57479   0.69052   0.29713   0.090669 -0.54992  -0.46176   0.10113\n",
            " -0.02024   0.28479   0.043512  0.45735  -2.0466   -0.58084   0.61797\n",
            "  0.6518   -0.58263   4.0786   -0.2542   -0.14649  -0.34321  -0.25437\n",
            " -0.44677   0.12657   0.28134   0.13331  -0.36974   0.050059 -0.10058\n",
            " -0.017907  0.11142  -0.71798   0.491    -0.099974 -0.043688 -0.097922\n",
            "  0.16806 ]\n",
            "First word in first document: appears\n",
            "Embedding for this word:\n",
            " [ 6.8030e-01  1.3357e-01  3.8943e-02 -2.6048e-01  5.8650e-01  4.5575e-01\n",
            " -2.6374e-01 -1.5397e-02 -4.2594e-03  7.6610e-02  3.6253e-02  3.9376e-01\n",
            " -3.5946e-01  1.0029e-01  4.7674e-01  5.5765e-01 -2.7290e-01 -3.7915e-01\n",
            " -1.6241e-01 -7.3603e-04 -3.7771e-01 -3.1593e-01  2.9869e-01  2.1014e-01\n",
            "  4.7050e-01 -1.4959e+00 -8.0891e-01  6.6402e-01  3.4828e-01  2.9303e-01\n",
            "  2.4439e+00 -6.8185e-01  1.2336e-01 -6.9052e-01 -1.8561e-01 -1.5662e-01\n",
            " -5.2752e-02 -1.6191e-01 -7.6129e-01 -9.7176e-01 -3.4649e-02  6.3816e-02\n",
            " -7.1275e-01 -2.6329e-01  2.0054e-02  4.3275e-03  3.2233e-01 -3.4399e-01\n",
            "  1.6512e-01  1.6530e-01]\n",
            "Corresponding embedding from embeddings list of list of lists\n",
            " [ 6.8030e-01  1.3357e-01  3.8943e-02 -2.6048e-01  5.8650e-01  4.5575e-01\n",
            " -2.6374e-01 -1.5397e-02 -4.2594e-03  7.6610e-02  3.6253e-02  3.9376e-01\n",
            " -3.5946e-01  1.0029e-01  4.7674e-01  5.5765e-01 -2.7290e-01 -3.7915e-01\n",
            " -1.6241e-01 -7.3603e-04 -3.7771e-01 -3.1593e-01  2.9869e-01  2.1014e-01\n",
            "  4.7050e-01 -1.4959e+00 -8.0891e-01  6.6402e-01  3.4828e-01  2.9303e-01\n",
            "  2.4439e+00 -6.8185e-01  1.2336e-01 -6.9052e-01 -1.8561e-01 -1.5662e-01\n",
            " -5.2752e-02 -1.6191e-01 -7.6129e-01 -9.7176e-01 -3.4649e-02  6.3816e-02\n",
            " -7.1275e-01 -2.6329e-01  2.0054e-02  4.3275e-03  3.2233e-01 -3.4399e-01\n",
            "  1.6512e-01  1.6530e-01]\n"
          ],
          "name": "stdout"
        }
      ]
    }
  ]
}