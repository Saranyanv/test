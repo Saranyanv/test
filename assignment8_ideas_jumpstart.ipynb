{
  "nbformat": 4,
  "nbformat_minor": 0,
  "metadata": {
    "colab": {
      "name": "assignment8-ideas-jumpstart.ipynb",
      "version": "0.3.2",
      "provenance": [],
      "include_colab_link": true
    },
    "kernelspec": {
      "name": "python3",
      "display_name": "Python 3"
    }
  },
  "cells": [
    {
      "cell_type": "markdown",
      "metadata": {
        "id": "view-in-github",
        "colab_type": "text"
      },
      "source": [
        "<a href=\"https://colab.research.google.com/github/Saranyanv/test/blob/master/assignment8_ideas_jumpstart.ipynb\" target=\"_parent\"><img src=\"https://colab.research.google.com/assets/colab-badge.svg\" alt=\"Open In Colab\"/></a>"
      ]
    },
    {
      "metadata": {
        "id": "yUYHL_sxDVbX",
        "colab_type": "text"
      },
      "cell_type": "markdown",
      "source": [
        "# Assignment 8- Jumpstart and Ideas"
      ]
    },
    {
      "metadata": {
        "id": "LyP1t6_tDfV4",
        "colab_type": "text"
      },
      "cell_type": "markdown",
      "source": [
        "## Chakin"
      ]
    },
    {
      "metadata": {
        "id": "yt2h_AQ_Djgw",
        "colab_type": "code",
        "outputId": "f14aac13-5ff8-4c74-a2de-c6eb693694c5",
        "colab": {
          "base_uri": "https://localhost:8080/",
          "height": 986
        }
      },
      "cell_type": "code",
      "source": [
        "!pip install chakin\n",
        "\n",
        "import numpy as np\n",
        "import tensorflow as tf\n",
        "\n",
        "# Python chakin package previously installed by \n",
        "#    pip install chakin\n",
        "import chakin  \n",
        "\n",
        "import json\n",
        "import os\n",
        "from collections import defaultdict\n",
        "\n",
        "chakin.search(lang='English')  # lists available indices in English\n",
        "\n",
        "# Specify English embeddings file to download and install\n",
        "# by index number, number of dimensions, and subfoder name\n",
        "# Note that GloVe 50-, 100-, 200-, and 300-dimensional folders\n",
        "# are downloaded with a single zip download\n",
        "\n",
        "#CHAKIN_INDEX = 11\n",
        "#NUMBER_OF_DIMENSIONS = 50\n",
        "#SUBFOLDER_NAME = \"glove.6B\"\n",
        "CHAKIN_INDEX = 18\n",
        "NUMBER_OF_DIMENSIONS = 50\n",
        "SUBFOLDER_NAME = \"glove.twitter.27B\"\n",
        "\n",
        "DATA_FOLDER = \"embeddings\"\n",
        "ZIP_FILE = os.path.join(DATA_FOLDER, \"{}.zip\".format(SUBFOLDER_NAME))\n",
        "ZIP_FILE_ALT = \"glove\" + ZIP_FILE[5:]  # sometimes it's lowercase only...\n",
        "UNZIP_FOLDER = os.path.join(DATA_FOLDER, SUBFOLDER_NAME)\n",
        "if SUBFOLDER_NAME[-1] == \"d\":\n",
        "    GLOVE_FILENAME = os.path.join(\n",
        "        UNZIP_FOLDER, \"{}.txt\".format(SUBFOLDER_NAME))\n",
        "else:\n",
        "    GLOVE_FILENAME = os.path.join(UNZIP_FOLDER, \"{}.{}d.txt\".format(\n",
        "        SUBFOLDER_NAME, NUMBER_OF_DIMENSIONS))\n",
        "    \n",
        "if not os.path.exists(ZIP_FILE) and not os.path.exists(UNZIP_FOLDER):\n",
        "    # GloVe by Stanford is licensed Apache 2.0:\n",
        "    #     https://github.com/stanfordnlp/GloVe/blob/master/LICENSE\n",
        "    #     http://nlp.stanford.edu/data/glove.twitter.27B.zip\n",
        "    #     Copyright 2014 The Board of Trustees of The Leland Stanford Junior University\n",
        "    print(\"Downloading embeddings to '{}'\".format(ZIP_FILE))\n",
        "    chakin.download(number=CHAKIN_INDEX, save_dir='./{}'.format(DATA_FOLDER))\n",
        "else:\n",
        "    print(\"Embeddings already downloaded.\")\n",
        "\n",
        "if not os.path.exists(UNZIP_FOLDER):\n",
        "    import zipfile\n",
        "    if not os.path.exists(ZIP_FILE) and os.path.exists(ZIP_FILE_ALT):\n",
        "        ZIP_FILE = ZIP_FILE_ALT\n",
        "    with zipfile.ZipFile(ZIP_FILE, \"r\") as zip_ref:\n",
        "        print(\"Extracting embeddings to '{}'\".format(UNZIP_FOLDER))\n",
        "        zip_ref.extractall(UNZIP_FOLDER)\n",
        "else:\n",
        "    print(\"Embeddings already extracted.\")\n",
        "\n",
        "print('\\nRun complete')\n",
        "\n",
        "# Do the same for a different vector/dimension\n",
        "\n",
        "CHAKIN_INDEX = 11\n",
        "NUMBER_OF_DIMENSIONS = 50\n",
        "SUBFOLDER_NAME = \"glove.6B\"\n",
        "\n",
        "DATA_FOLDER = \"embeddings\"\n",
        "ZIP_FILE = os.path.join(DATA_FOLDER, \"{}.zip\".format(SUBFOLDER_NAME))\n",
        "ZIP_FILE_ALT = \"glove\" + ZIP_FILE[5:]  # sometimes it's lowercase only...\n",
        "UNZIP_FOLDER = os.path.join(DATA_FOLDER, SUBFOLDER_NAME)\n",
        "if SUBFOLDER_NAME[-1] == \"d\":\n",
        "    GLOVE_FILENAME = os.path.join(\n",
        "        UNZIP_FOLDER, \"{}.txt\".format(SUBFOLDER_NAME))\n",
        "else:\n",
        "    GLOVE_FILENAME = os.path.join(UNZIP_FOLDER, \"{}.{}d.txt\".format(\n",
        "        SUBFOLDER_NAME, NUMBER_OF_DIMENSIONS))\n",
        "    \n",
        "if not os.path.exists(ZIP_FILE) and not os.path.exists(UNZIP_FOLDER):\n",
        "    # GloVe by Stanford is licensed Apache 2.0:\n",
        "    #     https://github.com/stanfordnlp/GloVe/blob/master/LICENSE\n",
        "    #     http://nlp.stanford.edu/data/glove.twitter.27B.zip\n",
        "    #     Copyright 2014 The Board of Trustees of The Leland Stanford Junior University\n",
        "    print(\"Downloading embeddings to '{}'\".format(ZIP_FILE))\n",
        "    chakin.download(number=CHAKIN_INDEX, save_dir='./{}'.format(DATA_FOLDER))\n",
        "else:\n",
        "    print(\"Embeddings already downloaded.\")\n",
        "\n",
        "if not os.path.exists(UNZIP_FOLDER):\n",
        "    import zipfile\n",
        "    if not os.path.exists(ZIP_FILE) and os.path.exists(ZIP_FILE_ALT):\n",
        "        ZIP_FILE = ZIP_FILE_ALT\n",
        "    with zipfile.ZipFile(ZIP_FILE, \"r\") as zip_ref:\n",
        "        print(\"Extracting embeddings to '{}'\".format(UNZIP_FOLDER))\n",
        "        zip_ref.extractall(UNZIP_FOLDER)\n",
        "else:\n",
        "    print(\"Embeddings already extracted.\")\n",
        "\n",
        "print('\\nRun complete')\n"
      ],
      "execution_count": 1,
      "outputs": [
        {
          "output_type": "stream",
          "text": [
            "Collecting chakin\n",
            "  Downloading https://files.pythonhosted.org/packages/45/a3/26d2b5b5b1700fb9923aadf6c8812c2128ab71a099c51855e92f994c49bd/chakin-0.0.6.tar.gz\n",
            "Requirement already satisfied: pandas>=0.20.1 in /usr/local/lib/python3.6/dist-packages (from chakin) (0.22.0)\n",
            "Collecting progressbar2>=3.20.0 (from chakin)\n",
            "  Downloading https://files.pythonhosted.org/packages/4f/6f/acb2dd76f2c77527584bd3a4c2509782bb35c481c610521fc3656de5a9e0/progressbar2-3.38.0-py2.py3-none-any.whl\n",
            "Requirement already satisfied: six>=1.10.0 in /usr/local/lib/python3.6/dist-packages (from chakin) (1.11.0)\n",
            "Requirement already satisfied: python-dateutil>=2 in /usr/local/lib/python3.6/dist-packages (from pandas>=0.20.1->chakin) (2.5.3)\n",
            "Requirement already satisfied: numpy>=1.9.0 in /usr/local/lib/python3.6/dist-packages (from pandas>=0.20.1->chakin) (1.14.6)\n",
            "Requirement already satisfied: pytz>=2011k in /usr/local/lib/python3.6/dist-packages (from pandas>=0.20.1->chakin) (2018.7)\n",
            "Collecting python-utils>=2.3.0 (from progressbar2>=3.20.0->chakin)\n",
            "  Downloading https://files.pythonhosted.org/packages/eb/a0/19119d8b7c05be49baf6c593f11c432d571b70d805f2fe94c0585e55e4c8/python_utils-2.3.0-py2.py3-none-any.whl\n",
            "Building wheels for collected packages: chakin\n",
            "  Running setup.py bdist_wheel for chakin ... \u001b[?25l-\b \bdone\n",
            "\u001b[?25h  Stored in directory: /root/.cache/pip/wheels/0f/00/a8/306996e292c7a68d22e81d6350dc8adbb101b05163eb3b6915\n",
            "Successfully built chakin\n",
            "Installing collected packages: python-utils, progressbar2, chakin\n",
            "Successfully installed chakin-0.0.6 progressbar2-3.38.0 python-utils-2.3.0\n",
            "                   Name  Dimension                     Corpus VocabularySize  \\\n",
            "2          fastText(en)        300                  Wikipedia           2.5M   \n",
            "11         GloVe.6B.50d         50  Wikipedia+Gigaword 5 (6B)           400K   \n",
            "12        GloVe.6B.100d        100  Wikipedia+Gigaword 5 (6B)           400K   \n",
            "13        GloVe.6B.200d        200  Wikipedia+Gigaword 5 (6B)           400K   \n",
            "14        GloVe.6B.300d        300  Wikipedia+Gigaword 5 (6B)           400K   \n",
            "15       GloVe.42B.300d        300          Common Crawl(42B)           1.9M   \n",
            "16      GloVe.840B.300d        300         Common Crawl(840B)           2.2M   \n",
            "17    GloVe.Twitter.25d         25               Twitter(27B)           1.2M   \n",
            "18    GloVe.Twitter.50d         50               Twitter(27B)           1.2M   \n",
            "19   GloVe.Twitter.100d        100               Twitter(27B)           1.2M   \n",
            "20   GloVe.Twitter.200d        200               Twitter(27B)           1.2M   \n",
            "21  word2vec.GoogleNews        300          Google News(100B)           3.0M   \n",
            "\n",
            "      Method Language    Author  \n",
            "2   fastText  English  Facebook  \n",
            "11     GloVe  English  Stanford  \n",
            "12     GloVe  English  Stanford  \n",
            "13     GloVe  English  Stanford  \n",
            "14     GloVe  English  Stanford  \n",
            "15     GloVe  English  Stanford  \n",
            "16     GloVe  English  Stanford  \n",
            "17     GloVe  English  Stanford  \n",
            "18     GloVe  English  Stanford  \n",
            "19     GloVe  English  Stanford  \n",
            "20     GloVe  English  Stanford  \n",
            "21  word2vec  English    Google  \n",
            "Downloading embeddings to 'embeddings/glove.twitter.27B.zip'\n"
          ],
          "name": "stdout"
        },
        {
          "output_type": "stream",
          "text": [
            "Test: 100% ||                                      | Time:  0:02:27   9.9 MiB/s\n"
          ],
          "name": "stderr"
        },
        {
          "output_type": "stream",
          "text": [
            "Extracting embeddings to 'embeddings/glove.twitter.27B'\n",
            "\n",
            "Run complete\n",
            "Downloading embeddings to 'embeddings/glove.6B.zip'\n"
          ],
          "name": "stdout"
        },
        {
          "output_type": "stream",
          "text": [
            "Test: 100% ||                                      | Time:  0:01:03  12.9 MiB/s\n"
          ],
          "name": "stderr"
        },
        {
          "output_type": "stream",
          "text": [
            "Extracting embeddings to 'embeddings/glove.6B'\n",
            "\n",
            "Run complete\n"
          ],
          "name": "stdout"
        }
      ]
    },
    {
      "metadata": {
        "id": "ZF2rEgDVDoS3",
        "colab_type": "code",
        "outputId": "630116de-b162-452a-eea8-e0e57d92a778",
        "colab": {
          "base_uri": "https://localhost:8080/",
          "height": 245
        }
      },
      "cell_type": "code",
      "source": [
        "!ls -l embeddings/glove.*B"
      ],
      "execution_count": 30,
      "outputs": [
        {
          "output_type": "stream",
          "text": [
            "embeddings/glove.6B:\n",
            "total 2197156\n",
            "-rw-r--r-- 1 root root  347116733 Nov 28 01:08 glove.6B.100d.txt\n",
            "-rw-r--r-- 1 root root  693432828 Nov 28 01:09 glove.6B.200d.txt\n",
            "-rw-r--r-- 1 root root 1037962819 Nov 28 01:09 glove.6B.300d.txt\n",
            "-rw-r--r-- 1 root root  171350079 Nov 28 01:08 glove.6B.50d.txt\n",
            "\n",
            "embeddings/glove.twitter.27B:\n",
            "total 3757684\n",
            "-rw-r--r-- 1 root root 1021669379 Nov 28 01:06 glove.twitter.27B.100d.txt\n",
            "-rw-r--r-- 1 root root 2057590469 Nov 28 01:07 glove.twitter.27B.200d.txt\n",
            "-rw-r--r-- 1 root root  257699726 Nov 28 01:05 glove.twitter.27B.25d.txt\n",
            "-rw-r--r-- 1 root root  510887943 Nov 28 01:06 glove.twitter.27B.50d.txt\n"
          ],
          "name": "stdout"
        }
      ]
    },
    {
      "metadata": {
        "id": "r87NkyVTEe9I",
        "colab_type": "code",
        "colab": {
          "base_uri": "https://localhost:8080/",
          "height": 105
        },
        "outputId": "a888e9c3-25f5-47eb-8d56-a6f2357832cd"
      },
      "cell_type": "code",
      "source": [
        "!wc -l embeddings/glove.6B/glove.6B.*.txt"
      ],
      "execution_count": 35,
      "outputs": [
        {
          "output_type": "stream",
          "text": [
            "    400000 embeddings/glove.6B/glove.6B.100d.txt\n",
            "    400000 embeddings/glove.6B/glove.6B.200d.txt\n",
            "    400000 embeddings/glove.6B/glove.6B.300d.txt\n",
            "    400000 embeddings/glove.6B/glove.6B.50d.txt\n",
            "   1600000 total\n"
          ],
          "name": "stdout"
        }
      ]
    },
    {
      "metadata": {
        "id": "rKfr22ONH8u2",
        "colab_type": "code",
        "colab": {
          "base_uri": "https://localhost:8080/",
          "height": 230
        },
        "outputId": "1f78f498-3fa2-419f-8f3a-8f4b1281dcb5"
      },
      "cell_type": "code",
      "source": [
        "!head -1 embeddings/glove.6B/glove.6B.*.txt"
      ],
      "execution_count": 41,
      "outputs": [
        {
          "output_type": "stream",
          "text": [
            "==> embeddings/glove.6B/glove.6B.100d.txt <==\n",
            "the -0.038194 -0.24487 0.72812 -0.39961 0.083172 0.043953 -0.39141 0.3344 -0.57545 0.087459 0.28787 -0.06731 0.30906 -0.26384 -0.13231 -0.20757 0.33395 -0.33848 -0.31743 -0.48336 0.1464 -0.37304 0.34577 0.052041 0.44946 -0.46971 0.02628 -0.54155 -0.15518 -0.14107 -0.039722 0.28277 0.14393 0.23464 -0.31021 0.086173 0.20397 0.52624 0.17164 -0.082378 -0.71787 -0.41531 0.20335 -0.12763 0.41367 0.55187 0.57908 -0.33477 -0.36559 -0.54857 -0.062892 0.26584 0.30205 0.99775 -0.80481 -3.0243 0.01254 -0.36942 2.2167 0.72201 -0.24978 0.92136 0.034514 0.46745 1.1079 -0.19358 -0.074575 0.23353 -0.052062 -0.22044 0.057162 -0.15806 -0.30798 -0.41625 0.37972 0.15006 -0.53212 -0.2055 -1.2526 0.071624 0.70565 0.49744 -0.42063 0.26148 -1.538 -0.30223 -0.073438 -0.28312 0.37104 -0.25217 0.016215 -0.017099 -0.38984 0.87424 -0.72569 -0.51058 -0.52028 -0.1459 0.8278 0.27062\n",
            "\n",
            "==> embeddings/glove.6B/glove.6B.200d.txt <==\n",
            "the -0.071549 0.093459 0.023738 -0.090339 0.056123 0.32547 -0.39796 -0.092139 0.061181 -0.1895 0.13061 0.14349 0.011479 0.38158 0.5403 -0.14088 0.24315 0.23036 -0.55339 0.048154 0.45662 3.2338 0.020199 0.049019 -0.014132 0.076017 -0.11527 0.2006 -0.077657 0.24328 0.16368 -0.34118 -0.06607 0.10152 0.038232 -0.17668 -0.88153 -0.33895 -0.035481 -0.55095 -0.016899 -0.43982 0.039004 0.40447 -0.2588 0.64594 0.26641 0.28009 -0.024625 0.63302 -0.317 0.10271 0.30886 0.097792 -0.38227 0.086552 0.047075 0.23511 -0.32127 -0.28538 0.1667 -0.0049707 -0.62714 -0.24904 0.29713 0.14379 -0.12325 -0.058178 -0.001029 -0.082126 0.36935 -0.00058442 0.34286 0.28426 -0.068599 0.65747 -0.029087 0.16184 0.073672 -0.30343 0.095733 -0.5286 -0.22898 0.064079 0.015218 0.34921 -0.4396 -0.43983 0.77515 -0.87767 -0.087504 0.39598 0.62362 -0.26211 -0.30539 -0.022964 0.30567 0.06766 0.15383 -0.11211 -0.09154 0.082562 0.16897 -0.032952 -0.28775 -0.2232 -0.090426 1.2407 -0.18244 -0.0075219 -0.041388 -0.011083 0.078186 0.38511 0.23334 0.14414 -0.0009107 -0.26388 -0.20481 0.10099 0.14076 0.28834 -0.045429 0.37247 0.13645 -0.67457 0.22786 0.12599 0.029091 0.030428 -0.13028 0.19408 0.49014 -0.39121 -0.075952 0.074731 0.18902 -0.16922 -0.26019 -0.039771 -0.24153 0.10875 0.30434 0.036009 1.4264 0.12759 -0.073811 -0.20418 0.0080016 0.15381 0.20223 0.28274 0.096206 -0.33634 0.50983 0.32625 -0.26535 0.374 -0.30388 -0.40033 -0.04291 -0.067897 -0.29332 0.10978 -0.045365 0.23222 -0.31134 -0.28983 -0.66687 0.53097 0.19461 0.3667 0.26185 -0.65187 0.10266 0.11363 -0.12953 -0.68246 -0.18751 0.1476 1.0765 -0.22908 -0.0093435 -0.20651 -0.35225 -0.2672 -0.0034307 0.25906 0.21759 0.66158 0.1218 0.19957 -0.20303 0.34474 -0.24328 0.13139 -0.0088767 0.33617 0.030591 0.25577\n",
            "\n",
            "==> embeddings/glove.6B/glove.6B.300d.txt <==\n",
            "the 0.04656 0.21318 -0.0074364 -0.45854 -0.035639 0.23643 -0.28836 0.21521 -0.13486 -1.6413 -0.26091 0.032434 0.056621 -0.043296 -0.021672 0.22476 -0.075129 -0.067018 -0.14247 0.038825 -0.18951 0.29977 0.39305 0.17887 -0.17343 -0.21178 0.23617 -0.063681 -0.42318 -0.11661 0.093754 0.17296 -0.33073 0.49112 -0.68995 -0.092462 0.24742 -0.17991 0.097908 0.083118 0.15299 -0.27276 -0.038934 0.54453 0.53737 0.29105 -0.0073514 0.04788 -0.4076 -0.026759 0.17919 0.010977 -0.10963 -0.26395 0.07399 0.26236 -0.1508 0.34623 0.25758 0.11971 -0.037135 -0.071593 0.43898 -0.040764 0.016425 -0.4464 0.17197 0.046246 0.058639 0.041499 0.53948 0.52495 0.11361 -0.048315 -0.36385 0.18704 0.092761 -0.11129 -0.42085 0.13992 -0.39338 -0.067945 0.12188 0.16707 0.075169 -0.015529 -0.19499 0.19638 0.053194 0.2517 -0.34845 -0.10638 -0.34692 -0.19024 -0.2004 0.12154 -0.29208 0.023353 -0.11618 -0.35768 0.062304 0.35884 0.02906 0.0073005 0.0049482 -0.15048 -0.12313 0.19337 0.12173 0.44503 0.25147 0.10781 -0.17716 0.038691 0.08153 0.14667 0.063666 0.061332 -0.075569 -0.37724 0.01585 -0.30342 0.28374 -0.042013 -0.040715 -0.15269 0.07498 0.15577 0.10433 0.31393 0.19309 0.19429 0.15185 -0.10192 -0.018785 0.20791 0.13366 0.19038 -0.25558 0.304 -0.01896 0.20147 -0.4211 -0.0075156 -0.27977 -0.19314 0.046204 0.19971 -0.30207 0.25735 0.68107 -0.19409 0.23984 0.22493 0.65224 -0.13561 -0.17383 -0.048209 -0.1186 0.0021588 -0.019525 0.11948 0.19346 -0.4082 -0.082966 0.16626 -0.10601 0.35861 0.16922 0.07259 -0.24803 -0.10024 -0.52491 -0.17745 -0.36647 0.2618 -0.012077 0.08319 -0.21528 0.41045 0.29136 0.30869 0.078864 0.32207 -0.041023 -0.1097 -0.092041 -0.12339 -0.16416 0.35382 -0.082774 0.33171 -0.24738 -0.048928 0.15746 0.18988 -0.026642 0.063315 -0.010673 0.34089 1.4106 0.13417 0.28191 -0.2594 0.055267 -0.052425 -0.25789 0.019127 -0.022084 0.32113 0.068818 0.51207 0.16478 -0.20194 0.29232 0.098575 0.013145 -0.10652 0.1351 -0.045332 0.20697 -0.48425 -0.44706 0.0033305 0.0029264 -0.10975 -0.23325 0.22442 -0.10503 0.12339 0.10978 0.048994 -0.25157 0.40319 0.35318 0.18651 -0.023622 -0.12734 0.11475 0.27359 -0.21866 0.015794 0.81754 -0.023792 -0.85469 -0.16203 0.18076 0.028014 -0.1434 0.0013139 -0.091735 -0.089704 0.11105 -0.16703 0.068377 -0.087388 -0.039789 0.014184 0.21187 0.28579 -0.28797 -0.058996 -0.032436 -0.0047009 -0.17052 -0.034741 -0.11489 0.075093 0.099526 0.048183 -0.073775 -0.41817 0.0041268 0.44414 -0.16062 0.14294 -2.2628 -0.027347 0.81311 0.77417 -0.25639 -0.11576 -0.11982 -0.21363 0.028429 0.27261 0.031026 0.096782 0.0067769 0.14082 -0.013064 -0.29686 -0.079913 0.195 0.031549 0.28506 -0.087461 0.0090611 -0.20989 0.053913\n",
            "\n",
            "==> embeddings/glove.6B/glove.6B.50d.txt <==\n",
            "the 0.418 0.24968 -0.41242 0.1217 0.34527 -0.044457 -0.49688 -0.17862 -0.00066023 -0.6566 0.27843 -0.14767 -0.55677 0.14658 -0.0095095 0.011658 0.10204 -0.12792 -0.8443 -0.12181 -0.016801 -0.33279 -0.1552 -0.23131 -0.19181 -1.8823 -0.76746 0.099051 -0.42125 -0.19526 4.0071 -0.18594 -0.52287 -0.31681 0.00059213 0.0074449 0.17778 -0.15897 0.012041 -0.054223 -0.29871 -0.15749 -0.34758 -0.045637 -0.44251 0.18785 0.0027849 -0.18411 -0.11514 -0.78581\n"
          ],
          "name": "stdout"
        }
      ]
    },
    {
      "metadata": {
        "id": "Tj-ZIwW6InFC",
        "colab_type": "code",
        "colab": {
          "base_uri": "https://localhost:8080/",
          "height": 230
        },
        "outputId": "580672a5-577c-418d-eb80-861fd45cbcc5"
      },
      "cell_type": "code",
      "source": [
        "!head -1 embeddings/glove.twitter.27B/glove.twitter.27B.*.txt"
      ],
      "execution_count": 42,
      "outputs": [
        {
          "output_type": "stream",
          "text": [
            "==> embeddings/glove.twitter.27B/glove.twitter.27B.100d.txt <==\n",
            "<user> 0.63006 0.65177 0.25545 0.018593 0.043094 0.047194 0.23218 0.11613 0.17371 0.40487 0.022524 -0.076731 -2.2911 0.094127 0.43293 0.041801 0.063175 -0.64486 -0.43657 0.024114 -0.082989 0.21686 -0.13462 -0.22336 0.39436 -2.1724 -0.39544 0.16536 0.39438 -0.35182 -0.14996 0.10502 -0.45937 0.27729 0.8924 -0.042313 -0.009345 0.55017 0.095521 0.070504 -1.1781 0.013723 0.17742 0.74142 0.17716 0.038468 -0.31684 0.08941 0.20557 -0.34328 -0.64303 -0.878 -0.16293 -0.055925 0.33898 0.60664 -0.2774 0.33626 0.21603 -0.11051 0.0058673 -0.64757 -0.068222 -0.77414 0.13911 -0.15851 -0.61885 -0.10192 -0.47 0.19787 0.42175 -0.18458 0.080581 -0.22545 -0.065129 -0.15328 0.087726 -0.18817 -0.08371 0.21779 0.97899 0.1092 0.022705 -0.078234 0.15595 0.083105 -0.6824 0.57469 -0.19942 0.50566 -0.18277 0.37721 -0.12514 -0.42821 -0.81075 -0.39326 -0.17386 0.55096 0.64706 -0.6093\n",
            "\n",
            "==> embeddings/glove.twitter.27B/glove.twitter.27B.200d.txt <==\n",
            "<user> 0.31553 0.53765 0.10177 0.032553 0.003798 0.015364 -0.20344 0.33294 -0.20886 0.10061 0.30976 0.50015 0.32018 0.13537 0.0087039 0.1911 0.24668 -0.060752 -0.43623 0.019302 0.59972 0.13444 0.012801 -0.54052 0.27387 -1.182 -0.27677 0.11279 0.46596 -0.090685 0.24253 0.15654 -0.23618 0.57694 0.17563 -0.01969 0.018295 0.37569 -0.41984 0.22613 -0.20438 -0.076249 0.40356 0.61582 -0.10064 0.23318 0.22808 0.34576 -0.14627 -0.1988 0.033232 -0.84885 -0.25684 0.26369 0.29562 0.1847 -0.20668 -0.013297 0.12233 -0.47751 -0.17202 -0.14577 0.047446 -0.15824 0.054215 -0.19426 -0.081484 0.099009 0.10159 0.043571 0.50245 0.13362 0.065985 0.032969 -0.2017 -0.56905 -0.13203 0.073347 -0.063728 -0.2796 -0.38481 -0.020193 0.22298 -0.059115 0.045198 -0.13995 -0.13299 0.47309 -0.021874 0.38758 -0.074926 -0.0028093 -0.29829 -0.074987 -0.58542 -0.18065 -0.041805 0.41938 0.41004 -0.5911 0.10459 0.10724 0.69768 -0.15901 -0.059596 0.29368 -0.19609 0.39124 -0.29333 -0.0050833 -0.37854 0.33858 0.24782 0.29144 -0.22833 0.19421 -0.055409 0.10322 0.38963 -0.27813 0.21963 0.40014 0.071036 -0.079786 0.19534 -0.69432 -0.093075 -0.13729 -0.54014 0.57165 0.24443 0.036741 0.033606 -0.14398 0.25873 0.089008 0.11109 0.38387 0.19013 -0.23252 -0.26271 -0.26936 -0.32409 0.55236 -0.46158 -0.11086 -0.38417 0.59605 -0.14479 -0.28762 -0.29638 0.21889 -4.1257 0.69382 -0.26307 -0.013691 0.032916 0.017627 -0.02909 0.42807 -0.20815 0.50598 -0.080836 0.45083 -0.11466 -0.27782 -0.038373 0.15672 -0.010899 0.082053 -0.19766 0.20574 -0.075329 0.083754 -0.72767 0.10403 0.42831 0.41023 -0.097314 0.15128 0.39287 -0.17807 -0.029196 0.57502 -0.17823 -0.76488 -0.47383 -0.21984 0.2119 -0.015729 -0.062927 0.26674 -0.23617 0.18109 -0.26583 0.090904 -0.81205 -0.45664 -0.4654 0.52066\n",
            "\n",
            "==> embeddings/glove.twitter.27B/glove.twitter.27B.25d.txt <==\n",
            "<user> 0.62415 0.62476 -0.082335 0.20101 -0.13741 -0.11431 0.77909 2.6356 -0.46351 0.57465 -0.024888 -0.015466 -2.9696 -0.49876 0.095034 -0.94879 -0.017336 -0.86349 -1.3348 0.046811 0.36999 -0.57663 -0.48469 0.40078 0.75345\n",
            "\n",
            "==> embeddings/glove.twitter.27B/glove.twitter.27B.50d.txt <==\n",
            "<user> 0.78704 0.72151 0.29148 -0.056527 0.31683 0.47172 0.023461 0.69568 0.20782 0.60985 -0.22386 0.7481 -2.6208 0.20117 -0.48104 0.12897 0.035239 -0.24486 -0.36088 0.026686 0.28978 -0.10698 -0.34621 0.021053 0.54514 -1.0958 -0.274 0.2233 1.0827 -0.029018 -0.84029 0.58619 -0.36511 0.34016 0.89615 0.32757 0.24267 0.68404 -0.34374 0.13583 -2.2162 -0.42537 0.46157 0.88626 -0.22014 0.025599 -0.38615 0.080107 -0.075323 -0.61461\n"
          ],
          "name": "stdout"
        }
      ]
    },
    {
      "metadata": {
        "id": "BRl0hqmmG3l_",
        "colab_type": "text"
      },
      "cell_type": "markdown",
      "source": [
        "## Load Movie Reviews Google Drive"
      ]
    },
    {
      "metadata": {
        "id": "GdCjiPY2EoIq",
        "colab_type": "code",
        "outputId": "381da8dc-9a3a-47c8-9a93-616e86882c4b",
        "colab": {
          "base_uri": "https://localhost:8080/",
          "height": 125
        }
      },
      "cell_type": "code",
      "source": [
        "from google.colab import drive\n",
        "drive.mount('/content/gdrive')"
      ],
      "execution_count": 3,
      "outputs": [
        {
          "output_type": "stream",
          "text": [
            "Go to this URL in a browser: https://accounts.google.com/o/oauth2/auth?client_id=947318989803-6bn6qk8qdgf4n4g3pfee6491hc0brc4i.apps.googleusercontent.com&redirect_uri=urn%3Aietf%3Awg%3Aoauth%3A2.0%3Aoob&scope=email%20https%3A%2F%2Fwww.googleapis.com%2Fauth%2Fdocs.test%20https%3A%2F%2Fwww.googleapis.com%2Fauth%2Fdrive%20https%3A%2F%2Fwww.googleapis.com%2Fauth%2Fdrive.photos.readonly%20https%3A%2F%2Fwww.googleapis.com%2Fauth%2Fpeopleapi.readonly&response_type=code\n",
            "\n",
            "Enter your authorization code:\n",
            "··········\n",
            "Mounted at /content/gdrive\n"
          ],
          "name": "stdout"
        }
      ]
    },
    {
      "metadata": {
        "id": "Pys6IxPCJKro",
        "colab_type": "text"
      },
      "cell_type": "markdown",
      "source": [
        "Note, I downloaded *run-jump-start-rnn-sentiment-big-v002.zip*, then uploaded to 422 Directory in Google Drive"
      ]
    },
    {
      "metadata": {
        "id": "ifvh-yJWIj9z",
        "colab_type": "code",
        "outputId": "896cc770-747b-4fa6-966d-f34136acbfbc",
        "colab": {
          "base_uri": "https://localhost:8080/",
          "height": 87
        }
      },
      "cell_type": "code",
      "source": [
        "!ls -l /content/gdrive/'My Drive'/MSPA/'Predict 422'/'Week 8'/"
      ],
      "execution_count": 21,
      "outputs": [
        {
          "output_type": "stream",
          "text": [
            "total 200233\n",
            "drwx------ 2 root root      4096 Nov 27 03:52 movie-reviews-negative\n",
            "drwx------ 2 root root      4096 Nov 27 03:52 movie-reviews-positive\n",
            "-rw------- 1 root root 205029578 Nov 27 01:46 run-jump-start-rnn-sentiment-big-v002.zip\n"
          ],
          "name": "stdout"
        }
      ]
    },
    {
      "metadata": {
        "id": "nvuWABMfM_Qo",
        "colab_type": "code",
        "colab": {}
      },
      "cell_type": "code",
      "source": [
        "#training_data=[]\n",
        "\n",
        "#with zipfile.ZipFile(\"/content/gdrive/My Drive/MSPA/Predict 422/Week 8/run-jump-start-rnn-sentiment-big-v002.zip\", 'r') as z:\n",
        "#  print (z.namelist())\n",
        "\n",
        "from zipfile import ZipFile\n",
        "def extract_negative_feedback_zip(input_zip):\n",
        "  input_zip=ZipFile(input_zip)\n",
        "  for file in input_zip.namelist():\n",
        "    if ('movie-reviews-negative/') in file:\n",
        "      #print (file)\n",
        "      return {name: input_zip.read(name) for name in input_zip.namelist()}\n",
        "    #print (file)"
      ],
      "execution_count": 0,
      "outputs": []
    },
    {
      "metadata": {
        "id": "3UFUEZkLQOZ6",
        "colab_type": "code",
        "colab": {}
      },
      "cell_type": "code",
      "source": [
        "extract_negative_feedback_zip(\"/content/gdrive/My Drive/MSPA/Predict 422/Week 8/run-jump-start-rnn-sentiment-big-v002.zip\")"
      ],
      "execution_count": 0,
      "outputs": []
    },
    {
      "metadata": {
        "id": "IwuMtesHRsRp",
        "colab_type": "code",
        "outputId": "b9354f4a-d8ec-4a7d-fe80-834f97c3ecd2",
        "colab": {
          "base_uri": "https://localhost:8080/",
          "height": 34
        }
      },
      "cell_type": "code",
      "source": [
        "import os;os.listdir(\"/content/gdrive/My Drive/MSPA/Predict 422/Week 8/movie-reviews-positive\")[0:5]"
      ],
      "execution_count": 24,
      "outputs": [
        {
          "output_type": "execute_result",
          "data": {
            "text/plain": [
              "['106_10.txt', '103_7.txt', '107_10.txt', '0_9.txt', '101_8.txt']"
            ]
          },
          "metadata": {
            "tags": []
          },
          "execution_count": 24
        }
      ]
    },
    {
      "metadata": {
        "id": "EfblXlT9NfJ7",
        "colab_type": "code",
        "outputId": "0480ec85-87ff-4e14-d55b-9b433bfb3421",
        "colab": {
          "base_uri": "https://localhost:8080/",
          "height": 34
        }
      },
      "cell_type": "code",
      "source": [
        "import os;os.listdir(\"/content/gdrive/My Drive/MSPA/Predict 422/Week 8/movie-reviews-negative\")[0:5]"
      ],
      "execution_count": 23,
      "outputs": [
        {
          "output_type": "execute_result",
          "data": {
            "text/plain": [
              "['0_3.txt', '108_1.txt', '101_1.txt', '107_2.txt', '105_2.txt']"
            ]
          },
          "metadata": {
            "tags": []
          },
          "execution_count": 23
        }
      ]
    },
    {
      "metadata": {
        "id": "BvlmK0ZDFZUZ",
        "colab_type": "text"
      },
      "cell_type": "markdown",
      "source": [
        "## Jumpstart"
      ]
    },
    {
      "metadata": {
        "id": "zvIx3PNwLp_p",
        "colab_type": "text"
      },
      "cell_type": "markdown",
      "source": [
        "### Load the reviews"
      ]
    },
    {
      "metadata": {
        "id": "jZWZ7FRvFcoF",
        "colab_type": "code",
        "outputId": "aa822d7a-6b32-488e-b3ec-bab0d3a39561",
        "colab": {
          "base_uri": "https://localhost:8080/",
          "height": 3341
        }
      },
      "cell_type": "code",
      "source": [
        "# coding: utf-8\n",
        "\n",
        "# Program by Thomas W. Miller, August 16, 2018\n",
        "\n",
        "# Previous work involved gathering embeddings via chakin\n",
        "# Following methods described in\n",
        "#    https://github.com/chakki-works/chakin\n",
        "# The previous program, run-chakin-to-get-embeddings-v001.py\n",
        "# downloaded pre-trained GloVe embeddings, saved them in a zip archive,\n",
        "# and unzipped that archive to create the four word-to-embeddings\n",
        "# text files for use in language models. \n",
        "\n",
        "# This program sets uses word embeddings to set up defaultdict \n",
        "# dictionary data structures, that can them be employed in language\n",
        "# models. This is demonstrated with a simple RNN model for predicting\n",
        "# sentiment (thumbs-down versus thumbs-up) for movie reviews.\n",
        "\n",
        "from __future__ import absolute_import\n",
        "from __future__ import division\n",
        "from __future__ import print_function\n",
        "\n",
        "import re  # regular expressions\n",
        "from collections import defaultdict\n",
        "import nltk\n",
        "from nltk.tokenize import TreebankWordTokenizer\n",
        "\n",
        "RANDOM_SEED = 42\n",
        "\n",
        "# ------------------------------------------------------------- \n",
        "# Select the pre-defined embeddings source        \n",
        "# Define vocabulary size for the language model    \n",
        "# Create a word_to_embedding_dict for GloVe.6B.50d\n",
        "# To make output stable across runs\n",
        "\n",
        "def reset_graph(seed= RANDOM_SEED):\n",
        "    tf.reset_default_graph()\n",
        "    tf.set_random_seed(seed)\n",
        "    np.random.seed(seed)\n",
        "\n",
        "REMOVE_STOPWORDS = False  # no stopword removal \n",
        "#EVOCABSIZE = 20000  # specify desired size of pre-defined embedding vocabulary\n",
        "EVOCABSIZE = 400000\n",
        "\n",
        "embeddings_directory = 'embeddings/glove.6B'\n",
        "filename = 'glove.6B.50d.txt'\n",
        "#embeddings_directory = 'embeddings/glove.twitter.27B'\n",
        "#filename = 'glove.twitter.27B.100d.txt'\n",
        "\n",
        "embeddings_filename = os.path.join(embeddings_directory, filename)\n",
        "# ------------------------------------------------------------- \n",
        "\n",
        "# Utility function for loading embeddings follows methods described in\n",
        "# https://github.com/guillaume-chevalier/GloVe-as-a-TensorFlow-Embedding-Layer\n",
        "# Creates the Python defaultdict dictionary word_to_embedding_dict\n",
        "# for the requested pre-trained word embeddings\n",
        "# \n",
        "# Note the use of defaultdict data structure from the Python Standard Library\n",
        "# collections_defaultdict.py lets the caller specify a default value up front\n",
        "# The default value will be retuned if the key is not a known dictionary key\n",
        "# That is, unknown words are represented by a vector of zeros\n",
        "# For word embeddings, this default value is a vector of zeros\n",
        "# Documentation for the Python standard library:\n",
        "#   Hellmann, D. 2017. The Python 3 Standard Library by Example. Boston: \n",
        "#     Addison-Wesley. [ISBN-13: 978-0-13-429105-5]\n",
        "def load_embedding_from_disks(embeddings_filename, with_indexes=True):\n",
        "    \"\"\"\n",
        "    Read a embeddings txt file. If `with_indexes=True`, \n",
        "    we return a tuple of two dictionnaries\n",
        "    `(word_to_index_dict, index_to_embedding_array)`, \n",
        "    otherwise we return only a direct \n",
        "    `word_to_embedding_dict` dictionnary mapping \n",
        "    from a string to a numpy array.\n",
        "    \"\"\"\n",
        "    if with_indexes:\n",
        "        word_to_index_dict = dict()\n",
        "        index_to_embedding_array = []\n",
        "  \n",
        "    else:\n",
        "        word_to_embedding_dict = dict()\n",
        "\n",
        "    with open(embeddings_filename, 'r') as embeddings_file:\n",
        "        for (i, line) in enumerate(embeddings_file):\n",
        "\n",
        "            split = line.split(' ')\n",
        "\n",
        "            word = split[0]\n",
        "\n",
        "            representation = split[1:]\n",
        "            representation = np.array(\n",
        "                [float(val) for val in representation]\n",
        "            )\n",
        "\n",
        "            if with_indexes:\n",
        "                word_to_index_dict[word] = i\n",
        "                index_to_embedding_array.append(representation)\n",
        "            else:\n",
        "                word_to_embedding_dict[word] = representation\n",
        "\n",
        "    # Empty representation for unknown words.\n",
        "    _WORD_NOT_FOUND = [0.0] * len(representation)\n",
        "    if with_indexes:\n",
        "        _LAST_INDEX = i + 1\n",
        "        word_to_index_dict = defaultdict(\n",
        "            lambda: _LAST_INDEX, word_to_index_dict)\n",
        "        index_to_embedding_array = np.array(\n",
        "            index_to_embedding_array + [_WORD_NOT_FOUND])\n",
        "        return word_to_index_dict, index_to_embedding_array\n",
        "    else:\n",
        "        word_to_embedding_dict = defaultdict(lambda: _WORD_NOT_FOUND)\n",
        "        return word_to_embedding_dict\n",
        "\n",
        "print('\\nLoading embeddings from', embeddings_filename)\n",
        "word_to_index, index_to_embedding = \\\n",
        "    load_embedding_from_disks(embeddings_filename, with_indexes=True)\n",
        "print(\"Embedding loaded from disks.\")\n",
        "\n",
        "# Note: unknown words have representations with values [0, 0, ..., 0]\n",
        "\n",
        "# Additional background code from\n",
        "# https://github.com/guillaume-chevalier/GloVe-as-a-TensorFlow-Embedding-Layer\n",
        "# shows the general structure of the data structures for word embeddings\n",
        "# This code is modified for our purposes in language modeling \n",
        "vocab_size, embedding_dim = index_to_embedding.shape\n",
        "print(\"Embedding is of shape: {}\".format(index_to_embedding.shape))\n",
        "print(\"This means (number of words, number of dimensions per word)\\n\")\n",
        "print(\"The first words are words that tend occur more often.\")\n",
        "\n",
        "print(\"Note: for unknown words, the representation is an empty vector,\\n\"\n",
        "      \"and the index is the last one. The dictionnary has a limit:\")\n",
        "print(\"    {} --> {} --> {}\".format(\"A word\", \"Index in embedding\", \n",
        "      \"Representation\"))\n",
        "word = \"worsdfkljsdf\"  # a word obviously not in the vocabulary\n",
        "idx = word_to_index[word] # index for word obviously not in the vocabulary\n",
        "complete_vocabulary_size = idx \n",
        "embd = list(np.array(index_to_embedding[idx], dtype=int)) # \"int\" compact print\n",
        "print(\"    {} --> {} --> {}\".format(word, idx, embd))\n",
        "word = \"the\"\n",
        "idx = word_to_index[word]\n",
        "embd = list(index_to_embedding[idx])  # \"int\" for compact print only.\n",
        "print(\"    {} --> {} --> {}\".format(word, idx, embd))\n",
        "\n",
        "# Show how to use embeddings dictionaries with a test sentence\n",
        "# This is a famous typing exercise with all letters of the alphabet\n",
        "# https://en.wikipedia.org/wiki/The_quick_brown_fox_jumps_over_the_lazy_dog\n",
        "a_typing_test_sentence = 'The quick brown fox jumps over the lazy dog'\n",
        "print('\\nTest sentence: ', a_typing_test_sentence, '\\n')\n",
        "words_in_test_sentence = a_typing_test_sentence.split()\n",
        "\n",
        "print('Test sentence embeddings from complete vocabulary of', \n",
        "      complete_vocabulary_size, 'words:\\n')\n",
        "for word in words_in_test_sentence:\n",
        "    word_ = word.lower()\n",
        "    embedding = index_to_embedding[word_to_index[word_]]\n",
        "    print(word_ + \": \", embedding)\n",
        "\n",
        "# ------------------------------------------------------------- \n",
        "# Define vocabulary size for the language model    \n",
        "# To reduce the size of the vocabulary to the n most frequently used words\n",
        "\n",
        "def default_factory():\n",
        "    return EVOCABSIZE  # last/unknown-word row in limited_index_to_embedding\n",
        "# dictionary has the items() function, returns list of (key, value) tuples\n",
        "limited_word_to_index = defaultdict(default_factory, \\\n",
        "    {k: v for k, v in word_to_index.items() if v < EVOCABSIZE})\n",
        "\n",
        "# Select the first EVOCABSIZE rows to the index_to_embedding\n",
        "limited_index_to_embedding = index_to_embedding[0:EVOCABSIZE,:]\n",
        "# Set the unknown-word row to be all zeros as previously\n",
        "limited_index_to_embedding = np.append(limited_index_to_embedding, \n",
        "    index_to_embedding[index_to_embedding.shape[0] - 1, :].\\\n",
        "        reshape(1,embedding_dim), \n",
        "    axis = 0)\n",
        "\n",
        "# Delete large numpy array to clear some CPU RAM\n",
        "del index_to_embedding\n",
        "\n",
        "# Verify the new vocabulary: should get same embeddings for test sentence\n",
        "# Note that a small EVOCABSIZE may yield some zero vectors for embeddings\n",
        "print('\\nTest sentence embeddings from vocabulary of', EVOCABSIZE, 'words:\\n')\n",
        "for word in words_in_test_sentence:\n",
        "    word_ = word.lower()\n",
        "    embedding = limited_index_to_embedding[limited_word_to_index[word_]]\n",
        "    print(word_ + \": \", embedding)\n",
        "\n",
        "# ------------------------------------------------------------\n",
        "# code for working with movie reviews data \n",
        "# Source: Miller, T. W. (2016). Web and Network Data Science.\n",
        "#    Upper Saddle River, N.J.: Pearson Education.\n",
        "#    ISBN-13: 978-0-13-388644-3\n",
        "# This original study used a simple bag-of-words approach\n",
        "# to sentiment analysis, along with pre-defined lists of\n",
        "# negative and positive words.        \n",
        "# Code available at:  https://github.com/mtpa/wnds       \n",
        "# ------------------------------------------------------------\n",
        "# Utility function to get file names within a directory\n",
        "def listdir_no_hidden(path):\n",
        "    start_list = os.listdir(path)\n",
        "    end_list = []\n",
        "    for file in start_list:\n",
        "        if (not file.startswith('.')):\n",
        "            end_list.append(file)\n",
        "    return(end_list)\n",
        "\n",
        "# define list of codes to be dropped from document\n",
        "# carriage-returns, line-feeds, tabs\n",
        "codelist = ['\\r', '\\n', '\\t']   \n",
        "\n",
        "# We will not remove stopwords in this exercise because they are\n",
        "# important to keeping sentences intact\n",
        "if REMOVE_STOPWORDS:\n",
        "    print(nltk.corpus.stopwords.words('english'))\n",
        "\n",
        "# previous analysis of a list of top terms showed a number of words, along \n",
        "# with contractions and other word strings to drop from further analysis, add\n",
        "# these to the usual English stopwords to be dropped from a document collection\n",
        "    more_stop_words = ['cant','didnt','doesnt','dont','goes','isnt','hes',\\\n",
        "        'shes','thats','theres','theyre','wont','youll','youre','youve', 'br'\\\n",
        "        've', 're', 'vs'] \n",
        "\n",
        "    some_proper_nouns_to_remove = ['dick','ginger','hollywood','jack',\\\n",
        "        'jill','john','karloff','kudrow','orson','peter','tcm','tom',\\\n",
        "        'toni','welles','william','wolheim','nikita']\n",
        "\n",
        "    # start with the initial list and add to it for movie text work \n",
        "    stoplist = nltk.corpus.stopwords.words('english') + more_stop_words +\\\n",
        "        some_proper_nouns_to_remove\n",
        "\n",
        "# text parsing function for creating text documents \n",
        "# there is more we could do for data preparation \n",
        "# stemming... looking for contractions... possessives... \n",
        "# but we will work with what we have in this parsing function\n",
        "# if we want to do stemming at a later time, we can use\n",
        "#     porter = nltk.PorterStemmer()  \n",
        "# in a construction like this\n",
        "#     words_stemmed =  [porter.stem(word) for word in initial_words]  \n",
        "def text_parse(string):\n",
        "    # replace non-alphanumeric with space \n",
        "    temp_string = re.sub('[^a-zA-Z]', '  ', string)    \n",
        "    # replace codes with space\n",
        "    for i in range(len(codelist)):\n",
        "        stopstring = ' ' + codelist[i] + '  '\n",
        "        temp_string = re.sub(stopstring, '  ', temp_string)      \n",
        "    # replace single-character words with space\n",
        "    temp_string = re.sub('\\s.\\s', ' ', temp_string)   \n",
        "    # convert uppercase to lowercase\n",
        "    temp_string = temp_string.lower()    \n",
        "    if REMOVE_STOPWORDS:\n",
        "        # replace selected character strings/stop-words with space\n",
        "        for i in range(len(stoplist)):\n",
        "            stopstring = ' ' + str(stoplist[i]) + ' '\n",
        "            temp_string = re.sub(stopstring, ' ', temp_string)        \n",
        "    # replace multiple blank characters with one blank character\n",
        "    temp_string = re.sub('\\s+', ' ', temp_string)    \n",
        "    return(temp_string)\n",
        "\n",
        "def read_data(filename):\n",
        "\n",
        "  with open(filename) as f:\n",
        "    data = tf.compat.as_str(f.read())\n",
        "    data = data.lower()\n",
        "    data = text_parse(data)\n",
        "    data = TreebankWordTokenizer().tokenize(data)  # The Penn Treebank\n",
        "\n",
        "  return data\n",
        "\n",
        "# -----------------------------------------------\n",
        "# gather data for 500 negative movie reviews\n",
        "# -----------------------------------------------\n",
        "\n",
        "dir_name = \"/content/gdrive/My Drive/MSPA/Predict 422/Week 8/movie-reviews-negative\"\n",
        "#dir_name = '/root/movie-reviews-negative'\n",
        "    \n",
        "filenames = listdir_no_hidden(path=dir_name)\n",
        "num_files = len(filenames)\n",
        "\n",
        "for i in range(len(filenames)):\n",
        "    file_exists = os.path.isfile(os.path.join(dir_name, filenames[i]))\n",
        "    assert file_exists\n",
        "print('\\nDirectory:',dir_name)    \n",
        "print('%d files found' % len(filenames))\n",
        "\n",
        "# Read data for negative movie reviews\n",
        "# Data will be stored in a list of lists where the each list represents \n",
        "# a document and document is a list of words.\n",
        "# We then break the text into words.\n",
        "\n",
        "negative_documents = []\n",
        "\n",
        "print('\\nProcessing document files under', dir_name)\n",
        "for i in range(num_files):\n",
        "    ## print(' ', filenames[i])\n",
        "\n",
        "    words = read_data(os.path.join(dir_name, filenames[i]))\n",
        "\n",
        "    negative_documents.append(words)\n",
        "    # print('Data size (Characters) (Document %d) %d' %(i,len(words)))\n",
        "    # print('Sample string (Document %d) %s'%(i,words[:50]))\n",
        "\n",
        "# -----------------------------------------------\n",
        "# gather data for 500 positive movie reviews\n",
        "# -----------------------------------------------\n",
        "#dir_name = '/root/movie-reviews-positive'\n",
        "dir_name = \"/content/gdrive/My Drive/MSPA/Predict 422/Week 8/movie-reviews-positive\"\n",
        "filenames = listdir_no_hidden(path=dir_name)\n",
        "num_files = len(filenames)\n",
        "\n",
        "for i in range(len(filenames)):\n",
        "    file_exists = os.path.isfile(os.path.join(dir_name, filenames[i]))\n",
        "    assert file_exists\n",
        "print('\\nDirectory:',dir_name)    \n",
        "print('%d files found' % len(filenames))\n",
        "\n",
        "# Read data for positive movie reviews\n",
        "# Data will be stored in a list of lists where the each list \n",
        "# represents a document and document is a list of words.\n",
        "# We then break the text into words.\n",
        "\n",
        "positive_documents = []\n",
        "\n",
        "print('\\nProcessing document files under', dir_name)\n",
        "for i in range(num_files):\n",
        "    ## print(' ', filenames[i])\n",
        "\n",
        "    words = read_data(os.path.join(dir_name, filenames[i]))\n",
        "\n",
        "    positive_documents.append(words)\n",
        "    # print('Data size (Characters) (Document %d) %d' %(i,len(words)))\n",
        "    # print('Sample string (Document %d) %s'%(i,words[:50]))\n",
        "\n",
        "# -----------------------------------------------------\n",
        "# convert positive/negative documents into numpy array\n",
        "# note that reviews vary from 22 to 1052 words   \n",
        "# so we use the first 20 and last 20 words of each review \n",
        "# as our word sequences for analysis\n",
        "# -----------------------------------------------------\n",
        "max_review_length = 0  # initialize\n",
        "for doc in negative_documents:\n",
        "    max_review_length = max(max_review_length, len(doc))    \n",
        "for doc in positive_documents:\n",
        "    max_review_length = max(max_review_length, len(doc)) \n",
        "print('max_review_length:', max_review_length) \n",
        "\n",
        "min_review_length = max_review_length  # initialize\n",
        "for doc in negative_documents:\n",
        "    min_review_length = min(min_review_length, len(doc))    \n",
        "for doc in positive_documents:\n",
        "    min_review_length = min(min_review_length, len(doc)) \n",
        "print('min_review_length:', min_review_length) \n",
        "\n",
        "# construct list of 1000 lists with 40 words in each list\n",
        "from itertools import chain\n",
        "documents = []\n",
        "for doc in negative_documents:\n",
        "    doc_begin = doc[0:20]\n",
        "    doc_end = doc[len(doc) - 20: len(doc)]\n",
        "    documents.append(list(chain(*[doc_begin, doc_end])))    \n",
        "for doc in positive_documents:\n",
        "    doc_begin = doc[0:20]\n",
        "    doc_end = doc[len(doc) - 20: len(doc)]\n",
        "    documents.append(list(chain(*[doc_begin, doc_end])))    \n",
        "\n",
        "# create list of lists of lists for embeddings\n",
        "embeddings = []    \n",
        "for doc in documents:\n",
        "    embedding = []\n",
        "    for word in doc:\n",
        "       embedding.append(limited_index_to_embedding[limited_word_to_index[word]]) \n",
        "    embeddings.append(embedding)\n",
        "\n"
      ],
      "execution_count": 27,
      "outputs": [
        {
          "output_type": "stream",
          "text": [
            "\n",
            "Loading embeddings from embeddings/glove.6B/glove.6B.50d.txt\n",
            "Embedding loaded from disks.\n",
            "Embedding is of shape: (400001, 50)\n",
            "This means (number of words, number of dimensions per word)\n",
            "\n",
            "The first words are words that tend occur more often.\n",
            "Note: for unknown words, the representation is an empty vector,\n",
            "and the index is the last one. The dictionnary has a limit:\n",
            "    A word --> Index in embedding --> Representation\n",
            "    worsdfkljsdf --> 400000 --> [0, 0, 0, 0, 0, 0, 0, 0, 0, 0, 0, 0, 0, 0, 0, 0, 0, 0, 0, 0, 0, 0, 0, 0, 0, 0, 0, 0, 0, 0, 0, 0, 0, 0, 0, 0, 0, 0, 0, 0, 0, 0, 0, 0, 0, 0, 0, 0, 0, 0]\n",
            "    the --> 0 --> [0.418, 0.24968, -0.41242, 0.1217, 0.34527, -0.044457, -0.49688, -0.17862, -0.00066023, -0.6566, 0.27843, -0.14767, -0.55677, 0.14658, -0.0095095, 0.011658, 0.10204, -0.12792, -0.8443, -0.12181, -0.016801, -0.33279, -0.1552, -0.23131, -0.19181, -1.8823, -0.76746, 0.099051, -0.42125, -0.19526, 4.0071, -0.18594, -0.52287, -0.31681, 0.00059213, 0.0074449, 0.17778, -0.15897, 0.012041, -0.054223, -0.29871, -0.15749, -0.34758, -0.045637, -0.44251, 0.18785, 0.0027849, -0.18411, -0.11514, -0.78581]\n",
            "\n",
            "Test sentence:  The quick brown fox jumps over the lazy dog \n",
            "\n",
            "Test sentence embeddings from complete vocabulary of 400000 words:\n",
            "\n",
            "the:  [ 4.1800e-01  2.4968e-01 -4.1242e-01  1.2170e-01  3.4527e-01 -4.4457e-02\n",
            " -4.9688e-01 -1.7862e-01 -6.6023e-04 -6.5660e-01  2.7843e-01 -1.4767e-01\n",
            " -5.5677e-01  1.4658e-01 -9.5095e-03  1.1658e-02  1.0204e-01 -1.2792e-01\n",
            " -8.4430e-01 -1.2181e-01 -1.6801e-02 -3.3279e-01 -1.5520e-01 -2.3131e-01\n",
            " -1.9181e-01 -1.8823e+00 -7.6746e-01  9.9051e-02 -4.2125e-01 -1.9526e-01\n",
            "  4.0071e+00 -1.8594e-01 -5.2287e-01 -3.1681e-01  5.9213e-04  7.4449e-03\n",
            "  1.7778e-01 -1.5897e-01  1.2041e-02 -5.4223e-02 -2.9871e-01 -1.5749e-01\n",
            " -3.4758e-01 -4.5637e-02 -4.4251e-01  1.8785e-01  2.7849e-03 -1.8411e-01\n",
            " -1.1514e-01 -7.8581e-01]\n",
            "quick:  [ 0.13967   -0.53798   -0.18047   -0.25142    0.16203   -0.13868\n",
            " -0.24637    0.75111    0.27264    0.61035   -0.82548    0.038647\n",
            " -0.32361    0.30373   -0.14598   -0.23551    0.39267   -1.1287\n",
            " -0.23636   -1.0629     0.046277   0.29143   -0.25819   -0.094902\n",
            "  0.79478   -1.2095    -0.01039   -0.092086   0.84322   -0.11061\n",
            "  3.0096     0.51652   -0.76986    0.51074    0.37508    0.12156\n",
            "  0.082794   0.43605   -0.1584    -0.61048    0.35006    0.52465\n",
            " -0.51747    0.0034705  0.73625    0.16252    0.85279    0.85268\n",
            "  0.57892    0.64483  ]\n",
            "brown:  [-0.88497   0.71685  -0.40379  -0.10698   0.81457   1.0258   -1.2698\n",
            " -0.49382  -0.27839  -0.92251  -0.49409   0.78942  -0.20066  -0.057371\n",
            "  0.060682  0.30746   0.13441  -0.49376  -0.54788  -0.81912  -0.45394\n",
            "  0.52098   1.0325   -0.8584   -0.65848  -1.2736    0.23616   1.0486\n",
            "  0.18442  -0.3901    2.1385   -0.45301  -0.16911  -0.46737   0.15938\n",
            " -0.095071 -0.26512  -0.056479  0.63849  -1.0494    0.037507  0.76434\n",
            " -0.6412   -0.59594   0.46589   0.31494  -0.34072  -0.59167  -0.31057\n",
            "  0.73274 ]\n",
            "fox:  [ 0.44206   0.059552  0.15861   0.92777   0.1876    0.24256  -1.593\n",
            " -0.79847  -0.34099  -0.24021  -0.32756   0.43639  -0.11057   0.50472\n",
            "  0.43853   0.19738  -0.1498   -0.046979 -0.83286   0.39878   0.062174\n",
            "  0.28803   0.79134   0.31798  -0.21933  -1.1015   -0.080309  0.39122\n",
            "  0.19503  -0.5936    1.7921    0.3826   -0.30509  -0.58686  -0.76935\n",
            " -0.61914  -0.61771  -0.68484  -0.67919  -0.74626  -0.036646  0.78251\n",
            " -1.0072   -0.59057  -0.7849   -0.39113  -0.49727  -0.4283   -0.15204\n",
            "  1.5064  ]\n",
            "jumps:  [-0.46105   -0.34219    0.71473   -0.29778    0.28839    0.6248\n",
            "  0.36807   -0.072746   0.60476    0.31463   -0.052247  -0.62302\n",
            " -0.56332    0.7855     0.18116   -0.31698    0.38298   -0.081953\n",
            " -1.3658    -0.78263    0.39804   -0.17001   -0.11926   -0.40146\n",
            "  1.1057    -0.51142   -0.36614    0.22177    0.34626   -0.30648\n",
            "  1.3869     0.77328    0.5946     1.2577     0.23472   -0.46087\n",
            " -0.009223   0.44534    0.012732  -0.24749   -0.7142     0.02422\n",
            "  0.083527   0.25088   -0.24259   -1.354      1.5481    -0.31728\n",
            "  0.55305   -0.0028062]\n",
            "over:  [ 0.12972    0.088073   0.24375    0.078102  -0.12783    0.27831\n",
            " -0.48693    0.19649   -0.39558   -0.28362   -0.47425   -0.59317\n",
            " -0.58804   -0.31702    0.49593    0.0087594  0.039613  -0.42495\n",
            " -0.97641   -0.46534    0.020675   0.086042   0.39317   -0.51255\n",
            " -0.17913   -1.8333     0.5622     0.41626    0.075127   0.02189\n",
            "  3.784      0.71067   -0.073943   0.15373   -0.3853    -0.070163\n",
            " -0.35374    0.074501  -0.084228  -0.45548   -0.081068   0.39157\n",
            "  0.173      0.2254    -0.12836    0.40951   -0.26079    0.090912\n",
            " -0.60515   -0.9827   ]\n",
            "the:  [ 4.1800e-01  2.4968e-01 -4.1242e-01  1.2170e-01  3.4527e-01 -4.4457e-02\n",
            " -4.9688e-01 -1.7862e-01 -6.6023e-04 -6.5660e-01  2.7843e-01 -1.4767e-01\n",
            " -5.5677e-01  1.4658e-01 -9.5095e-03  1.1658e-02  1.0204e-01 -1.2792e-01\n",
            " -8.4430e-01 -1.2181e-01 -1.6801e-02 -3.3279e-01 -1.5520e-01 -2.3131e-01\n",
            " -1.9181e-01 -1.8823e+00 -7.6746e-01  9.9051e-02 -4.2125e-01 -1.9526e-01\n",
            "  4.0071e+00 -1.8594e-01 -5.2287e-01 -3.1681e-01  5.9213e-04  7.4449e-03\n",
            "  1.7778e-01 -1.5897e-01  1.2041e-02 -5.4223e-02 -2.9871e-01 -1.5749e-01\n",
            " -3.4758e-01 -4.5637e-02 -4.4251e-01  1.8785e-01  2.7849e-03 -1.8411e-01\n",
            " -1.1514e-01 -7.8581e-01]\n",
            "lazy:  [-0.27611  -0.59712  -0.49227  -1.0372   -0.35878  -0.097425 -0.21014\n",
            " -0.092836 -0.054118  0.4542   -0.53296   0.37602   0.77087   0.79669\n",
            " -0.076608 -0.42515   0.42576   0.32791  -0.21996  -0.20261  -0.85139\n",
            "  0.80547   0.97621   0.9792    1.1118   -0.36062  -0.2588    0.8596\n",
            "  0.73631  -0.18601   1.2376   -0.038938  0.19246   0.52473  -0.04842\n",
            " -0.044149  0.064432  0.087822  0.42232  -0.55991  -0.44096   0.097736\n",
            " -0.17589   1.1799    0.13152  -1.0795    0.45685  -0.63312   1.2752\n",
            "  1.1672  ]\n",
            "dog:  [ 0.11008   -0.38781   -0.57615   -0.27714    0.70521    0.53994\n",
            " -1.0786    -0.40146    1.1504    -0.5678     0.0038977  0.52878\n",
            "  0.64561    0.47262    0.48549   -0.18407    0.1801     0.91397\n",
            " -1.1979    -0.5778    -0.37985    0.33606    0.772      0.75555\n",
            "  0.45506   -1.7671    -1.0503     0.42566    0.41893   -0.68327\n",
            "  1.5673     0.27685   -0.61708    0.64638   -0.076996   0.37118\n",
            "  0.1308    -0.45137    0.25398   -0.74392   -0.086199   0.24068\n",
            " -0.64819    0.83549    1.2502    -0.51379    0.04224   -0.88118\n",
            "  0.7158     0.38519  ]\n",
            "\n",
            "Test sentence embeddings from vocabulary of 400000 words:\n",
            "\n",
            "the:  [ 4.1800e-01  2.4968e-01 -4.1242e-01  1.2170e-01  3.4527e-01 -4.4457e-02\n",
            " -4.9688e-01 -1.7862e-01 -6.6023e-04 -6.5660e-01  2.7843e-01 -1.4767e-01\n",
            " -5.5677e-01  1.4658e-01 -9.5095e-03  1.1658e-02  1.0204e-01 -1.2792e-01\n",
            " -8.4430e-01 -1.2181e-01 -1.6801e-02 -3.3279e-01 -1.5520e-01 -2.3131e-01\n",
            " -1.9181e-01 -1.8823e+00 -7.6746e-01  9.9051e-02 -4.2125e-01 -1.9526e-01\n",
            "  4.0071e+00 -1.8594e-01 -5.2287e-01 -3.1681e-01  5.9213e-04  7.4449e-03\n",
            "  1.7778e-01 -1.5897e-01  1.2041e-02 -5.4223e-02 -2.9871e-01 -1.5749e-01\n",
            " -3.4758e-01 -4.5637e-02 -4.4251e-01  1.8785e-01  2.7849e-03 -1.8411e-01\n",
            " -1.1514e-01 -7.8581e-01]\n",
            "quick:  [ 0.13967   -0.53798   -0.18047   -0.25142    0.16203   -0.13868\n",
            " -0.24637    0.75111    0.27264    0.61035   -0.82548    0.038647\n",
            " -0.32361    0.30373   -0.14598   -0.23551    0.39267   -1.1287\n",
            " -0.23636   -1.0629     0.046277   0.29143   -0.25819   -0.094902\n",
            "  0.79478   -1.2095    -0.01039   -0.092086   0.84322   -0.11061\n",
            "  3.0096     0.51652   -0.76986    0.51074    0.37508    0.12156\n",
            "  0.082794   0.43605   -0.1584    -0.61048    0.35006    0.52465\n",
            " -0.51747    0.0034705  0.73625    0.16252    0.85279    0.85268\n",
            "  0.57892    0.64483  ]\n",
            "brown:  [-0.88497   0.71685  -0.40379  -0.10698   0.81457   1.0258   -1.2698\n",
            " -0.49382  -0.27839  -0.92251  -0.49409   0.78942  -0.20066  -0.057371\n",
            "  0.060682  0.30746   0.13441  -0.49376  -0.54788  -0.81912  -0.45394\n",
            "  0.52098   1.0325   -0.8584   -0.65848  -1.2736    0.23616   1.0486\n",
            "  0.18442  -0.3901    2.1385   -0.45301  -0.16911  -0.46737   0.15938\n",
            " -0.095071 -0.26512  -0.056479  0.63849  -1.0494    0.037507  0.76434\n",
            " -0.6412   -0.59594   0.46589   0.31494  -0.34072  -0.59167  -0.31057\n",
            "  0.73274 ]\n",
            "fox:  [ 0.44206   0.059552  0.15861   0.92777   0.1876    0.24256  -1.593\n",
            " -0.79847  -0.34099  -0.24021  -0.32756   0.43639  -0.11057   0.50472\n",
            "  0.43853   0.19738  -0.1498   -0.046979 -0.83286   0.39878   0.062174\n",
            "  0.28803   0.79134   0.31798  -0.21933  -1.1015   -0.080309  0.39122\n",
            "  0.19503  -0.5936    1.7921    0.3826   -0.30509  -0.58686  -0.76935\n",
            " -0.61914  -0.61771  -0.68484  -0.67919  -0.74626  -0.036646  0.78251\n",
            " -1.0072   -0.59057  -0.7849   -0.39113  -0.49727  -0.4283   -0.15204\n",
            "  1.5064  ]\n",
            "jumps:  [-0.46105   -0.34219    0.71473   -0.29778    0.28839    0.6248\n",
            "  0.36807   -0.072746   0.60476    0.31463   -0.052247  -0.62302\n",
            " -0.56332    0.7855     0.18116   -0.31698    0.38298   -0.081953\n",
            " -1.3658    -0.78263    0.39804   -0.17001   -0.11926   -0.40146\n",
            "  1.1057    -0.51142   -0.36614    0.22177    0.34626   -0.30648\n",
            "  1.3869     0.77328    0.5946     1.2577     0.23472   -0.46087\n",
            " -0.009223   0.44534    0.012732  -0.24749   -0.7142     0.02422\n",
            "  0.083527   0.25088   -0.24259   -1.354      1.5481    -0.31728\n",
            "  0.55305   -0.0028062]\n",
            "over:  [ 0.12972    0.088073   0.24375    0.078102  -0.12783    0.27831\n",
            " -0.48693    0.19649   -0.39558   -0.28362   -0.47425   -0.59317\n",
            " -0.58804   -0.31702    0.49593    0.0087594  0.039613  -0.42495\n",
            " -0.97641   -0.46534    0.020675   0.086042   0.39317   -0.51255\n",
            " -0.17913   -1.8333     0.5622     0.41626    0.075127   0.02189\n",
            "  3.784      0.71067   -0.073943   0.15373   -0.3853    -0.070163\n",
            " -0.35374    0.074501  -0.084228  -0.45548   -0.081068   0.39157\n",
            "  0.173      0.2254    -0.12836    0.40951   -0.26079    0.090912\n",
            " -0.60515   -0.9827   ]\n",
            "the:  [ 4.1800e-01  2.4968e-01 -4.1242e-01  1.2170e-01  3.4527e-01 -4.4457e-02\n",
            " -4.9688e-01 -1.7862e-01 -6.6023e-04 -6.5660e-01  2.7843e-01 -1.4767e-01\n",
            " -5.5677e-01  1.4658e-01 -9.5095e-03  1.1658e-02  1.0204e-01 -1.2792e-01\n",
            " -8.4430e-01 -1.2181e-01 -1.6801e-02 -3.3279e-01 -1.5520e-01 -2.3131e-01\n",
            " -1.9181e-01 -1.8823e+00 -7.6746e-01  9.9051e-02 -4.2125e-01 -1.9526e-01\n",
            "  4.0071e+00 -1.8594e-01 -5.2287e-01 -3.1681e-01  5.9213e-04  7.4449e-03\n",
            "  1.7778e-01 -1.5897e-01  1.2041e-02 -5.4223e-02 -2.9871e-01 -1.5749e-01\n",
            " -3.4758e-01 -4.5637e-02 -4.4251e-01  1.8785e-01  2.7849e-03 -1.8411e-01\n",
            " -1.1514e-01 -7.8581e-01]\n",
            "lazy:  [-0.27611  -0.59712  -0.49227  -1.0372   -0.35878  -0.097425 -0.21014\n",
            " -0.092836 -0.054118  0.4542   -0.53296   0.37602   0.77087   0.79669\n",
            " -0.076608 -0.42515   0.42576   0.32791  -0.21996  -0.20261  -0.85139\n",
            "  0.80547   0.97621   0.9792    1.1118   -0.36062  -0.2588    0.8596\n",
            "  0.73631  -0.18601   1.2376   -0.038938  0.19246   0.52473  -0.04842\n",
            " -0.044149  0.064432  0.087822  0.42232  -0.55991  -0.44096   0.097736\n",
            " -0.17589   1.1799    0.13152  -1.0795    0.45685  -0.63312   1.2752\n",
            "  1.1672  ]\n",
            "dog:  [ 0.11008   -0.38781   -0.57615   -0.27714    0.70521    0.53994\n",
            " -1.0786    -0.40146    1.1504    -0.5678     0.0038977  0.52878\n",
            "  0.64561    0.47262    0.48549   -0.18407    0.1801     0.91397\n",
            " -1.1979    -0.5778    -0.37985    0.33606    0.772      0.75555\n",
            "  0.45506   -1.7671    -1.0503     0.42566    0.41893   -0.68327\n",
            "  1.5673     0.27685   -0.61708    0.64638   -0.076996   0.37118\n",
            "  0.1308    -0.45137    0.25398   -0.74392   -0.086199   0.24068\n",
            " -0.64819    0.83549    1.2502    -0.51379    0.04224   -0.88118\n",
            "  0.7158     0.38519  ]\n",
            "\n",
            "Directory: /content/gdrive/My Drive/MSPA/Predict 422/Week 8/movie-reviews-negative\n",
            "500 files found\n",
            "\n",
            "Processing document files under /content/gdrive/My Drive/MSPA/Predict 422/Week 8/movie-reviews-negative\n",
            "\n",
            "Directory: /content/gdrive/My Drive/MSPA/Predict 422/Week 8/movie-reviews-positive\n",
            "500 files found\n",
            "\n",
            "Processing document files under /content/gdrive/My Drive/MSPA/Predict 422/Week 8/movie-reviews-positive\n",
            "max_review_length: 1052\n",
            "min_review_length: 22\n"
          ],
          "name": "stdout"
        }
      ]
    },
    {
      "metadata": {
        "id": "ZGkQ_mBTLOc9",
        "colab_type": "text"
      },
      "cell_type": "markdown",
      "source": [
        "### Test Words"
      ]
    },
    {
      "metadata": {
        "id": "u1vXmKGVLVc4",
        "colab_type": "code",
        "outputId": "339ded59-665b-4289-ec68-dd75a24835e7",
        "colab": {
          "base_uri": "https://localhost:8080/",
          "height": 34
        }
      },
      "cell_type": "code",
      "source": [
        "documents[0][0]"
      ],
      "execution_count": 43,
      "outputs": [
        {
          "output_type": "execute_result",
          "data": {
            "text/plain": [
              "'story'"
            ]
          },
          "metadata": {
            "tags": []
          },
          "execution_count": 43
        }
      ]
    },
    {
      "metadata": {
        "id": "veOxizZoLNcy",
        "colab_type": "code",
        "outputId": "a28ae86a-3dd6-4e64-bfb4-a5e644f6ec37",
        "colab": {
          "base_uri": "https://localhost:8080/",
          "height": 1089
        }
      },
      "cell_type": "code",
      "source": [
        "# -----------------------------------------------------    \n",
        "# Check on the embeddings list of list of lists \n",
        "# -----------------------------------------------------\n",
        "# Show the first word in the first document\n",
        "test_word = documents[0][0]    \n",
        "print('First word in first document:', test_word)    \n",
        "print('Embedding for this word:\\n', \n",
        "      limited_index_to_embedding[limited_word_to_index[test_word]])\n",
        "print('Corresponding embedding from embeddings list of list of lists\\n',\n",
        "      embeddings[0][0][:])\n",
        "\n",
        "# Show the seventh word in the tenth document\n",
        "test_word = documents[6][9]    \n",
        "print('First word in first document:', test_word)    \n",
        "print('Embedding for this word:\\n', \n",
        "      limited_index_to_embedding[limited_word_to_index[test_word]])\n",
        "print('Corresponding embedding from embeddings list of list of lists\\n',\n",
        "      embeddings[6][9][:])\n",
        "\n",
        "# Show the last word in the last document\n",
        "test_word = documents[999][39]    \n",
        "print('First word in first document:', test_word)    \n",
        "print('Embedding for this word:\\n', \n",
        "      limited_index_to_embedding[limited_word_to_index[test_word]])\n",
        "print('Corresponding embedding from embeddings list of list of lists\\n',\n",
        "      embeddings[999][39][:])        \n",
        "\n",
        "# -----------------------------------------------------    \n",
        "# Make embeddings a numpy array for use in an RNN \n",
        "# Create training and test sets with Scikit Learn\n",
        "# -----------------------------------------------------\n",
        "embeddings_array = np.array(embeddings)\n",
        "\n",
        "# Define the labels to be used 500 negative (0) and 500 positive (1)\n",
        "thumbs_down_up = np.concatenate((np.zeros((500), dtype = np.int32), \n",
        "                      np.ones((500), dtype = np.int32)), axis = 0)\n",
        "\n",
        "# Scikit Learn for random splitting of the data  \n",
        "from sklearn.model_selection import train_test_split\n",
        "\n",
        "# Random splitting of the data in to training (80%) and test (20%)  \n",
        "X_train, X_test, y_train, y_test = \\\n",
        "    train_test_split(embeddings_array, thumbs_down_up, test_size=0.20, \n",
        "                     random_state = RANDOM_SEED)"
      ],
      "execution_count": 44,
      "outputs": [
        {
          "output_type": "stream",
          "text": [
            "First word in first document: story\n",
            "Embedding for this word:\n",
            " [ 0.48251    0.87746   -0.23455    0.0262     0.79691    0.43102\n",
            " -0.60902   -0.60764   -0.42812   -0.012523  -1.2894     0.52656\n",
            " -0.82763    0.30689    1.1972    -0.47674   -0.46885   -0.19524\n",
            " -0.28403    0.35237    0.45536    0.76853    0.0062157  0.55421\n",
            "  1.0006    -1.3973    -1.6894     0.30003    0.60678   -0.46044\n",
            "  2.5961    -1.2178     0.28747   -0.46175   -0.25943    0.38209\n",
            " -0.28312   -0.47642   -0.059444  -0.59202    0.25613    0.21306\n",
            " -0.016129  -0.29873   -0.19468    0.53611    0.75459   -0.4112\n",
            "  0.23625    0.26451  ]\n",
            "Corresponding embedding from embeddings list of list of lists\n",
            " [ 0.48251    0.87746   -0.23455    0.0262     0.79691    0.43102\n",
            " -0.60902   -0.60764   -0.42812   -0.012523  -1.2894     0.52656\n",
            " -0.82763    0.30689    1.1972    -0.47674   -0.46885   -0.19524\n",
            " -0.28403    0.35237    0.45536    0.76853    0.0062157  0.55421\n",
            "  1.0006    -1.3973    -1.6894     0.30003    0.60678   -0.46044\n",
            "  2.5961    -1.2178     0.28747   -0.46175   -0.25943    0.38209\n",
            " -0.28312   -0.47642   -0.059444  -0.59202    0.25613    0.21306\n",
            " -0.016129  -0.29873   -0.19468    0.53611    0.75459   -0.4112\n",
            "  0.23625    0.26451  ]\n",
            "First word in first document: us\n",
            "Embedding for this word:\n",
            " [ 0.19086    0.24339    1.2768    -0.038207   0.6094    -0.70188\n",
            "  0.040862  -0.44903    0.0080416 -0.18819   -0.68578   -0.12465\n",
            " -0.32855   -0.073507   0.79112    0.31981    0.081126  -0.033057\n",
            " -0.6007     0.014536   0.42773    0.71318    0.13327   -0.64247\n",
            "  0.066402  -2.2346     0.013668  -0.45647    0.40542   -0.0042052\n",
            "  3.4561     0.54602   -0.3789     0.58198   -0.22852   -0.8409\n",
            " -0.30465   -0.69669   -0.4232    -0.81757    0.036113   0.25739\n",
            "  1.745     -0.61482    0.41547    0.40002   -0.51528    0.89973\n",
            " -0.54324    0.69393  ]\n",
            "Corresponding embedding from embeddings list of list of lists\n",
            " [ 0.19086    0.24339    1.2768    -0.038207   0.6094    -0.70188\n",
            "  0.040862  -0.44903    0.0080416 -0.18819   -0.68578   -0.12465\n",
            " -0.32855   -0.073507   0.79112    0.31981    0.081126  -0.033057\n",
            " -0.6007     0.014536   0.42773    0.71318    0.13327   -0.64247\n",
            "  0.066402  -2.2346     0.013668  -0.45647    0.40542   -0.0042052\n",
            "  3.4561     0.54602   -0.3789     0.58198   -0.22852   -0.8409\n",
            " -0.30465   -0.69669   -0.4232    -0.81757    0.036113   0.25739\n",
            "  1.745     -0.61482    0.41547    0.40002   -0.51528    0.89973\n",
            " -0.54324    0.69393  ]\n",
            "First word in first document: close\n",
            "Embedding for this word:\n",
            " [ 0.39621   0.15996   0.46712   0.18459   1.1826   -0.29844  -0.44587\n",
            "  0.13879  -0.79038  -0.21838  -0.33809  -0.68331  -0.37921  -0.11752\n",
            "  0.042039  0.48018  -0.012653 -0.45736  -0.77084  -0.047438  0.31252\n",
            "  0.5868    0.11256  -0.25544   0.13935  -1.3885    0.66674   0.28422\n",
            "  0.14652   0.21721   3.2838   -0.064245  0.087545  0.059236  0.18729\n",
            " -0.7151   -0.45676   0.42607  -0.075389 -0.21992  -0.12417   0.12843\n",
            "  0.33174   0.089882 -0.15063  -0.08294  -0.066774 -0.19275   0.24453\n",
            " -0.28937 ]\n",
            "Corresponding embedding from embeddings list of list of lists\n",
            " [ 0.39621   0.15996   0.46712   0.18459   1.1826   -0.29844  -0.44587\n",
            "  0.13879  -0.79038  -0.21838  -0.33809  -0.68331  -0.37921  -0.11752\n",
            "  0.042039  0.48018  -0.012653 -0.45736  -0.77084  -0.047438  0.31252\n",
            "  0.5868    0.11256  -0.25544   0.13935  -1.3885    0.66674   0.28422\n",
            "  0.14652   0.21721   3.2838   -0.064245  0.087545  0.059236  0.18729\n",
            " -0.7151   -0.45676   0.42607  -0.075389 -0.21992  -0.12417   0.12843\n",
            "  0.33174   0.089882 -0.15063  -0.08294  -0.066774 -0.19275   0.24453\n",
            " -0.28937 ]\n"
          ],
          "name": "stdout"
        }
      ]
    },
    {
      "metadata": {
        "id": "waSJTWCdce0c",
        "colab_type": "code",
        "colab": {
          "base_uri": "https://localhost:8080/",
          "height": 193
        },
        "outputId": "f7c9be9c-32d3-44e3-863e-31ca52ba626a"
      },
      "cell_type": "code",
      "source": [
        "X_train[0][0]"
      ],
      "execution_count": 49,
      "outputs": [
        {
          "output_type": "execute_result",
          "data": {
            "text/plain": [
              "array([ 0.49861  , -0.12284  ,  0.44772  , -0.082727 ,  0.78117  ,\n",
              "        0.12032  , -0.044677 ,  0.47959  , -0.24538  ,  0.07315  ,\n",
              "        0.13542  ,  0.47475  , -0.45838  , -0.125    ,  1.2397   ,\n",
              "        1.1176   ,  0.52392  , -0.25142  ,  0.094939 , -0.87224  ,\n",
              "       -0.45383  , -0.0098866,  0.46122  ,  0.23339  ,  0.3067   ,\n",
              "       -2.4232   , -0.21251  ,  0.37548  ,  0.92848  , -0.47064  ,\n",
              "        3.6259   ,  0.3914   , -0.94158  , -0.31952  , -0.12849  ,\n",
              "       -0.47342  ,  0.41335  ,  0.041173 ,  0.30079  , -0.61249  ,\n",
              "       -0.23717  ,  0.24716  , -0.0447   ,  0.62406  , -0.27345  ,\n",
              "        0.0087021, -0.22906  ,  0.26395  , -0.062214 ,  0.6292   ])"
            ]
          },
          "metadata": {
            "tags": []
          },
          "execution_count": 49
        }
      ]
    },
    {
      "metadata": {
        "id": "w5VbsDYLcnJX",
        "colab_type": "code",
        "colab": {
          "base_uri": "https://localhost:8080/",
          "height": 34
        },
        "outputId": "a35482c9-4932-4af5-8e21-86b1f4e1e287"
      },
      "cell_type": "code",
      "source": [
        "y_train[0]"
      ],
      "execution_count": 52,
      "outputs": [
        {
          "output_type": "execute_result",
          "data": {
            "text/plain": [
              "0"
            ]
          },
          "metadata": {
            "tags": []
          },
          "execution_count": 52
        }
      ]
    },
    {
      "metadata": {
        "id": "3t1L94u8o2n_",
        "colab_type": "text"
      },
      "cell_type": "markdown",
      "source": [
        "# MODEL 1"
      ]
    },
    {
      "metadata": {
        "id": "gS6AkC6tekvr",
        "colab_type": "code",
        "colab": {}
      },
      "cell_type": "code",
      "source": [
        "reset_graph()\n",
        "\n",
        "n_steps = 50\n",
        "n_inputs = 40\n",
        "n_neurons = 150\n",
        "n_outputs = 2\n",
        "\n",
        "learning_rate = 0.001\n",
        "\n",
        "X = tf.placeholder(tf.float32, [None, n_steps, n_inputs])\n",
        "X_reshaped = tf.reshape(X, shape=(-1, n_steps, n_inputs))\n",
        "y = tf.placeholder(tf.int32, [None])\n",
        "\n",
        "basic_cell = tf.contrib.rnn.BasicRNNCell(num_units=n_neurons)\n",
        "outputs, states = tf.nn.dynamic_rnn(basic_cell, X, dtype=tf.float32)\n",
        "\n",
        "logits = tf.layers.dense(states, n_outputs)\n",
        "xentropy = tf.nn.sparse_softmax_cross_entropy_with_logits(labels=y,\n",
        "                                                          logits=logits)\n",
        "loss = tf.reduce_mean(xentropy)\n",
        "optimizer = tf.train.AdamOptimizer(learning_rate=learning_rate)\n",
        "training_op = optimizer.minimize(loss)\n",
        "correct = tf.nn.in_top_k(logits, y, 1)\n",
        "accuracy = tf.reduce_mean(tf.cast(correct, tf.float32))\n",
        "\n",
        "init = tf.global_variables_initializer()"
      ],
      "execution_count": 0,
      "outputs": []
    },
    {
      "metadata": {
        "id": "qyLiFq0DgwQC",
        "colab_type": "code",
        "colab": {
          "base_uri": "https://localhost:8080/",
          "height": 298
        },
        "outputId": "3aefb905-b592-49a0-a3d9-dbc9cc49b52e"
      },
      "cell_type": "code",
      "source": [
        "n_epochs = 16\n",
        "batch_size = 50\n",
        "X_test = X_test.reshape((-1, n_steps, n_inputs))\n",
        "\n",
        "with tf.Session() as sess:\n",
        "    init.run()\n",
        "    for epoch in range(n_epochs):\n",
        "        i=0\n",
        "        for iteration in range(len(X_train) // batch_size):\n",
        "            X_batch, y_batch = X_train[i:(i+50):1], y_train[i:(i+50):1]\n",
        "            X_batch = X_batch.reshape((-1, n_steps, n_inputs))\n",
        "            sess.run(training_op, feed_dict={X: X_batch, y: y_batch})\n",
        "            i=i+50\n",
        "        acc_train = accuracy.eval(feed_dict={X: X_batch, y: y_batch})\n",
        "        acc_test = accuracy.eval(feed_dict={X: X_test, y: y_test})\n",
        "        print(epoch, \"Train accuracy:\", acc_train, \"Test accuracy:\", acc_test)"
      ],
      "execution_count": 75,
      "outputs": [
        {
          "output_type": "stream",
          "text": [
            "0 Train accuracy: 0.58 Test accuracy: 0.605\n",
            "1 Train accuracy: 0.64 Test accuracy: 0.615\n",
            "2 Train accuracy: 0.58 Test accuracy: 0.57\n",
            "3 Train accuracy: 0.56 Test accuracy: 0.58\n",
            "4 Train accuracy: 0.58 Test accuracy: 0.57\n",
            "5 Train accuracy: 0.66 Test accuracy: 0.57\n",
            "6 Train accuracy: 0.72 Test accuracy: 0.61\n",
            "7 Train accuracy: 0.92 Test accuracy: 0.585\n",
            "8 Train accuracy: 0.92 Test accuracy: 0.59\n",
            "9 Train accuracy: 0.92 Test accuracy: 0.585\n",
            "10 Train accuracy: 0.9 Test accuracy: 0.61\n",
            "11 Train accuracy: 1.0 Test accuracy: 0.59\n",
            "12 Train accuracy: 0.96 Test accuracy: 0.59\n",
            "13 Train accuracy: 0.98 Test accuracy: 0.585\n",
            "14 Train accuracy: 1.0 Test accuracy: 0.595\n",
            "15 Train accuracy: 0.98 Test accuracy: 0.63\n"
          ],
          "name": "stdout"
        }
      ]
    },
    {
      "metadata": {
        "id": "ldDsCoP9hzOI",
        "colab_type": "code",
        "colab": {
          "base_uri": "https://localhost:8080/",
          "height": 34
        },
        "outputId": "fc8d3e43-02be-41eb-c25a-3aafcc9a791b"
      },
      "cell_type": "code",
      "source": [
        "len(X_train)"
      ],
      "execution_count": 55,
      "outputs": [
        {
          "output_type": "execute_result",
          "data": {
            "text/plain": [
              "800"
            ]
          },
          "metadata": {
            "tags": []
          },
          "execution_count": 55
        }
      ]
    }
  ]
}