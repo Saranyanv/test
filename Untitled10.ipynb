{
  "nbformat": 4,
  "nbformat_minor": 0,
  "metadata": {
    "colab": {
      "name": "Untitled10.ipynb",
      "version": "0.3.2",
      "provenance": []
    },
    "kernelspec": {
      "display_name": "Python 3",
      "language": "python",
      "name": "python3"
    }
  },
  "cells": [
    {
      "metadata": {
        "id": "r3tJBA_j4x9U",
        "colab_type": "code",
        "colab": {}
      },
      "cell_type": "code",
      "source": [
        "# Common imports\n",
        "import numpy as np\n",
        "import os\n",
        "\n",
        "# to make this notebook's output stable across runs\n",
        "np.random.seed(42)\n",
        "\n",
        "# To plot pretty figures\n",
        "%matplotlib inline\n",
        "import matplotlib\n",
        "import matplotlib.pyplot as plt"
      ],
      "execution_count": 0,
      "outputs": []
    },
    {
      "metadata": {
        "id": "g-NADH8W4x9j",
        "colab_type": "code",
        "colab": {}
      },
      "cell_type": "code",
      "source": [
        "from sklearn.datasets import fetch_mldata\n",
        "#mnist = fetch_mldata('MNIST original')\n",
        "#mnist"
      ],
      "execution_count": 0,
      "outputs": []
    },
    {
      "metadata": {
        "id": "mK2ZjMK566aO",
        "colab_type": "code",
        "colab": {}
      },
      "cell_type": "code",
      "source": [
        "from six.moves import urllib\n",
        "from sklearn.datasets import fetch_mldata\n",
        "\n",
        "from scipy.io import loadmat\n",
        "mnist_alternative_url = \"https://github.com/amplab/datascience-sp14/raw/master/lab7/mldata/mnist-original.mat\"\n",
        "mnist_path = \"./mnist-original.mat\"\n",
        "response = urllib.request.urlopen(mnist_alternative_url)\n",
        "with open(mnist_path, \"wb\") as f:\n",
        "  content = response.read()\n",
        "  f.write(content)\n",
        "mnist_raw = loadmat(mnist_path)\n",
        "mnist = {\n",
        "\"data\": mnist_raw[\"data\"].T,\n",
        "\"target\": mnist_raw[\"label\"][0],\n",
        "\"COL_NAMES\": [\"label\", \"data\"],\n",
        "\"DESCR\": \"mldata.org dataset: mnist-original\",\n",
        "}"
      ],
      "execution_count": 0,
      "outputs": []
    },
    {
      "metadata": {
        "id": "avOC0g_t4x9z",
        "colab_type": "code",
        "colab": {
          "base_uri": "https://localhost:8080/",
          "height": 34
        },
        "outputId": "5bd3ce22-1b2e-49cd-ec3a-2065a3c2c09b"
      },
      "cell_type": "code",
      "source": [
        "X, y = mnist[\"data\"], mnist[\"target\"]\n",
        "X.shape"
      ],
      "execution_count": 14,
      "outputs": [
        {
          "output_type": "execute_result",
          "data": {
            "text/plain": [
              "(70000, 784)"
            ]
          },
          "metadata": {
            "tags": []
          },
          "execution_count": 14
        }
      ]
    },
    {
      "metadata": {
        "id": "Tc68ctJn4x9z",
        "colab_type": "code",
        "colab": {
          "base_uri": "https://localhost:8080/",
          "height": 265
        },
        "outputId": "a84da51b-a4b7-4429-d4a9-4836ecac9791"
      },
      "cell_type": "code",
      "source": [
        "%matplotlib inline\n",
        "import matplotlib\n",
        "import matplotlib.pyplot as plt\n",
        "\n",
        "some_digit = X[36000]\n",
        "some_digit_image = some_digit.reshape(28, 28)\n",
        "plt.imshow(some_digit_image, cmap = matplotlib.cm.binary,\n",
        "           interpolation=\"nearest\")\n",
        "plt.axis(\"off\")\n",
        "\n",
        "plt.show()"
      ],
      "execution_count": 15,
      "outputs": [
        {
          "output_type": "display_data",
          "data": {
            "image/png": "[encoded data removed]",
            "text/plain": [
              "<matplotlib.figure.Figure at 0x7f9a811e8358>"
            ]
          },
          "metadata": {
            "tags": []
          }
        }
      ]
    },
    {
      "metadata": {
        "id": "DvRQ-ISI4x9z",
        "colab_type": "code",
        "colab": {}
      },
      "cell_type": "code",
      "source": [
        "def plot_digit(data):\n",
        "    image = data.reshape(28, 28)\n",
        "    plt.imshow(image, cmap = matplotlib.cm.binary,\n",
        "               interpolation=\"nearest\")\n",
        "    plt.axis(\"off\")"
      ],
      "execution_count": 0,
      "outputs": []
    },
    {
      "metadata": {
        "id": "sSQidvoK4x-C",
        "colab_type": "code",
        "colab": {}
      },
      "cell_type": "code",
      "source": [
        "# EXTRA\n",
        "def plot_digits(instances, images_per_row=10, **options):\n",
        "    size = 28\n",
        "    images_per_row = min(len(instances), images_per_row)\n",
        "    images = [instance.reshape(size,size) for instance in instances]\n",
        "    n_rows = (len(instances) - 1) // images_per_row + 1\n",
        "    row_images = []\n",
        "    n_empty = n_rows * images_per_row - len(instances)\n",
        "    images.append(np.zeros((size, size * n_empty)))\n",
        "    for row in range(n_rows):\n",
        "        rimages = images[row * images_per_row : (row + 1) * images_per_row]\n",
        "        row_images.append(np.concatenate(rimages, axis=1))\n",
        "    image = np.concatenate(row_images, axis=0)\n",
        "    plt.imshow(image, cmap = matplotlib.cm.binary, **options)\n",
        "    plt.axis(\"off\")"
      ],
      "execution_count": 0,
      "outputs": []
    },
    {
      "metadata": {
        "id": "84V4r3k94x-C",
        "colab_type": "code",
        "colab": {}
      },
      "cell_type": "code",
      "source": [
        "X_train, X_test, y_train, y_test = X[:60000], X[60000:], y[:60000], y[60000:]\n",
        "#X_train, X_test, y_train, y_test = X[:600], X[600:], y[:600], y[600:]"
      ],
      "execution_count": 0,
      "outputs": []
    },
    {
      "metadata": {
        "id": "OCJB3eD14x-C",
        "colab_type": "code",
        "colab": {}
      },
      "cell_type": "code",
      "source": [
        "import numpy as np\n",
        "\n",
        "shuffle_index = np.random.permutation(60000)\n",
        "X_train, y_train = X_train[shuffle_index], y_train[shuffle_index]"
      ],
      "execution_count": 0,
      "outputs": []
    },
    {
      "metadata": {
        "id": "LiLRSASo4x-S",
        "colab_type": "code",
        "colab": {}
      },
      "cell_type": "code",
      "source": [
        "import datetime\n",
        "from sklearn.ensemble import RandomForestClassifier\n",
        "from sklearn.metrics import mean_squared_error\n",
        "from sklearn.model_selection import cross_val_predict\n",
        "from sklearn.model_selection import cross_val_score\n",
        "from sklearn.metrics import confusion_matrix"
      ],
      "execution_count": 0,
      "outputs": []
    },
    {
      "metadata": {
        "id": "FtGzOHss4x-S",
        "colab_type": "code",
        "colab": {}
      },
      "cell_type": "code",
      "source": [
        "rnd_clf = RandomForestClassifier(\n",
        "    n_estimators=10, \n",
        "    max_leaf_nodes=30, \n",
        "    n_jobs=-1, \n",
        "    criterion=\"gini\", \n",
        "    max_depth=10, \n",
        "    max_features = 'sqrt',\n",
        "    bootstrap = True,\n",
        "    min_impurity_decrease=0.0,\n",
        "    min_samples_split = 5,\n",
        "    min_samples_leaf = 4,\n",
        "    random_state=42\n",
        ")"
      ],
      "execution_count": 0,
      "outputs": []
    },
    {
      "metadata": {
        "id": "RQ0A66CN4x-S",
        "colab_type": "code",
        "colab": {
          "base_uri": "https://localhost:8080/",
          "height": 34
        },
        "outputId": "b27ec2d0-522f-4682-a580-aa4b31324357"
      },
      "cell_type": "code",
      "source": [
        "start_tm=datetime.datetime.now()\n",
        "rnd_clf.fit(X_train, y_train)\n",
        "end_tm=datetime.datetime.now()\n",
        "print (\"Time taken to fit the model is \",end_tm - start_tm)"
      ],
      "execution_count": 22,
      "outputs": [
        {
          "output_type": "stream",
          "text": [
            "Time taken to fit the model is  0:00:02.239024\n"
          ],
          "name": "stdout"
        }
      ]
    },
    {
      "metadata": {
        "id": "7wM7QnT64x-S",
        "colab_type": "code",
        "colab": {}
      },
      "cell_type": "code",
      "source": [
        "Randforest_scores = cross_val_score(rnd_clf, X_train, y_train, cv=10, scoring=\"accuracy\")"
      ],
      "execution_count": 0,
      "outputs": []
    },
    {
      "metadata": {
        "id": "kKT2RUZi4x-i",
        "colab_type": "code",
        "colab": {
          "base_uri": "https://localhost:8080/",
          "height": 34
        },
        "outputId": "2fa5e50d-276a-44a5-bff8-56fd17f22585"
      },
      "cell_type": "code",
      "source": [
        "Randforest_scores.mean()"
      ],
      "execution_count": 24,
      "outputs": [
        {
          "output_type": "execute_result",
          "data": {
            "text/plain": [
              "0.821632863333934"
            ]
          },
          "metadata": {
            "tags": []
          },
          "execution_count": 24
        }
      ]
    },
    {
      "metadata": {
        "id": "mlu8Lk5b4x-i",
        "colab_type": "code",
        "colab": {
          "base_uri": "https://localhost:8080/",
          "height": 34
        },
        "outputId": "59825aa7-2d42-4b04-a0e5-e51272087a62"
      },
      "cell_type": "code",
      "source": [
        "start_tm=datetime.datetime.now()\n",
        "y_train_pred_RandF = cross_val_predict(rnd_clf, X_train, y_train, cv=10, method=\"predict\")\n",
        "#y_train_pred_RandF = rnd_clf.predict(X_train)\n",
        "end_tm=datetime.datetime.now()\n",
        "print (\"Time taken to Predict outcomes on training dataset is \",end_tm - start_tm)"
      ],
      "execution_count": 25,
      "outputs": [
        {
          "output_type": "stream",
          "text": [
            "Time taken to Predict outcomes on training dataset is  0:00:23.201134\n"
          ],
          "name": "stdout"
        }
      ]
    },
    {
      "metadata": {
        "id": "9n8K17-Y4x-i",
        "colab_type": "code",
        "colab": {
          "base_uri": "https://localhost:8080/",
          "height": 34
        },
        "outputId": "c4947694-b8d8-4d08-de64-06cbff2e57af"
      },
      "cell_type": "code",
      "source": [
        "start_tm=datetime.datetime.now()\n",
        "y_test_pred_RandF = cross_val_predict(rnd_clf, X_test, y_test, cv=10, method=\"predict\")\n",
        "#y_test_pred_RandF = rnd_clf.predict(X_test)\n",
        "end_tm=datetime.datetime.now()\n",
        "print (\"Time taken to Predict outcomes on hold-out dataset is \",end_tm - start_tm)"
      ],
      "execution_count": 26,
      "outputs": [
        {
          "output_type": "stream",
          "text": [
            "Time taken to Predict outcomes on hold-out dataset is  0:00:04.356150\n"
          ],
          "name": "stdout"
        }
      ]
    },
    {
      "metadata": {
        "id": "PM0DAP7u4x-x",
        "colab_type": "code",
        "colab": {
          "base_uri": "https://localhost:8080/",
          "height": 187
        },
        "outputId": "add61afc-dd69-47d9-b791-a6287ea465cd"
      },
      "cell_type": "code",
      "source": [
        "conf_mx = confusion_matrix(y_test, y_test_pred_RandF)\n",
        "conf_mx"
      ],
      "execution_count": 27,
      "outputs": [
        {
          "output_type": "execute_result",
          "data": {
            "text/plain": [
              "array([[ 947,    0,    5,    6,    2,    4,    2,    5,    9,    0],\n",
              "       [   0, 1093,    8,   11,    0,    0,    2,    1,   20,    0],\n",
              "       [  33,   25,  831,   30,   19,    3,   25,   29,   26,   11],\n",
              "       [  18,   18,   25,  824,    4,   31,    6,   19,   40,   25],\n",
              "       [   6,   11,    5,    3,  767,    3,   29,    7,   29,  122],\n",
              "       [  43,   36,   10,  153,   30,  476,   19,   22,   51,   52],\n",
              "       [  56,   14,   31,   15,   24,   15,  756,    7,   38,    2],\n",
              "       [   9,   26,   32,    4,   17,    0,    0,  890,    8,   42],\n",
              "       [   9,   42,   42,   48,   13,   12,   23,   18,  738,   29],\n",
              "       [  15,   10,   11,   16,   63,   12,    6,   23,   33,  820]])"
            ]
          },
          "metadata": {
            "tags": []
          },
          "execution_count": 27
        }
      ]
    },
    {
      "metadata": {
        "id": "E8IOTkq24x-x",
        "colab_type": "code",
        "colab": {}
      },
      "cell_type": "code",
      "source": [
        "def plot_confusion_matrix(matrix):\n",
        "    \"\"\"If you prefer color and a colorbar\"\"\"\n",
        "    fig = plt.figure(figsize=(8,8))\n",
        "    ax = fig.add_subplot(111)\n",
        "    cax = ax.matshow(matrix)\n",
        "    fig.colorbar(cax)"
      ],
      "execution_count": 0,
      "outputs": []
    },
    {
      "metadata": {
        "id": "fZdcLp424x-x",
        "colab_type": "code",
        "colab": {
          "base_uri": "https://localhost:8080/",
          "height": 271
        },
        "outputId": "964a09da-167d-44b5-ca9a-c0199d4bbed6"
      },
      "cell_type": "code",
      "source": [
        "plt.matshow(conf_mx, cmap=plt.cm.gray)\n",
        "plt.show()"
      ],
      "execution_count": 29,
      "outputs": [
        {
          "output_type": "display_data",
          "data": {
            "image/png": "[encoded data removed]",
            "text/plain": [
              "<matplotlib.figure.Figure at 0x7f9a7b379d68>"
            ]
          },
          "metadata": {
            "tags": []
          }
        }
      ]
    },
    {
      "metadata": {
        "id": "6AIDsEQM4x-x",
        "colab_type": "code",
        "colab": {}
      },
      "cell_type": "code",
      "source": [
        "row_sums = conf_mx.sum(axis=1, keepdims=True)\n",
        "norm_conf_mx1 = conf_mx / row_sums"
      ],
      "execution_count": 0,
      "outputs": []
    },
    {
      "metadata": {
        "id": "D9o2AFQN4x-x",
        "colab_type": "code",
        "colab": {
          "base_uri": "https://localhost:8080/",
          "height": 271
        },
        "outputId": "7f8feda6-a9a4-42aa-a707-4e05bf5a77ec"
      },
      "cell_type": "code",
      "source": [
        "np.fill_diagonal(norm_conf_mx1, 0)\n",
        "plt.matshow(norm_conf_mx1, cmap=plt.cm.gray)\n",
        "plt.show()"
      ],
      "execution_count": 31,
      "outputs": [
        {
          "output_type": "display_data",
          "data": {
            "image/png": "[encoded data removed]",
            "text/plain": [
              "<matplotlib.figure.Figure at 0x7f9a7b379f98>"
            ]
          },
          "metadata": {
            "tags": []
          }
        }
      ]
    },
    {
      "metadata": {
        "id": "ZofdImLN4x_B",
        "colab_type": "code",
        "colab": {
          "base_uri": "https://localhost:8080/",
          "height": 34
        },
        "outputId": "ccd47fbf-444b-49b5-e18f-5dea65fa2cb9"
      },
      "cell_type": "code",
      "source": [
        "from sklearn.metrics import f1_score\n",
        "from sklearn.metrics import precision_score, recall_score\n",
        "f1_score(y_test, y_test_pred_RandF, average=\"macro\")"
      ],
      "execution_count": 32,
      "outputs": [
        {
          "output_type": "execute_result",
          "data": {
            "text/plain": [
              "0.8077445873329927"
            ]
          },
          "metadata": {
            "tags": []
          },
          "execution_count": 32
        }
      ]
    },
    {
      "metadata": {
        "id": "v_BMUgCe4x_B",
        "colab_type": "code",
        "colab": {
          "base_uri": "https://localhost:8080/",
          "height": 34
        },
        "outputId": "34c7fa14-fc60-4790-dfe1-1e3365b30745"
      },
      "cell_type": "code",
      "source": [
        "f1_score(y_train, y_train_pred_RandF, average=\"macro\")"
      ],
      "execution_count": 54,
      "outputs": [
        {
          "output_type": "execute_result",
          "data": {
            "text/plain": [
              "0.8165697571666144"
            ]
          },
          "metadata": {
            "tags": []
          },
          "execution_count": 54
        }
      ]
    },
    {
      "metadata": {
        "id": "xQ3M1D7d4x_B",
        "colab_type": "code",
        "colab": {}
      },
      "cell_type": "code",
      "source": [
        "# Execute principal components analysis (PCA) on the full set of 70,000, generating principal components that \n",
        "# represent 95 percent of the variability in the explanatory variables. The number of principal components in the \n",
        "# solution should be substantially fewer than the 784 explanatory variables. \n",
        "# Record the time it takes to identify the principal components."
      ],
      "execution_count": 0,
      "outputs": []
    },
    {
      "metadata": {
        "id": "xBm2aiK84x_B",
        "colab_type": "code",
        "colab": {
          "base_uri": "https://localhost:8080/",
          "height": 34
        },
        "outputId": "411003c8-62b3-4c67-99ca-b4a0cbfba674"
      },
      "cell_type": "code",
      "source": [
        "from sklearn.decomposition import PCA\n",
        "\n",
        "pca = PCA()\n",
        "start_tm=datetime.datetime.now()\n",
        "pca.fit(X)\n",
        "end_tm=datetime.datetime.now()\n",
        "print (\"Time taken to determine number of PCAs to produce 95% variability is \",end_tm - start_tm)\n",
        "cumsum = np.cumsum(pca.explained_variance_ratio_)\n",
        "d = np.argmax(cumsum >= 0.95) + 1"
      ],
      "execution_count": 35,
      "outputs": [
        {
          "output_type": "stream",
          "text": [
            "Time taken to determine number of PCAs to produce 95% variability is  0:00:16.943488\n"
          ],
          "name": "stdout"
        }
      ]
    },
    {
      "metadata": {
        "id": "XDy7P6E34x_Q",
        "colab_type": "code",
        "colab": {
          "base_uri": "https://localhost:8080/",
          "height": 34
        },
        "outputId": "5c8e90d6-8a58-41da-876e-bd31637d5f2a"
      },
      "cell_type": "code",
      "source": [
        "np.sum(pca.explained_variance_ratio_)"
      ],
      "execution_count": 36,
      "outputs": [
        {
          "output_type": "execute_result",
          "data": {
            "text/plain": [
              "0.9999999999999999"
            ]
          },
          "metadata": {
            "tags": []
          },
          "execution_count": 36
        }
      ]
    },
    {
      "metadata": {
        "id": "ml7_OdTx4x_Q",
        "colab_type": "code",
        "colab": {
          "base_uri": "https://localhost:8080/",
          "height": 34
        },
        "outputId": "c8e3db84-c0e7-4fab-a2d0-4d7613541cba"
      },
      "cell_type": "code",
      "source": [
        "print(d, pca.n_components_)"
      ],
      "execution_count": 37,
      "outputs": [
        {
          "output_type": "stream",
          "text": [
            "154 784\n"
          ],
          "name": "stdout"
        }
      ]
    },
    {
      "metadata": {
        "id": "RKF8Tfv14x_Q",
        "colab_type": "code",
        "colab": {}
      },
      "cell_type": "code",
      "source": [
        "pca = PCA(n_components=0.95)\n",
        "pca.fit(X_train)\n",
        "X_train_trans = pca.transform(X_train)\n",
        "X_test_trans = pca.transform(X_test)"
      ],
      "execution_count": 0,
      "outputs": []
    },
    {
      "metadata": {
        "id": "FD0H7Ttc4x_g",
        "colab_type": "code",
        "colab": {}
      },
      "cell_type": "code",
      "source": [
        "Rand_clf2 = RandomForestClassifier()\n",
        "Rand_clf2.fit(X_train_trans, y_train)\n",
        "y_test_pred_randclf2 = Rand_clf2.predict(X_test_trans)"
      ],
      "execution_count": 0,
      "outputs": []
    },
    {
      "metadata": {
        "id": "e9hI_78G4x_g",
        "colab_type": "code",
        "colab": {
          "base_uri": "https://localhost:8080/",
          "height": 34
        },
        "outputId": "3272c715-a0a2-4342-9d04-39a4d9ade498"
      },
      "cell_type": "code",
      "source": [
        "y_train"
      ],
      "execution_count": 40,
      "outputs": [
        {
          "output_type": "execute_result",
          "data": {
            "text/plain": [
              "array([1., 6., 6., ..., 0., 2., 9.])"
            ]
          },
          "metadata": {
            "tags": []
          },
          "execution_count": 40
        }
      ]
    },
    {
      "metadata": {
        "id": "Mu7INsiF4x_g",
        "colab_type": "code",
        "colab": {
          "base_uri": "https://localhost:8080/",
          "height": 34
        },
        "outputId": "5f556253-b3e0-426e-f227-dba1e97a1002"
      },
      "cell_type": "code",
      "source": [
        "y_test_pred_randclf2"
      ],
      "execution_count": 41,
      "outputs": [
        {
          "output_type": "execute_result",
          "data": {
            "text/plain": [
              "array([0., 0., 0., ..., 9., 9., 9.])"
            ]
          },
          "metadata": {
            "tags": []
          },
          "execution_count": 41
        }
      ]
    },
    {
      "metadata": {
        "id": "J7qLwjiY4x_g",
        "colab_type": "code",
        "colab": {
          "base_uri": "https://localhost:8080/",
          "height": 187
        },
        "outputId": "fc760bc5-6cbc-477e-8bf9-aec847ebf7d1"
      },
      "cell_type": "code",
      "source": [
        "conf_mx2 = confusion_matrix(y_test, y_test_pred_randclf2)\n",
        "conf_mx2"
      ],
      "execution_count": 42,
      "outputs": [
        {
          "output_type": "execute_result",
          "data": {
            "text/plain": [
              "array([[ 925,    1,    8,   12,    1,    9,   11,    6,    5,    2],\n",
              "       [   2, 1112,    4,    3,    1,    2,    5,    0,    6,    0],\n",
              "       [  20,    3,  907,   23,   12,    7,   13,    8,   33,    6],\n",
              "       [  13,    2,   22,  906,    4,   24,    2,    8,   22,    7],\n",
              "       [   8,    3,   20,    3,  879,    6,   11,   11,    3,   38],\n",
              "       [  29,    2,   10,   58,   13,  731,   10,    7,   26,    6],\n",
              "       [  18,    2,    7,    5,   12,   14,  898,    0,    2,    0],\n",
              "       [   3,    7,   17,    4,   27,    1,    4,  930,    9,   26],\n",
              "       [  22,    1,   27,   69,   16,   44,    7,    7,  768,   13],\n",
              "       [  11,    7,    8,   19,   57,   13,    2,   34,    9,  849]])"
            ]
          },
          "metadata": {
            "tags": []
          },
          "execution_count": 42
        }
      ]
    },
    {
      "metadata": {
        "id": "T0Q5M66Y4x_w",
        "colab_type": "code",
        "colab": {
          "base_uri": "https://localhost:8080/",
          "height": 271
        },
        "outputId": "b5e7049d-a2e8-4690-94dd-249a22158f5f"
      },
      "cell_type": "code",
      "source": [
        "plt.matshow(conf_mx2, cmap=plt.cm.gray)\n",
        "plt.show()"
      ],
      "execution_count": 43,
      "outputs": [
        {
          "output_type": "display_data",
          "data": {
            "image/png": "[encoded data removed]",
            "text/plain": [
              "<matplotlib.figure.Figure at 0x7f9a792f5588>"
            ]
          },
          "metadata": {
            "tags": []
          }
        }
      ]
    },
    {
      "metadata": {
        "id": "L6l8QgFO4x_w",
        "colab_type": "code",
        "colab": {}
      },
      "cell_type": "code",
      "source": [
        "row_sums = conf_mx2.sum(axis=1, keepdims=True)\n",
        "norm_conf_mx2 = conf_mx2 / row_sums"
      ],
      "execution_count": 0,
      "outputs": []
    },
    {
      "metadata": {
        "id": "cdKUPFx44x_w",
        "colab_type": "code",
        "colab": {
          "base_uri": "https://localhost:8080/",
          "height": 271
        },
        "outputId": "b3f73054-9e61-424e-c387-1e49048c38bc"
      },
      "cell_type": "code",
      "source": [
        "np.fill_diagonal(norm_conf_mx2, 0)\n",
        "plt.matshow(norm_conf_mx2, cmap=plt.cm.gray)\n",
        "plt.show()"
      ],
      "execution_count": 45,
      "outputs": [
        {
          "output_type": "display_data",
          "data": {
            "image/png": "[encoded data removed]",
            "text/plain": [
              "<matplotlib.figure.Figure at 0x7f9a759c4828>"
            ]
          },
          "metadata": {
            "tags": []
          }
        }
      ]
    },
    {
      "metadata": {
        "id": "KmS4CKg-4x_w",
        "colab_type": "code",
        "colab": {
          "base_uri": "https://localhost:8080/",
          "height": 34
        },
        "outputId": "9dbb239a-d81e-42c3-cfb1-868a89293c8c"
      },
      "cell_type": "code",
      "source": [
        "f1_score(y_test, y_test_pred_randclf2, average=\"macro\")"
      ],
      "execution_count": 46,
      "outputs": [
        {
          "output_type": "execute_result",
          "data": {
            "text/plain": [
              "0.8884556237972282"
            ]
          },
          "metadata": {
            "tags": []
          },
          "execution_count": 46
        }
      ]
    },
    {
      "metadata": {
        "id": "zuKrAONC4x_w",
        "colab_type": "code",
        "colab": {}
      },
      "cell_type": "code",
      "source": [
        "correct_knt = (y_test == y_test_pred_randclf2)\n",
        "incorrect_knt = (y_test != y_test_pred_randclf2)"
      ],
      "execution_count": 0,
      "outputs": []
    },
    {
      "metadata": {
        "id": "O_JxdAzd4x_w",
        "colab_type": "code",
        "colab": {}
      },
      "cell_type": "code",
      "source": [
        "import pandas as pd\n",
        "test_df = pd.DataFrame({'y_test':y_test, 'y_test_pred_RandF':y_test_pred_RandF, 'y_test_pred_randclf2':y_test_pred_randclf2})"
      ],
      "execution_count": 0,
      "outputs": []
    },
    {
      "metadata": {
        "id": "uBUE3G9P4x__",
        "colab_type": "code",
        "colab": {}
      },
      "cell_type": "code",
      "source": [
        "test_df['comp1'] = test_df.apply(lambda x: 'True' if x['y_test'] == x['y_test_pred_RandF'] else 'False', axis=1)\n",
        "test_df['comp2'] = test_df.apply(lambda x: 'True' if x['y_test'] == x['y_test_pred_randclf2'] else 'False', axis=1)"
      ],
      "execution_count": 0,
      "outputs": []
    },
    {
      "metadata": {
        "id": "yESvhRYY4x__",
        "colab_type": "code",
        "colab": {
          "base_uri": "https://localhost:8080/",
          "height": 390
        },
        "outputId": "db167ede-bd9f-40e3-f70c-dcd0b74d6894"
      },
      "cell_type": "code",
      "source": [
        "test_df.loc[test_df['comp1'] == 'False'].groupby(['comp1', 'y_test'])[['y_test']].count()"
      ],
      "execution_count": 74,
      "outputs": [
        {
          "output_type": "execute_result",
          "data": {
            "text/html": [
              "<div>\n",
              "<style scoped>\n",
              "    .dataframe tbody tr th:only-of-type {\n",
              "        vertical-align: middle;\n",
              "    }\n",
              "\n",
              "    .dataframe tbody tr th {\n",
              "        vertical-align: top;\n",
              "    }\n",
              "\n",
              "    .dataframe thead th {\n",
              "        text-align: right;\n",
              "    }\n",
              "</style>\n",
              "<table border=\"1\" class=\"dataframe\">\n",
              "  <thead>\n",
              "    <tr style=\"text-align: right;\">\n",
              "      <th></th>\n",
              "      <th></th>\n",
              "      <th>y_test</th>\n",
              "    </tr>\n",
              "    <tr>\n",
              "      <th>comp1</th>\n",
              "      <th>y_test</th>\n",
              "      <th></th>\n",
              "    </tr>\n",
              "  </thead>\n",
              "  <tbody>\n",
              "    <tr>\n",
              "      <th rowspan=\"10\" valign=\"top\">False</th>\n",
              "      <th>0.0</th>\n",
              "      <td>33</td>\n",
              "    </tr>\n",
              "    <tr>\n",
              "      <th>1.0</th>\n",
              "      <td>42</td>\n",
              "    </tr>\n",
              "    <tr>\n",
              "      <th>2.0</th>\n",
              "      <td>201</td>\n",
              "    </tr>\n",
              "    <tr>\n",
              "      <th>3.0</th>\n",
              "      <td>186</td>\n",
              "    </tr>\n",
              "    <tr>\n",
              "      <th>4.0</th>\n",
              "      <td>215</td>\n",
              "    </tr>\n",
              "    <tr>\n",
              "      <th>5.0</th>\n",
              "      <td>416</td>\n",
              "    </tr>\n",
              "    <tr>\n",
              "      <th>6.0</th>\n",
              "      <td>202</td>\n",
              "    </tr>\n",
              "    <tr>\n",
              "      <th>7.0</th>\n",
              "      <td>138</td>\n",
              "    </tr>\n",
              "    <tr>\n",
              "      <th>8.0</th>\n",
              "      <td>236</td>\n",
              "    </tr>\n",
              "    <tr>\n",
              "      <th>9.0</th>\n",
              "      <td>189</td>\n",
              "    </tr>\n",
              "  </tbody>\n",
              "</table>\n",
              "</div>"
            ],
            "text/plain": [
              "              y_test\n",
              "comp1 y_test        \n",
              "False 0.0         33\n",
              "      1.0         42\n",
              "      2.0        201\n",
              "      3.0        186\n",
              "      4.0        215\n",
              "      5.0        416\n",
              "      6.0        202\n",
              "      7.0        138\n",
              "      8.0        236\n",
              "      9.0        189"
            ]
          },
          "metadata": {
            "tags": []
          },
          "execution_count": 74
        }
      ]
    },
    {
      "metadata": {
        "id": "fwKB_c994x__",
        "colab_type": "code",
        "colab": {
          "base_uri": "https://localhost:8080/",
          "height": 390
        },
        "outputId": "b3f941d2-44d2-49c7-9515-45afea8e44ae"
      },
      "cell_type": "code",
      "source": [
        "test_df.loc[test_df['comp2'] == 'False'].groupby(['comp2', 'y_test'])[['y_test']].count()"
      ],
      "execution_count": 76,
      "outputs": [
        {
          "output_type": "execute_result",
          "data": {
            "text/html": [
              "<div>\n",
              "<style scoped>\n",
              "    .dataframe tbody tr th:only-of-type {\n",
              "        vertical-align: middle;\n",
              "    }\n",
              "\n",
              "    .dataframe tbody tr th {\n",
              "        vertical-align: top;\n",
              "    }\n",
              "\n",
              "    .dataframe thead th {\n",
              "        text-align: right;\n",
              "    }\n",
              "</style>\n",
              "<table border=\"1\" class=\"dataframe\">\n",
              "  <thead>\n",
              "    <tr style=\"text-align: right;\">\n",
              "      <th></th>\n",
              "      <th></th>\n",
              "      <th>y_test</th>\n",
              "    </tr>\n",
              "    <tr>\n",
              "      <th>comp2</th>\n",
              "      <th>y_test</th>\n",
              "      <th></th>\n",
              "    </tr>\n",
              "  </thead>\n",
              "  <tbody>\n",
              "    <tr>\n",
              "      <th rowspan=\"10\" valign=\"top\">False</th>\n",
              "      <th>0.0</th>\n",
              "      <td>55</td>\n",
              "    </tr>\n",
              "    <tr>\n",
              "      <th>1.0</th>\n",
              "      <td>23</td>\n",
              "    </tr>\n",
              "    <tr>\n",
              "      <th>2.0</th>\n",
              "      <td>125</td>\n",
              "    </tr>\n",
              "    <tr>\n",
              "      <th>3.0</th>\n",
              "      <td>104</td>\n",
              "    </tr>\n",
              "    <tr>\n",
              "      <th>4.0</th>\n",
              "      <td>103</td>\n",
              "    </tr>\n",
              "    <tr>\n",
              "      <th>5.0</th>\n",
              "      <td>161</td>\n",
              "    </tr>\n",
              "    <tr>\n",
              "      <th>6.0</th>\n",
              "      <td>60</td>\n",
              "    </tr>\n",
              "    <tr>\n",
              "      <th>7.0</th>\n",
              "      <td>98</td>\n",
              "    </tr>\n",
              "    <tr>\n",
              "      <th>8.0</th>\n",
              "      <td>206</td>\n",
              "    </tr>\n",
              "    <tr>\n",
              "      <th>9.0</th>\n",
              "      <td>160</td>\n",
              "    </tr>\n",
              "  </tbody>\n",
              "</table>\n",
              "</div>"
            ],
            "text/plain": [
              "              y_test\n",
              "comp2 y_test        \n",
              "False 0.0         55\n",
              "      1.0         23\n",
              "      2.0        125\n",
              "      3.0        104\n",
              "      4.0        103\n",
              "      5.0        161\n",
              "      6.0         60\n",
              "      7.0         98\n",
              "      8.0        206\n",
              "      9.0        160"
            ]
          },
          "metadata": {
            "tags": []
          },
          "execution_count": 76
        }
      ]
    },
    {
      "metadata": {
        "id": "dCNZwsaQ4x__",
        "colab_type": "code",
        "colab": {
          "base_uri": "https://localhost:8080/",
          "height": 34
        },
        "outputId": "0c7912a9-b06b-4429-adc3-0f0df215bdd8"
      },
      "cell_type": "code",
      "source": [
        "#test_df[y_test==5].groupby(['y_test_pred_RandF'])[['comp1']].count()\n",
        "len(test_df.loc[(test_df['comp1'] == 'False') & (test_df['comp2'] == 'True')])"
      ],
      "execution_count": 94,
      "outputs": [
        {
          "output_type": "execute_result",
          "data": {
            "text/plain": [
              "1234"
            ]
          },
          "metadata": {
            "tags": []
          },
          "execution_count": 94
        }
      ]
    },
    {
      "metadata": {
        "id": "KpIQTq9E4x__",
        "colab_type": "code",
        "colab": {
          "base_uri": "https://localhost:8080/",
          "height": 34
        },
        "outputId": "9c787c02-0b02-4588-cb40-b54e0809801b"
      },
      "cell_type": "code",
      "source": [
        "len(test_df.loc[(test_df['comp1'] == 'True') & (test_df['comp2'] == 'False')])"
      ],
      "execution_count": 92,
      "outputs": [
        {
          "output_type": "execute_result",
          "data": {
            "text/plain": [
              "471"
            ]
          },
          "metadata": {
            "tags": []
          },
          "execution_count": 92
        }
      ]
    },
    {
      "metadata": {
        "id": "Kg0R8AT4xWqF",
        "colab_type": "code",
        "colab": {
          "base_uri": "https://localhost:8080/",
          "height": 34
        },
        "outputId": "b6c33867-1887-4051-d294-42290b34e34c"
      },
      "cell_type": "code",
      "source": [
        "len(test_df.loc[(test_df['comp1'] == 'False') & (test_df['comp2'] == 'False')])"
      ],
      "execution_count": 95,
      "outputs": [
        {
          "output_type": "execute_result",
          "data": {
            "text/plain": [
              "624"
            ]
          },
          "metadata": {
            "tags": []
          },
          "execution_count": 95
        }
      ]
    }
  ]
}