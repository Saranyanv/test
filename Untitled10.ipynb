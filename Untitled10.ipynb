{
  "nbformat": 4,
  "nbformat_minor": 0,
  "metadata": {
    "colab": {
      "name": "Untitled10.ipynb",
      "version": "0.3.2",
      "provenance": []
    },
    "kernelspec": {
      "display_name": "Python 3",
      "language": "python",
      "name": "python3"
    }
  },
  "cells": [
    {
      "metadata": {
        "id": "r3tJBA_j4x9U",
        "colab_type": "code",
        "colab": {}
      },
      "cell_type": "code",
      "source": [
        "# Common imports\n",
        "import numpy as np\n",
        "import os\n",
        "\n",
        "# to make this notebook's output stable across runs\n",
        "np.random.seed(42)\n",
        "\n",
        "# To plot pretty figures\n",
        "%matplotlib inline\n",
        "import matplotlib\n",
        "import pandas as pd\n",
        "import matplotlib.pyplot as plt"
      ],
      "execution_count": 0,
      "outputs": []
    },
    {
      "metadata": {
        "id": "g-NADH8W4x9j",
        "colab_type": "code",
        "colab": {}
      },
      "cell_type": "code",
      "source": [
        "from sklearn.datasets import fetch_mldata\n",
        "#mnist = fetch_mldata('MNIST original')\n",
        "#mnist"
      ],
      "execution_count": 0,
      "outputs": []
    },
    {
      "metadata": {
        "id": "mK2ZjMK566aO",
        "colab_type": "code",
        "colab": {}
      },
      "cell_type": "code",
      "source": [
        "from six.moves import urllib\n",
        "from sklearn.datasets import fetch_mldata\n",
        "\n",
        "from scipy.io import loadmat\n",
        "mnist_alternative_url = \"https://github.com/amplab/datascience-sp14/raw/master/lab7/mldata/mnist-original.mat\"\n",
        "mnist_path = \"./mnist-original.mat\"\n",
        "response = urllib.request.urlopen(mnist_alternative_url)\n",
        "with open(mnist_path, \"wb\") as f:\n",
        "  content = response.read()\n",
        "  f.write(content)\n",
        "mnist_raw = loadmat(mnist_path)\n",
        "mnist = {\n",
        "\"data\": mnist_raw[\"data\"].T,\n",
        "\"target\": mnist_raw[\"label\"][0],\n",
        "\"COL_NAMES\": [\"label\", \"data\"],\n",
        "\"DESCR\": \"mldata.org dataset: mnist-original\",\n",
        "}"
      ],
      "execution_count": 0,
      "outputs": []
    },
    {
      "metadata": {
        "id": "avOC0g_t4x9z",
        "colab_type": "code",
        "outputId": "38dcdd3b-85f2-427e-b8d3-d7464dda414a",
        "colab": {
          "base_uri": "https://localhost:8080/",
          "height": 35
        }
      },
      "cell_type": "code",
      "source": [
        "X, y = mnist[\"data\"], mnist[\"target\"]\n",
        "X.shape"
      ],
      "execution_count": 13,
      "outputs": [
        {
          "output_type": "execute_result",
          "data": {
            "text/plain": [
              "(70000, 784)"
            ]
          },
          "metadata": {
            "tags": []
          },
          "execution_count": 13
        }
      ]
    },
    {
      "metadata": {
        "id": "wLsGCe5-n5W2",
        "colab_type": "code",
        "outputId": "27c4c278-ef70-498e-c4da-cd59f927094c",
        "colab": {
          "base_uri": "https://localhost:8080/",
          "height": 318
        }
      },
      "cell_type": "code",
      "source": [
        "plt.figure();\n",
        "df=pd.DataFrame({'target':y})\n",
        "df.groupby(['target'])[['target']].count().plot(kind='bar'); plt.axhline(0, color='k')"
      ],
      "execution_count": 14,
      "outputs": [
        {
          "output_type": "execute_result",
          "data": {
            "text/plain": [
              "<matplotlib.lines.Line2D at 0x7f72dc95bef0>"
            ]
          },
          "metadata": {
            "tags": []
          },
          "execution_count": 14
        },
        {
          "output_type": "display_data",
          "data": {
            "text/plain": [
              "<matplotlib.figure.Figure at 0x7f72dc95b278>"
            ]
          },
          "metadata": {
            "tags": []
          }
        },
        {
          "output_type": "display_data",
          "data": {
            "image/png": "[encoded data removed]",
            "text/plain": [
              "<matplotlib.figure.Figure at 0x7f72dd279c88>"
            ]
          },
          "metadata": {
            "tags": []
          }
        }
      ]
    },
    {
      "metadata": {
        "id": "Tc68ctJn4x9z",
        "colab_type": "code",
        "outputId": "d0056244-6007-4c84-aae4-bfded5fba408",
        "colab": {
          "base_uri": "https://localhost:8080/",
          "height": 265
        }
      },
      "cell_type": "code",
      "source": [
        "%matplotlib inline\n",
        "import matplotlib\n",
        "import matplotlib.pyplot as plt\n",
        "\n",
        "some_digit = X[36000]\n",
        "some_digit_image = some_digit.reshape(28, 28)\n",
        "plt.imshow(some_digit_image, cmap = matplotlib.cm.binary,\n",
        "           interpolation=\"nearest\")\n",
        "plt.axis(\"off\")\n",
        "\n",
        "plt.show()"
      ],
      "execution_count": 15,
      "outputs": [
        {
          "output_type": "display_data",
          "data": {
            "image/png": "[encoded data removed]",
            "text/plain": [
              "<matplotlib.figure.Figure at 0x7f72dcdee048>"
            ]
          },
          "metadata": {
            "tags": []
          }
        }
      ]
    },
    {
      "metadata": {
        "id": "DvRQ-ISI4x9z",
        "colab_type": "code",
        "colab": {}
      },
      "cell_type": "code",
      "source": [
        "def plot_digit(data):\n",
        "    image = data.reshape(28, 28)\n",
        "    plt.imshow(image, cmap = matplotlib.cm.binary,\n",
        "               interpolation=\"nearest\")\n",
        "    plt.axis(\"off\")"
      ],
      "execution_count": 0,
      "outputs": []
    },
    {
      "metadata": {
        "id": "sSQidvoK4x-C",
        "colab_type": "code",
        "colab": {}
      },
      "cell_type": "code",
      "source": [
        "# EXTRA\n",
        "def plot_digits(instances, images_per_row=10, **options):\n",
        "    size = 28\n",
        "    images_per_row = min(len(instances), images_per_row)\n",
        "    images = [instance.reshape(size,size) for instance in instances]\n",
        "    n_rows = (len(instances) - 1) // images_per_row + 1\n",
        "    row_images = []\n",
        "    n_empty = n_rows * images_per_row - len(instances)\n",
        "    images.append(np.zeros((size, size * n_empty)))\n",
        "    for row in range(n_rows):\n",
        "        rimages = images[row * images_per_row : (row + 1) * images_per_row]\n",
        "        row_images.append(np.concatenate(rimages, axis=1))\n",
        "    image = np.concatenate(row_images, axis=0)\n",
        "    plt.imshow(image, cmap = matplotlib.cm.binary, **options)\n",
        "    plt.axis(\"off\")"
      ],
      "execution_count": 0,
      "outputs": []
    },
    {
      "metadata": {
        "id": "84V4r3k94x-C",
        "colab_type": "code",
        "colab": {}
      },
      "cell_type": "code",
      "source": [
        "X_train, X_test, y_train, y_test = X[:60000], X[60000:], y[:60000], y[60000:]\n",
        "#X_train, X_test, y_train, y_test = X[:600], X[600:], y[:600], y[600:]"
      ],
      "execution_count": 0,
      "outputs": []
    },
    {
      "metadata": {
        "id": "OCJB3eD14x-C",
        "colab_type": "code",
        "colab": {}
      },
      "cell_type": "code",
      "source": [
        "import numpy as np\n",
        "shuffle_index = np.random.permutation(60000) \n",
        "#X_train, y_train = X_train[shuffle_index], y_train[shuffle_index]"
      ],
      "execution_count": 0,
      "outputs": []
    },
    {
      "metadata": {
        "id": "LiLRSASo4x-S",
        "colab_type": "code",
        "colab": {}
      },
      "cell_type": "code",
      "source": [
        "import datetime\n",
        "from sklearn.ensemble import RandomForestClassifier\n",
        "from sklearn.metrics import mean_squared_error\n",
        "from sklearn.model_selection import cross_val_predict\n",
        "from sklearn.model_selection import cross_val_score\n",
        "from sklearn.metrics import confusion_matrix"
      ],
      "execution_count": 0,
      "outputs": []
    },
    {
      "metadata": {
        "id": "oZnp3KxOC5nJ",
        "colab_type": "text"
      },
      "cell_type": "markdown",
      "source": [
        "   **MODEL 1 - RANDOM FOREST CLASSIFIER on Training Dataset**\n",
        "\n"
      ]
    },
    {
      "metadata": {
        "id": "FtGzOHss4x-S",
        "colab_type": "code",
        "colab": {}
      },
      "cell_type": "code",
      "source": [
        "rnd_clf = RandomForestClassifier(\n",
        "    n_estimators=10, \n",
        "    max_leaf_nodes=30, \n",
        "    n_jobs=-1, \n",
        "    criterion=\"gini\", \n",
        "    max_depth=10, \n",
        "    max_features = 'sqrt',\n",
        "    bootstrap = True,\n",
        "    min_impurity_decrease=0.0,\n",
        "    min_samples_split = 5,\n",
        "    min_samples_leaf = 4,\n",
        "    random_state=42\n",
        ")"
      ],
      "execution_count": 0,
      "outputs": []
    },
    {
      "metadata": {
        "id": "RQ0A66CN4x-S",
        "colab_type": "code",
        "outputId": "78d0bd53-5375-45f2-91b8-b2e2d90e3a58",
        "colab": {
          "base_uri": "https://localhost:8080/",
          "height": 35
        }
      },
      "cell_type": "code",
      "source": [
        "start_tm=datetime.datetime.now()\n",
        "rnd_clf.fit(X_train, y_train)\n",
        "end_tm=datetime.datetime.now()\n",
        "print (\"Time taken to fit the Random Classifier model is \",end_tm - start_tm)"
      ],
      "execution_count": 22,
      "outputs": [
        {
          "output_type": "stream",
          "text": [
            "Time taken to fit the Random Classifier model is  0:00:01.935659\n"
          ],
          "name": "stdout"
        }
      ]
    },
    {
      "metadata": {
        "id": "7wM7QnT64x-S",
        "colab_type": "code",
        "colab": {}
      },
      "cell_type": "code",
      "source": [
        "Randforest_scores = cross_val_score(rnd_clf, X_train, y_train, cv=10, scoring=\"accuracy\")"
      ],
      "execution_count": 0,
      "outputs": []
    },
    {
      "metadata": {
        "id": "kKT2RUZi4x-i",
        "colab_type": "code",
        "outputId": "01339362-01ae-4af2-d404-5738020c7ce0",
        "colab": {
          "base_uri": "https://localhost:8080/",
          "height": 35
        }
      },
      "cell_type": "code",
      "source": [
        "Randforest_scores.mean()"
      ],
      "execution_count": 24,
      "outputs": [
        {
          "output_type": "execute_result",
          "data": {
            "text/plain": [
              "0.8178696396847387"
            ]
          },
          "metadata": {
            "tags": []
          },
          "execution_count": 24
        }
      ]
    },
    {
      "metadata": {
        "id": "mlu8Lk5b4x-i",
        "colab_type": "code",
        "outputId": "12479426-e71e-49e9-deb5-229d65382c4b",
        "colab": {
          "base_uri": "https://localhost:8080/",
          "height": 35
        }
      },
      "cell_type": "code",
      "source": [
        "start_tm=datetime.datetime.now()\n",
        "y_train_pred_RandF = cross_val_predict(rnd_clf, X_train, y_train, cv=10, method=\"predict\")\n",
        "#y_train_pred_RandF = rnd_clf.predict(X_train)\n",
        "end_tm=datetime.datetime.now()\n",
        "print (\"Time taken to Predict outcomes on training dataset is \",end_tm - start_tm)"
      ],
      "execution_count": 25,
      "outputs": [
        {
          "output_type": "stream",
          "text": [
            "Time taken to Predict outcomes on training dataset is  0:00:19.430169\n"
          ],
          "name": "stdout"
        }
      ]
    },
    {
      "metadata": {
        "id": "9n8K17-Y4x-i",
        "colab_type": "code",
        "outputId": "0861c1ba-d983-4926-b5a9-92fb8b88f426",
        "colab": {
          "base_uri": "https://localhost:8080/",
          "height": 35
        }
      },
      "cell_type": "code",
      "source": [
        "start_tm=datetime.datetime.now()\n",
        "y_test_pred_RandF = cross_val_predict(rnd_clf, X_test, y_test, cv=10, method=\"predict\")\n",
        "#y_test_pred_RandF = rnd_clf.predict(X_test)\n",
        "end_tm=datetime.datetime.now()\n",
        "print (\"Time taken to Predict outcomes on hold-out dataset is \",end_tm - start_tm)"
      ],
      "execution_count": 26,
      "outputs": [
        {
          "output_type": "stream",
          "text": [
            "Time taken to Predict outcomes on hold-out dataset is  0:00:04.339916\n"
          ],
          "name": "stdout"
        }
      ]
    },
    {
      "metadata": {
        "id": "PM0DAP7u4x-x",
        "colab_type": "code",
        "outputId": "65ed00b2-9918-4781-901e-15abb8ce730e",
        "colab": {
          "base_uri": "https://localhost:8080/",
          "height": 191
        }
      },
      "cell_type": "code",
      "source": [
        "conf_mx = confusion_matrix(y_test, y_test_pred_RandF)\n",
        "conf_mx"
      ],
      "execution_count": 27,
      "outputs": [
        {
          "output_type": "execute_result",
          "data": {
            "text/plain": [
              "array([[ 947,    0,    5,    6,    2,    4,    2,    5,    9,    0],\n",
              "       [   0, 1093,    8,   11,    0,    0,    2,    1,   20,    0],\n",
              "       [  33,   25,  831,   30,   19,    3,   25,   29,   26,   11],\n",
              "       [  18,   18,   25,  824,    4,   31,    6,   19,   40,   25],\n",
              "       [   6,   11,    5,    3,  767,    3,   29,    7,   29,  122],\n",
              "       [  43,   36,   10,  153,   30,  476,   19,   22,   51,   52],\n",
              "       [  56,   14,   31,   15,   24,   15,  756,    7,   38,    2],\n",
              "       [   9,   26,   32,    4,   17,    0,    0,  890,    8,   42],\n",
              "       [   9,   42,   42,   48,   13,   12,   23,   18,  738,   29],\n",
              "       [  15,   10,   11,   16,   63,   12,    6,   23,   33,  820]])"
            ]
          },
          "metadata": {
            "tags": []
          },
          "execution_count": 27
        }
      ]
    },
    {
      "metadata": {
        "id": "E8IOTkq24x-x",
        "colab_type": "code",
        "colab": {}
      },
      "cell_type": "code",
      "source": [
        "def plot_confusion_matrix(matrix):\n",
        "    \"\"\"If you prefer color and a colorbar\"\"\"\n",
        "    fig = plt.figure(figsize=(8,8))\n",
        "    ax = fig.add_subplot(111)\n",
        "    cax = ax.matshow(matrix)\n",
        "    fig.colorbar(cax)"
      ],
      "execution_count": 0,
      "outputs": []
    },
    {
      "metadata": {
        "id": "fZdcLp424x-x",
        "colab_type": "code",
        "outputId": "df6297e3-4db1-4f93-ae41-164cb22fe934",
        "colab": {
          "base_uri": "https://localhost:8080/",
          "height": 271
        }
      },
      "cell_type": "code",
      "source": [
        "plt.matshow(conf_mx, cmap=plt.cm.gray)\n",
        "plt.show()"
      ],
      "execution_count": 29,
      "outputs": [
        {
          "output_type": "display_data",
          "data": {
            "image/png": "[encoded data removed]",
            "text/plain": [
              "<matplotlib.figure.Figure at 0x7f72d57cfa20>"
            ]
          },
          "metadata": {
            "tags": []
          }
        }
      ]
    },
    {
      "metadata": {
        "id": "6AIDsEQM4x-x",
        "colab_type": "code",
        "colab": {}
      },
      "cell_type": "code",
      "source": [
        "row_sums = conf_mx.sum(axis=1, keepdims=True)\n",
        "norm_conf_mx1 = conf_mx / row_sums"
      ],
      "execution_count": 0,
      "outputs": []
    },
    {
      "metadata": {
        "id": "D9o2AFQN4x-x",
        "colab_type": "code",
        "outputId": "3f6ead48-6bf7-4405-f92c-fe57da02ed2e",
        "colab": {
          "base_uri": "https://localhost:8080/",
          "height": 271
        }
      },
      "cell_type": "code",
      "source": [
        "np.fill_diagonal(norm_conf_mx1, 0)\n",
        "plt.matshow(norm_conf_mx1, cmap=plt.cm.gray)\n",
        "plt.show()"
      ],
      "execution_count": 31,
      "outputs": [
        {
          "output_type": "display_data",
          "data": {
            "image/png": "[encoded data removed]",
            "text/plain": [
              "<matplotlib.figure.Figure at 0x7f72d57cf668>"
            ]
          },
          "metadata": {
            "tags": []
          }
        }
      ]
    },
    {
      "metadata": {
        "id": "ZofdImLN4x_B",
        "colab_type": "code",
        "outputId": "63224a6c-2ce5-4ef4-c7ed-309371b55187",
        "colab": {
          "base_uri": "https://localhost:8080/",
          "height": 69
        }
      },
      "cell_type": "code",
      "source": [
        "from sklearn.metrics import f1_score\n",
        "from sklearn.metrics import precision_score, recall_score\n",
        "from sklearn.metrics import precision_score\n",
        "from sklearn.metrics import recall_score\n",
        "print ('F1 Score = ',f1_score(y_test, y_test_pred_RandF, average=\"macro\"))\n",
        "print ('Precision Score = ',precision_score(y_test, y_test_pred_RandF, average='macro'))\n",
        "print ('Recall Score = ',recall_score(y_test, y_test_pred_RandF, average='macro'))"
      ],
      "execution_count": 32,
      "outputs": [
        {
          "output_type": "stream",
          "text": [
            "F1 Score =  0.8077445873329927\n",
            "Precision Score =  0.8167206313158248\n",
            "Recall Score =  0.8090376455614863\n"
          ],
          "name": "stdout"
        }
      ]
    },
    {
      "metadata": {
        "id": "Y0ABng78DZSM",
        "colab_type": "text"
      },
      "cell_type": "markdown",
      "source": [
        "   **MODEL 2 - PCA on Entire Dataset with 95% variability, followed by RANDOM FOREST CLASSIFIER on Training Dataset**"
      ]
    },
    {
      "metadata": {
        "id": "xBm2aiK84x_B",
        "colab_type": "code",
        "outputId": "321c8145-14a5-45e8-c005-b54a75813833",
        "colab": {
          "base_uri": "https://localhost:8080/",
          "height": 35
        }
      },
      "cell_type": "code",
      "source": [
        "from sklearn.decomposition import PCA\n",
        "\n",
        "pca = PCA()\n",
        "start_tm=datetime.datetime.now()\n",
        "pca.fit(X)\n",
        "end_tm=datetime.datetime.now()\n",
        "print (\"Time taken to determine number of PCAs to produce 95% variability is \",end_tm - start_tm)\n",
        "cumsum = np.cumsum(pca.explained_variance_ratio_)\n",
        "d = np.argmax(cumsum >= 0.95) + 1"
      ],
      "execution_count": 34,
      "outputs": [
        {
          "output_type": "stream",
          "text": [
            "Time taken to determine number of PCAs to produce 95% variability is  0:00:17.296937\n"
          ],
          "name": "stdout"
        }
      ]
    },
    {
      "metadata": {
        "id": "XDy7P6E34x_Q",
        "colab_type": "code",
        "outputId": "7bbac2ec-b5a6-4b45-edef-109feb167923",
        "colab": {
          "base_uri": "https://localhost:8080/",
          "height": 35
        }
      },
      "cell_type": "code",
      "source": [
        "np.sum(pca.explained_variance_ratio_)"
      ],
      "execution_count": 35,
      "outputs": [
        {
          "output_type": "execute_result",
          "data": {
            "text/plain": [
              "0.9999999999999999"
            ]
          },
          "metadata": {
            "tags": []
          },
          "execution_count": 35
        }
      ]
    },
    {
      "metadata": {
        "id": "ml7_OdTx4x_Q",
        "colab_type": "code",
        "outputId": "82d3cc54-6391-467c-b856-52c9a5f53bd2",
        "colab": {
          "base_uri": "https://localhost:8080/",
          "height": 35
        }
      },
      "cell_type": "code",
      "source": [
        "print(d, pca.n_components_)"
      ],
      "execution_count": 36,
      "outputs": [
        {
          "output_type": "stream",
          "text": [
            "154 784\n"
          ],
          "name": "stdout"
        }
      ]
    },
    {
      "metadata": {
        "id": "RKF8Tfv14x_Q",
        "colab_type": "code",
        "colab": {
          "base_uri": "https://localhost:8080/",
          "height": 35
        },
        "outputId": "78495abc-655b-4f3f-a5b9-6d470c0b43f5"
      },
      "cell_type": "code",
      "source": [
        "pca = PCA(n_components=0.95)\n",
        "start_tm=datetime.datetime.now()\n",
        "pca.fit(X)\n",
        "end_tm=datetime.datetime.now()\n",
        "print (\"Time taken to determine number of PCAs to produce 95% variability (on entire dataset) is \",end_tm - start_tm)\n",
        "X_trans = pca.transform(X)"
      ],
      "execution_count": 37,
      "outputs": [
        {
          "output_type": "stream",
          "text": [
            "Time taken to determine number of PCAs to produce 95% variability (on entire dataset) is  0:00:16.168029\n"
          ],
          "name": "stdout"
        }
      ]
    },
    {
      "metadata": {
        "id": "5kOgDvpFxe8n",
        "colab_type": "code",
        "outputId": "f6faad55-321a-48e7-b8c4-37b4cadd3525",
        "colab": {
          "base_uri": "https://localhost:8080/",
          "height": 35
        }
      },
      "cell_type": "code",
      "source": [
        "print(d, pca.n_components_)"
      ],
      "execution_count": 38,
      "outputs": [
        {
          "output_type": "stream",
          "text": [
            "154 154\n"
          ],
          "name": "stdout"
        }
      ]
    },
    {
      "metadata": {
        "id": "csObWoZtyrOg",
        "colab_type": "code",
        "colab": {}
      },
      "cell_type": "code",
      "source": [
        "X_trans_train, X_trans_test, y_train, y_test = X_trans[:60000], X_trans[60000:], y[:60000], y[60000:]"
      ],
      "execution_count": 0,
      "outputs": []
    },
    {
      "metadata": {
        "id": "FD0H7Ttc4x_g",
        "colab_type": "code",
        "outputId": "27a9021c-ff89-4bcd-ebd3-3fb80d2d231f",
        "colab": {
          "base_uri": "https://localhost:8080/",
          "height": 35
        }
      },
      "cell_type": "code",
      "source": [
        "Rand_clf2 = RandomForestClassifier()\n",
        "start_tm=datetime.datetime.now()\n",
        "Rand_clf2.fit(X_trans_train, y_train)\n",
        "end_tm=datetime.datetime.now()\n",
        "print (\"Time taken to fit the Random Forest Classifier model on Reduced dataset is \",end_tm - start_tm)\n",
        "y_test_pred_randclf2 = Rand_clf2.predict(X_trans_test)"
      ],
      "execution_count": 40,
      "outputs": [
        {
          "output_type": "stream",
          "text": [
            "Time taken to fit the Random Forest Classifier model on Reduced dataset is  0:00:11.660776\n"
          ],
          "name": "stdout"
        }
      ]
    },
    {
      "metadata": {
        "id": "e9hI_78G4x_g",
        "colab_type": "code",
        "outputId": "69078713-8ec6-40ba-bb00-b83fdda5f10d",
        "colab": {
          "base_uri": "https://localhost:8080/",
          "height": 35
        }
      },
      "cell_type": "code",
      "source": [
        "y_train"
      ],
      "execution_count": 41,
      "outputs": [
        {
          "output_type": "execute_result",
          "data": {
            "text/plain": [
              "array([0., 0., 0., ..., 9., 9., 9.])"
            ]
          },
          "metadata": {
            "tags": []
          },
          "execution_count": 41
        }
      ]
    },
    {
      "metadata": {
        "id": "Mu7INsiF4x_g",
        "colab_type": "code",
        "outputId": "2fd0c0e8-af22-4e2a-dc4a-43be795ddab8",
        "colab": {
          "base_uri": "https://localhost:8080/",
          "height": 35
        }
      },
      "cell_type": "code",
      "source": [
        "y_test_pred_randclf2"
      ],
      "execution_count": 42,
      "outputs": [
        {
          "output_type": "execute_result",
          "data": {
            "text/plain": [
              "array([0., 0., 0., ..., 9., 9., 9.])"
            ]
          },
          "metadata": {
            "tags": []
          },
          "execution_count": 42
        }
      ]
    },
    {
      "metadata": {
        "id": "J7qLwjiY4x_g",
        "colab_type": "code",
        "outputId": "e60a4a25-e249-4259-d677-97cf1ce82922",
        "colab": {
          "base_uri": "https://localhost:8080/",
          "height": 191
        }
      },
      "cell_type": "code",
      "source": [
        "conf_mx2 = confusion_matrix(y_test, y_test_pred_randclf2)\n",
        "conf_mx2"
      ],
      "execution_count": 43,
      "outputs": [
        {
          "output_type": "execute_result",
          "data": {
            "text/plain": [
              "array([[ 936,    0,    8,    4,    3,    8,   10,    3,    6,    2],\n",
              "       [   2, 1114,    4,    3,    1,    4,    2,    1,    3,    1],\n",
              "       [  20,    3,  927,   21,    9,    4,    9,    7,   28,    4],\n",
              "       [  11,    2,   34,  887,    4,   30,    5,   11,   22,    4],\n",
              "       [   3,    2,   17,    5,  890,    6,   13,    5,    7,   34],\n",
              "       [  29,    1,   20,   54,   15,  717,   11,    5,   24,   16],\n",
              "       [  19,    4,   15,    3,   13,   17,  881,    1,    5,    0],\n",
              "       [   2,   16,   29,    2,   21,    2,    3,  927,    3,   23],\n",
              "       [  23,    1,   31,   56,   14,   46,   11,    7,  778,    7],\n",
              "       [  15,    7,    9,   17,   59,    8,    1,   38,   17,  838]])"
            ]
          },
          "metadata": {
            "tags": []
          },
          "execution_count": 43
        }
      ]
    },
    {
      "metadata": {
        "id": "T0Q5M66Y4x_w",
        "colab_type": "code",
        "outputId": "a4bba4af-0c4e-41d6-861d-7f856cc29f75",
        "colab": {
          "base_uri": "https://localhost:8080/",
          "height": 271
        }
      },
      "cell_type": "code",
      "source": [
        "plt.matshow(conf_mx2, cmap=plt.cm.gray)\n",
        "plt.show()"
      ],
      "execution_count": 44,
      "outputs": [
        {
          "output_type": "display_data",
          "data": {
            "image/png": "[encoded data removed]",
            "text/plain": [
              "<matplotlib.figure.Figure at 0x7f72d803af98>"
            ]
          },
          "metadata": {
            "tags": []
          }
        }
      ]
    },
    {
      "metadata": {
        "id": "L6l8QgFO4x_w",
        "colab_type": "code",
        "colab": {}
      },
      "cell_type": "code",
      "source": [
        "row_sums = conf_mx2.sum(axis=1, keepdims=True)\n",
        "norm_conf_mx2 = conf_mx2 / row_sums"
      ],
      "execution_count": 0,
      "outputs": []
    },
    {
      "metadata": {
        "id": "cdKUPFx44x_w",
        "colab_type": "code",
        "outputId": "05ab0001-993d-4459-8ac1-37cb0bd002d8",
        "colab": {
          "base_uri": "https://localhost:8080/",
          "height": 271
        }
      },
      "cell_type": "code",
      "source": [
        "np.fill_diagonal(norm_conf_mx2, 0)\n",
        "plt.matshow(norm_conf_mx2, cmap=plt.cm.gray)\n",
        "plt.show()"
      ],
      "execution_count": 46,
      "outputs": [
        {
          "output_type": "display_data",
          "data": {
            "image/png": "[encoded data removed]",
            "text/plain": [
              "<matplotlib.figure.Figure at 0x7f72d6099cc0>"
            ]
          },
          "metadata": {
            "tags": []
          }
        }
      ]
    },
    {
      "metadata": {
        "id": "KmS4CKg-4x_w",
        "colab_type": "code",
        "outputId": "5e4c7bb6-f495-4db4-bbcb-a6599637dea2",
        "colab": {
          "base_uri": "https://localhost:8080/",
          "height": 69
        }
      },
      "cell_type": "code",
      "source": [
        "print ('F1 Score = ',f1_score(y_test, y_test_pred_randclf2, average=\"macro\"))\n",
        "print ('Precision Score = ',precision_score(y_test, y_test_pred_randclf2, average='macro'))\n",
        "print ('Recall Score = ',recall_score(y_test, y_test_pred_randclf2, average='macro'))"
      ],
      "execution_count": 47,
      "outputs": [
        {
          "output_type": "stream",
          "text": [
            "F1 Score =  0.8872817773754409\n",
            "Precision Score =  0.8885624444387801\n",
            "Recall Score =  0.8873867208297337\n"
          ],
          "name": "stdout"
        }
      ]
    },
    {
      "metadata": {
        "id": "q0rNt8ytDqc2",
        "colab_type": "text"
      },
      "cell_type": "markdown",
      "source": [
        "\n",
        "\n",
        "   **MODEL 3 - PCA on Training Dataset with 95% variability, followed by RANDOM FOREST CLASSIFIER on Training Dataset**\n",
        "   \n",
        "   \n",
        "   "
      ]
    },
    {
      "metadata": {
        "id": "FX1CeYZ83GjB",
        "colab_type": "code",
        "outputId": "82885837-adcd-4ee2-c188-e0c34a2ad4fd",
        "colab": {
          "base_uri": "https://localhost:8080/",
          "height": 35
        }
      },
      "cell_type": "code",
      "source": [
        "pca = PCA(n_components=0.95)\n",
        "start_tm=datetime.datetime.now()\n",
        "pca.fit(X_train)\n",
        "end_tm=datetime.datetime.now()\n",
        "print (\"Time taken to determine number of PCAs to produce 95% variability (on Training dataset) is \",end_tm - start_tm)\n",
        "X_trans_train_3 = pca.transform(X_train)\n",
        "X_trans_test_3 = pca.transform(X_test)"
      ],
      "execution_count": 48,
      "outputs": [
        {
          "output_type": "stream",
          "text": [
            "Time taken to determine number of PCAs to produce 95% variability (on Training dataset) is  0:00:13.926902\n"
          ],
          "name": "stdout"
        }
      ]
    },
    {
      "metadata": {
        "id": "TPAw_axP3Kyp",
        "colab_type": "code",
        "outputId": "beb3358c-bc5f-4899-dc7e-72e0bf6d3d54",
        "colab": {
          "base_uri": "https://localhost:8080/",
          "height": 35
        }
      },
      "cell_type": "code",
      "source": [
        "Rand_clf3 = RandomForestClassifier()\n",
        "start_tm=datetime.datetime.now()\n",
        "Rand_clf3.fit(X_trans_train_3, y_train)\n",
        "end_tm=datetime.datetime.now()\n",
        "print (\"Time taken to fit the Random Forest Classifier model on Reduced dataset is \",end_tm - start_tm)\n",
        "y_test_pred_randclf3 = Rand_clf3.predict(X_trans_test_3)"
      ],
      "execution_count": 49,
      "outputs": [
        {
          "output_type": "stream",
          "text": [
            "Time taken to fit the Random Forest Classifier model on Reduced dataset is  0:00:11.949682\n"
          ],
          "name": "stdout"
        }
      ]
    },
    {
      "metadata": {
        "id": "eLTLElA_6GJp",
        "colab_type": "code",
        "outputId": "46aa4746-f252-45be-e6be-40aa10ee5e04",
        "colab": {
          "base_uri": "https://localhost:8080/",
          "height": 69
        }
      },
      "cell_type": "code",
      "source": [
        "print ('F1 Score = ',f1_score(y_test, y_test_pred_randclf3, average=\"macro\"))\n",
        "print ('Precision Score = ',precision_score(y_test, y_test_pred_randclf3, average='macro'))\n",
        "print ('Recall Score = ',recall_score(y_test, y_test_pred_randclf3, average='macro'))"
      ],
      "execution_count": 50,
      "outputs": [
        {
          "output_type": "stream",
          "text": [
            "F1 Score =  0.8927208274795323\n",
            "Precision Score =  0.8937638237736613\n",
            "Recall Score =  0.8927322068292176\n"
          ],
          "name": "stdout"
        }
      ]
    },
    {
      "metadata": {
        "id": "GSrDl7DB7-uB",
        "colab_type": "code",
        "outputId": "432ccefb-47bb-4ba0-e6c4-cc0cd4b6998d",
        "colab": {
          "base_uri": "https://localhost:8080/",
          "height": 191
        }
      },
      "cell_type": "code",
      "source": [
        "conf_mx3 = confusion_matrix(y_test, y_test_pred_randclf3)\n",
        "conf_mx3"
      ],
      "execution_count": 51,
      "outputs": [
        {
          "output_type": "execute_result",
          "data": {
            "text/plain": [
              "array([[ 944,    0,    4,    3,    3,    9,    9,    2,    4,    2],\n",
              "       [   0, 1113,    3,    5,    1,    2,    3,    2,    5,    1],\n",
              "       [  19,    3,  918,   19,    8,    6,    8,   11,   35,    5],\n",
              "       [   9,    1,   33,  881,    2,   33,    4,   13,   24,   10],\n",
              "       [  10,    8,    7,    8,  891,    3,   11,    8,    4,   32],\n",
              "       [  18,    4,   10,   63,   17,  744,   12,    5,   13,    6],\n",
              "       [  20,    3,   15,    2,   11,   20,  884,    0,    2,    1],\n",
              "       [   5,   10,   28,    8,   23,    2,    3,  915,    4,   30],\n",
              "       [  16,    3,   35,   56,   15,   35,    5,   10,  790,    9],\n",
              "       [  12,    6,    9,   19,   51,   10,    1,   31,    6,  864]])"
            ]
          },
          "metadata": {
            "tags": []
          },
          "execution_count": 51
        }
      ]
    },
    {
      "metadata": {
        "id": "M94hUQLz7-k8",
        "colab_type": "code",
        "outputId": "3d449e69-aaa8-41ac-9fd8-9f9dddeb1365",
        "colab": {
          "base_uri": "https://localhost:8080/",
          "height": 271
        }
      },
      "cell_type": "code",
      "source": [
        "plt.matshow(conf_mx3, cmap=plt.cm.gray)\n",
        "plt.show()"
      ],
      "execution_count": 52,
      "outputs": [
        {
          "output_type": "display_data",
          "data": {
            "image/png": "[encoded data removed]",
            "text/plain": [
              "<matplotlib.figure.Figure at 0x7f72d603d320>"
            ]
          },
          "metadata": {
            "tags": []
          }
        }
      ]
    },
    {
      "metadata": {
        "id": "ccUTUcwz7-Wx",
        "colab_type": "code",
        "colab": {}
      },
      "cell_type": "code",
      "source": [
        "row_sums = conf_mx3.sum(axis=1, keepdims=True)\n",
        "norm_conf_mx3 = conf_mx3 / row_sums"
      ],
      "execution_count": 0,
      "outputs": []
    },
    {
      "metadata": {
        "id": "Y58-DwPt8BMf",
        "colab_type": "code",
        "outputId": "64b5a885-9b04-4fd1-cbee-6fa7b5c8facd",
        "colab": {
          "base_uri": "https://localhost:8080/",
          "height": 271
        }
      },
      "cell_type": "code",
      "source": [
        "np.fill_diagonal(norm_conf_mx3, 0)\n",
        "plt.matshow(norm_conf_mx3, cmap=plt.cm.gray)\n",
        "plt.show()"
      ],
      "execution_count": 54,
      "outputs": [
        {
          "output_type": "display_data",
          "data": {
            "image/png": "[encoded data removed]",
            "text/plain": [
              "<matplotlib.figure.Figure at 0x7f72d263f4a8>"
            ]
          },
          "metadata": {
            "tags": []
          }
        }
      ]
    },
    {
      "metadata": {
        "id": "zuKrAONC4x_w",
        "colab_type": "code",
        "colab": {}
      },
      "cell_type": "code",
      "source": [
        "correct_knt = (y_test == y_test_pred_randclf2)\n",
        "incorrect_knt = (y_test != y_test_pred_randclf2)"
      ],
      "execution_count": 0,
      "outputs": []
    },
    {
      "metadata": {
        "id": "el8ziulZD1_e",
        "colab_type": "text"
      },
      "cell_type": "markdown",
      "source": [
        "   **Cross-sectional analysis of Prediction Results**"
      ]
    },
    {
      "metadata": {
        "id": "O_JxdAzd4x_w",
        "colab_type": "code",
        "colab": {}
      },
      "cell_type": "code",
      "source": [
        "import pandas as pd\n",
        "test_df = pd.DataFrame({'y_test':y_test\n",
        "                       , 'y_test_pred_RandF':y_test_pred_RandF\n",
        "                       , 'y_test_pred_randclf2':y_test_pred_randclf2\n",
        "                       , 'y_test_pred_randclf3':y_test_pred_randclf3})"
      ],
      "execution_count": 0,
      "outputs": []
    },
    {
      "metadata": {
        "id": "uBUE3G9P4x__",
        "colab_type": "code",
        "colab": {}
      },
      "cell_type": "code",
      "source": [
        "test_df['comp1'] = test_df.apply(lambda x: 'True' if x['y_test'] == x['y_test_pred_RandF'] else 'False', axis=1)\n",
        "test_df['comp2'] = test_df.apply(lambda x: 'True' if x['y_test'] == x['y_test_pred_randclf2'] else 'False', axis=1)\n",
        "test_df['comp3'] = test_df.apply(lambda x: 'True' if x['y_test'] == x['y_test_pred_randclf3'] else 'False', axis=1)"
      ],
      "execution_count": 0,
      "outputs": []
    },
    {
      "metadata": {
        "id": "yESvhRYY4x__",
        "colab_type": "code",
        "outputId": "ad4f7ead-1cb4-4d4d-c7ea-e8b7556fff8a",
        "colab": {
          "base_uri": "https://localhost:8080/",
          "height": 386
        }
      },
      "cell_type": "code",
      "source": [
        "test_df.loc[test_df['comp1'] == 'False'].groupby(['comp1', 'y_test'])[['y_test']].count()"
      ],
      "execution_count": 58,
      "outputs": [
        {
          "output_type": "execute_result",
          "data": {
            "text/html": [
              "<div>\n",
              "<style scoped>\n",
              "    .dataframe tbody tr th:only-of-type {\n",
              "        vertical-align: middle;\n",
              "    }\n",
              "\n",
              "    .dataframe tbody tr th {\n",
              "        vertical-align: top;\n",
              "    }\n",
              "\n",
              "    .dataframe thead th {\n",
              "        text-align: right;\n",
              "    }\n",
              "</style>\n",
              "<table border=\"1\" class=\"dataframe\">\n",
              "  <thead>\n",
              "    <tr style=\"text-align: right;\">\n",
              "      <th></th>\n",
              "      <th></th>\n",
              "      <th>y_test</th>\n",
              "    </tr>\n",
              "    <tr>\n",
              "      <th>comp1</th>\n",
              "      <th>y_test</th>\n",
              "      <th></th>\n",
              "    </tr>\n",
              "  </thead>\n",
              "  <tbody>\n",
              "    <tr>\n",
              "      <th rowspan=\"10\" valign=\"top\">False</th>\n",
              "      <th>0.0</th>\n",
              "      <td>33</td>\n",
              "    </tr>\n",
              "    <tr>\n",
              "      <th>1.0</th>\n",
              "      <td>42</td>\n",
              "    </tr>\n",
              "    <tr>\n",
              "      <th>2.0</th>\n",
              "      <td>201</td>\n",
              "    </tr>\n",
              "    <tr>\n",
              "      <th>3.0</th>\n",
              "      <td>186</td>\n",
              "    </tr>\n",
              "    <tr>\n",
              "      <th>4.0</th>\n",
              "      <td>215</td>\n",
              "    </tr>\n",
              "    <tr>\n",
              "      <th>5.0</th>\n",
              "      <td>416</td>\n",
              "    </tr>\n",
              "    <tr>\n",
              "      <th>6.0</th>\n",
              "      <td>202</td>\n",
              "    </tr>\n",
              "    <tr>\n",
              "      <th>7.0</th>\n",
              "      <td>138</td>\n",
              "    </tr>\n",
              "    <tr>\n",
              "      <th>8.0</th>\n",
              "      <td>236</td>\n",
              "    </tr>\n",
              "    <tr>\n",
              "      <th>9.0</th>\n",
              "      <td>189</td>\n",
              "    </tr>\n",
              "  </tbody>\n",
              "</table>\n",
              "</div>"
            ],
            "text/plain": [
              "              y_test\n",
              "comp1 y_test        \n",
              "False 0.0         33\n",
              "      1.0         42\n",
              "      2.0        201\n",
              "      3.0        186\n",
              "      4.0        215\n",
              "      5.0        416\n",
              "      6.0        202\n",
              "      7.0        138\n",
              "      8.0        236\n",
              "      9.0        189"
            ]
          },
          "metadata": {
            "tags": []
          },
          "execution_count": 58
        }
      ]
    },
    {
      "metadata": {
        "id": "fwKB_c994x__",
        "colab_type": "code",
        "outputId": "8be8b686-53c4-416b-c0ec-51a219b6dd22",
        "colab": {
          "base_uri": "https://localhost:8080/",
          "height": 386
        }
      },
      "cell_type": "code",
      "source": [
        "test_df.loc[test_df['comp2'] == 'False'].groupby(['comp2', 'y_test'])[['y_test']].count()"
      ],
      "execution_count": 59,
      "outputs": [
        {
          "output_type": "execute_result",
          "data": {
            "text/html": [
              "<div>\n",
              "<style scoped>\n",
              "    .dataframe tbody tr th:only-of-type {\n",
              "        vertical-align: middle;\n",
              "    }\n",
              "\n",
              "    .dataframe tbody tr th {\n",
              "        vertical-align: top;\n",
              "    }\n",
              "\n",
              "    .dataframe thead th {\n",
              "        text-align: right;\n",
              "    }\n",
              "</style>\n",
              "<table border=\"1\" class=\"dataframe\">\n",
              "  <thead>\n",
              "    <tr style=\"text-align: right;\">\n",
              "      <th></th>\n",
              "      <th></th>\n",
              "      <th>y_test</th>\n",
              "    </tr>\n",
              "    <tr>\n",
              "      <th>comp2</th>\n",
              "      <th>y_test</th>\n",
              "      <th></th>\n",
              "    </tr>\n",
              "  </thead>\n",
              "  <tbody>\n",
              "    <tr>\n",
              "      <th rowspan=\"10\" valign=\"top\">False</th>\n",
              "      <th>0.0</th>\n",
              "      <td>44</td>\n",
              "    </tr>\n",
              "    <tr>\n",
              "      <th>1.0</th>\n",
              "      <td>21</td>\n",
              "    </tr>\n",
              "    <tr>\n",
              "      <th>2.0</th>\n",
              "      <td>105</td>\n",
              "    </tr>\n",
              "    <tr>\n",
              "      <th>3.0</th>\n",
              "      <td>123</td>\n",
              "    </tr>\n",
              "    <tr>\n",
              "      <th>4.0</th>\n",
              "      <td>92</td>\n",
              "    </tr>\n",
              "    <tr>\n",
              "      <th>5.0</th>\n",
              "      <td>175</td>\n",
              "    </tr>\n",
              "    <tr>\n",
              "      <th>6.0</th>\n",
              "      <td>77</td>\n",
              "    </tr>\n",
              "    <tr>\n",
              "      <th>7.0</th>\n",
              "      <td>101</td>\n",
              "    </tr>\n",
              "    <tr>\n",
              "      <th>8.0</th>\n",
              "      <td>196</td>\n",
              "    </tr>\n",
              "    <tr>\n",
              "      <th>9.0</th>\n",
              "      <td>171</td>\n",
              "    </tr>\n",
              "  </tbody>\n",
              "</table>\n",
              "</div>"
            ],
            "text/plain": [
              "              y_test\n",
              "comp2 y_test        \n",
              "False 0.0         44\n",
              "      1.0         21\n",
              "      2.0        105\n",
              "      3.0        123\n",
              "      4.0         92\n",
              "      5.0        175\n",
              "      6.0         77\n",
              "      7.0        101\n",
              "      8.0        196\n",
              "      9.0        171"
            ]
          },
          "metadata": {
            "tags": []
          },
          "execution_count": 59
        }
      ]
    },
    {
      "metadata": {
        "id": "f4rKKNOF4Kz2",
        "colab_type": "code",
        "outputId": "ee4b3668-d9c1-4017-da0c-96f16995666a",
        "colab": {
          "base_uri": "https://localhost:8080/",
          "height": 386
        }
      },
      "cell_type": "code",
      "source": [
        "test_df.loc[test_df['comp3'] == 'False'].groupby(['comp3', 'y_test'])[['y_test']].count()"
      ],
      "execution_count": 60,
      "outputs": [
        {
          "output_type": "execute_result",
          "data": {
            "text/html": [
              "<div>\n",
              "<style scoped>\n",
              "    .dataframe tbody tr th:only-of-type {\n",
              "        vertical-align: middle;\n",
              "    }\n",
              "\n",
              "    .dataframe tbody tr th {\n",
              "        vertical-align: top;\n",
              "    }\n",
              "\n",
              "    .dataframe thead th {\n",
              "        text-align: right;\n",
              "    }\n",
              "</style>\n",
              "<table border=\"1\" class=\"dataframe\">\n",
              "  <thead>\n",
              "    <tr style=\"text-align: right;\">\n",
              "      <th></th>\n",
              "      <th></th>\n",
              "      <th>y_test</th>\n",
              "    </tr>\n",
              "    <tr>\n",
              "      <th>comp3</th>\n",
              "      <th>y_test</th>\n",
              "      <th></th>\n",
              "    </tr>\n",
              "  </thead>\n",
              "  <tbody>\n",
              "    <tr>\n",
              "      <th rowspan=\"10\" valign=\"top\">False</th>\n",
              "      <th>0.0</th>\n",
              "      <td>36</td>\n",
              "    </tr>\n",
              "    <tr>\n",
              "      <th>1.0</th>\n",
              "      <td>22</td>\n",
              "    </tr>\n",
              "    <tr>\n",
              "      <th>2.0</th>\n",
              "      <td>114</td>\n",
              "    </tr>\n",
              "    <tr>\n",
              "      <th>3.0</th>\n",
              "      <td>129</td>\n",
              "    </tr>\n",
              "    <tr>\n",
              "      <th>4.0</th>\n",
              "      <td>91</td>\n",
              "    </tr>\n",
              "    <tr>\n",
              "      <th>5.0</th>\n",
              "      <td>148</td>\n",
              "    </tr>\n",
              "    <tr>\n",
              "      <th>6.0</th>\n",
              "      <td>74</td>\n",
              "    </tr>\n",
              "    <tr>\n",
              "      <th>7.0</th>\n",
              "      <td>113</td>\n",
              "    </tr>\n",
              "    <tr>\n",
              "      <th>8.0</th>\n",
              "      <td>184</td>\n",
              "    </tr>\n",
              "    <tr>\n",
              "      <th>9.0</th>\n",
              "      <td>145</td>\n",
              "    </tr>\n",
              "  </tbody>\n",
              "</table>\n",
              "</div>"
            ],
            "text/plain": [
              "              y_test\n",
              "comp3 y_test        \n",
              "False 0.0         36\n",
              "      1.0         22\n",
              "      2.0        114\n",
              "      3.0        129\n",
              "      4.0         91\n",
              "      5.0        148\n",
              "      6.0         74\n",
              "      7.0        113\n",
              "      8.0        184\n",
              "      9.0        145"
            ]
          },
          "metadata": {
            "tags": []
          },
          "execution_count": 60
        }
      ]
    },
    {
      "metadata": {
        "id": "oxcoTD3C4eHg",
        "colab_type": "code",
        "outputId": "8bb46a68-843e-4179-d5c2-440c9380e2c3",
        "colab": {
          "base_uri": "https://localhost:8080/",
          "height": 202
        }
      },
      "cell_type": "code",
      "source": [
        "test_df.groupby(['comp1', 'comp3'])[['y_test']].count()"
      ],
      "execution_count": 63,
      "outputs": [
        {
          "output_type": "execute_result",
          "data": {
            "text/html": [
              "<div>\n",
              "<style scoped>\n",
              "    .dataframe tbody tr th:only-of-type {\n",
              "        vertical-align: middle;\n",
              "    }\n",
              "\n",
              "    .dataframe tbody tr th {\n",
              "        vertical-align: top;\n",
              "    }\n",
              "\n",
              "    .dataframe thead th {\n",
              "        text-align: right;\n",
              "    }\n",
              "</style>\n",
              "<table border=\"1\" class=\"dataframe\">\n",
              "  <thead>\n",
              "    <tr style=\"text-align: right;\">\n",
              "      <th></th>\n",
              "      <th></th>\n",
              "      <th>y_test</th>\n",
              "    </tr>\n",
              "    <tr>\n",
              "      <th>comp1</th>\n",
              "      <th>comp3</th>\n",
              "      <th></th>\n",
              "    </tr>\n",
              "  </thead>\n",
              "  <tbody>\n",
              "    <tr>\n",
              "      <th rowspan=\"2\" valign=\"top\">False</th>\n",
              "      <th>False</th>\n",
              "      <td>640</td>\n",
              "    </tr>\n",
              "    <tr>\n",
              "      <th>True</th>\n",
              "      <td>1218</td>\n",
              "    </tr>\n",
              "    <tr>\n",
              "      <th rowspan=\"2\" valign=\"top\">True</th>\n",
              "      <th>False</th>\n",
              "      <td>416</td>\n",
              "    </tr>\n",
              "    <tr>\n",
              "      <th>True</th>\n",
              "      <td>7726</td>\n",
              "    </tr>\n",
              "  </tbody>\n",
              "</table>\n",
              "</div>"
            ],
            "text/plain": [
              "             y_test\n",
              "comp1 comp3        \n",
              "False False     640\n",
              "      True     1218\n",
              "True  False     416\n",
              "      True     7726"
            ]
          },
          "metadata": {
            "tags": []
          },
          "execution_count": 63
        }
      ]
    },
    {
      "metadata": {
        "id": "dCNZwsaQ4x__",
        "colab_type": "code",
        "colab": {}
      },
      "cell_type": "code",
      "source": [
        "#len(test_df.loc[(test_df['comp1'] == 'False') & (test_df['comp2'] == 'True')])\n",
        "#len(test_df.loc[(test_df['comp1'] == 'True') & (test_df['comp2'] == 'False')])\n",
        "#len(test_df.loc[(test_df['comp1'] == 'False') & (test_df['comp2'] == 'False')])"
      ],
      "execution_count": 0,
      "outputs": []
    }
  ]
}