{
  "nbformat": 4,
  "nbformat_minor": 0,
  "metadata": {
    "colab": {
      "name": "Untitled10.ipynb",
      "version": "0.3.2",
      "provenance": []
    },
    "kernelspec": {
      "display_name": "Python 3",
      "language": "python",
      "name": "python3"
    }
  },
  "cells": [
    {
      "metadata": {
        "id": "r3tJBA_j4x9U",
        "colab_type": "code",
        "colab": {}
      },
      "cell_type": "code",
      "source": [
        "# Common imports\n",
        "import numpy as np\n",
        "import os\n",
        "\n",
        "# to make this notebook's output stable across runs\n",
        "np.random.seed(42)\n",
        "\n",
        "# To plot pretty figures\n",
        "%matplotlib inline\n",
        "import matplotlib\n",
        "import matplotlib.pyplot as plt"
      ],
      "execution_count": 0,
      "outputs": []
    },
    {
      "metadata": {
        "id": "g-NADH8W4x9j",
        "colab_type": "code",
        "colab": {}
      },
      "cell_type": "code",
      "source": [
        "from sklearn.datasets import fetch_mldata\n",
        "#mnist = fetch_mldata('MNIST original')\n",
        "#mnist"
      ],
      "execution_count": 0,
      "outputs": []
    },
    {
      "metadata": {
        "id": "mK2ZjMK566aO",
        "colab_type": "code",
        "colab": {}
      },
      "cell_type": "code",
      "source": [
        "from six.moves import urllib\n",
        "from sklearn.datasets import fetch_mldata\n",
        "\n",
        "from scipy.io import loadmat\n",
        "mnist_alternative_url = \"https://github.com/amplab/datascience-sp14/raw/master/lab7/mldata/mnist-original.mat\"\n",
        "mnist_path = \"./mnist-original.mat\"\n",
        "response = urllib.request.urlopen(mnist_alternative_url)\n",
        "with open(mnist_path, \"wb\") as f:\n",
        "  content = response.read()\n",
        "  f.write(content)\n",
        "mnist_raw = loadmat(mnist_path)\n",
        "mnist = {\n",
        "\"data\": mnist_raw[\"data\"].T,\n",
        "\"target\": mnist_raw[\"label\"][0],\n",
        "\"COL_NAMES\": [\"label\", \"data\"],\n",
        "\"DESCR\": \"mldata.org dataset: mnist-original\",\n",
        "}"
      ],
      "execution_count": 0,
      "outputs": []
    },
    {
      "metadata": {
        "id": "avOC0g_t4x9z",
        "colab_type": "code",
        "outputId": "698f067b-8ea0-453d-e33b-54722033cb0c",
        "colab": {
          "base_uri": "https://localhost:8080/",
          "height": 35
        }
      },
      "cell_type": "code",
      "source": [
        "X, y = mnist[\"data\"], mnist[\"target\"]\n",
        "X.shape"
      ],
      "execution_count": 51,
      "outputs": [
        {
          "output_type": "execute_result",
          "data": {
            "text/plain": [
              "(70000, 784)"
            ]
          },
          "metadata": {
            "tags": []
          },
          "execution_count": 51
        }
      ]
    },
    {
      "metadata": {
        "id": "Tc68ctJn4x9z",
        "colab_type": "code",
        "outputId": "c6b766d2-7f6f-469b-b902-d77294e4f2c6",
        "colab": {
          "base_uri": "https://localhost:8080/",
          "height": 265
        }
      },
      "cell_type": "code",
      "source": [
        "%matplotlib inline\n",
        "import matplotlib\n",
        "import matplotlib.pyplot as plt\n",
        "\n",
        "some_digit = X[36000]\n",
        "some_digit_image = some_digit.reshape(28, 28)\n",
        "plt.imshow(some_digit_image, cmap = matplotlib.cm.binary,\n",
        "           interpolation=\"nearest\")\n",
        "plt.axis(\"off\")\n",
        "\n",
        "plt.show()"
      ],
      "execution_count": 52,
      "outputs": [
        {
          "output_type": "display_data",
          "data": {
            "image/png": "[encoded data removed]",
            "text/plain": [
              "<matplotlib.figure.Figure at 0x7fc96739da90>"
            ]
          },
          "metadata": {
            "tags": []
          }
        }
      ]
    },
    {
      "metadata": {
        "id": "DvRQ-ISI4x9z",
        "colab_type": "code",
        "colab": {}
      },
      "cell_type": "code",
      "source": [
        "def plot_digit(data):\n",
        "    image = data.reshape(28, 28)\n",
        "    plt.imshow(image, cmap = matplotlib.cm.binary,\n",
        "               interpolation=\"nearest\")\n",
        "    plt.axis(\"off\")"
      ],
      "execution_count": 0,
      "outputs": []
    },
    {
      "metadata": {
        "id": "sSQidvoK4x-C",
        "colab_type": "code",
        "colab": {}
      },
      "cell_type": "code",
      "source": [
        "# EXTRA\n",
        "def plot_digits(instances, images_per_row=10, **options):\n",
        "    size = 28\n",
        "    images_per_row = min(len(instances), images_per_row)\n",
        "    images = [instance.reshape(size,size) for instance in instances]\n",
        "    n_rows = (len(instances) - 1) // images_per_row + 1\n",
        "    row_images = []\n",
        "    n_empty = n_rows * images_per_row - len(instances)\n",
        "    images.append(np.zeros((size, size * n_empty)))\n",
        "    for row in range(n_rows):\n",
        "        rimages = images[row * images_per_row : (row + 1) * images_per_row]\n",
        "        row_images.append(np.concatenate(rimages, axis=1))\n",
        "    image = np.concatenate(row_images, axis=0)\n",
        "    plt.imshow(image, cmap = matplotlib.cm.binary, **options)\n",
        "    plt.axis(\"off\")"
      ],
      "execution_count": 0,
      "outputs": []
    },
    {
      "metadata": {
        "id": "84V4r3k94x-C",
        "colab_type": "code",
        "colab": {}
      },
      "cell_type": "code",
      "source": [
        "X_train, X_test, y_train, y_test = X[:60000], X[60000:], y[:60000], y[60000:]\n",
        "#X_train, X_test, y_train, y_test = X[:600], X[600:], y[:600], y[600:]"
      ],
      "execution_count": 0,
      "outputs": []
    },
    {
      "metadata": {
        "id": "OCJB3eD14x-C",
        "colab_type": "code",
        "colab": {}
      },
      "cell_type": "code",
      "source": [
        "import numpy as np\n",
        "shuffle_index = np.random.permutation(60000) \n",
        "#X_train, y_train = X_train[shuffle_index], y_train[shuffle_index]"
      ],
      "execution_count": 0,
      "outputs": []
    },
    {
      "metadata": {
        "id": "LiLRSASo4x-S",
        "colab_type": "code",
        "colab": {}
      },
      "cell_type": "code",
      "source": [
        "import datetime\n",
        "from sklearn.ensemble import RandomForestClassifier\n",
        "from sklearn.metrics import mean_squared_error\n",
        "from sklearn.model_selection import cross_val_predict\n",
        "from sklearn.model_selection import cross_val_score\n",
        "from sklearn.metrics import confusion_matrix"
      ],
      "execution_count": 0,
      "outputs": []
    },
    {
      "metadata": {
        "id": "FtGzOHss4x-S",
        "colab_type": "code",
        "colab": {}
      },
      "cell_type": "code",
      "source": [
        "rnd_clf = RandomForestClassifier(\n",
        "    n_estimators=10, \n",
        "    max_leaf_nodes=30, \n",
        "    n_jobs=-1, \n",
        "    criterion=\"gini\", \n",
        "    max_depth=10, \n",
        "    max_features = 'sqrt',\n",
        "    bootstrap = True,\n",
        "    min_impurity_decrease=0.0,\n",
        "    min_samples_split = 5,\n",
        "    min_samples_leaf = 4,\n",
        "    random_state=42\n",
        ")"
      ],
      "execution_count": 0,
      "outputs": []
    },
    {
      "metadata": {
        "id": "RQ0A66CN4x-S",
        "colab_type": "code",
        "outputId": "ce77bbdd-0d4e-4b16-deaf-05bf379b2782",
        "colab": {
          "base_uri": "https://localhost:8080/",
          "height": 35
        }
      },
      "cell_type": "code",
      "source": [
        "start_tm=datetime.datetime.now()\n",
        "rnd_clf.fit(X_train, y_train)\n",
        "end_tm=datetime.datetime.now()\n",
        "print (\"Time taken to fit the Random Classifier model is \",end_tm - start_tm)"
      ],
      "execution_count": 59,
      "outputs": [
        {
          "output_type": "stream",
          "text": [
            "Time taken to fit the Random Classifier model is  0:00:01.695466\n"
          ],
          "name": "stdout"
        }
      ]
    },
    {
      "metadata": {
        "id": "7wM7QnT64x-S",
        "colab_type": "code",
        "colab": {}
      },
      "cell_type": "code",
      "source": [
        "Randforest_scores = cross_val_score(rnd_clf, X_train, y_train, cv=10, scoring=\"accuracy\")"
      ],
      "execution_count": 0,
      "outputs": []
    },
    {
      "metadata": {
        "id": "kKT2RUZi4x-i",
        "colab_type": "code",
        "outputId": "d787c678-dee6-41df-bb49-da8721089e46",
        "colab": {
          "base_uri": "https://localhost:8080/",
          "height": 35
        }
      },
      "cell_type": "code",
      "source": [
        "Randforest_scores.mean()"
      ],
      "execution_count": 61,
      "outputs": [
        {
          "output_type": "execute_result",
          "data": {
            "text/plain": [
              "0.8178696396847387"
            ]
          },
          "metadata": {
            "tags": []
          },
          "execution_count": 61
        }
      ]
    },
    {
      "metadata": {
        "id": "mlu8Lk5b4x-i",
        "colab_type": "code",
        "outputId": "53d08048-c430-402b-f922-b4a7702d0200",
        "colab": {
          "base_uri": "https://localhost:8080/",
          "height": 35
        }
      },
      "cell_type": "code",
      "source": [
        "start_tm=datetime.datetime.now()\n",
        "y_train_pred_RandF = cross_val_predict(rnd_clf, X_train, y_train, cv=10, method=\"predict\")\n",
        "#y_train_pred_RandF = rnd_clf.predict(X_train)\n",
        "end_tm=datetime.datetime.now()\n",
        "print (\"Time taken to Predict outcomes on training dataset is \",end_tm - start_tm)"
      ],
      "execution_count": 62,
      "outputs": [
        {
          "output_type": "stream",
          "text": [
            "Time taken to Predict outcomes on training dataset is  0:00:18.060861\n"
          ],
          "name": "stdout"
        }
      ]
    },
    {
      "metadata": {
        "id": "9n8K17-Y4x-i",
        "colab_type": "code",
        "outputId": "98bc74da-152c-4020-c882-f39eee13f155",
        "colab": {
          "base_uri": "https://localhost:8080/",
          "height": 35
        }
      },
      "cell_type": "code",
      "source": [
        "start_tm=datetime.datetime.now()\n",
        "y_test_pred_RandF = cross_val_predict(rnd_clf, X_test, y_test, cv=10, method=\"predict\")\n",
        "#y_test_pred_RandF = rnd_clf.predict(X_test)\n",
        "end_tm=datetime.datetime.now()\n",
        "print (\"Time taken to Predict outcomes on hold-out dataset is \",end_tm - start_tm)"
      ],
      "execution_count": 63,
      "outputs": [
        {
          "output_type": "stream",
          "text": [
            "Time taken to Predict outcomes on hold-out dataset is  0:00:04.289153\n"
          ],
          "name": "stdout"
        }
      ]
    },
    {
      "metadata": {
        "id": "PM0DAP7u4x-x",
        "colab_type": "code",
        "outputId": "ba687903-1d66-49ff-80ad-1bb435010f3b",
        "colab": {
          "base_uri": "https://localhost:8080/",
          "height": 191
        }
      },
      "cell_type": "code",
      "source": [
        "conf_mx = confusion_matrix(y_test, y_test_pred_RandF)\n",
        "conf_mx"
      ],
      "execution_count": 64,
      "outputs": [
        {
          "output_type": "execute_result",
          "data": {
            "text/plain": [
              "array([[ 947,    0,    5,    6,    2,    4,    2,    5,    9,    0],\n",
              "       [   0, 1093,    8,   11,    0,    0,    2,    1,   20,    0],\n",
              "       [  33,   25,  831,   30,   19,    3,   25,   29,   26,   11],\n",
              "       [  18,   18,   25,  824,    4,   31,    6,   19,   40,   25],\n",
              "       [   6,   11,    5,    3,  767,    3,   29,    7,   29,  122],\n",
              "       [  43,   36,   10,  153,   30,  476,   19,   22,   51,   52],\n",
              "       [  56,   14,   31,   15,   24,   15,  756,    7,   38,    2],\n",
              "       [   9,   26,   32,    4,   17,    0,    0,  890,    8,   42],\n",
              "       [   9,   42,   42,   48,   13,   12,   23,   18,  738,   29],\n",
              "       [  15,   10,   11,   16,   63,   12,    6,   23,   33,  820]])"
            ]
          },
          "metadata": {
            "tags": []
          },
          "execution_count": 64
        }
      ]
    },
    {
      "metadata": {
        "id": "E8IOTkq24x-x",
        "colab_type": "code",
        "colab": {}
      },
      "cell_type": "code",
      "source": [
        "def plot_confusion_matrix(matrix):\n",
        "    \"\"\"If you prefer color and a colorbar\"\"\"\n",
        "    fig = plt.figure(figsize=(8,8))\n",
        "    ax = fig.add_subplot(111)\n",
        "    cax = ax.matshow(matrix)\n",
        "    fig.colorbar(cax)"
      ],
      "execution_count": 0,
      "outputs": []
    },
    {
      "metadata": {
        "id": "fZdcLp424x-x",
        "colab_type": "code",
        "outputId": "e620eee0-ce1b-4e70-903b-83989e4711ed",
        "colab": {
          "base_uri": "https://localhost:8080/",
          "height": 271
        }
      },
      "cell_type": "code",
      "source": [
        "plt.matshow(conf_mx, cmap=plt.cm.gray)\n",
        "plt.show()"
      ],
      "execution_count": 66,
      "outputs": [
        {
          "output_type": "display_data",
          "data": {
            "image/png": "[encoded data removed]",
            "text/plain": [
              "<matplotlib.figure.Figure at 0x7fc95cc6c7f0>"
            ]
          },
          "metadata": {
            "tags": []
          }
        }
      ]
    },
    {
      "metadata": {
        "id": "6AIDsEQM4x-x",
        "colab_type": "code",
        "colab": {}
      },
      "cell_type": "code",
      "source": [
        "row_sums = conf_mx.sum(axis=1, keepdims=True)\n",
        "norm_conf_mx1 = conf_mx / row_sums"
      ],
      "execution_count": 0,
      "outputs": []
    },
    {
      "metadata": {
        "id": "D9o2AFQN4x-x",
        "colab_type": "code",
        "outputId": "196c9d17-c679-4479-e251-75fa2f8083b8",
        "colab": {
          "base_uri": "https://localhost:8080/",
          "height": 271
        }
      },
      "cell_type": "code",
      "source": [
        "np.fill_diagonal(norm_conf_mx1, 0)\n",
        "plt.matshow(norm_conf_mx1, cmap=plt.cm.gray)\n",
        "plt.show()"
      ],
      "execution_count": 68,
      "outputs": [
        {
          "output_type": "display_data",
          "data": {
            "image/png": "[encoded data removed]",
            "text/plain": [
              "<matplotlib.figure.Figure at 0x7fc95cc5a710>"
            ]
          },
          "metadata": {
            "tags": []
          }
        }
      ]
    },
    {
      "metadata": {
        "id": "ZofdImLN4x_B",
        "colab_type": "code",
        "outputId": "4601c6e1-7a71-49db-ab7d-7255d991da88",
        "colab": {
          "base_uri": "https://localhost:8080/",
          "height": 173
        }
      },
      "cell_type": "code",
      "source": [
        "from sklearn.metrics import f1_score\n",
        "from sklearn.metrics import precision_score, recall_score\n",
        "from sklearn.metrics import precision_score\n",
        "from sklearn.metrics import recall_score\n",
        "print ('F1 Score = ',f1_score(y_test, y_test_pred_RandF, average=\"macro\"))\n",
        "print ('Precision Score = ',precision_score(y_test, y_test_pred_RandF, average='macro'))\n",
        "print ('Recall Score = ',recall_score(y_test, y_test_pred_RandF, average='macro'))"
      ],
      "execution_count": 136,
      "outputs": [
        {
          "output_type": "stream",
          "text": [
            "F1 Score =  0.8142\n",
            "Precision Score =  0.8142\n",
            "Recall Score =  0.8142\n",
            "F1 Score =  0.8872817773754409\n",
            "Precision Score =  0.8885624444387801\n",
            "Recall Score =  0.8895\n",
            "F1 Score =  0.8927081706724787\n",
            "Precision Score =  0.8941229244798391\n",
            "Recall Score =  0.8945\n"
          ],
          "name": "stdout"
        }
      ]
    },
    {
      "metadata": {
        "id": "xQ3M1D7d4x_B",
        "colab_type": "code",
        "colab": {}
      },
      "cell_type": "code",
      "source": [
        "# Execute principal components analysis (PCA) on the full set of 70,000, generating principal components that \n",
        "# represent 95 percent of the variability in the explanatory variables. The number of principal components in the \n",
        "# solution should be substantially fewer than the 784 explanatory variables. \n",
        "# Record the time it takes to identify the principal components."
      ],
      "execution_count": 0,
      "outputs": []
    },
    {
      "metadata": {
        "id": "xBm2aiK84x_B",
        "colab_type": "code",
        "outputId": "74d56295-8522-481a-befa-d34fb6fa6238",
        "colab": {
          "base_uri": "https://localhost:8080/",
          "height": 35
        }
      },
      "cell_type": "code",
      "source": [
        "from sklearn.decomposition import PCA\n",
        "\n",
        "pca = PCA()\n",
        "start_tm=datetime.datetime.now()\n",
        "pca.fit(X)\n",
        "end_tm=datetime.datetime.now()\n",
        "print (\"Time taken to determine number of PCAs to produce 95% variability is \",end_tm - start_tm)\n",
        "cumsum = np.cumsum(pca.explained_variance_ratio_)\n",
        "d = np.argmax(cumsum >= 0.95) + 1"
      ],
      "execution_count": 72,
      "outputs": [
        {
          "output_type": "stream",
          "text": [
            "Time taken to determine number of PCAs to produce 95% variability is  0:00:15.906181\n"
          ],
          "name": "stdout"
        }
      ]
    },
    {
      "metadata": {
        "id": "XDy7P6E34x_Q",
        "colab_type": "code",
        "outputId": "9a945cb0-50f3-4795-c158-89df4c8ab7b4",
        "colab": {
          "base_uri": "https://localhost:8080/",
          "height": 35
        }
      },
      "cell_type": "code",
      "source": [
        "np.sum(pca.explained_variance_ratio_)"
      ],
      "execution_count": 73,
      "outputs": [
        {
          "output_type": "execute_result",
          "data": {
            "text/plain": [
              "0.9999999999999999"
            ]
          },
          "metadata": {
            "tags": []
          },
          "execution_count": 73
        }
      ]
    },
    {
      "metadata": {
        "id": "ml7_OdTx4x_Q",
        "colab_type": "code",
        "outputId": "4cf486a1-f1c8-4f05-9382-6247d990a344",
        "colab": {
          "base_uri": "https://localhost:8080/",
          "height": 35
        }
      },
      "cell_type": "code",
      "source": [
        "print(d, pca.n_components_)"
      ],
      "execution_count": 74,
      "outputs": [
        {
          "output_type": "stream",
          "text": [
            "154 784\n"
          ],
          "name": "stdout"
        }
      ]
    },
    {
      "metadata": {
        "id": "RKF8Tfv14x_Q",
        "colab_type": "code",
        "colab": {}
      },
      "cell_type": "code",
      "source": [
        "pca = PCA(n_components=0.95)\n",
        "start_tm=datetime.datetime.now()\n",
        "pca.fit(X)\n",
        "end_tm=datetime.datetime.now()\n",
        "print (\"Time taken to determine number of PCAs to produce 95% variability (on entire dataset) is \",end_tm - start_tm)\n",
        "X_trans = pca.transform(X)"
      ],
      "execution_count": 0,
      "outputs": []
    },
    {
      "metadata": {
        "id": "5kOgDvpFxe8n",
        "colab_type": "code",
        "colab": {
          "base_uri": "https://localhost:8080/",
          "height": 35
        },
        "outputId": "b416ed80-a19b-4c32-f45f-a0eb936d09a4"
      },
      "cell_type": "code",
      "source": [
        "print(d, pca.n_components_)"
      ],
      "execution_count": 76,
      "outputs": [
        {
          "output_type": "stream",
          "text": [
            "154 154\n"
          ],
          "name": "stdout"
        }
      ]
    },
    {
      "metadata": {
        "id": "csObWoZtyrOg",
        "colab_type": "code",
        "colab": {}
      },
      "cell_type": "code",
      "source": [
        "X_trans_train, X_trans_test, y_train, y_test = X_trans[:60000], X_trans[60000:], y[:60000], y[60000:]"
      ],
      "execution_count": 0,
      "outputs": []
    },
    {
      "metadata": {
        "id": "FD0H7Ttc4x_g",
        "colab_type": "code",
        "colab": {
          "base_uri": "https://localhost:8080/",
          "height": 35
        },
        "outputId": "b9f1909c-f950-447a-8532-2c2d2f521822"
      },
      "cell_type": "code",
      "source": [
        "Rand_clf2 = RandomForestClassifier()\n",
        "start_tm=datetime.datetime.now()\n",
        "Rand_clf2.fit(X_trans_train, y_train)\n",
        "end_tm=datetime.datetime.now()\n",
        "print (\"Time taken to fit the Random Forest Classifier model on Reduced dataset is \",end_tm - start_tm)\n",
        "y_test_pred_randclf2 = Rand_clf2.predict(X_trans_test)"
      ],
      "execution_count": 78,
      "outputs": [
        {
          "output_type": "stream",
          "text": [
            "Time taken to fit the Random Forest Classifier model on Reduced dataset is  0:00:11.234621\n"
          ],
          "name": "stdout"
        }
      ]
    },
    {
      "metadata": {
        "id": "e9hI_78G4x_g",
        "colab_type": "code",
        "outputId": "458d151f-16e1-41bf-d832-4ed72da92741",
        "colab": {
          "base_uri": "https://localhost:8080/",
          "height": 35
        }
      },
      "cell_type": "code",
      "source": [
        "y_train"
      ],
      "execution_count": 79,
      "outputs": [
        {
          "output_type": "execute_result",
          "data": {
            "text/plain": [
              "array([0., 0., 0., ..., 9., 9., 9.])"
            ]
          },
          "metadata": {
            "tags": []
          },
          "execution_count": 79
        }
      ]
    },
    {
      "metadata": {
        "id": "Mu7INsiF4x_g",
        "colab_type": "code",
        "outputId": "ac5da4c2-74a7-48e5-d648-0bfbdc25f632",
        "colab": {
          "base_uri": "https://localhost:8080/",
          "height": 35
        }
      },
      "cell_type": "code",
      "source": [
        "y_test_pred_randclf2"
      ],
      "execution_count": 80,
      "outputs": [
        {
          "output_type": "execute_result",
          "data": {
            "text/plain": [
              "array([0., 0., 0., ..., 9., 9., 9.])"
            ]
          },
          "metadata": {
            "tags": []
          },
          "execution_count": 80
        }
      ]
    },
    {
      "metadata": {
        "id": "J7qLwjiY4x_g",
        "colab_type": "code",
        "outputId": "b367677b-9bd5-40a6-a6a9-88373f42c9ff",
        "colab": {
          "base_uri": "https://localhost:8080/",
          "height": 191
        }
      },
      "cell_type": "code",
      "source": [
        "conf_mx2 = confusion_matrix(y_test, y_test_pred_randclf2)\n",
        "conf_mx2"
      ],
      "execution_count": 81,
      "outputs": [
        {
          "output_type": "execute_result",
          "data": {
            "text/plain": [
              "array([[ 936,    0,    8,    4,    3,    8,   10,    3,    6,    2],\n",
              "       [   2, 1114,    4,    3,    1,    4,    2,    1,    3,    1],\n",
              "       [  20,    3,  927,   21,    9,    4,    9,    7,   28,    4],\n",
              "       [  11,    2,   34,  887,    4,   30,    5,   11,   22,    4],\n",
              "       [   3,    2,   17,    5,  890,    6,   13,    5,    7,   34],\n",
              "       [  29,    1,   20,   54,   15,  717,   11,    5,   24,   16],\n",
              "       [  19,    4,   15,    3,   13,   17,  881,    1,    5,    0],\n",
              "       [   2,   16,   29,    2,   21,    2,    3,  927,    3,   23],\n",
              "       [  23,    1,   31,   56,   14,   46,   11,    7,  778,    7],\n",
              "       [  15,    7,    9,   17,   59,    8,    1,   38,   17,  838]])"
            ]
          },
          "metadata": {
            "tags": []
          },
          "execution_count": 81
        }
      ]
    },
    {
      "metadata": {
        "id": "T0Q5M66Y4x_w",
        "colab_type": "code",
        "outputId": "576c27f0-8e11-475a-f974-f3d9e484425c",
        "colab": {
          "base_uri": "https://localhost:8080/",
          "height": 271
        }
      },
      "cell_type": "code",
      "source": [
        "plt.matshow(conf_mx2, cmap=plt.cm.gray)\n",
        "plt.show()"
      ],
      "execution_count": 82,
      "outputs": [
        {
          "output_type": "display_data",
          "data": {
            "image/png": "[encoded data removed]",
            "text/plain": [
              "<matplotlib.figure.Figure at 0x7fc960e6c908>"
            ]
          },
          "metadata": {
            "tags": []
          }
        }
      ]
    },
    {
      "metadata": {
        "id": "L6l8QgFO4x_w",
        "colab_type": "code",
        "colab": {}
      },
      "cell_type": "code",
      "source": [
        "row_sums = conf_mx2.sum(axis=1, keepdims=True)\n",
        "norm_conf_mx2 = conf_mx2 / row_sums"
      ],
      "execution_count": 0,
      "outputs": []
    },
    {
      "metadata": {
        "id": "cdKUPFx44x_w",
        "colab_type": "code",
        "outputId": "c3be4758-60ef-482a-c19e-7c2b6c5a9d34",
        "colab": {
          "base_uri": "https://localhost:8080/",
          "height": 271
        }
      },
      "cell_type": "code",
      "source": [
        "np.fill_diagonal(norm_conf_mx2, 0)\n",
        "plt.matshow(norm_conf_mx2, cmap=plt.cm.gray)\n",
        "plt.show()"
      ],
      "execution_count": 84,
      "outputs": [
        {
          "output_type": "display_data",
          "data": {
            "image/png": "[encoded data removed]",
            "text/plain": [
              "<matplotlib.figure.Figure at 0x7fc9606471d0>"
            ]
          },
          "metadata": {
            "tags": []
          }
        }
      ]
    },
    {
      "metadata": {
        "id": "KmS4CKg-4x_w",
        "colab_type": "code",
        "outputId": "e7dc775a-4e49-40b5-eb0a-b0ce0ef91456",
        "colab": {
          "base_uri": "https://localhost:8080/",
          "height": 69
        }
      },
      "cell_type": "code",
      "source": [
        "print ('F1 Score = ',f1_score(y_test, y_test_pred_randclf2, average=\"macro\"))\n",
        "print ('Precision Score = ',precision_score(y_test, y_test_pred_randclf2, average='macro'))\n",
        "print ('Recall Score = ',recall_score(y_test, y_test_pred_randclf2, average='macro'))"
      ],
      "execution_count": 138,
      "outputs": [
        {
          "output_type": "stream",
          "text": [
            "F1 Score =  0.8872817773754409\n",
            "Precision Score =  0.8885624444387801\n",
            "Recall Score =  0.8873867208297337\n"
          ],
          "name": "stdout"
        }
      ]
    },
    {
      "metadata": {
        "id": "FX1CeYZ83GjB",
        "colab_type": "code",
        "colab": {
          "base_uri": "https://localhost:8080/",
          "height": 35
        },
        "outputId": "ecd9cbc3-b490-40e5-e1a0-9dc277b29ebe"
      },
      "cell_type": "code",
      "source": [
        "pca = PCA(n_components=0.95)\n",
        "start_tm=datetime.datetime.now()\n",
        "pca.fit(X_train)\n",
        "end_tm=datetime.datetime.now()\n",
        "print (\"Time taken to determine number of PCAs to produce 95% variability (on Training dataset) is \",end_tm - start_tm)\n",
        "X_trans_train_3 = pca.transform(X_train)\n",
        "X_trans_test_3 = pca.transform(X_test)"
      ],
      "execution_count": 105,
      "outputs": [
        {
          "output_type": "stream",
          "text": [
            "Time taken to Identify PCA on Training Dataset is  0:00:12.703211\n"
          ],
          "name": "stdout"
        }
      ]
    },
    {
      "metadata": {
        "id": "TPAw_axP3Kyp",
        "colab_type": "code",
        "colab": {
          "base_uri": "https://localhost:8080/",
          "height": 35
        },
        "outputId": "c5415532-7cdb-4ffe-ac6e-a6c33e65cf8b"
      },
      "cell_type": "code",
      "source": [
        "Rand_clf3 = RandomForestClassifier()\n",
        "start_tm=datetime.datetime.now()\n",
        "Rand_clf3.fit(X_trans_train_3, y_train)\n",
        "end_tm=datetime.datetime.now()\n",
        "print (\"Time taken to fit the Random Forest Classifier model on Reduced dataset is \",end_tm - start_tm)\n",
        "y_test_pred_randclf3 = Rand_clf3.predict(X_trans_test_3)"
      ],
      "execution_count": 118,
      "outputs": [
        {
          "output_type": "stream",
          "text": [
            "Time taken to fit the Random Forest Classifier model on Reduced dataset is  0:00:12.139214\n"
          ],
          "name": "stdout"
        }
      ]
    },
    {
      "metadata": {
        "id": "eLTLElA_6GJp",
        "colab_type": "code",
        "colab": {
          "base_uri": "https://localhost:8080/",
          "height": 69
        },
        "outputId": "0c066fe0-e53b-41c0-f83f-6a0d47faa957"
      },
      "cell_type": "code",
      "source": [
        "print ('F1 Score = ',f1_score(y_test, y_test_pred_randclf3, average=\"macro\"))\n",
        "print ('Precision Score = ',precision_score(y_test, y_test_pred_randclf3, average='macro'))\n",
        "print ('Recall Score = ',recall_score(y_test, y_test_pred_randclf3, average='macro'))"
      ],
      "execution_count": 139,
      "outputs": [
        {
          "output_type": "stream",
          "text": [
            "F1 Score =  0.8927081706724787\n",
            "Precision Score =  0.8941229244798391\n",
            "Recall Score =  0.8927302670558197\n"
          ],
          "name": "stdout"
        }
      ]
    },
    {
      "metadata": {
        "id": "GSrDl7DB7-uB",
        "colab_type": "code",
        "colab": {
          "base_uri": "https://localhost:8080/",
          "height": 191
        },
        "outputId": "a25ecb76-ca6d-498c-929f-0276af948ac1"
      },
      "cell_type": "code",
      "source": [
        "conf_mx3 = confusion_matrix(y_test, y_test_pred_randclf3)\n",
        "conf_mx3"
      ],
      "execution_count": 119,
      "outputs": [
        {
          "output_type": "execute_result",
          "data": {
            "text/plain": [
              "array([[ 937,    0,   10,    5,    3,    9,    6,    2,    4,    4],\n",
              "       [   1, 1115,    5,    2,    0,    2,    4,    0,    5,    1],\n",
              "       [  22,    3,  916,   32,   10,    4,    6,    9,   26,    4],\n",
              "       [  10,    2,   22,  910,    2,   34,    1,   11,   11,    7],\n",
              "       [   7,    2,   15,    3,  890,    9,    8,    8,    5,   35],\n",
              "       [  17,    3,   19,   55,   12,  747,    6,    6,   18,    9],\n",
              "       [  21,    4,   19,    6,    9,   17,  877,    0,    3,    2],\n",
              "       [   3,   11,   20,    5,   23,    5,    1,  928,    7,   25],\n",
              "       [  18,    5,   31,   50,   22,   41,   10,    9,  780,    8],\n",
              "       [   8,    3,    6,   15,   67,    8,    2,   45,   10,  845]])"
            ]
          },
          "metadata": {
            "tags": []
          },
          "execution_count": 119
        }
      ]
    },
    {
      "metadata": {
        "id": "M94hUQLz7-k8",
        "colab_type": "code",
        "colab": {
          "base_uri": "https://localhost:8080/",
          "height": 271
        },
        "outputId": "e2986741-863d-4c68-8bd0-d4e930474eb9"
      },
      "cell_type": "code",
      "source": [
        "plt.matshow(conf_mx3, cmap=plt.cm.gray)\n",
        "plt.show()"
      ],
      "execution_count": 120,
      "outputs": [
        {
          "output_type": "display_data",
          "data": {
            "image/png": "[encoded data removed]",
            "text/plain": [
              "<matplotlib.figure.Figure at 0x7fc960295940>"
            ]
          },
          "metadata": {
            "tags": []
          }
        }
      ]
    },
    {
      "metadata": {
        "id": "ccUTUcwz7-Wx",
        "colab_type": "code",
        "colab": {}
      },
      "cell_type": "code",
      "source": [
        "row_sums = conf_mx3.sum(axis=1, keepdims=True)\n",
        "norm_conf_mx3 = conf_mx3 / row_sums"
      ],
      "execution_count": 0,
      "outputs": []
    },
    {
      "metadata": {
        "id": "Y58-DwPt8BMf",
        "colab_type": "code",
        "colab": {
          "base_uri": "https://localhost:8080/",
          "height": 271
        },
        "outputId": "b71c74f5-1aba-497a-9bdf-ff8d37dcd277"
      },
      "cell_type": "code",
      "source": [
        "np.fill_diagonal(norm_conf_mx3, 0)\n",
        "plt.matshow(norm_conf_mx3, cmap=plt.cm.gray)\n",
        "plt.show()"
      ],
      "execution_count": 122,
      "outputs": [
        {
          "output_type": "display_data",
          "data": {
            "image/png": "[encoded data removed]",
            "text/plain": [
              "<matplotlib.figure.Figure at 0x7fc960395a58>"
            ]
          },
          "metadata": {
            "tags": []
          }
        }
      ]
    },
    {
      "metadata": {
        "id": "zuKrAONC4x_w",
        "colab_type": "code",
        "colab": {}
      },
      "cell_type": "code",
      "source": [
        "correct_knt = (y_test == y_test_pred_randclf2)\n",
        "incorrect_knt = (y_test != y_test_pred_randclf2)"
      ],
      "execution_count": 0,
      "outputs": []
    },
    {
      "metadata": {
        "id": "O_JxdAzd4x_w",
        "colab_type": "code",
        "colab": {}
      },
      "cell_type": "code",
      "source": [
        "import pandas as pd\n",
        "test_df = pd.DataFrame({'y_test':y_test\n",
        "                       , 'y_test_pred_RandF':y_test_pred_RandF\n",
        "                       , 'y_test_pred_randclf2':y_test_pred_randclf2\n",
        "                       , 'y_test_pred_randclf3':y_test_pred_randclf3})"
      ],
      "execution_count": 0,
      "outputs": []
    },
    {
      "metadata": {
        "id": "uBUE3G9P4x__",
        "colab_type": "code",
        "colab": {}
      },
      "cell_type": "code",
      "source": [
        "test_df['comp1'] = test_df.apply(lambda x: 'True' if x['y_test'] == x['y_test_pred_RandF'] else 'False', axis=1)\n",
        "test_df['comp2'] = test_df.apply(lambda x: 'True' if x['y_test'] == x['y_test_pred_randclf2'] else 'False', axis=1)\n",
        "test_df['comp3'] = test_df.apply(lambda x: 'True' if x['y_test'] == x['y_test_pred_randclf3'] else 'False', axis=1)"
      ],
      "execution_count": 0,
      "outputs": []
    },
    {
      "metadata": {
        "id": "yESvhRYY4x__",
        "colab_type": "code",
        "outputId": "4a4a23a8-6f5b-42ec-8a53-cfbbf3d10f92",
        "colab": {
          "base_uri": "https://localhost:8080/",
          "height": 386
        }
      },
      "cell_type": "code",
      "source": [
        "test_df.loc[test_df['comp1'] == 'False'].groupby(['comp1', 'y_test'])[['y_test']].count()"
      ],
      "execution_count": 111,
      "outputs": [
        {
          "output_type": "execute_result",
          "data": {
            "text/html": [
              "<div>\n",
              "<style scoped>\n",
              "    .dataframe tbody tr th:only-of-type {\n",
              "        vertical-align: middle;\n",
              "    }\n",
              "\n",
              "    .dataframe tbody tr th {\n",
              "        vertical-align: top;\n",
              "    }\n",
              "\n",
              "    .dataframe thead th {\n",
              "        text-align: right;\n",
              "    }\n",
              "</style>\n",
              "<table border=\"1\" class=\"dataframe\">\n",
              "  <thead>\n",
              "    <tr style=\"text-align: right;\">\n",
              "      <th></th>\n",
              "      <th></th>\n",
              "      <th>y_test</th>\n",
              "    </tr>\n",
              "    <tr>\n",
              "      <th>comp1</th>\n",
              "      <th>y_test</th>\n",
              "      <th></th>\n",
              "    </tr>\n",
              "  </thead>\n",
              "  <tbody>\n",
              "    <tr>\n",
              "      <th rowspan=\"10\" valign=\"top\">False</th>\n",
              "      <th>0.0</th>\n",
              "      <td>33</td>\n",
              "    </tr>\n",
              "    <tr>\n",
              "      <th>1.0</th>\n",
              "      <td>42</td>\n",
              "    </tr>\n",
              "    <tr>\n",
              "      <th>2.0</th>\n",
              "      <td>201</td>\n",
              "    </tr>\n",
              "    <tr>\n",
              "      <th>3.0</th>\n",
              "      <td>186</td>\n",
              "    </tr>\n",
              "    <tr>\n",
              "      <th>4.0</th>\n",
              "      <td>215</td>\n",
              "    </tr>\n",
              "    <tr>\n",
              "      <th>5.0</th>\n",
              "      <td>416</td>\n",
              "    </tr>\n",
              "    <tr>\n",
              "      <th>6.0</th>\n",
              "      <td>202</td>\n",
              "    </tr>\n",
              "    <tr>\n",
              "      <th>7.0</th>\n",
              "      <td>138</td>\n",
              "    </tr>\n",
              "    <tr>\n",
              "      <th>8.0</th>\n",
              "      <td>236</td>\n",
              "    </tr>\n",
              "    <tr>\n",
              "      <th>9.0</th>\n",
              "      <td>189</td>\n",
              "    </tr>\n",
              "  </tbody>\n",
              "</table>\n",
              "</div>"
            ],
            "text/plain": [
              "              y_test\n",
              "comp1 y_test        \n",
              "False 0.0         33\n",
              "      1.0         42\n",
              "      2.0        201\n",
              "      3.0        186\n",
              "      4.0        215\n",
              "      5.0        416\n",
              "      6.0        202\n",
              "      7.0        138\n",
              "      8.0        236\n",
              "      9.0        189"
            ]
          },
          "metadata": {
            "tags": []
          },
          "execution_count": 111
        }
      ]
    },
    {
      "metadata": {
        "id": "fwKB_c994x__",
        "colab_type": "code",
        "outputId": "cd798f00-b12e-4c3c-8d82-17b76123277c",
        "colab": {
          "base_uri": "https://localhost:8080/",
          "height": 386
        }
      },
      "cell_type": "code",
      "source": [
        "test_df.loc[test_df['comp2'] == 'False'].groupby(['comp2', 'y_test'])[['y_test']].count()"
      ],
      "execution_count": 112,
      "outputs": [
        {
          "output_type": "execute_result",
          "data": {
            "text/html": [
              "<div>\n",
              "<style scoped>\n",
              "    .dataframe tbody tr th:only-of-type {\n",
              "        vertical-align: middle;\n",
              "    }\n",
              "\n",
              "    .dataframe tbody tr th {\n",
              "        vertical-align: top;\n",
              "    }\n",
              "\n",
              "    .dataframe thead th {\n",
              "        text-align: right;\n",
              "    }\n",
              "</style>\n",
              "<table border=\"1\" class=\"dataframe\">\n",
              "  <thead>\n",
              "    <tr style=\"text-align: right;\">\n",
              "      <th></th>\n",
              "      <th></th>\n",
              "      <th>y_test</th>\n",
              "    </tr>\n",
              "    <tr>\n",
              "      <th>comp2</th>\n",
              "      <th>y_test</th>\n",
              "      <th></th>\n",
              "    </tr>\n",
              "  </thead>\n",
              "  <tbody>\n",
              "    <tr>\n",
              "      <th rowspan=\"10\" valign=\"top\">False</th>\n",
              "      <th>0.0</th>\n",
              "      <td>44</td>\n",
              "    </tr>\n",
              "    <tr>\n",
              "      <th>1.0</th>\n",
              "      <td>21</td>\n",
              "    </tr>\n",
              "    <tr>\n",
              "      <th>2.0</th>\n",
              "      <td>105</td>\n",
              "    </tr>\n",
              "    <tr>\n",
              "      <th>3.0</th>\n",
              "      <td>123</td>\n",
              "    </tr>\n",
              "    <tr>\n",
              "      <th>4.0</th>\n",
              "      <td>92</td>\n",
              "    </tr>\n",
              "    <tr>\n",
              "      <th>5.0</th>\n",
              "      <td>175</td>\n",
              "    </tr>\n",
              "    <tr>\n",
              "      <th>6.0</th>\n",
              "      <td>77</td>\n",
              "    </tr>\n",
              "    <tr>\n",
              "      <th>7.0</th>\n",
              "      <td>101</td>\n",
              "    </tr>\n",
              "    <tr>\n",
              "      <th>8.0</th>\n",
              "      <td>196</td>\n",
              "    </tr>\n",
              "    <tr>\n",
              "      <th>9.0</th>\n",
              "      <td>171</td>\n",
              "    </tr>\n",
              "  </tbody>\n",
              "</table>\n",
              "</div>"
            ],
            "text/plain": [
              "              y_test\n",
              "comp2 y_test        \n",
              "False 0.0         44\n",
              "      1.0         21\n",
              "      2.0        105\n",
              "      3.0        123\n",
              "      4.0         92\n",
              "      5.0        175\n",
              "      6.0         77\n",
              "      7.0        101\n",
              "      8.0        196\n",
              "      9.0        171"
            ]
          },
          "metadata": {
            "tags": []
          },
          "execution_count": 112
        }
      ]
    },
    {
      "metadata": {
        "id": "f4rKKNOF4Kz2",
        "colab_type": "code",
        "colab": {
          "base_uri": "https://localhost:8080/",
          "height": 386
        },
        "outputId": "2410ce9f-162a-42b7-ef86-89f6fde9973a"
      },
      "cell_type": "code",
      "source": [
        "test_df.loc[test_df['comp3'] == 'False'].groupby(['comp3', 'y_test'])[['y_test']].count()"
      ],
      "execution_count": 114,
      "outputs": [
        {
          "output_type": "execute_result",
          "data": {
            "text/html": [
              "<div>\n",
              "<style scoped>\n",
              "    .dataframe tbody tr th:only-of-type {\n",
              "        vertical-align: middle;\n",
              "    }\n",
              "\n",
              "    .dataframe tbody tr th {\n",
              "        vertical-align: top;\n",
              "    }\n",
              "\n",
              "    .dataframe thead th {\n",
              "        text-align: right;\n",
              "    }\n",
              "</style>\n",
              "<table border=\"1\" class=\"dataframe\">\n",
              "  <thead>\n",
              "    <tr style=\"text-align: right;\">\n",
              "      <th></th>\n",
              "      <th></th>\n",
              "      <th>y_test</th>\n",
              "    </tr>\n",
              "    <tr>\n",
              "      <th>comp3</th>\n",
              "      <th>y_test</th>\n",
              "      <th></th>\n",
              "    </tr>\n",
              "  </thead>\n",
              "  <tbody>\n",
              "    <tr>\n",
              "      <th rowspan=\"10\" valign=\"top\">False</th>\n",
              "      <th>0.0</th>\n",
              "      <td>37</td>\n",
              "    </tr>\n",
              "    <tr>\n",
              "      <th>1.0</th>\n",
              "      <td>17</td>\n",
              "    </tr>\n",
              "    <tr>\n",
              "      <th>2.0</th>\n",
              "      <td>101</td>\n",
              "    </tr>\n",
              "    <tr>\n",
              "      <th>3.0</th>\n",
              "      <td>127</td>\n",
              "    </tr>\n",
              "    <tr>\n",
              "      <th>4.0</th>\n",
              "      <td>92</td>\n",
              "    </tr>\n",
              "    <tr>\n",
              "      <th>5.0</th>\n",
              "      <td>139</td>\n",
              "    </tr>\n",
              "    <tr>\n",
              "      <th>6.0</th>\n",
              "      <td>73</td>\n",
              "    </tr>\n",
              "    <tr>\n",
              "      <th>7.0</th>\n",
              "      <td>116</td>\n",
              "    </tr>\n",
              "    <tr>\n",
              "      <th>8.0</th>\n",
              "      <td>193</td>\n",
              "    </tr>\n",
              "    <tr>\n",
              "      <th>9.0</th>\n",
              "      <td>163</td>\n",
              "    </tr>\n",
              "  </tbody>\n",
              "</table>\n",
              "</div>"
            ],
            "text/plain": [
              "              y_test\n",
              "comp3 y_test        \n",
              "False 0.0         37\n",
              "      1.0         17\n",
              "      2.0        101\n",
              "      3.0        127\n",
              "      4.0         92\n",
              "      5.0        139\n",
              "      6.0         73\n",
              "      7.0        116\n",
              "      8.0        193\n",
              "      9.0        163"
            ]
          },
          "metadata": {
            "tags": []
          },
          "execution_count": 114
        }
      ]
    },
    {
      "metadata": {
        "id": "oxcoTD3C4eHg",
        "colab_type": "code",
        "colab": {
          "base_uri": "https://localhost:8080/",
          "height": 325
        },
        "outputId": "89bfe66d-6081-47ae-8cfd-8520c58ab2b5"
      },
      "cell_type": "code",
      "source": [
        "test_df.groupby(['comp1', 'comp2', 'comp3'])[['y_test']].count()"
      ],
      "execution_count": 115,
      "outputs": [
        {
          "output_type": "execute_result",
          "data": {
            "text/html": [
              "<div>\n",
              "<style scoped>\n",
              "    .dataframe tbody tr th:only-of-type {\n",
              "        vertical-align: middle;\n",
              "    }\n",
              "\n",
              "    .dataframe tbody tr th {\n",
              "        vertical-align: top;\n",
              "    }\n",
              "\n",
              "    .dataframe thead th {\n",
              "        text-align: right;\n",
              "    }\n",
              "</style>\n",
              "<table border=\"1\" class=\"dataframe\">\n",
              "  <thead>\n",
              "    <tr style=\"text-align: right;\">\n",
              "      <th></th>\n",
              "      <th></th>\n",
              "      <th></th>\n",
              "      <th>y_test</th>\n",
              "    </tr>\n",
              "    <tr>\n",
              "      <th>comp1</th>\n",
              "      <th>comp2</th>\n",
              "      <th>comp3</th>\n",
              "      <th></th>\n",
              "    </tr>\n",
              "  </thead>\n",
              "  <tbody>\n",
              "    <tr>\n",
              "      <th rowspan=\"4\" valign=\"top\">False</th>\n",
              "      <th rowspan=\"2\" valign=\"top\">False</th>\n",
              "      <th>False</th>\n",
              "      <td>394</td>\n",
              "    </tr>\n",
              "    <tr>\n",
              "      <th>True</th>\n",
              "      <td>253</td>\n",
              "    </tr>\n",
              "    <tr>\n",
              "      <th rowspan=\"2\" valign=\"top\">True</th>\n",
              "      <th>False</th>\n",
              "      <td>213</td>\n",
              "    </tr>\n",
              "    <tr>\n",
              "      <th>True</th>\n",
              "      <td>998</td>\n",
              "    </tr>\n",
              "    <tr>\n",
              "      <th rowspan=\"4\" valign=\"top\">True</th>\n",
              "      <th rowspan=\"2\" valign=\"top\">False</th>\n",
              "      <th>False</th>\n",
              "      <td>154</td>\n",
              "    </tr>\n",
              "    <tr>\n",
              "      <th>True</th>\n",
              "      <td>304</td>\n",
              "    </tr>\n",
              "    <tr>\n",
              "      <th rowspan=\"2\" valign=\"top\">True</th>\n",
              "      <th>False</th>\n",
              "      <td>297</td>\n",
              "    </tr>\n",
              "    <tr>\n",
              "      <th>True</th>\n",
              "      <td>7387</td>\n",
              "    </tr>\n",
              "  </tbody>\n",
              "</table>\n",
              "</div>"
            ],
            "text/plain": [
              "                   y_test\n",
              "comp1 comp2 comp3        \n",
              "False False False     394\n",
              "            True      253\n",
              "      True  False     213\n",
              "            True      998\n",
              "True  False False     154\n",
              "            True      304\n",
              "      True  False     297\n",
              "            True     7387"
            ]
          },
          "metadata": {
            "tags": []
          },
          "execution_count": 115
        }
      ]
    },
    {
      "metadata": {
        "id": "dCNZwsaQ4x__",
        "colab_type": "code",
        "colab": {}
      },
      "cell_type": "code",
      "source": [
        "#len(test_df.loc[(test_df['comp1'] == 'False') & (test_df['comp2'] == 'True')])\n",
        "#len(test_df.loc[(test_df['comp1'] == 'True') & (test_df['comp2'] == 'False')])\n",
        "#len(test_df.loc[(test_df['comp1'] == 'False') & (test_df['comp2'] == 'False')])"
      ],
      "execution_count": 0,
      "outputs": []
    }
  ]
}