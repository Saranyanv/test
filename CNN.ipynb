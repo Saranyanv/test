{
  "nbformat": 4,
  "nbformat_minor": 0,
  "metadata": {
    "colab": {
      "name": "Untitled6.ipynb",
      "version": "0.3.2",
      "provenance": [],
      "include_colab_link": true
    },
    "kernelspec": {
      "name": "python3",
      "display_name": "Python 3"
    }
  },
  "cells": [
    {
      "cell_type": "markdown",
      "metadata": {
        "id": "view-in-github",
        "colab_type": "text"
      },
      "source": [
        "<a href=\"https://colab.research.google.com/github/Saranyanv/test/blob/master/CNN.ipynb\" target=\"_parent\"><img src=\"https://colab.research.google.com/assets/colab-badge.svg\" alt=\"Open In Colab\"/></a>"
      ]
    },
    {
      "metadata": {
        "id": "eIJZhIKnW5VA",
        "colab_type": "code",
        "colab": {}
      },
      "cell_type": "code",
      "source": [
        "import os \n",
        "import numpy as np\n",
        "import tensorflow as tf\n",
        "import zipfile\n",
        "from tqdm import tqdm\n",
        "# Working with images\n",
        "import cv2\n",
        "import re\n",
        "from matplotlib import pyplot as plt\n",
        "\n",
        "# Display Images\n",
        "from PIL import Image, ImageFilter\n",
        "\n",
        "# IPython display\n",
        "from IPython.display import display\n",
        "\n",
        "RANDOM_SEED = 42"
      ],
      "execution_count": 0,
      "outputs": []
    },
    {
      "metadata": {
        "id": "Ica9QTJyW7Qp",
        "colab_type": "code",
        "colab": {}
      },
      "cell_type": "code",
      "source": [
        "IMG_WIDTH = 50\n",
        "IMG_HEIGHT = 50\n",
        "IMG_CHANNELS = 1"
      ],
      "execution_count": 0,
      "outputs": []
    },
    {
      "metadata": {
        "id": "418TPo-oW8sc",
        "colab_type": "code",
        "colab": {}
      },
      "cell_type": "code",
      "source": [
        "# To make output stable across runs\n",
        "def reset_graph(seed= RANDOM_SEED):\n",
        "    tf.reset_default_graph()\n",
        "    tf.set_random_seed(seed)\n",
        "    np.random.seed(seed)"
      ],
      "execution_count": 0,
      "outputs": []
    },
    {
      "metadata": {
        "id": "epx-XsE6WSwQ",
        "colab_type": "code",
        "outputId": "127e389a-4ed3-4786-d6e6-5353b452125a",
        "colab": {
          "base_uri": "https://localhost:8080/",
          "height": 125
        }
      },
      "cell_type": "code",
      "source": [
        "from google.colab import drive\n",
        "drive.mount('/content/drive')"
      ],
      "execution_count": 4,
      "outputs": [
        {
          "output_type": "stream",
          "text": [
            "Go to this URL in a browser: https://accounts.google.com/o/oauth2/auth?client_id=947318989803-6bn6qk8qdgf4n4g3pfee6491hc0brc4i.apps.googleusercontent.com&redirect_uri=urn%3Aietf%3Awg%3Aoauth%3A2.0%3Aoob&scope=email%20https%3A%2F%2Fwww.googleapis.com%2Fauth%2Fdocs.test%20https%3A%2F%2Fwww.googleapis.com%2Fauth%2Fdrive%20https%3A%2F%2Fwww.googleapis.com%2Fauth%2Fdrive.photos.readonly%20https%3A%2F%2Fwww.googleapis.com%2Fauth%2Fpeopleapi.readonly&response_type=code\n",
            "\n",
            "Enter your authorization code:\n",
            "··········\n",
            "Mounted at /content/drive\n"
          ],
          "name": "stdout"
        }
      ]
    },
    {
      "metadata": {
        "id": "hZVLWO0zWYhI",
        "colab_type": "code",
        "outputId": "8cd463fd-d5c9-448d-8286-54db67014e41",
        "colab": {
          "base_uri": "https://localhost:8080/",
          "height": 34
        }
      },
      "cell_type": "code",
      "source": [
        "!ls -l \"drive/My Drive/MSPA/Predict 422/Week 7/all.zip\""
      ],
      "execution_count": 5,
      "outputs": [
        {
          "output_type": "stream",
          "text": [
            "-rw------- 1 root root 851576569 Dec  4 02:01 'drive/My Drive/MSPA/Predict 422/Week 7/all.zip'\n"
          ],
          "name": "stdout"
        }
      ]
    },
    {
      "metadata": {
        "id": "jlZit1zBWnTQ",
        "colab_type": "code",
        "outputId": "6dba18b4-870c-4786-ecf4-0d223ebf07fd",
        "colab": {
          "base_uri": "https://localhost:8080/",
          "height": 87
        }
      },
      "cell_type": "code",
      "source": [
        "!unzip \"drive/My Drive/MSPA/Predict 422/Week 7/all.zip\""
      ],
      "execution_count": 6,
      "outputs": [
        {
          "output_type": "stream",
          "text": [
            "Archive:  drive/My Drive/MSPA/Predict 422/Week 7/all.zip\n",
            "  inflating: sampleSubmission.csv    \n",
            "  inflating: train.zip               \n",
            "  inflating: test1.zip               \n"
          ],
          "name": "stdout"
        }
      ]
    },
    {
      "metadata": {
        "id": "GdzLC64tX0bE",
        "colab_type": "code",
        "colab": {}
      },
      "cell_type": "code",
      "source": [
        "!unzip train.zip"
      ],
      "execution_count": 0,
      "outputs": []
    },
    {
      "metadata": {
        "id": "ODMsNTg8Youu",
        "colab_type": "code",
        "colab": {}
      },
      "cell_type": "code",
      "source": [
        "!ls -lrt /content/train"
      ],
      "execution_count": 0,
      "outputs": []
    },
    {
      "metadata": {
        "id": "wPojyjfdXCsh",
        "colab_type": "code",
        "colab": {}
      },
      "cell_type": "code",
      "source": [
        "def label_img(img_name):\n",
        "  if 'cat.' in img_name: return 0\n",
        "  elif 'dog.' in img_name: return 1 \n",
        "  \n",
        "def img_index(img_name):\n",
        "  if 'cat.' in img_name: knt=0\n",
        "  elif 'dog.' in img_name: knt=1\n",
        "  num=int(re.sub(\"\\D\", \"\", img_name))\n",
        "  return ((12500*knt) + num)\n",
        "\n",
        "def plot_image(image):\n",
        "    plt.imshow(image, cmap=\"gray\", interpolation=\"bicubic\")\n",
        "    plt.axis(\"off\")\n",
        "    \n",
        "def plot_color_image(image):\n",
        "    plt.imshow(image.astype(np.uint8),interpolation=\"bicubic\")\n",
        "    plt.axis(\"off\")"
      ],
      "execution_count": 0,
      "outputs": []
    },
    {
      "metadata": {
        "id": "CJCRGDi3XEzK",
        "colab_type": "code",
        "outputId": "2f0b86c7-1b98-44fd-8f27-609aaa4f0487",
        "colab": {
          "base_uri": "https://localhost:8080/",
          "height": 34
        }
      },
      "cell_type": "code",
      "source": [
        "print (label_img('cats_dogs_images/dog.1.jpg'))"
      ],
      "execution_count": 10,
      "outputs": [
        {
          "output_type": "stream",
          "text": [
            "1\n"
          ],
          "name": "stdout"
        }
      ]
    },
    {
      "metadata": {
        "id": "_twGPTYEsK5S",
        "colab_type": "code",
        "colab": {}
      },
      "cell_type": "code",
      "source": [
        "from os import listdir\n",
        "import cv2 as cv2\n",
        "\n",
        "training_data_X = []\n",
        "training_data_y = []\n",
        "training_data_kNN = []\n",
        "\n",
        "for z in listdir(\"/content/train\"):\n",
        "    label = label_img(z)\n",
        "    img_indx = img_index(z)\n",
        "    img_str=cv2.imread(os.path.join(\"/content/train\", z),cv2.IMREAD_GRAYSCALE)\n",
        "    img = cv2.resize(img_str, (IMG_WIDTH, IMG_HEIGHT))\n",
        "    img_flat = cv2.resize(img_str, (IMG_WIDTH, IMG_HEIGHT)).flatten()\n",
        "\n",
        "    #training_data.append([ np.array(img_indx), np.array(img), np.array(label)])\n",
        "    training_data_X.append(img)\n",
        "    training_data_kNN.append(img_flat)\n",
        "    training_data_y.append(label)"
      ],
      "execution_count": 0,
      "outputs": []
    },
    {
      "metadata": {
        "id": "orWyJ8_3ASJv",
        "colab_type": "code",
        "colab": {}
      },
      "cell_type": "code",
      "source": [
        "#training_data_X_20 = training_data_X[0:2500]\n",
        "#training_data_y_20 = training_data_y[0:2500]\n",
        "#training_data_X = training_data_X_20\n",
        "#training_data_y = training_data_y_20"
      ],
      "execution_count": 0,
      "outputs": []
    },
    {
      "metadata": {
        "id": "FNvIpxbIy1Sb",
        "colab_type": "code",
        "outputId": "11fa1612-6d64-458d-8562-c91165399d5c",
        "colab": {
          "base_uri": "https://localhost:8080/",
          "height": 348
        }
      },
      "cell_type": "code",
      "source": [
        "#plot_image(training_data[0][1])\n",
        "plot_image(training_data_X[0])"
      ],
      "execution_count": 13,
      "outputs": [
        {
          "output_type": "display_data",
          "data": {
            "image/png": "[encoded data removed]",
            "text/plain": [
              "<matplotlib.figure.Figure at 0x7fc22280d978>"
            ]
          },
          "metadata": {
            "tags": []
          }
        }
      ]
    },
    {
      "metadata": {
        "id": "b39TiZiBz7Uf",
        "colab_type": "code",
        "outputId": "94eb8b64-33c2-4cae-c671-7781a7e341df",
        "colab": {
          "base_uri": "https://localhost:8080/",
          "height": 348
        }
      },
      "cell_type": "code",
      "source": [
        "plot_color_image(training_data_X[0])"
      ],
      "execution_count": 14,
      "outputs": [
        {
          "output_type": "display_data",
          "data": {
            "image/png": "[encoded data removed]",
            "text/plain": [
              "<matplotlib.figure.Figure at 0x7fc22280d5f8>"
            ]
          },
          "metadata": {
            "tags": []
          }
        }
      ]
    },
    {
      "metadata": {
        "id": "_Ss0ax-X0BD3",
        "colab_type": "code",
        "outputId": "b51a3160-bf8d-4b81-b01e-264cf1367f74",
        "colab": {
          "base_uri": "https://localhost:8080/",
          "height": 34
        }
      },
      "cell_type": "code",
      "source": [
        "import keras\n",
        "from keras import Sequential, regularizers\n",
        "from keras import optimizers\n",
        "from keras.layers import Conv2D,MaxPooling2D,Dense,Flatten,Dropout, LocallyConnected2D, BatchNormalization\n",
        "from keras.layers import Activation, Dense, advanced_activations\n",
        "from keras.utils.np_utils import to_categorical"
      ],
      "execution_count": 15,
      "outputs": [
        {
          "output_type": "stream",
          "text": [
            "Using TensorFlow backend.\n"
          ],
          "name": "stderr"
        }
      ]
    },
    {
      "metadata": {
        "id": "12D38p1IBRdq",
        "colab_type": "code",
        "colab": {}
      },
      "cell_type": "code",
      "source": [
        "from keras import backend as K\n",
        "K.set_image_dim_ordering('tf')\n",
        "training_data_X_reshaped=np.array(training_data_X).reshape(-1, 50, 50, 1) / 255.0\n",
        "#training_data_y_reshaped=to_categorical(training_data_y, num_classes = 2)\n",
        "training_data_y_reshaped=np.array(training_data_y)"
      ],
      "execution_count": 0,
      "outputs": []
    },
    {
      "metadata": {
        "id": "eUl-Xa33yPK6",
        "colab_type": "code",
        "outputId": "57743a0f-169b-4a7a-83ac-f22ea97acb25",
        "colab": {
          "base_uri": "https://localhost:8080/",
          "height": 34
        }
      },
      "cell_type": "code",
      "source": [
        "print (training_data_X_reshaped.shape, training_data_y_reshaped.shape)"
      ],
      "execution_count": 17,
      "outputs": [
        {
          "output_type": "stream",
          "text": [
            "(25000, 50, 50, 1) (25000,)\n"
          ],
          "name": "stdout"
        }
      ]
    },
    {
      "metadata": {
        "id": "aLQOtyGUy2le",
        "colab_type": "text"
      },
      "cell_type": "markdown",
      "source": [
        "# CNN Model"
      ]
    },
    {
      "metadata": {
        "id": "Th2cGKD7ojIf",
        "colab_type": "code",
        "outputId": "d0c12e17-d916-44f5-eff3-e02a30d6696d",
        "colab": {
          "base_uri": "https://localhost:8080/",
          "height": 54
        }
      },
      "cell_type": "code",
      "source": [
        "K.get_session().close()\n",
        "K.set_session(tf.Session())\n",
        "K.get_session().run(tf.global_variables_initializer())\n",
        "\n",
        "import tensorflow as tf\n",
        "from tensorflow.keras import layers\n",
        "\n",
        "'''model = tf.keras.Sequential([keras.layers.Flatten(input_shape=(50, 50)),\n",
        "                            keras.layers.Dense(150, activation=tf.nn.relu),\n",
        "                            keras.layers.Conv2D(32, 3*3, strides=(1, 1), padding='valid', data_format=None, dilation_rate=(1, 1), activation=None, use_bias=True, kernel_initializer='glorot_uniform', bias_initializer='zeros', kernel_regularizer=None, bias_regularizer=None, activity_regularizer=None, kernel_constraint=None, bias_constraint=None),\n",
        "                            keras.layers.Dense(10, activation=tf.nn.softmax)\n",
        "                            ])'''\n",
        "'''\n",
        "model = Sequential()\n",
        "#model.add(Dense(150, input_shape=(50,50,1), activation='relu')) #25000 images, with 50*50 pixels in plain (1 channels, if RGB use 3)\n",
        "model.add(Conv2D(filters=3, kernel_size=(3*3), strides=(1, 1), input_shape=training_data_X_reshaped.shape[1:]\n",
        "                 , padding='same', data_format=\"channels_last\", dilation_rate=(1, 1)\n",
        "                 , activation=\"relu\"))\n",
        "#model.add(BatchNormalization())\n",
        "\n",
        "model.add(Conv2D(filters=5, kernel_size=(3*3), padding='same', activation=\"relu\"))\n",
        "#model.add(BatchNormalization())\n",
        "\n",
        "model.add(MaxPooling2D(pool_size=(2, 2) , strides=(2,2)))\n",
        "\n",
        "model.add(Conv2D(filters=10, kernel_size=(3*3), padding='same', activation=\"relu\"))\n",
        "#model.add(BatchNormalization())\n",
        "\n",
        "model.add(MaxPooling2D(pool_size=(2, 2) , strides=(2,2)))\n",
        "\n",
        "#model.add(LocallyConnected2D(10, 3*3, strides=(1, 1), padding='valid', data_format=None, \n",
        "#                   activation=tf.nn.relu, use_bias=True, kernel_initializer='glorot_uniform', \n",
        "#                   bias_initializer='zeros', kernel_regularizer=None, bias_regularizer=None, \n",
        "#                   activity_regularizer=None, kernel_constraint=None, bias_constraint=None))\n",
        "#model.add(BatchNormalization())\n",
        "\n",
        "model.add(Flatten())\n",
        "model.add(Dense(50, activation=tf.nn.relu))\n",
        "#model.add(BatchNormalization())\n",
        "\n",
        "model.add(Dropout(0.2))\n",
        "\n",
        "model.add(Dense(1, activation=tf.nn.softmax))\n",
        "#model.add(BatchNormalization())\n",
        "model.compile(loss='binary_crossentropy', optimizer='sgd', metrics=['accuracy'])\n",
        "'''"
      ],
      "execution_count": 18,
      "outputs": [
        {
          "output_type": "execute_result",
          "data": {
            "text/plain": [
              "'\\nmodel = Sequential()\\n#model.add(Dense(150, input_shape=(50,50,1), activation=\\'relu\\')) #25000 images, with 50*50 pixels in plain (1 channels, if RGB use 3)\\nmodel.add(Conv2D(filters=3, kernel_size=(3*3), strides=(1, 1), input_shape=training_data_X_reshaped.shape[1:]\\n                 , padding=\\'same\\', data_format=\"channels_last\", dilation_rate=(1, 1)\\n                 , activation=\"relu\"))\\n#model.add(BatchNormalization())\\n\\nmodel.add(Conv2D(filters=5, kernel_size=(3*3), padding=\\'same\\', activation=\"relu\"))\\n#model.add(BatchNormalization())\\n\\nmodel.add(MaxPooling2D(pool_size=(2, 2) , strides=(2,2)))\\n\\nmodel.add(Conv2D(filters=10, kernel_size=(3*3), padding=\\'same\\', activation=\"relu\"))\\n#model.add(BatchNormalization())\\n\\nmodel.add(MaxPooling2D(pool_size=(2, 2) , strides=(2,2)))\\n\\n#model.add(LocallyConnected2D(10, 3*3, strides=(1, 1), padding=\\'valid\\', data_format=None, \\n#                   activation=tf.nn.relu, use_bias=True, kernel_initializer=\\'glorot_uniform\\', \\n#                   bias_initializer=\\'zeros\\', kernel_regularizer=None, bias_regularizer=None, \\n#                   activity_regularizer=None, kernel_constraint=None, bias_constraint=None))\\n#model.add(BatchNormalization())\\n\\nmodel.add(Flatten())\\nmodel.add(Dense(50, activation=tf.nn.relu))\\n#model.add(BatchNormalization())\\n\\nmodel.add(Dropout(0.2))\\n\\nmodel.add(Dense(1, activation=tf.nn.softmax))\\n#model.add(BatchNormalization())\\nmodel.compile(loss=\\'binary_crossentropy\\', optimizer=\\'sgd\\', metrics=[\\'accuracy\\'])\\n'"
            ]
          },
          "metadata": {
            "tags": []
          },
          "execution_count": 18
        }
      ]
    },
    {
      "metadata": {
        "id": "2f5VMWgQdPMH",
        "colab_type": "code",
        "colab": {}
      },
      "cell_type": "code",
      "source": [
        "K.get_session().close()\n",
        "K.set_session(tf.Session())\n",
        "K.get_session().run(tf.global_variables_initializer())\n",
        "\n",
        "import tensorflow as tf\n",
        "from tensorflow.keras import layers\n",
        "\n",
        "model=Sequential()\n",
        "model.add(Conv2D(kernel_size=(3,3),filters=3,input_shape=training_data_X_reshaped.shape[1:],activation=\"relu\"))\n",
        "model.add(Conv2D(kernel_size=(3,3),filters=10,activation=\"relu\",padding=\"same\"))\n",
        "model.add(MaxPooling2D(pool_size=(2,2),strides=(2,2)))\n",
        "model.add(Conv2D(kernel_size=(3,3),filters=3,activation=\"relu\"))\n",
        "model.add(Conv2D(kernel_size=(5,5),filters=5,activation=\"relu\"))\n",
        "model.add(MaxPooling2D(pool_size=(3,3),strides=(2,2), padding='valid'))\n",
        "#model.add(BatchNormalization())\n",
        "model.add(Conv2D(kernel_size=(2,2),strides=(2,2),filters=10,activation=\"relu\"))\n",
        "#model.add(MaxPooling2D(pool_size=(3,3),strides=(2,2), padding='valid')) #newly added 1\n",
        "model.add(Flatten())\n",
        "model.add(Dropout(0.3))\n",
        "model.add(Dense(50,activation=\"sigmoid\"))\n",
        "model.add(Dense(1,activation=\"sigmoid\"))\n",
        "#opt=optimizers.Nadam(lr=0.002, beta_1=0.9, beta_2=0.999, epsilon=None, schedule_decay=0.004)\n",
        "#model.compile(loss='binary_crossentropy', optimizer=opt, metrics=['accuracy'])\n",
        "model.compile(loss='binary_crossentropy', optimizer='Nadam', metrics=['accuracy'])"
      ],
      "execution_count": 0,
      "outputs": []
    },
    {
      "metadata": {
        "id": "WF1_eOe28fKK",
        "colab_type": "code",
        "outputId": "49e0d086-47bb-434f-f4d8-1a72eed18586",
        "colab": {
          "base_uri": "https://localhost:8080/",
          "height": 526
        }
      },
      "cell_type": "code",
      "source": [
        "model.summary()"
      ],
      "execution_count": 24,
      "outputs": [
        {
          "output_type": "stream",
          "text": [
            "_________________________________________________________________\n",
            "Layer (type)                 Output Shape              Param #   \n",
            "=================================================================\n",
            "conv2d_6 (Conv2D)            (None, 48, 48, 3)         30        \n",
            "_________________________________________________________________\n",
            "conv2d_7 (Conv2D)            (None, 48, 48, 10)        280       \n",
            "_________________________________________________________________\n",
            "max_pooling2d_4 (MaxPooling2 (None, 24, 24, 10)        0         \n",
            "_________________________________________________________________\n",
            "conv2d_8 (Conv2D)            (None, 22, 22, 3)         273       \n",
            "_________________________________________________________________\n",
            "conv2d_9 (Conv2D)            (None, 18, 18, 5)         380       \n",
            "_________________________________________________________________\n",
            "max_pooling2d_5 (MaxPooling2 (None, 8, 8, 5)           0         \n",
            "_________________________________________________________________\n",
            "max_pooling2d_6 (MaxPooling2 (None, 3, 3, 5)           0         \n",
            "_________________________________________________________________\n",
            "flatten_2 (Flatten)          (None, 45)                0         \n",
            "_________________________________________________________________\n",
            "dropout_2 (Dropout)          (None, 45)                0         \n",
            "_________________________________________________________________\n",
            "dense_3 (Dense)              (None, 50)                2300      \n",
            "_________________________________________________________________\n",
            "dense_4 (Dense)              (None, 1)                 51        \n",
            "=================================================================\n",
            "Total params: 3,314\n",
            "Trainable params: 3,314\n",
            "Non-trainable params: 0\n",
            "_________________________________________________________________\n"
          ],
          "name": "stdout"
        }
      ]
    },
    {
      "metadata": {
        "id": "mjZEP9y06jBM",
        "colab_type": "code",
        "colab": {}
      },
      "cell_type": "code",
      "source": [
        "ProgbarLogger = keras.callbacks.ProgbarLogger(count_mode='samples', stateful_metrics=None)"
      ],
      "execution_count": 0,
      "outputs": []
    },
    {
      "metadata": {
        "colab_type": "code",
        "id": "ysrrFkVl21xD",
        "outputId": "9a65fa60-ebb6-495c-8039-ea7bb73810d1",
        "colab": {
          "base_uri": "https://localhost:8080/",
          "height": 7065
        }
      },
      "cell_type": "code",
      "source": [
        "model_op=model.fit(training_data_X_reshaped, training_data_y_reshaped, epochs=100, validation_split=0.1, callbacks=[ProgbarLogger],batch_size=50)"
      ],
      "execution_count": 26,
      "outputs": [
        {
          "output_type": "stream",
          "text": [
            "Train on 22500 samples, validate on 2500 samples\n",
            "Epoch 1/100\n",
            "Epoch 1/100\n",
            "22500/22500 [==============================] - 68s 3ms/step - loss: 0.6745 - acc: 0.5727 - val_loss: 0.6444 - val_acc: 0.6368\n",
            "22500/22500 [==============================] - 68s 3ms/step - loss: 0.6745 - acc: 0.5727 - val_loss: 0.6444 - val_acc: 0.6368\n",
            "Epoch 2/100\n",
            "Epoch 2/100\n",
            "22500/22500 [==============================] - 68s 3ms/step - loss: 0.6368 - acc: 0.6373 - val_loss: 0.6187 - val_acc: 0.6516\n",
            "22500/22500 [==============================] - 68s 3ms/step - loss: 0.6368 - acc: 0.6373 - val_loss: 0.6187 - val_acc: 0.6516\n",
            "Epoch 3/100\n",
            "Epoch 3/100\n",
            "22500/22500 [==============================] - 67s 3ms/step - loss: 0.6201 - acc: 0.6541 - val_loss: 0.6102 - val_acc: 0.6580\n",
            "22500/22500 [==============================] - 67s 3ms/step - loss: 0.6201 - acc: 0.6541 - val_loss: 0.6102 - val_acc: 0.6580\n",
            "Epoch 4/100\n",
            "Epoch 4/100\n",
            "22500/22500 [==============================] - 68s 3ms/step - loss: 0.6106 - acc: 0.6662 - val_loss: 0.5871 - val_acc: 0.6940\n",
            "22500/22500 [==============================] - 68s 3ms/step - loss: 0.6106 - acc: 0.6662 - val_loss: 0.5871 - val_acc: 0.6940\n",
            "Epoch 5/100\n",
            "Epoch 5/100\n",
            "22500/22500 [==============================] - 68s 3ms/step - loss: 0.6011 - acc: 0.6784 - val_loss: 0.5846 - val_acc: 0.6924\n",
            "22500/22500 [==============================] - 68s 3ms/step - loss: 0.6011 - acc: 0.6784 - val_loss: 0.5846 - val_acc: 0.6924\n",
            "Epoch 6/100\n",
            "Epoch 6/100\n",
            "22500/22500 [==============================] - 68s 3ms/step - loss: 0.5993 - acc: 0.6781 - val_loss: 0.5767 - val_acc: 0.6980\n",
            "22500/22500 [==============================] - 68s 3ms/step - loss: 0.5993 - acc: 0.6781 - val_loss: 0.5767 - val_acc: 0.6980\n",
            "Epoch 7/100\n",
            "Epoch 7/100\n",
            "22500/22500 [==============================] - 68s 3ms/step - loss: 0.5935 - acc: 0.6853 - val_loss: 0.5719 - val_acc: 0.7092\n",
            "22500/22500 [==============================] - 68s 3ms/step - loss: 0.5935 - acc: 0.6853 - val_loss: 0.5719 - val_acc: 0.7092\n",
            "Epoch 8/100\n",
            "Epoch 8/100\n",
            "22500/22500 [==============================] - 67s 3ms/step - loss: 0.5868 - acc: 0.6887 - val_loss: 0.5804 - val_acc: 0.6976\n",
            "22500/22500 [==============================] - 67s 3ms/step - loss: 0.5868 - acc: 0.6887 - val_loss: 0.5804 - val_acc: 0.6976\n",
            "Epoch 9/100\n",
            "Epoch 9/100\n",
            "22500/22500 [==============================] - 67s 3ms/step - loss: 0.5764 - acc: 0.6993 - val_loss: 0.5761 - val_acc: 0.6932\n",
            "22500/22500 [==============================] - 67s 3ms/step - loss: 0.5764 - acc: 0.6993 - val_loss: 0.5761 - val_acc: 0.6932\n",
            "Epoch 10/100\n",
            "Epoch 10/100\n",
            "22500/22500 [==============================] - 68s 3ms/step - loss: 0.5722 - acc: 0.7027 - val_loss: 0.5500 - val_acc: 0.7260\n",
            "22500/22500 [==============================] - 68s 3ms/step - loss: 0.5722 - acc: 0.7027 - val_loss: 0.5500 - val_acc: 0.7260\n",
            "Epoch 11/100\n",
            "Epoch 11/100\n",
            "22500/22500 [==============================] - 68s 3ms/step - loss: 0.5681 - acc: 0.7072 - val_loss: 0.5503 - val_acc: 0.7280\n",
            "22500/22500 [==============================] - 68s 3ms/step - loss: 0.5681 - acc: 0.7072 - val_loss: 0.5503 - val_acc: 0.7280\n",
            "Epoch 12/100\n",
            "Epoch 12/100\n",
            "22500/22500 [==============================] - 68s 3ms/step - loss: 0.5642 - acc: 0.7089 - val_loss: 0.5431 - val_acc: 0.7324\n",
            "22500/22500 [==============================] - 68s 3ms/step - loss: 0.5642 - acc: 0.7089 - val_loss: 0.5431 - val_acc: 0.7324\n",
            "Epoch 13/100\n",
            "Epoch 13/100\n",
            "22500/22500 [==============================] - 68s 3ms/step - loss: 0.5578 - acc: 0.7146 - val_loss: 0.5383 - val_acc: 0.7304\n",
            "22500/22500 [==============================] - 68s 3ms/step - loss: 0.5578 - acc: 0.7146 - val_loss: 0.5383 - val_acc: 0.7304\n",
            "Epoch 14/100\n",
            "Epoch 14/100\n",
            "22500/22500 [==============================] - 68s 3ms/step - loss: 0.5544 - acc: 0.7209 - val_loss: 0.5355 - val_acc: 0.7396\n",
            "22500/22500 [==============================] - 68s 3ms/step - loss: 0.5544 - acc: 0.7209 - val_loss: 0.5355 - val_acc: 0.7396\n",
            "Epoch 15/100\n",
            "Epoch 15/100\n",
            "22500/22500 [==============================] - 68s 3ms/step - loss: 0.5508 - acc: 0.7200 - val_loss: 0.5420 - val_acc: 0.7316\n",
            "22500/22500 [==============================] - 68s 3ms/step - loss: 0.5508 - acc: 0.7200 - val_loss: 0.5420 - val_acc: 0.7316\n",
            "Epoch 16/100\n",
            "Epoch 16/100\n",
            "22500/22500 [==============================] - 68s 3ms/step - loss: 0.5468 - acc: 0.7222 - val_loss: 0.5322 - val_acc: 0.7296\n",
            "22500/22500 [==============================] - 68s 3ms/step - loss: 0.5468 - acc: 0.7222 - val_loss: 0.5322 - val_acc: 0.7296\n",
            "Epoch 17/100\n",
            "Epoch 17/100\n",
            "22500/22500 [==============================] - 68s 3ms/step - loss: 0.5415 - acc: 0.7286 - val_loss: 0.5338 - val_acc: 0.7308\n",
            "22500/22500 [==============================] - 68s 3ms/step - loss: 0.5415 - acc: 0.7286 - val_loss: 0.5338 - val_acc: 0.7308\n",
            "Epoch 18/100\n",
            "Epoch 18/100\n",
            "22500/22500 [==============================] - 68s 3ms/step - loss: 0.5406 - acc: 0.7301 - val_loss: 0.5300 - val_acc: 0.7384\n",
            "22500/22500 [==============================] - 68s 3ms/step - loss: 0.5406 - acc: 0.7301 - val_loss: 0.5300 - val_acc: 0.7384\n",
            "Epoch 19/100\n",
            "Epoch 19/100\n",
            "22500/22500 [==============================] - 69s 3ms/step - loss: 0.5344 - acc: 0.7355 - val_loss: 0.5392 - val_acc: 0.7304\n",
            "22500/22500 [==============================] - 69s 3ms/step - loss: 0.5344 - acc: 0.7355 - val_loss: 0.5392 - val_acc: 0.7304\n",
            "Epoch 20/100\n",
            "Epoch 20/100\n",
            "22500/22500 [==============================] - 69s 3ms/step - loss: 0.5368 - acc: 0.7313 - val_loss: 0.5379 - val_acc: 0.7300\n",
            "22500/22500 [==============================] - 69s 3ms/step - loss: 0.5368 - acc: 0.7313 - val_loss: 0.5379 - val_acc: 0.7300\n",
            "Epoch 21/100\n",
            "Epoch 21/100\n",
            "22500/22500 [==============================] - 68s 3ms/step - loss: 0.5316 - acc: 0.7372 - val_loss: 0.5234 - val_acc: 0.7348\n",
            "22500/22500 [==============================] - 68s 3ms/step - loss: 0.5316 - acc: 0.7372 - val_loss: 0.5234 - val_acc: 0.7348\n",
            "Epoch 22/100\n",
            "Epoch 22/100\n",
            "22500/22500 [==============================] - 68s 3ms/step - loss: 0.5331 - acc: 0.7337 - val_loss: 0.5261 - val_acc: 0.7404\n",
            "22500/22500 [==============================] - 68s 3ms/step - loss: 0.5331 - acc: 0.7337 - val_loss: 0.5261 - val_acc: 0.7404\n",
            "Epoch 23/100\n",
            "Epoch 23/100\n",
            "22500/22500 [==============================] - 68s 3ms/step - loss: 0.5264 - acc: 0.7415 - val_loss: 0.5283 - val_acc: 0.7436\n",
            "22500/22500 [==============================] - 68s 3ms/step - loss: 0.5264 - acc: 0.7415 - val_loss: 0.5283 - val_acc: 0.7436\n",
            "Epoch 24/100\n",
            "Epoch 24/100\n",
            "22500/22500 [==============================] - 68s 3ms/step - loss: 0.5277 - acc: 0.7358 - val_loss: 0.5444 - val_acc: 0.7324\n",
            "22500/22500 [==============================] - 68s 3ms/step - loss: 0.5277 - acc: 0.7358 - val_loss: 0.5444 - val_acc: 0.7324\n",
            "Epoch 25/100\n",
            "Epoch 25/100\n",
            "22500/22500 [==============================] - 68s 3ms/step - loss: 0.5241 - acc: 0.7433 - val_loss: 0.5470 - val_acc: 0.7316\n",
            "22500/22500 [==============================] - 68s 3ms/step - loss: 0.5241 - acc: 0.7433 - val_loss: 0.5470 - val_acc: 0.7316\n",
            "Epoch 26/100\n",
            "Epoch 26/100\n",
            "22500/22500 [==============================] - 68s 3ms/step - loss: 0.5260 - acc: 0.7402 - val_loss: 0.5341 - val_acc: 0.7356\n",
            "22500/22500 [==============================] - 68s 3ms/step - loss: 0.5260 - acc: 0.7402 - val_loss: 0.5341 - val_acc: 0.7356\n",
            "Epoch 27/100\n",
            "Epoch 27/100\n",
            "22500/22500 [==============================] - 68s 3ms/step - loss: 0.5211 - acc: 0.7458 - val_loss: 0.5354 - val_acc: 0.7360\n",
            "22500/22500 [==============================] - 68s 3ms/step - loss: 0.5211 - acc: 0.7458 - val_loss: 0.5354 - val_acc: 0.7360\n",
            "Epoch 28/100\n",
            "Epoch 28/100\n",
            "22500/22500 [==============================] - 68s 3ms/step - loss: 0.5190 - acc: 0.7432 - val_loss: 0.5401 - val_acc: 0.7240\n",
            "22500/22500 [==============================] - 68s 3ms/step - loss: 0.5190 - acc: 0.7432 - val_loss: 0.5401 - val_acc: 0.7240\n",
            "Epoch 29/100\n",
            "Epoch 29/100\n",
            "22500/22500 [==============================] - 68s 3ms/step - loss: 0.5169 - acc: 0.7481 - val_loss: 0.5175 - val_acc: 0.7428\n",
            "22500/22500 [==============================] - 68s 3ms/step - loss: 0.5169 - acc: 0.7481 - val_loss: 0.5175 - val_acc: 0.7428\n",
            "Epoch 30/100\n",
            "Epoch 30/100\n",
            "22500/22500 [==============================] - 68s 3ms/step - loss: 0.5159 - acc: 0.7458 - val_loss: 0.5199 - val_acc: 0.7512\n",
            "22500/22500 [==============================] - 68s 3ms/step - loss: 0.5159 - acc: 0.7458 - val_loss: 0.5199 - val_acc: 0.7512\n",
            "Epoch 31/100\n",
            "Epoch 31/100\n",
            "22500/22500 [==============================] - 69s 3ms/step - loss: 0.5135 - acc: 0.7480 - val_loss: 0.5152 - val_acc: 0.7452\n",
            "22500/22500 [==============================] - 69s 3ms/step - loss: 0.5135 - acc: 0.7480 - val_loss: 0.5152 - val_acc: 0.7452\n",
            "Epoch 32/100\n",
            "Epoch 32/100\n",
            "22500/22500 [==============================] - 68s 3ms/step - loss: 0.5122 - acc: 0.7493 - val_loss: 0.5267 - val_acc: 0.7384\n",
            "22500/22500 [==============================] - 68s 3ms/step - loss: 0.5122 - acc: 0.7493 - val_loss: 0.5267 - val_acc: 0.7384\n",
            "Epoch 33/100\n",
            "Epoch 33/100\n",
            "22500/22500 [==============================] - 69s 3ms/step - loss: 0.5127 - acc: 0.7490 - val_loss: 0.5214 - val_acc: 0.7408\n",
            "22500/22500 [==============================] - 69s 3ms/step - loss: 0.5127 - acc: 0.7490 - val_loss: 0.5214 - val_acc: 0.7408\n",
            "Epoch 34/100\n",
            "Epoch 34/100\n",
            "22500/22500 [==============================] - 69s 3ms/step - loss: 0.5114 - acc: 0.7481 - val_loss: 0.5338 - val_acc: 0.7280\n",
            "22500/22500 [==============================] - 69s 3ms/step - loss: 0.5114 - acc: 0.7481 - val_loss: 0.5338 - val_acc: 0.7280\n",
            "Epoch 35/100\n",
            "Epoch 35/100\n",
            "22500/22500 [==============================] - 69s 3ms/step - loss: 0.5102 - acc: 0.7517 - val_loss: 0.5176 - val_acc: 0.7436\n",
            "22500/22500 [==============================] - 69s 3ms/step - loss: 0.5102 - acc: 0.7517 - val_loss: 0.5176 - val_acc: 0.7436\n",
            "Epoch 36/100\n",
            "Epoch 36/100\n",
            "22500/22500 [==============================] - 69s 3ms/step - loss: 0.5098 - acc: 0.7520 - val_loss: 0.5334 - val_acc: 0.7384\n",
            "22500/22500 [==============================] - 69s 3ms/step - loss: 0.5098 - acc: 0.7520 - val_loss: 0.5334 - val_acc: 0.7384\n",
            "Epoch 37/100\n",
            "Epoch 37/100\n",
            "22500/22500 [==============================] - 69s 3ms/step - loss: 0.5067 - acc: 0.7533 - val_loss: 0.5288 - val_acc: 0.7404\n",
            "22500/22500 [==============================] - 69s 3ms/step - loss: 0.5067 - acc: 0.7533 - val_loss: 0.5288 - val_acc: 0.7404\n",
            "Epoch 38/100\n",
            "Epoch 38/100\n",
            "22500/22500 [==============================] - 69s 3ms/step - loss: 0.5083 - acc: 0.7515 - val_loss: 0.5155 - val_acc: 0.7488\n",
            "22500/22500 [==============================] - 69s 3ms/step - loss: 0.5083 - acc: 0.7515 - val_loss: 0.5155 - val_acc: 0.7488\n",
            "Epoch 39/100\n",
            "Epoch 39/100\n",
            "22500/22500 [==============================] - 68s 3ms/step - loss: 0.5032 - acc: 0.7559 - val_loss: 0.5276 - val_acc: 0.7360\n",
            "22500/22500 [==============================] - 68s 3ms/step - loss: 0.5032 - acc: 0.7559 - val_loss: 0.5276 - val_acc: 0.7360\n",
            "Epoch 40/100\n",
            "Epoch 40/100\n",
            "22500/22500 [==============================] - 68s 3ms/step - loss: 0.5053 - acc: 0.7546 - val_loss: 0.5123 - val_acc: 0.7464\n",
            "22500/22500 [==============================] - 68s 3ms/step - loss: 0.5053 - acc: 0.7546 - val_loss: 0.5123 - val_acc: 0.7464\n",
            "Epoch 41/100\n",
            "Epoch 41/100\n",
            "22500/22500 [==============================] - 68s 3ms/step - loss: 0.5012 - acc: 0.7587 - val_loss: 0.5097 - val_acc: 0.7500\n",
            "22500/22500 [==============================] - 68s 3ms/step - loss: 0.5012 - acc: 0.7587 - val_loss: 0.5097 - val_acc: 0.7500\n",
            "Epoch 42/100\n",
            "Epoch 42/100\n",
            "22500/22500 [==============================] - 69s 3ms/step - loss: 0.5009 - acc: 0.7572 - val_loss: 0.5168 - val_acc: 0.7472\n",
            "22500/22500 [==============================] - 69s 3ms/step - loss: 0.5009 - acc: 0.7572 - val_loss: 0.5168 - val_acc: 0.7472\n",
            "Epoch 43/100\n",
            "Epoch 43/100\n",
            "22500/22500 [==============================] - 69s 3ms/step - loss: 0.5017 - acc: 0.7569 - val_loss: 0.5169 - val_acc: 0.7464\n",
            "22500/22500 [==============================] - 69s 3ms/step - loss: 0.5017 - acc: 0.7569 - val_loss: 0.5169 - val_acc: 0.7464\n",
            "Epoch 44/100\n",
            "Epoch 44/100\n",
            "22500/22500 [==============================] - 68s 3ms/step - loss: 0.4997 - acc: 0.7580 - val_loss: 0.5123 - val_acc: 0.7480\n",
            "22500/22500 [==============================] - 68s 3ms/step - loss: 0.4997 - acc: 0.7580 - val_loss: 0.5123 - val_acc: 0.7480\n",
            "Epoch 45/100\n",
            "Epoch 45/100\n",
            "22500/22500 [==============================] - 68s 3ms/step - loss: 0.4970 - acc: 0.7596 - val_loss: 0.5161 - val_acc: 0.7428\n",
            "22500/22500 [==============================] - 68s 3ms/step - loss: 0.4970 - acc: 0.7596 - val_loss: 0.5161 - val_acc: 0.7428\n",
            "Epoch 46/100\n",
            "Epoch 46/100\n",
            "22500/22500 [==============================] - 68s 3ms/step - loss: 0.4969 - acc: 0.7626 - val_loss: 0.5149 - val_acc: 0.7472\n",
            "22500/22500 [==============================] - 68s 3ms/step - loss: 0.4969 - acc: 0.7626 - val_loss: 0.5149 - val_acc: 0.7472\n",
            "Epoch 47/100\n",
            "Epoch 47/100\n",
            "22500/22500 [==============================] - 68s 3ms/step - loss: 0.4966 - acc: 0.7601 - val_loss: 0.5116 - val_acc: 0.7500\n",
            "22500/22500 [==============================] - 68s 3ms/step - loss: 0.4966 - acc: 0.7601 - val_loss: 0.5116 - val_acc: 0.7500\n",
            "Epoch 48/100\n",
            "Epoch 48/100\n",
            "22500/22500 [==============================] - 68s 3ms/step - loss: 0.4983 - acc: 0.7599 - val_loss: 0.5105 - val_acc: 0.7508\n",
            "22500/22500 [==============================] - 68s 3ms/step - loss: 0.4983 - acc: 0.7599 - val_loss: 0.5105 - val_acc: 0.7508\n",
            "Epoch 49/100\n",
            "Epoch 49/100\n",
            "22500/22500 [==============================] - 68s 3ms/step - loss: 0.4928 - acc: 0.7657 - val_loss: 0.5028 - val_acc: 0.7532\n",
            "22500/22500 [==============================] - 68s 3ms/step - loss: 0.4928 - acc: 0.7657 - val_loss: 0.5028 - val_acc: 0.7532\n",
            "Epoch 50/100\n",
            "Epoch 50/100\n",
            "22500/22500 [==============================] - 68s 3ms/step - loss: 0.4953 - acc: 0.7619 - val_loss: 0.5355 - val_acc: 0.7320\n",
            "22500/22500 [==============================] - 68s 3ms/step - loss: 0.4953 - acc: 0.7619 - val_loss: 0.5355 - val_acc: 0.7320\n",
            "Epoch 51/100\n",
            "Epoch 51/100\n",
            "22500/22500 [==============================] - 69s 3ms/step - loss: 0.4923 - acc: 0.7634 - val_loss: 0.5251 - val_acc: 0.7372\n",
            "22500/22500 [==============================] - 69s 3ms/step - loss: 0.4923 - acc: 0.7634 - val_loss: 0.5251 - val_acc: 0.7372\n",
            "Epoch 52/100\n",
            "Epoch 52/100\n",
            "22500/22500 [==============================] - 69s 3ms/step - loss: 0.4907 - acc: 0.7643 - val_loss: 0.5261 - val_acc: 0.7432\n",
            "22500/22500 [==============================] - 69s 3ms/step - loss: 0.4907 - acc: 0.7643 - val_loss: 0.5261 - val_acc: 0.7432\n",
            "Epoch 53/100\n",
            "Epoch 53/100\n",
            "22500/22500 [==============================] - 69s 3ms/step - loss: 0.4898 - acc: 0.7621 - val_loss: 0.5308 - val_acc: 0.7400\n",
            "22500/22500 [==============================] - 69s 3ms/step - loss: 0.4898 - acc: 0.7621 - val_loss: 0.5308 - val_acc: 0.7400\n",
            "Epoch 54/100\n",
            "Epoch 54/100\n",
            "22500/22500 [==============================] - 68s 3ms/step - loss: 0.4887 - acc: 0.7658 - val_loss: 0.5252 - val_acc: 0.7420\n",
            "22500/22500 [==============================] - 68s 3ms/step - loss: 0.4887 - acc: 0.7658 - val_loss: 0.5252 - val_acc: 0.7420\n",
            "Epoch 55/100\n",
            "Epoch 55/100\n",
            "22500/22500 [==============================] - 69s 3ms/step - loss: 0.4907 - acc: 0.7648 - val_loss: 0.5178 - val_acc: 0.7404\n",
            "22500/22500 [==============================] - 69s 3ms/step - loss: 0.4907 - acc: 0.7648 - val_loss: 0.5178 - val_acc: 0.7404\n",
            "Epoch 56/100\n",
            "Epoch 56/100\n",
            "22500/22500 [==============================] - 69s 3ms/step - loss: 0.4907 - acc: 0.7664 - val_loss: 0.5157 - val_acc: 0.7444\n",
            "22500/22500 [==============================] - 69s 3ms/step - loss: 0.4907 - acc: 0.7664 - val_loss: 0.5157 - val_acc: 0.7444\n",
            "Epoch 57/100\n",
            "Epoch 57/100\n",
            "22500/22500 [==============================] - 68s 3ms/step - loss: 0.4896 - acc: 0.7646 - val_loss: 0.5269 - val_acc: 0.7420\n",
            "22500/22500 [==============================] - 68s 3ms/step - loss: 0.4896 - acc: 0.7646 - val_loss: 0.5269 - val_acc: 0.7420\n",
            "Epoch 58/100\n",
            "Epoch 58/100\n",
            "22500/22500 [==============================] - 68s 3ms/step - loss: 0.4865 - acc: 0.7673 - val_loss: 0.5151 - val_acc: 0.7460\n",
            "22500/22500 [==============================] - 68s 3ms/step - loss: 0.4865 - acc: 0.7673 - val_loss: 0.5151 - val_acc: 0.7460\n",
            "Epoch 59/100\n",
            "Epoch 59/100\n",
            "22500/22500 [==============================] - 68s 3ms/step - loss: 0.4899 - acc: 0.7612 - val_loss: 0.5073 - val_acc: 0.7508\n",
            "22500/22500 [==============================] - 68s 3ms/step - loss: 0.4899 - acc: 0.7612 - val_loss: 0.5073 - val_acc: 0.7508\n",
            "Epoch 60/100\n",
            "Epoch 60/100\n",
            "22500/22500 [==============================] - 68s 3ms/step - loss: 0.4873 - acc: 0.7631 - val_loss: 0.5185 - val_acc: 0.7484\n",
            "22500/22500 [==============================] - 68s 3ms/step - loss: 0.4873 - acc: 0.7631 - val_loss: 0.5185 - val_acc: 0.7484\n",
            "Epoch 61/100\n",
            "Epoch 61/100\n",
            "22500/22500 [==============================] - 68s 3ms/step - loss: 0.4885 - acc: 0.7669 - val_loss: 0.5131 - val_acc: 0.7512\n",
            "22500/22500 [==============================] - 68s 3ms/step - loss: 0.4885 - acc: 0.7669 - val_loss: 0.5131 - val_acc: 0.7512\n",
            "Epoch 62/100\n",
            "Epoch 62/100\n",
            "22500/22500 [==============================] - 68s 3ms/step - loss: 0.4850 - acc: 0.7664 - val_loss: 0.5062 - val_acc: 0.7488\n",
            "22500/22500 [==============================] - 68s 3ms/step - loss: 0.4850 - acc: 0.7664 - val_loss: 0.5062 - val_acc: 0.7488\n",
            "Epoch 63/100\n",
            "Epoch 63/100\n",
            "22500/22500 [==============================] - 68s 3ms/step - loss: 0.4857 - acc: 0.7652 - val_loss: 0.5085 - val_acc: 0.7492\n",
            "22500/22500 [==============================] - 68s 3ms/step - loss: 0.4857 - acc: 0.7652 - val_loss: 0.5085 - val_acc: 0.7492\n",
            "Epoch 64/100\n",
            "Epoch 64/100\n",
            "22500/22500 [==============================] - 68s 3ms/step - loss: 0.4847 - acc: 0.7691 - val_loss: 0.5107 - val_acc: 0.7468\n",
            "22500/22500 [==============================] - 68s 3ms/step - loss: 0.4847 - acc: 0.7691 - val_loss: 0.5107 - val_acc: 0.7468\n",
            "Epoch 65/100\n",
            "Epoch 65/100\n",
            "22500/22500 [==============================] - 68s 3ms/step - loss: 0.4840 - acc: 0.7674 - val_loss: 0.5143 - val_acc: 0.7500\n",
            "22500/22500 [==============================] - 68s 3ms/step - loss: 0.4840 - acc: 0.7674 - val_loss: 0.5143 - val_acc: 0.7500\n",
            "Epoch 66/100\n",
            "Epoch 66/100\n",
            "22500/22500 [==============================] - 68s 3ms/step - loss: 0.4881 - acc: 0.7653 - val_loss: 0.5271 - val_acc: 0.7456\n",
            "22500/22500 [==============================] - 68s 3ms/step - loss: 0.4881 - acc: 0.7653 - val_loss: 0.5271 - val_acc: 0.7456\n",
            "Epoch 67/100\n",
            "Epoch 67/100\n",
            "22500/22500 [==============================] - 67s 3ms/step - loss: 0.4812 - acc: 0.7701 - val_loss: 0.5107 - val_acc: 0.7524\n",
            "22500/22500 [==============================] - 67s 3ms/step - loss: 0.4812 - acc: 0.7701 - val_loss: 0.5107 - val_acc: 0.7524\n",
            "Epoch 68/100\n",
            "Epoch 68/100\n",
            "22500/22500 [==============================] - 68s 3ms/step - loss: 0.4834 - acc: 0.7704 - val_loss: 0.5543 - val_acc: 0.7208\n",
            "22500/22500 [==============================] - 68s 3ms/step - loss: 0.4834 - acc: 0.7704 - val_loss: 0.5543 - val_acc: 0.7208\n",
            "Epoch 69/100\n",
            "Epoch 69/100\n",
            "22500/22500 [==============================] - 69s 3ms/step - loss: 0.4821 - acc: 0.7664 - val_loss: 0.5115 - val_acc: 0.7464\n",
            "22500/22500 [==============================] - 69s 3ms/step - loss: 0.4821 - acc: 0.7664 - val_loss: 0.5115 - val_acc: 0.7464\n",
            "Epoch 70/100\n",
            "Epoch 70/100\n",
            "22500/22500 [==============================] - 68s 3ms/step - loss: 0.4818 - acc: 0.7718 - val_loss: 0.5168 - val_acc: 0.7444\n",
            "22500/22500 [==============================] - 68s 3ms/step - loss: 0.4818 - acc: 0.7718 - val_loss: 0.5168 - val_acc: 0.7444\n",
            "Epoch 71/100\n",
            "Epoch 71/100\n",
            "22500/22500 [==============================] - 68s 3ms/step - loss: 0.4801 - acc: 0.7696 - val_loss: 0.5187 - val_acc: 0.7384\n",
            "22500/22500 [==============================] - 68s 3ms/step - loss: 0.4801 - acc: 0.7696 - val_loss: 0.5187 - val_acc: 0.7384\n",
            "Epoch 72/100\n",
            "Epoch 72/100\n",
            "22500/22500 [==============================] - 68s 3ms/step - loss: 0.4794 - acc: 0.7720 - val_loss: 0.5171 - val_acc: 0.7448\n",
            "22500/22500 [==============================] - 68s 3ms/step - loss: 0.4794 - acc: 0.7720 - val_loss: 0.5171 - val_acc: 0.7448\n",
            "Epoch 73/100\n",
            "Epoch 73/100\n",
            "22500/22500 [==============================] - 68s 3ms/step - loss: 0.4799 - acc: 0.7720 - val_loss: 0.5121 - val_acc: 0.7452\n",
            "22500/22500 [==============================] - 68s 3ms/step - loss: 0.4799 - acc: 0.7720 - val_loss: 0.5121 - val_acc: 0.7452\n",
            "Epoch 74/100\n",
            "Epoch 74/100\n",
            "22500/22500 [==============================] - 69s 3ms/step - loss: 0.4795 - acc: 0.7700 - val_loss: 0.5150 - val_acc: 0.7520\n",
            "22500/22500 [==============================] - 69s 3ms/step - loss: 0.4795 - acc: 0.7700 - val_loss: 0.5150 - val_acc: 0.7520\n",
            "Epoch 75/100\n",
            "Epoch 75/100\n",
            "22500/22500 [==============================] - 68s 3ms/step - loss: 0.4788 - acc: 0.7720 - val_loss: 0.5101 - val_acc: 0.7568\n",
            "22500/22500 [==============================] - 68s 3ms/step - loss: 0.4788 - acc: 0.7720 - val_loss: 0.5101 - val_acc: 0.7568\n",
            "Epoch 76/100\n",
            "Epoch 76/100\n",
            "22500/22500 [==============================] - 68s 3ms/step - loss: 0.4810 - acc: 0.7689 - val_loss: 0.5163 - val_acc: 0.7420\n",
            "22500/22500 [==============================] - 68s 3ms/step - loss: 0.4810 - acc: 0.7689 - val_loss: 0.5163 - val_acc: 0.7420\n",
            "Epoch 77/100\n",
            "Epoch 77/100\n",
            "22500/22500 [==============================] - 68s 3ms/step - loss: 0.4798 - acc: 0.7707 - val_loss: 0.5112 - val_acc: 0.7508\n",
            "22500/22500 [==============================] - 68s 3ms/step - loss: 0.4798 - acc: 0.7707 - val_loss: 0.5112 - val_acc: 0.7508\n",
            "Epoch 78/100\n",
            "Epoch 78/100\n",
            "22500/22500 [==============================] - 69s 3ms/step - loss: 0.4778 - acc: 0.7696 - val_loss: 0.5202 - val_acc: 0.7344\n",
            "22500/22500 [==============================] - 69s 3ms/step - loss: 0.4778 - acc: 0.7696 - val_loss: 0.5202 - val_acc: 0.7344\n",
            "Epoch 79/100\n",
            "Epoch 79/100\n",
            "22500/22500 [==============================] - 68s 3ms/step - loss: 0.4826 - acc: 0.7692 - val_loss: 0.5103 - val_acc: 0.7504\n",
            "22500/22500 [==============================] - 68s 3ms/step - loss: 0.4826 - acc: 0.7692 - val_loss: 0.5103 - val_acc: 0.7504\n",
            "Epoch 80/100\n",
            "Epoch 80/100\n",
            "22500/22500 [==============================] - 68s 3ms/step - loss: 0.4755 - acc: 0.7736 - val_loss: 0.5164 - val_acc: 0.7424\n",
            "22500/22500 [==============================] - 68s 3ms/step - loss: 0.4755 - acc: 0.7736 - val_loss: 0.5164 - val_acc: 0.7424\n",
            "Epoch 81/100\n",
            "Epoch 81/100\n",
            "22500/22500 [==============================] - 68s 3ms/step - loss: 0.4778 - acc: 0.7718 - val_loss: 0.5351 - val_acc: 0.7356\n",
            "22500/22500 [==============================] - 68s 3ms/step - loss: 0.4778 - acc: 0.7718 - val_loss: 0.5351 - val_acc: 0.7356\n",
            "Epoch 82/100\n",
            "Epoch 82/100\n",
            "22500/22500 [==============================] - 68s 3ms/step - loss: 0.4765 - acc: 0.7730 - val_loss: 0.5332 - val_acc: 0.7324\n",
            "22500/22500 [==============================] - 68s 3ms/step - loss: 0.4765 - acc: 0.7730 - val_loss: 0.5332 - val_acc: 0.7324\n",
            "Epoch 83/100\n",
            "Epoch 83/100\n",
            "22500/22500 [==============================] - 69s 3ms/step - loss: 0.4749 - acc: 0.7697 - val_loss: 0.5156 - val_acc: 0.7472\n",
            "22500/22500 [==============================] - 69s 3ms/step - loss: 0.4749 - acc: 0.7697 - val_loss: 0.5156 - val_acc: 0.7472\n",
            "Epoch 84/100\n",
            "Epoch 84/100\n",
            "22500/22500 [==============================] - 68s 3ms/step - loss: 0.4749 - acc: 0.7738 - val_loss: 0.5190 - val_acc: 0.7476\n",
            "22500/22500 [==============================] - 68s 3ms/step - loss: 0.4749 - acc: 0.7738 - val_loss: 0.5190 - val_acc: 0.7476\n",
            "Epoch 85/100\n",
            "Epoch 85/100\n",
            "22500/22500 [==============================] - 68s 3ms/step - loss: 0.4757 - acc: 0.7730 - val_loss: 0.5151 - val_acc: 0.7448\n",
            "22500/22500 [==============================] - 68s 3ms/step - loss: 0.4757 - acc: 0.7730 - val_loss: 0.5151 - val_acc: 0.7448\n",
            "Epoch 86/100\n",
            "Epoch 86/100\n",
            "22500/22500 [==============================] - 68s 3ms/step - loss: 0.4756 - acc: 0.7709 - val_loss: 0.5212 - val_acc: 0.7424\n",
            "22500/22500 [==============================] - 68s 3ms/step - loss: 0.4756 - acc: 0.7709 - val_loss: 0.5212 - val_acc: 0.7424\n",
            "Epoch 87/100\n",
            "Epoch 87/100\n",
            "22500/22500 [==============================] - 69s 3ms/step - loss: 0.4749 - acc: 0.7708 - val_loss: 0.5251 - val_acc: 0.7380\n",
            "22500/22500 [==============================] - 69s 3ms/step - loss: 0.4749 - acc: 0.7708 - val_loss: 0.5251 - val_acc: 0.7380\n",
            "Epoch 88/100\n",
            "Epoch 88/100\n",
            "22500/22500 [==============================] - 69s 3ms/step - loss: 0.4757 - acc: 0.7754 - val_loss: 0.5131 - val_acc: 0.7456\n",
            "22500/22500 [==============================] - 69s 3ms/step - loss: 0.4757 - acc: 0.7754 - val_loss: 0.5131 - val_acc: 0.7456\n",
            "Epoch 89/100\n",
            "Epoch 89/100\n",
            "22500/22500 [==============================] - 69s 3ms/step - loss: 0.4781 - acc: 0.7718 - val_loss: 0.5154 - val_acc: 0.7408\n",
            "22500/22500 [==============================] - 69s 3ms/step - loss: 0.4781 - acc: 0.7718 - val_loss: 0.5154 - val_acc: 0.7408\n",
            "Epoch 90/100\n",
            "Epoch 90/100\n",
            "22500/22500 [==============================] - 69s 3ms/step - loss: 0.4739 - acc: 0.7760 - val_loss: 0.5098 - val_acc: 0.7456\n",
            "22500/22500 [==============================] - 69s 3ms/step - loss: 0.4739 - acc: 0.7760 - val_loss: 0.5098 - val_acc: 0.7456\n",
            "Epoch 91/100\n",
            "Epoch 91/100\n",
            "22500/22500 [==============================] - 69s 3ms/step - loss: 0.4747 - acc: 0.7722 - val_loss: 0.5268 - val_acc: 0.7444\n",
            "22500/22500 [==============================] - 69s 3ms/step - loss: 0.4747 - acc: 0.7722 - val_loss: 0.5268 - val_acc: 0.7444\n",
            "Epoch 92/100\n",
            "Epoch 92/100\n",
            "22500/22500 [==============================] - 69s 3ms/step - loss: 0.4761 - acc: 0.7740 - val_loss: 0.5623 - val_acc: 0.7280\n",
            "22500/22500 [==============================] - 69s 3ms/step - loss: 0.4761 - acc: 0.7740 - val_loss: 0.5623 - val_acc: 0.7280\n",
            "Epoch 93/100\n",
            "Epoch 93/100\n",
            "22500/22500 [==============================] - 68s 3ms/step - loss: 0.4723 - acc: 0.7762 - val_loss: 0.5241 - val_acc: 0.7348\n",
            "22500/22500 [==============================] - 68s 3ms/step - loss: 0.4723 - acc: 0.7762 - val_loss: 0.5241 - val_acc: 0.7348\n",
            "Epoch 94/100\n",
            "Epoch 94/100\n",
            "22500/22500 [==============================] - 68s 3ms/step - loss: 0.4739 - acc: 0.7756 - val_loss: 0.5231 - val_acc: 0.7484\n",
            "22500/22500 [==============================] - 68s 3ms/step - loss: 0.4739 - acc: 0.7756 - val_loss: 0.5231 - val_acc: 0.7484\n",
            "Epoch 95/100\n",
            "Epoch 95/100\n",
            "22500/22500 [==============================] - 68s 3ms/step - loss: 0.4749 - acc: 0.7723 - val_loss: 0.5204 - val_acc: 0.7396\n",
            "22500/22500 [==============================] - 68s 3ms/step - loss: 0.4749 - acc: 0.7723 - val_loss: 0.5204 - val_acc: 0.7396\n",
            "Epoch 96/100\n",
            "Epoch 96/100\n",
            "22500/22500 [==============================] - 69s 3ms/step - loss: 0.4746 - acc: 0.7745 - val_loss: 0.5211 - val_acc: 0.7396\n",
            "22500/22500 [==============================] - 69s 3ms/step - loss: 0.4746 - acc: 0.7745 - val_loss: 0.5211 - val_acc: 0.7396\n",
            "Epoch 97/100\n",
            "Epoch 97/100\n",
            "22500/22500 [==============================] - 68s 3ms/step - loss: 0.4722 - acc: 0.7731 - val_loss: 0.5221 - val_acc: 0.7340\n",
            "22500/22500 [==============================] - 68s 3ms/step - loss: 0.4722 - acc: 0.7731 - val_loss: 0.5221 - val_acc: 0.7340\n",
            "Epoch 98/100\n",
            "Epoch 98/100\n",
            "22500/22500 [==============================] - 68s 3ms/step - loss: 0.4766 - acc: 0.7719 - val_loss: 0.5183 - val_acc: 0.7452\n",
            "22500/22500 [==============================] - 68s 3ms/step - loss: 0.4766 - acc: 0.7719 - val_loss: 0.5183 - val_acc: 0.7452\n",
            "Epoch 99/100\n",
            "Epoch 99/100\n",
            "22500/22500 [==============================] - 68s 3ms/step - loss: 0.4713 - acc: 0.7773 - val_loss: 0.5140 - val_acc: 0.7452\n",
            "22500/22500 [==============================] - 68s 3ms/step - loss: 0.4713 - acc: 0.7773 - val_loss: 0.5140 - val_acc: 0.7452\n",
            "Epoch 100/100\n",
            "Epoch 100/100\n",
            "22500/22500 [==============================] - 68s 3ms/step - loss: 0.4716 - acc: 0.7762 - val_loss: 0.5179 - val_acc: 0.7452\n",
            "22500/22500 [==============================] - 68s 3ms/step - loss: 0.4716 - acc: 0.7762 - val_loss: 0.5179 - val_acc: 0.7452\n"
          ],
          "name": "stdout"
        }
      ]
    },
    {
      "metadata": {
        "id": "QtS2NtmaSMof",
        "colab_type": "code",
        "outputId": "b7eeca67-ebbc-4a49-80cd-fab98cc33639",
        "colab": {
          "base_uri": "https://localhost:8080/",
          "height": 34
        }
      },
      "cell_type": "code",
      "source": [
        "model.metrics_names"
      ],
      "execution_count": 27,
      "outputs": [
        {
          "output_type": "execute_result",
          "data": {
            "text/plain": [
              "['loss', 'acc']"
            ]
          },
          "metadata": {
            "tags": []
          },
          "execution_count": 27
        }
      ]
    },
    {
      "metadata": {
        "id": "l6hZY6hASUcH",
        "colab_type": "code",
        "outputId": "18850516-de7d-4336-b44b-492a2da82ee7",
        "colab": {
          "base_uri": "https://localhost:8080/",
          "height": 34
        }
      },
      "cell_type": "code",
      "source": [
        "print(model_op.history.keys())"
      ],
      "execution_count": 28,
      "outputs": [
        {
          "output_type": "stream",
          "text": [
            "dict_keys(['val_loss', 'val_acc', 'loss', 'acc'])\n"
          ],
          "name": "stdout"
        }
      ]
    },
    {
      "metadata": {
        "id": "2giRcHIBSc8s",
        "colab_type": "code",
        "outputId": "1a6b98f9-8f55-4dbe-8426-e5ae8b8a14aa",
        "colab": {
          "base_uri": "https://localhost:8080/",
          "height": 347
        }
      },
      "cell_type": "code",
      "source": [
        "import matplotlib.pyplot as plt\n",
        "plt.plot(model_op.history['acc'], color='green')\n",
        "plt.plot(model_op.history['val_acc'], color='blue')\n",
        "plt.plot(model_op.history['loss'], color='red')\n",
        "plt.plot(model_op.history['val_loss'], color='cyan')\n",
        "plt.legend(('Training Accuracy', 'Validation Accuracy', 'Training Loss', 'Validation Loss'), loc='center right')\n",
        "plt.show()"
      ],
      "execution_count": 41,
      "outputs": [
        {
          "output_type": "display_data",
          "data": {
            "image/png": "[encoded data removed]",
            "text/plain": [
              "<matplotlib.figure.Figure at 0x7fc2192da630>"
            ]
          },
          "metadata": {
            "tags": []
          }
        }
      ]
    },
    {
      "metadata": {
        "id": "XU6RuQhLzBTO",
        "colab_type": "text"
      },
      "cell_type": "markdown",
      "source": [
        "# kNN Model"
      ]
    },
    {
      "metadata": {
        "id": "RvdNxEgS2tjR",
        "colab_type": "code",
        "colab": {}
      },
      "cell_type": "code",
      "source": [
        "from sklearn.model_selection import train_test_split\n",
        "training_data_kNN_reshaped=np.array(training_data_kNN).reshape(len(training_data_kNN), -1) / 255.0\n",
        "X_train, X_test, y_train, y_test = train_test_split(training_data_kNN_reshaped, training_data_y_reshaped, test_size = 0.2) #20% data used"
      ],
      "execution_count": 0,
      "outputs": []
    },
    {
      "metadata": {
        "id": "ObMj6AhvMStI",
        "colab_type": "code",
        "colab": {
          "base_uri": "https://localhost:8080/",
          "height": 70
        },
        "outputId": "c434715d-c18d-4b62-cd31-585e31a7ca8f"
      },
      "cell_type": "code",
      "source": [
        "from sklearn.neighbors import KNeighborsClassifier\n",
        "kNN = KNeighborsClassifier(n_neighbors=3)\n",
        "kNN.fit(X_train, y_train)"
      ],
      "execution_count": 43,
      "outputs": [
        {
          "output_type": "execute_result",
          "data": {
            "text/plain": [
              "KNeighborsClassifier(algorithm='auto', leaf_size=30, metric='minkowski',\n",
              "           metric_params=None, n_jobs=None, n_neighbors=3, p=2,\n",
              "           weights='uniform')"
            ]
          },
          "metadata": {
            "tags": []
          },
          "execution_count": 43
        }
      ]
    },
    {
      "metadata": {
        "id": "-Tw9Q5u3ZqgK",
        "colab_type": "code",
        "colab": {}
      },
      "cell_type": "code",
      "source": [
        "accuracy = kNN.score(X_test, y_test)\n",
        "print(accuracy)"
      ],
      "execution_count": 0,
      "outputs": []
    },
    {
      "metadata": {
        "id": "xqoQAzES0w_v",
        "colab_type": "code",
        "colab": {}
      },
      "cell_type": "code",
      "source": [
        "print(kNN.predict(X_test))"
      ],
      "execution_count": 0,
      "outputs": []
    }
  ]
}