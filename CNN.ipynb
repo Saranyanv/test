{
  "nbformat": 4,
  "nbformat_minor": 0,
  "metadata": {
    "colab": {
      "name": "Untitled6.ipynb",
      "version": "0.3.2",
      "provenance": [],
      "include_colab_link": true
    },
    "kernelspec": {
      "name": "python3",
      "display_name": "Python 3"
    }
  },
  "cells": [
    {
      "cell_type": "markdown",
      "metadata": {
        "id": "view-in-github",
        "colab_type": "text"
      },
      "source": [
        "<a href=\"https://colab.research.google.com/github/Saranyanv/test/blob/master/CNN.ipynb\" target=\"_parent\"><img src=\"https://colab.research.google.com/assets/colab-badge.svg\" alt=\"Open In Colab\"/></a>"
      ]
    },
    {
      "metadata": {
        "id": "eIJZhIKnW5VA",
        "colab_type": "code",
        "colab": {}
      },
      "cell_type": "code",
      "source": [
        "import os \n",
        "import numpy as np\n",
        "import tensorflow as tf\n",
        "import zipfile\n",
        "from tqdm import tqdm\n",
        "# Working with images\n",
        "import cv2\n",
        "import re\n",
        "from matplotlib import pyplot as plt\n",
        "\n",
        "# Display Images\n",
        "from PIL import Image, ImageFilter\n",
        "\n",
        "# IPython display\n",
        "from IPython.display import display\n",
        "\n",
        "RANDOM_SEED = 42"
      ],
      "execution_count": 0,
      "outputs": []
    },
    {
      "metadata": {
        "id": "Ica9QTJyW7Qp",
        "colab_type": "code",
        "colab": {}
      },
      "cell_type": "code",
      "source": [
        "IMG_WIDTH = 50\n",
        "IMG_HEIGHT = 50\n",
        "IMG_CHANNELS = 1"
      ],
      "execution_count": 0,
      "outputs": []
    },
    {
      "metadata": {
        "id": "418TPo-oW8sc",
        "colab_type": "code",
        "colab": {}
      },
      "cell_type": "code",
      "source": [
        "# To make output stable across runs\n",
        "def reset_graph(seed= RANDOM_SEED):\n",
        "    tf.reset_default_graph()\n",
        "    tf.set_random_seed(seed)\n",
        "    np.random.seed(seed)"
      ],
      "execution_count": 0,
      "outputs": []
    },
    {
      "metadata": {
        "id": "epx-XsE6WSwQ",
        "colab_type": "code",
        "outputId": "113cc268-78a3-401d-ca2d-fea35d0a023a",
        "colab": {
          "base_uri": "https://localhost:8080/",
          "height": 34
        }
      },
      "cell_type": "code",
      "source": [
        "from google.colab import drive\n",
        "drive.mount('/content/drive')"
      ],
      "execution_count": 9,
      "outputs": [
        {
          "output_type": "stream",
          "text": [
            "Drive already mounted at /content/drive; to attempt to forcibly remount, call drive.mount(\"/content/drive\", force_remount=True).\n"
          ],
          "name": "stdout"
        }
      ]
    },
    {
      "metadata": {
        "id": "hZVLWO0zWYhI",
        "colab_type": "code",
        "outputId": "b719296a-c599-4341-b4c9-2261110de9cf",
        "colab": {
          "base_uri": "https://localhost:8080/",
          "height": 34
        }
      },
      "cell_type": "code",
      "source": [
        "!ls -l \"drive/My Drive/MSPA/Predict 422/Week 7/all.zip\""
      ],
      "execution_count": 10,
      "outputs": [
        {
          "output_type": "stream",
          "text": [
            "-rw------- 1 root root 851576569 Dec  4 02:01 'drive/My Drive/MSPA/Predict 422/Week 7/all.zip'\n"
          ],
          "name": "stdout"
        }
      ]
    },
    {
      "metadata": {
        "id": "jlZit1zBWnTQ",
        "colab_type": "code",
        "outputId": "5a88475d-cdfe-450e-d884-a20da2a3bbef",
        "colab": {
          "base_uri": "https://localhost:8080/",
          "height": 87
        }
      },
      "cell_type": "code",
      "source": [
        "!unzip \"drive/My Drive/MSPA/Predict 422/Week 7/all.zip\""
      ],
      "execution_count": 7,
      "outputs": [
        {
          "output_type": "stream",
          "text": [
            "Archive:  drive/My Drive/MSPA/Predict 422/Week 7/all.zip\n",
            "  inflating: sampleSubmission.csv    \n",
            "  inflating: train.zip               \n",
            "  inflating: test1.zip               \n"
          ],
          "name": "stdout"
        }
      ]
    },
    {
      "metadata": {
        "id": "GdzLC64tX0bE",
        "colab_type": "code",
        "outputId": "a58008cd-c9c3-4601-afff-490470dc6199",
        "colab": {
          "base_uri": "https://localhost:8080/",
          "height": 52
        }
      },
      "cell_type": "code",
      "source": [
        "!unzip train.zip"
      ],
      "execution_count": 11,
      "outputs": [
        {
          "output_type": "stream",
          "text": [
            "Archive:  train.zip\n",
            "replace train/cat.0.jpg? [y]es, [n]o, [A]ll, [N]one, [r]ename: "
          ],
          "name": "stdout"
        }
      ]
    },
    {
      "metadata": {
        "id": "ODMsNTg8Youu",
        "colab_type": "code",
        "colab": {}
      },
      "cell_type": "code",
      "source": [
        "!ls -lrt /content/train"
      ],
      "execution_count": 0,
      "outputs": []
    },
    {
      "metadata": {
        "id": "wPojyjfdXCsh",
        "colab_type": "code",
        "colab": {}
      },
      "cell_type": "code",
      "source": [
        "def label_img(img_name):\n",
        "  if 'cat.' in img_name: return 0\n",
        "  elif 'dog.' in img_name: return 1 \n",
        "  \n",
        "def img_index(img_name):\n",
        "  if 'cat.' in img_name: knt=0\n",
        "  elif 'dog.' in img_name: knt=1\n",
        "  num=int(re.sub(\"\\D\", \"\", img_name))\n",
        "  return ((12500*knt) + num)\n",
        "\n",
        "def plot_image(image):\n",
        "    plt.imshow(image, cmap=\"gray\", interpolation=\"bicubic\")\n",
        "    plt.axis(\"off\")\n",
        "    \n",
        "def plot_color_image(image):\n",
        "    plt.imshow(image.astype(np.uint8),interpolation=\"bicubic\")\n",
        "    plt.axis(\"off\")"
      ],
      "execution_count": 0,
      "outputs": []
    },
    {
      "metadata": {
        "id": "CJCRGDi3XEzK",
        "colab_type": "code",
        "outputId": "bd5bc54c-4483-452c-cfda-96294c56b656",
        "colab": {
          "base_uri": "https://localhost:8080/",
          "height": 34
        }
      },
      "cell_type": "code",
      "source": [
        "print (label_img('cats_dogs_images/dog.1.jpg'))"
      ],
      "execution_count": 14,
      "outputs": [
        {
          "output_type": "stream",
          "text": [
            "1\n"
          ],
          "name": "stdout"
        }
      ]
    },
    {
      "metadata": {
        "id": "_twGPTYEsK5S",
        "colab_type": "code",
        "colab": {}
      },
      "cell_type": "code",
      "source": [
        "from os import listdir\n",
        "import cv2 as cv2\n",
        "\n",
        "training_data_X = []\n",
        "training_data_y = []\n",
        "\n",
        "for z in listdir(\"/content/train\"):\n",
        "    label = label_img(z)\n",
        "    img_indx = img_index(z)\n",
        "    img_str=cv2.imread(os.path.join(\"/content/train\", z),cv2.IMREAD_GRAYSCALE)\n",
        "    img = cv2.resize(img_str, (IMG_WIDTH, IMG_HEIGHT))\n",
        "\n",
        "    #training_data.append([ np.array(img_indx), np.array(img), np.array(label)])\n",
        "    training_data_X.append(img)\n",
        "    training_data_y.append(label)"
      ],
      "execution_count": 0,
      "outputs": []
    },
    {
      "metadata": {
        "id": "orWyJ8_3ASJv",
        "colab_type": "code",
        "colab": {}
      },
      "cell_type": "code",
      "source": [
        "#training_data_X_20 = training_data_X[0:2500]\n",
        "#training_data_y_20 = training_data_y[0:2500]\n",
        "#training_data_X = training_data_X_20\n",
        "#training_data_y = training_data_y_20"
      ],
      "execution_count": 0,
      "outputs": []
    },
    {
      "metadata": {
        "id": "FNvIpxbIy1Sb",
        "colab_type": "code",
        "outputId": "91297595-4b1e-4a9c-9075-ca3fe9dfbb6b",
        "colab": {
          "base_uri": "https://localhost:8080/",
          "height": 348
        }
      },
      "cell_type": "code",
      "source": [
        "#plot_image(training_data[0][1])\n",
        "plot_image(training_data_X[0])"
      ],
      "execution_count": 16,
      "outputs": [
        {
          "output_type": "display_data",
          "data": {
            "image/png": "[encoded data removed]",
            "text/plain": [
              "<matplotlib.figure.Figure at 0x7f8a6eb435c0>"
            ]
          },
          "metadata": {
            "tags": []
          }
        }
      ]
    },
    {
      "metadata": {
        "id": "b39TiZiBz7Uf",
        "colab_type": "code",
        "outputId": "cf668a8a-c159-474e-804f-a2aafc83ab72",
        "colab": {
          "base_uri": "https://localhost:8080/",
          "height": 348
        }
      },
      "cell_type": "code",
      "source": [
        "plot_color_image(training_data_X[0])"
      ],
      "execution_count": 17,
      "outputs": [
        {
          "output_type": "display_data",
          "data": {
            "image/png": "[encoded data removed]",
            "text/plain": [
              "<matplotlib.figure.Figure at 0x7f8a6eb43dd8>"
            ]
          },
          "metadata": {
            "tags": []
          }
        }
      ]
    },
    {
      "metadata": {
        "id": "_Ss0ax-X0BD3",
        "colab_type": "code",
        "colab": {}
      },
      "cell_type": "code",
      "source": [
        "import keras\n",
        "from keras import Sequential, regularizers\n",
        "from keras import optimizers\n",
        "from keras.layers import Conv2D,MaxPooling2D,Dense,Flatten,Dropout, LocallyConnected2D, BatchNormalization\n",
        "from keras.layers import Activation, Dense, advanced_activations\n",
        "from keras.utils.np_utils import to_categorical"
      ],
      "execution_count": 0,
      "outputs": []
    },
    {
      "metadata": {
        "id": "12D38p1IBRdq",
        "colab_type": "code",
        "colab": {}
      },
      "cell_type": "code",
      "source": [
        "from keras import backend as K\n",
        "K.set_image_dim_ordering('tf')\n",
        "training_data_X_reshaped=np.array(training_data_X).reshape(-1, 50, 50, 1) / 255.0\n",
        "#training_data_y_reshaped=to_categorical(training_data_y, num_classes = 2)\n",
        "training_data_y_reshaped=np.array(training_data_y)"
      ],
      "execution_count": 0,
      "outputs": []
    },
    {
      "metadata": {
        "id": "eUl-Xa33yPK6",
        "colab_type": "code",
        "outputId": "91563e0d-9f37-4885-f483-30d7550cc4a8",
        "colab": {
          "base_uri": "https://localhost:8080/",
          "height": 34
        }
      },
      "cell_type": "code",
      "source": [
        "print (training_data_X_reshaped.shape, training_data_y_reshaped.shape)"
      ],
      "execution_count": 20,
      "outputs": [
        {
          "output_type": "stream",
          "text": [
            "(25000, 50, 50, 1) (25000,)\n"
          ],
          "name": "stdout"
        }
      ]
    },
    {
      "metadata": {
        "id": "gcDA2u3GuZ-0",
        "colab_type": "code",
        "colab": {}
      },
      "cell_type": "code",
      "source": [
        "K.get_session().close()\n",
        "K.set_session(tf.Session())\n",
        "K.get_session().run(tf.global_variables_initializer())"
      ],
      "execution_count": 0,
      "outputs": []
    },
    {
      "metadata": {
        "id": "Th2cGKD7ojIf",
        "colab_type": "code",
        "colab": {
          "base_uri": "https://localhost:8080/",
          "height": 54
        },
        "outputId": "39151ea7-51d4-4ed9-cbd3-f643e774ea1e"
      },
      "cell_type": "code",
      "source": [
        "import tensorflow as tf\n",
        "from tensorflow.keras import layers\n",
        "\n",
        "'''model = tf.keras.Sequential([keras.layers.Flatten(input_shape=(50, 50)),\n",
        "                            keras.layers.Dense(150, activation=tf.nn.relu),\n",
        "                            keras.layers.Conv2D(32, 3*3, strides=(1, 1), padding='valid', data_format=None, dilation_rate=(1, 1), activation=None, use_bias=True, kernel_initializer='glorot_uniform', bias_initializer='zeros', kernel_regularizer=None, bias_regularizer=None, activity_regularizer=None, kernel_constraint=None, bias_constraint=None),\n",
        "                            keras.layers.Dense(10, activation=tf.nn.softmax)\n",
        "                            ])'''\n",
        "'''\n",
        "model = Sequential()\n",
        "#model.add(Dense(150, input_shape=(50,50,1), activation='relu')) #25000 images, with 50*50 pixels in plain (1 channels, if RGB use 3)\n",
        "model.add(Conv2D(filters=3, kernel_size=(3*3), strides=(1, 1), input_shape=training_data_X_reshaped.shape[1:]\n",
        "                 , padding='same', data_format=\"channels_last\", dilation_rate=(1, 1)\n",
        "                 , activation=\"relu\"))\n",
        "#model.add(BatchNormalization())\n",
        "\n",
        "model.add(Conv2D(filters=5, kernel_size=(3*3), padding='same', activation=\"relu\"))\n",
        "#model.add(BatchNormalization())\n",
        "\n",
        "model.add(MaxPooling2D(pool_size=(2, 2) , strides=(2,2)))\n",
        "\n",
        "model.add(Conv2D(filters=10, kernel_size=(3*3), padding='same', activation=\"relu\"))\n",
        "#model.add(BatchNormalization())\n",
        "\n",
        "model.add(MaxPooling2D(pool_size=(2, 2) , strides=(2,2)))\n",
        "\n",
        "#model.add(LocallyConnected2D(10, 3*3, strides=(1, 1), padding='valid', data_format=None, \n",
        "#                   activation=tf.nn.relu, use_bias=True, kernel_initializer='glorot_uniform', \n",
        "#                   bias_initializer='zeros', kernel_regularizer=None, bias_regularizer=None, \n",
        "#                   activity_regularizer=None, kernel_constraint=None, bias_constraint=None))\n",
        "#model.add(BatchNormalization())\n",
        "\n",
        "model.add(Flatten())\n",
        "model.add(Dense(50, activation=tf.nn.relu))\n",
        "#model.add(BatchNormalization())\n",
        "\n",
        "model.add(Dropout(0.2))\n",
        "\n",
        "model.add(Dense(1, activation=tf.nn.softmax))\n",
        "#model.add(BatchNormalization())\n",
        "model.compile(loss='binary_crossentropy', optimizer='sgd', metrics=['accuracy'])\n",
        "'''"
      ],
      "execution_count": 23,
      "outputs": [
        {
          "output_type": "execute_result",
          "data": {
            "text/plain": [
              "'\\nmodel = Sequential()\\n#model.add(Dense(150, input_shape=(50,50,1), activation=\\'relu\\')) #25000 images, with 50*50 pixels in plain (1 channels, if RGB use 3)\\nmodel.add(Conv2D(filters=3, kernel_size=(3*3), strides=(1, 1), input_shape=training_data_X_reshaped.shape[1:]\\n                 , padding=\\'same\\', data_format=\"channels_last\", dilation_rate=(1, 1)\\n                 , activation=\"relu\"))\\n#model.add(BatchNormalization())\\n\\nmodel.add(Conv2D(filters=5, kernel_size=(3*3), padding=\\'same\\', activation=\"relu\"))\\n#model.add(BatchNormalization())\\n\\nmodel.add(MaxPooling2D(pool_size=(2, 2) , strides=(2,2)))\\n\\nmodel.add(Conv2D(filters=10, kernel_size=(3*3), padding=\\'same\\', activation=\"relu\"))\\n#model.add(BatchNormalization())\\n\\nmodel.add(MaxPooling2D(pool_size=(2, 2) , strides=(2,2)))\\n\\n#model.add(LocallyConnected2D(10, 3*3, strides=(1, 1), padding=\\'valid\\', data_format=None, \\n#                   activation=tf.nn.relu, use_bias=True, kernel_initializer=\\'glorot_uniform\\', \\n#                   bias_initializer=\\'zeros\\', kernel_regularizer=None, bias_regularizer=None, \\n#                   activity_regularizer=None, kernel_constraint=None, bias_constraint=None))\\n#model.add(BatchNormalization())\\n\\nmodel.add(Flatten())\\nmodel.add(Dense(50, activation=tf.nn.relu))\\n#model.add(BatchNormalization())\\n\\nmodel.add(Dropout(0.2))\\n\\nmodel.add(Dense(1, activation=tf.nn.softmax))\\n#model.add(BatchNormalization())\\nmodel.compile(loss=\\'binary_crossentropy\\', optimizer=\\'sgd\\', metrics=[\\'accuracy\\'])\\n'"
            ]
          },
          "metadata": {
            "tags": []
          },
          "execution_count": 23
        }
      ]
    },
    {
      "metadata": {
        "id": "2f5VMWgQdPMH",
        "colab_type": "code",
        "colab": {}
      },
      "cell_type": "code",
      "source": [
        "model=Sequential()\n",
        "model.add(Conv2D(kernel_size=(3,3),filters=3,input_shape=training_data_X_reshaped.shape[1:],activation=\"relu\"))\n",
        "model.add(Conv2D(kernel_size=(3,3),filters=10,activation=\"relu\",padding=\"same\"))\n",
        "model.add(MaxPooling2D(pool_size=(2,2),strides=(2,2)))\n",
        "model.add(Conv2D(kernel_size=(3,3),filters=3,activation=\"relu\"))\n",
        "model.add(Conv2D(kernel_size=(5,5),filters=5,activation=\"relu\"))\n",
        "model.add(MaxPooling2D(pool_size=(3,3),strides=(2,2)))\n",
        "model.add(Conv2D(kernel_size=(2,2),strides=(2,2),filters=10))\n",
        "#model.add(BatchNormalization())\n",
        "model.add(Flatten())\n",
        "model.add(Dropout(0.3))\n",
        "model.add(Dense(50,activation=\"relu\"))\n",
        "model.add(Dense(1,activation=\"tanh\"))\n",
        "#opt=optimizers.Nadam(lr=0.002, beta_1=0.9, beta_2=0.999, epsilon=None, schedule_decay=0.004)\n",
        "#model.compile(loss='binary_crossentropy', optimizer=opt, metrics=['accuracy'])\n",
        "model.compile(loss='binary_crossentropy', optimizer='Nadam', metrics=['accuracy'])"
      ],
      "execution_count": 0,
      "outputs": []
    },
    {
      "metadata": {
        "id": "vMN7bN_MK7zm",
        "colab_type": "code",
        "outputId": "4996102c-0f33-4fbc-9e4f-47b3d848bcb5",
        "colab": {
          "base_uri": "https://localhost:8080/",
          "height": 54
        }
      },
      "cell_type": "code",
      "source": [
        "'''\n",
        "model1=Sequential()\n",
        "model1.add(Conv2D(kernel_size=(3,3),filters=3,input_shape=training_data_X_reshaped.shape[1:],activation=\"relu\"))\n",
        "model1.add(Conv2D(kernel_size=(3,3),filters=10,activation=\"relu\",padding=\"same\"))\n",
        "model1.add(MaxPooling2D(pool_size=(2,2),strides=(2,2)))\n",
        "model1.add(Conv2D(kernel_size=(3,3),filters=3,activation=\"relu\"))\n",
        "model1.add(Conv2D(kernel_size=(5,5),filters=5,activation=\"relu\"))\n",
        "model1.add(MaxPooling2D(pool_size=(3,3),strides=(2,2)))\n",
        "model1.add(Conv2D(kernel_size=(2,2),strides=(2,2),filters=10))\n",
        "model1.add(Flatten())\n",
        "model1.add(Dropout(0.3))\n",
        "model1.add(Dense(100,activation=\"sigmoid\"))\n",
        "model1.add(Dense(1,activation=\"sigmoid\"))\n",
        "model1.summary()\n",
        "model1.compile(optimizer=\"adadelta\",loss=\"binary_crossentropy\",metrics=[\"accuracy\"])\n",
        "'''"
      ],
      "execution_count": 49,
      "outputs": [
        {
          "output_type": "execute_result",
          "data": {
            "text/plain": [
              "'\\nmodel1=Sequential()\\nmodel1.add(Conv2D(kernel_size=(3,3),filters=3,input_shape=training_data_X_reshaped.shape[1:],activation=\"relu\"))\\nmodel1.add(Conv2D(kernel_size=(3,3),filters=10,activation=\"relu\",padding=\"same\"))\\nmodel1.add(MaxPooling2D(pool_size=(2,2),strides=(2,2)))\\nmodel1.add(Conv2D(kernel_size=(3,3),filters=3,activation=\"relu\"))\\nmodel1.add(Conv2D(kernel_size=(5,5),filters=5,activation=\"relu\"))\\nmodel1.add(MaxPooling2D(pool_size=(3,3),strides=(2,2)))\\nmodel1.add(Conv2D(kernel_size=(2,2),strides=(2,2),filters=10))\\nmodel1.add(Flatten())\\nmodel1.add(Dropout(0.3))\\nmodel1.add(Dense(100,activation=\"sigmoid\"))\\nmodel1.add(Dense(1,activation=\"sigmoid\"))\\nmodel1.summary()\\nmodel1.compile(optimizer=\"adadelta\",loss=\"binary_crossentropy\",metrics=[\"accuracy\"])\\n'"
            ]
          },
          "metadata": {
            "tags": []
          },
          "execution_count": 49
        }
      ]
    },
    {
      "metadata": {
        "id": "WF1_eOe28fKK",
        "colab_type": "code",
        "outputId": "3963c2e9-8bb1-487b-e0d8-1d05c7728c7a",
        "colab": {
          "base_uri": "https://localhost:8080/",
          "height": 562
        }
      },
      "cell_type": "code",
      "source": [
        "model.summary()"
      ],
      "execution_count": 57,
      "outputs": [
        {
          "output_type": "stream",
          "text": [
            "_________________________________________________________________\n",
            "Layer (type)                 Output Shape              Param #   \n",
            "=================================================================\n",
            "conv2d_71 (Conv2D)           (None, 48, 48, 3)         30        \n",
            "_________________________________________________________________\n",
            "conv2d_72 (Conv2D)           (None, 48, 48, 10)        280       \n",
            "_________________________________________________________________\n",
            "max_pooling2d_29 (MaxPooling (None, 24, 24, 10)        0         \n",
            "_________________________________________________________________\n",
            "conv2d_73 (Conv2D)           (None, 22, 22, 3)         273       \n",
            "_________________________________________________________________\n",
            "conv2d_74 (Conv2D)           (None, 18, 18, 5)         380       \n",
            "_________________________________________________________________\n",
            "max_pooling2d_30 (MaxPooling (None, 8, 8, 5)           0         \n",
            "_________________________________________________________________\n",
            "conv2d_75 (Conv2D)           (None, 4, 4, 10)          210       \n",
            "_________________________________________________________________\n",
            "batch_normalization_1 (Batch (None, 4, 4, 10)          40        \n",
            "_________________________________________________________________\n",
            "flatten_15 (Flatten)         (None, 160)               0         \n",
            "_________________________________________________________________\n",
            "dropout_15 (Dropout)         (None, 160)               0         \n",
            "_________________________________________________________________\n",
            "dense_26 (Dense)             (None, 50)                8050      \n",
            "_________________________________________________________________\n",
            "dense_27 (Dense)             (None, 1)                 51        \n",
            "=================================================================\n",
            "Total params: 9,314\n",
            "Trainable params: 9,294\n",
            "Non-trainable params: 20\n",
            "_________________________________________________________________\n"
          ],
          "name": "stdout"
        }
      ]
    },
    {
      "metadata": {
        "id": "mjZEP9y06jBM",
        "colab_type": "code",
        "colab": {}
      },
      "cell_type": "code",
      "source": [
        "ProgbarLogger = keras.callbacks.ProgbarLogger(count_mode='samples', stateful_metrics=None)"
      ],
      "execution_count": 0,
      "outputs": []
    },
    {
      "metadata": {
        "colab_type": "code",
        "id": "ysrrFkVl21xD",
        "colab": {
          "base_uri": "https://localhost:8080/",
          "height": 1154
        },
        "outputId": "68dc9284-2983-4d0d-f773-72ea7adb10e0"
      },
      "cell_type": "code",
      "source": [
        "model.fit(training_data_X_reshaped, training_data_y_reshaped, epochs=100, validation_split=0.1, callbacks=[ProgbarLogger],batch_size=50)"
      ],
      "execution_count": 59,
      "outputs": [
        {
          "output_type": "stream",
          "text": [
            "Train on 22500 samples, validate on 2500 samples\n",
            "Epoch 1/100\n",
            "Epoch 1/100\n",
            "22500/22500 [==============================] - 75s 3ms/step - loss: 0.9887 - acc: 0.5726 - val_loss: 4.9739 - val_acc: 0.5024\n",
            "22500/22500 [==============================] - 75s 3ms/step - loss: 0.9887 - acc: 0.5726 - val_loss: 4.9739 - val_acc: 0.5024\n",
            "Epoch 2/100\n",
            "Epoch 2/100\n",
            "22500/22500 [==============================] - 72s 3ms/step - loss: 0.6639 - acc: 0.5956 - val_loss: 0.6618 - val_acc: 0.5940\n",
            "22500/22500 [==============================] - 72s 3ms/step - loss: 0.6639 - acc: 0.5956 - val_loss: 0.6618 - val_acc: 0.5940\n",
            "Epoch 3/100\n",
            "Epoch 3/100\n",
            "22500/22500 [==============================] - 72s 3ms/step - loss: 0.6433 - acc: 0.6289 - val_loss: 0.7306 - val_acc: 0.5032\n",
            "22500/22500 [==============================] - 72s 3ms/step - loss: 0.6433 - acc: 0.6289 - val_loss: 0.7306 - val_acc: 0.5032\n",
            "Epoch 4/100\n",
            "Epoch 4/100\n",
            "22500/22500 [==============================] - 71s 3ms/step - loss: 0.6287 - acc: 0.6481 - val_loss: 0.6923 - val_acc: 0.5372\n",
            "22500/22500 [==============================] - 71s 3ms/step - loss: 0.6287 - acc: 0.6481 - val_loss: 0.6923 - val_acc: 0.5372\n",
            "Epoch 5/100\n",
            "Epoch 5/100\n",
            "13300/22500 [================>.............] - ETA: 27s - loss: 0.6218 - acc: 0.6553"
          ],
          "name": "stdout"
        },
        {
          "output_type": "error",
          "ename": "KeyboardInterrupt",
          "evalue": "ignored",
          "traceback": [
            "\u001b[0;31m---------------------------------------------------------------------------\u001b[0m",
            "\u001b[0;31mKeyboardInterrupt\u001b[0m                         Traceback (most recent call last)",
            "\u001b[0;32m<ipython-input-59-09d51d856510>\u001b[0m in \u001b[0;36m<module>\u001b[0;34m()\u001b[0m\n\u001b[0;32m----> 1\u001b[0;31m \u001b[0mmodel\u001b[0m\u001b[0;34m.\u001b[0m\u001b[0mfit\u001b[0m\u001b[0;34m(\u001b[0m\u001b[0mtraining_data_X_reshaped\u001b[0m\u001b[0;34m,\u001b[0m \u001b[0mtraining_data_y_reshaped\u001b[0m\u001b[0;34m,\u001b[0m \u001b[0mepochs\u001b[0m\u001b[0;34m=\u001b[0m\u001b[0;36m100\u001b[0m\u001b[0;34m,\u001b[0m \u001b[0mvalidation_split\u001b[0m\u001b[0;34m=\u001b[0m\u001b[0;36m0.1\u001b[0m\u001b[0;34m,\u001b[0m \u001b[0mcallbacks\u001b[0m\u001b[0;34m=\u001b[0m\u001b[0;34m[\u001b[0m\u001b[0mProgbarLogger\u001b[0m\u001b[0;34m]\u001b[0m\u001b[0;34m,\u001b[0m\u001b[0mbatch_size\u001b[0m\u001b[0;34m=\u001b[0m\u001b[0;36m50\u001b[0m\u001b[0;34m)\u001b[0m\u001b[0;34m\u001b[0m\u001b[0;34m\u001b[0m\u001b[0m\n\u001b[0m",
            "\u001b[0;32m/usr/local/lib/python3.6/dist-packages/keras/engine/training.py\u001b[0m in \u001b[0;36mfit\u001b[0;34m(self, x, y, batch_size, epochs, verbose, callbacks, validation_split, validation_data, shuffle, class_weight, sample_weight, initial_epoch, steps_per_epoch, validation_steps, **kwargs)\u001b[0m\n\u001b[1;32m   1037\u001b[0m                                         \u001b[0minitial_epoch\u001b[0m\u001b[0;34m=\u001b[0m\u001b[0minitial_epoch\u001b[0m\u001b[0;34m,\u001b[0m\u001b[0;34m\u001b[0m\u001b[0;34m\u001b[0m\u001b[0m\n\u001b[1;32m   1038\u001b[0m                                         \u001b[0msteps_per_epoch\u001b[0m\u001b[0;34m=\u001b[0m\u001b[0msteps_per_epoch\u001b[0m\u001b[0;34m,\u001b[0m\u001b[0;34m\u001b[0m\u001b[0;34m\u001b[0m\u001b[0m\n\u001b[0;32m-> 1039\u001b[0;31m                                         validation_steps=validation_steps)\n\u001b[0m\u001b[1;32m   1040\u001b[0m \u001b[0;34m\u001b[0m\u001b[0m\n\u001b[1;32m   1041\u001b[0m     def evaluate(self, x=None, y=None,\n",
            "\u001b[0;32m/usr/local/lib/python3.6/dist-packages/keras/engine/training_arrays.py\u001b[0m in \u001b[0;36mfit_loop\u001b[0;34m(model, f, ins, out_labels, batch_size, epochs, verbose, callbacks, val_f, val_ins, shuffle, callback_metrics, initial_epoch, steps_per_epoch, validation_steps)\u001b[0m\n\u001b[1;32m    197\u001b[0m                     \u001b[0mins_batch\u001b[0m\u001b[0;34m[\u001b[0m\u001b[0mi\u001b[0m\u001b[0;34m]\u001b[0m \u001b[0;34m=\u001b[0m \u001b[0mins_batch\u001b[0m\u001b[0;34m[\u001b[0m\u001b[0mi\u001b[0m\u001b[0;34m]\u001b[0m\u001b[0;34m.\u001b[0m\u001b[0mtoarray\u001b[0m\u001b[0;34m(\u001b[0m\u001b[0;34m)\u001b[0m\u001b[0;34m\u001b[0m\u001b[0;34m\u001b[0m\u001b[0m\n\u001b[1;32m    198\u001b[0m \u001b[0;34m\u001b[0m\u001b[0m\n\u001b[0;32m--> 199\u001b[0;31m                 \u001b[0mouts\u001b[0m \u001b[0;34m=\u001b[0m \u001b[0mf\u001b[0m\u001b[0;34m(\u001b[0m\u001b[0mins_batch\u001b[0m\u001b[0;34m)\u001b[0m\u001b[0;34m\u001b[0m\u001b[0;34m\u001b[0m\u001b[0m\n\u001b[0m\u001b[1;32m    200\u001b[0m                 \u001b[0mouts\u001b[0m \u001b[0;34m=\u001b[0m \u001b[0mto_list\u001b[0m\u001b[0;34m(\u001b[0m\u001b[0mouts\u001b[0m\u001b[0;34m)\u001b[0m\u001b[0;34m\u001b[0m\u001b[0;34m\u001b[0m\u001b[0m\n\u001b[1;32m    201\u001b[0m                 \u001b[0;32mfor\u001b[0m \u001b[0ml\u001b[0m\u001b[0;34m,\u001b[0m \u001b[0mo\u001b[0m \u001b[0;32min\u001b[0m \u001b[0mzip\u001b[0m\u001b[0;34m(\u001b[0m\u001b[0mout_labels\u001b[0m\u001b[0;34m,\u001b[0m \u001b[0mouts\u001b[0m\u001b[0;34m)\u001b[0m\u001b[0;34m:\u001b[0m\u001b[0;34m\u001b[0m\u001b[0;34m\u001b[0m\u001b[0m\n",
            "\u001b[0;32m/usr/local/lib/python3.6/dist-packages/keras/backend/tensorflow_backend.py\u001b[0m in \u001b[0;36m__call__\u001b[0;34m(self, inputs)\u001b[0m\n\u001b[1;32m   2713\u001b[0m                 \u001b[0;32mreturn\u001b[0m \u001b[0mself\u001b[0m\u001b[0;34m.\u001b[0m\u001b[0m_legacy_call\u001b[0m\u001b[0;34m(\u001b[0m\u001b[0minputs\u001b[0m\u001b[0;34m)\u001b[0m\u001b[0;34m\u001b[0m\u001b[0;34m\u001b[0m\u001b[0m\n\u001b[1;32m   2714\u001b[0m \u001b[0;34m\u001b[0m\u001b[0m\n\u001b[0;32m-> 2715\u001b[0;31m             \u001b[0;32mreturn\u001b[0m \u001b[0mself\u001b[0m\u001b[0;34m.\u001b[0m\u001b[0m_call\u001b[0m\u001b[0;34m(\u001b[0m\u001b[0minputs\u001b[0m\u001b[0;34m)\u001b[0m\u001b[0;34m\u001b[0m\u001b[0;34m\u001b[0m\u001b[0m\n\u001b[0m\u001b[1;32m   2716\u001b[0m         \u001b[0;32melse\u001b[0m\u001b[0;34m:\u001b[0m\u001b[0;34m\u001b[0m\u001b[0;34m\u001b[0m\u001b[0m\n\u001b[1;32m   2717\u001b[0m             \u001b[0;32mif\u001b[0m \u001b[0mpy_any\u001b[0m\u001b[0;34m(\u001b[0m\u001b[0mis_tensor\u001b[0m\u001b[0;34m(\u001b[0m\u001b[0mx\u001b[0m\u001b[0;34m)\u001b[0m \u001b[0;32mfor\u001b[0m \u001b[0mx\u001b[0m \u001b[0;32min\u001b[0m \u001b[0minputs\u001b[0m\u001b[0;34m)\u001b[0m\u001b[0;34m:\u001b[0m\u001b[0;34m\u001b[0m\u001b[0;34m\u001b[0m\u001b[0m\n",
            "\u001b[0;32m/usr/local/lib/python3.6/dist-packages/keras/backend/tensorflow_backend.py\u001b[0m in \u001b[0;36m_call\u001b[0;34m(self, inputs)\u001b[0m\n\u001b[1;32m   2673\u001b[0m             \u001b[0mfetched\u001b[0m \u001b[0;34m=\u001b[0m \u001b[0mself\u001b[0m\u001b[0;34m.\u001b[0m\u001b[0m_callable_fn\u001b[0m\u001b[0;34m(\u001b[0m\u001b[0;34m*\u001b[0m\u001b[0marray_vals\u001b[0m\u001b[0;34m,\u001b[0m \u001b[0mrun_metadata\u001b[0m\u001b[0;34m=\u001b[0m\u001b[0mself\u001b[0m\u001b[0;34m.\u001b[0m\u001b[0mrun_metadata\u001b[0m\u001b[0;34m)\u001b[0m\u001b[0;34m\u001b[0m\u001b[0;34m\u001b[0m\u001b[0m\n\u001b[1;32m   2674\u001b[0m         \u001b[0;32melse\u001b[0m\u001b[0;34m:\u001b[0m\u001b[0;34m\u001b[0m\u001b[0;34m\u001b[0m\u001b[0m\n\u001b[0;32m-> 2675\u001b[0;31m             \u001b[0mfetched\u001b[0m \u001b[0;34m=\u001b[0m \u001b[0mself\u001b[0m\u001b[0;34m.\u001b[0m\u001b[0m_callable_fn\u001b[0m\u001b[0;34m(\u001b[0m\u001b[0;34m*\u001b[0m\u001b[0marray_vals\u001b[0m\u001b[0;34m)\u001b[0m\u001b[0;34m\u001b[0m\u001b[0;34m\u001b[0m\u001b[0m\n\u001b[0m\u001b[1;32m   2676\u001b[0m         \u001b[0;32mreturn\u001b[0m \u001b[0mfetched\u001b[0m\u001b[0;34m[\u001b[0m\u001b[0;34m:\u001b[0m\u001b[0mlen\u001b[0m\u001b[0;34m(\u001b[0m\u001b[0mself\u001b[0m\u001b[0;34m.\u001b[0m\u001b[0moutputs\u001b[0m\u001b[0;34m)\u001b[0m\u001b[0;34m]\u001b[0m\u001b[0;34m\u001b[0m\u001b[0;34m\u001b[0m\u001b[0m\n\u001b[1;32m   2677\u001b[0m \u001b[0;34m\u001b[0m\u001b[0m\n",
            "\u001b[0;32m/usr/local/lib/python3.6/dist-packages/tensorflow/python/client/session.py\u001b[0m in \u001b[0;36m__call__\u001b[0;34m(self, *args, **kwargs)\u001b[0m\n\u001b[1;32m   1437\u001b[0m           ret = tf_session.TF_SessionRunCallable(\n\u001b[1;32m   1438\u001b[0m               \u001b[0mself\u001b[0m\u001b[0;34m.\u001b[0m\u001b[0m_session\u001b[0m\u001b[0;34m.\u001b[0m\u001b[0m_session\u001b[0m\u001b[0;34m,\u001b[0m \u001b[0mself\u001b[0m\u001b[0;34m.\u001b[0m\u001b[0m_handle\u001b[0m\u001b[0;34m,\u001b[0m \u001b[0margs\u001b[0m\u001b[0;34m,\u001b[0m \u001b[0mstatus\u001b[0m\u001b[0;34m,\u001b[0m\u001b[0;34m\u001b[0m\u001b[0;34m\u001b[0m\u001b[0m\n\u001b[0;32m-> 1439\u001b[0;31m               run_metadata_ptr)\n\u001b[0m\u001b[1;32m   1440\u001b[0m         \u001b[0;32mif\u001b[0m \u001b[0mrun_metadata\u001b[0m\u001b[0;34m:\u001b[0m\u001b[0;34m\u001b[0m\u001b[0;34m\u001b[0m\u001b[0m\n\u001b[1;32m   1441\u001b[0m           \u001b[0mproto_data\u001b[0m \u001b[0;34m=\u001b[0m \u001b[0mtf_session\u001b[0m\u001b[0;34m.\u001b[0m\u001b[0mTF_GetBuffer\u001b[0m\u001b[0;34m(\u001b[0m\u001b[0mrun_metadata_ptr\u001b[0m\u001b[0;34m)\u001b[0m\u001b[0;34m\u001b[0m\u001b[0;34m\u001b[0m\u001b[0m\n",
            "\u001b[0;31mKeyboardInterrupt\u001b[0m: "
          ]
        }
      ]
    },
    {
      "metadata": {
        "id": "ObMj6AhvMStI",
        "colab_type": "code",
        "colab": {}
      },
      "cell_type": "code",
      "source": [
        "model1.fit(training_data_X_reshaped, training_data_y_reshaped, epochs=100, validation_split=0.1, callbacks=[ProgbarLogger],batch_size=50)"
      ],
      "execution_count": 0,
      "outputs": []
    }
  ]
}