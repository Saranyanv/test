{
  "nbformat": 4,
  "nbformat_minor": 0,
  "metadata": {
    "colab": {
      "name": "Untitled6.ipynb",
      "version": "0.3.2",
      "provenance": [],
      "include_colab_link": true
    },
    "kernelspec": {
      "name": "python3",
      "display_name": "Python 3"
    }
  },
  "cells": [
    {
      "cell_type": "markdown",
      "metadata": {
        "id": "view-in-github",
        "colab_type": "text"
      },
      "source": [
        "<a href=\"https://colab.research.google.com/github/Saranyanv/test/blob/master/CNN.ipynb\" target=\"_parent\"><img src=\"https://colab.research.google.com/assets/colab-badge.svg\" alt=\"Open In Colab\"/></a>"
      ]
    },
    {
      "metadata": {
        "id": "eIJZhIKnW5VA",
        "colab_type": "code",
        "colab": {}
      },
      "cell_type": "code",
      "source": [
        "import os \n",
        "import numpy as np\n",
        "import tensorflow as tf\n",
        "import zipfile\n",
        "from tqdm import tqdm\n",
        "# Working with images\n",
        "import cv2\n",
        "import re\n",
        "from matplotlib import pyplot as plt\n",
        "\n",
        "# Display Images\n",
        "from PIL import Image, ImageFilter\n",
        "\n",
        "# IPython display\n",
        "from IPython.display import display\n",
        "\n",
        "RANDOM_SEED = 42"
      ],
      "execution_count": 0,
      "outputs": []
    },
    {
      "metadata": {
        "id": "Ica9QTJyW7Qp",
        "colab_type": "code",
        "colab": {}
      },
      "cell_type": "code",
      "source": [
        "IMG_WIDTH = 50\n",
        "IMG_HEIGHT = 50\n",
        "IMG_CHANNELS = 1"
      ],
      "execution_count": 0,
      "outputs": []
    },
    {
      "metadata": {
        "id": "418TPo-oW8sc",
        "colab_type": "code",
        "colab": {}
      },
      "cell_type": "code",
      "source": [
        "# To make output stable across runs\n",
        "def reset_graph(seed= RANDOM_SEED):\n",
        "    tf.reset_default_graph()\n",
        "    tf.set_random_seed(seed)\n",
        "    np.random.seed(seed)"
      ],
      "execution_count": 0,
      "outputs": []
    },
    {
      "metadata": {
        "id": "epx-XsE6WSwQ",
        "colab_type": "code",
        "outputId": "fade5557-6273-4352-f415-fd9093ee0942",
        "colab": {
          "base_uri": "https://localhost:8080/",
          "height": 125
        }
      },
      "cell_type": "code",
      "source": [
        "from google.colab import drive\n",
        "drive.mount('/content/drive')"
      ],
      "execution_count": 4,
      "outputs": [
        {
          "output_type": "stream",
          "text": [
            "Go to this URL in a browser: https://accounts.google.com/o/oauth2/auth?client_id=947318989803-6bn6qk8qdgf4n4g3pfee6491hc0brc4i.apps.googleusercontent.com&redirect_uri=urn%3Aietf%3Awg%3Aoauth%3A2.0%3Aoob&scope=email%20https%3A%2F%2Fwww.googleapis.com%2Fauth%2Fdocs.test%20https%3A%2F%2Fwww.googleapis.com%2Fauth%2Fdrive%20https%3A%2F%2Fwww.googleapis.com%2Fauth%2Fdrive.photos.readonly%20https%3A%2F%2Fwww.googleapis.com%2Fauth%2Fpeopleapi.readonly&response_type=code\n",
            "\n",
            "Enter your authorization code:\n",
            "··········\n",
            "Mounted at /content/drive\n"
          ],
          "name": "stdout"
        }
      ]
    },
    {
      "metadata": {
        "id": "hZVLWO0zWYhI",
        "colab_type": "code",
        "outputId": "fd315c3f-a235-4c94-ccd6-069fdb214dc9",
        "colab": {
          "base_uri": "https://localhost:8080/",
          "height": 34
        }
      },
      "cell_type": "code",
      "source": [
        "!ls -l \"drive/My Drive/MSPA/Predict 422/Week 7/all.zip\""
      ],
      "execution_count": 5,
      "outputs": [
        {
          "output_type": "stream",
          "text": [
            "-rw------- 1 root root 851576569 Dec  4 02:01 'drive/My Drive/MSPA/Predict 422/Week 7/all.zip'\n"
          ],
          "name": "stdout"
        }
      ]
    },
    {
      "metadata": {
        "id": "jlZit1zBWnTQ",
        "colab_type": "code",
        "outputId": "bb001fc4-afdd-4d93-e3da-bc37e5ebd9cd",
        "colab": {
          "base_uri": "https://localhost:8080/",
          "height": 87
        }
      },
      "cell_type": "code",
      "source": [
        "!unzip \"drive/My Drive/MSPA/Predict 422/Week 7/all.zip\""
      ],
      "execution_count": 6,
      "outputs": [
        {
          "output_type": "stream",
          "text": [
            "Archive:  drive/My Drive/MSPA/Predict 422/Week 7/all.zip\n",
            "  inflating: sampleSubmission.csv    \n",
            "  inflating: train.zip               \n",
            "  inflating: test1.zip               \n"
          ],
          "name": "stdout"
        }
      ]
    },
    {
      "metadata": {
        "id": "GdzLC64tX0bE",
        "colab_type": "code",
        "colab": {}
      },
      "cell_type": "code",
      "source": [
        "!unzip train.zip"
      ],
      "execution_count": 0,
      "outputs": []
    },
    {
      "metadata": {
        "id": "ODMsNTg8Youu",
        "colab_type": "code",
        "colab": {}
      },
      "cell_type": "code",
      "source": [
        "!ls -lrt /content/train"
      ],
      "execution_count": 0,
      "outputs": []
    },
    {
      "metadata": {
        "id": "wPojyjfdXCsh",
        "colab_type": "code",
        "colab": {}
      },
      "cell_type": "code",
      "source": [
        "def label_img(img_name):\n",
        "  if 'cat.' in img_name: return 0\n",
        "  elif 'dog.' in img_name: return 1 \n",
        "  \n",
        "def img_index(img_name):\n",
        "  if 'cat.' in img_name: knt=0\n",
        "  elif 'dog.' in img_name: knt=1\n",
        "  num=int(re.sub(\"\\D\", \"\", img_name))\n",
        "  return ((12500*knt) + num)\n",
        "\n",
        "def plot_image(image):\n",
        "    plt.imshow(image, cmap=\"gray\", interpolation=\"bicubic\")\n",
        "    plt.axis(\"off\")\n",
        "    \n",
        "def plot_color_image(image):\n",
        "    plt.imshow(image.astype(np.uint8),interpolation=\"bicubic\")\n",
        "    plt.axis(\"off\")"
      ],
      "execution_count": 0,
      "outputs": []
    },
    {
      "metadata": {
        "id": "CJCRGDi3XEzK",
        "colab_type": "code",
        "outputId": "4e451ace-3477-44fa-d718-d961bb3f9b4c",
        "colab": {
          "base_uri": "https://localhost:8080/",
          "height": 34
        }
      },
      "cell_type": "code",
      "source": [
        "print (label_img('cats_dogs_images/dog.1.jpg'))"
      ],
      "execution_count": 10,
      "outputs": [
        {
          "output_type": "stream",
          "text": [
            "1\n"
          ],
          "name": "stdout"
        }
      ]
    },
    {
      "metadata": {
        "id": "_twGPTYEsK5S",
        "colab_type": "code",
        "colab": {}
      },
      "cell_type": "code",
      "source": [
        "from os import listdir\n",
        "import cv2 as cv2\n",
        "\n",
        "training_data_X = []\n",
        "training_data_y = []\n",
        "training_data_kNN = []\n",
        "\n",
        "for z in listdir(\"/content/train\"):\n",
        "    label = label_img(z)\n",
        "    img_indx = img_index(z)\n",
        "    img_str=cv2.imread(os.path.join(\"/content/train\", z),cv2.IMREAD_GRAYSCALE)\n",
        "    img = cv2.resize(img_str, (IMG_WIDTH, IMG_HEIGHT))\n",
        "    img_flat = cv2.resize(img_str, (IMG_WIDTH, IMG_HEIGHT)).flatten()\n",
        "\n",
        "    #training_data.append([ np.array(img_indx), np.array(img), np.array(label)])\n",
        "    training_data_X.append(img)\n",
        "    training_data_kNN.append(img_flat)\n",
        "    training_data_y.append(label)"
      ],
      "execution_count": 0,
      "outputs": []
    },
    {
      "metadata": {
        "id": "orWyJ8_3ASJv",
        "colab_type": "code",
        "colab": {}
      },
      "cell_type": "code",
      "source": [
        "#training_data_X_20 = training_data_X[0:2500]\n",
        "#training_data_y_20 = training_data_y[0:2500]\n",
        "#training_data_X = training_data_X_20\n",
        "#training_data_y = training_data_y_20"
      ],
      "execution_count": 0,
      "outputs": []
    },
    {
      "metadata": {
        "id": "FNvIpxbIy1Sb",
        "colab_type": "code",
        "outputId": "89b00fa0-ea97-45eb-93b4-cfdf137192a3",
        "colab": {
          "base_uri": "https://localhost:8080/",
          "height": 348
        }
      },
      "cell_type": "code",
      "source": [
        "#plot_image(training_data[0][1])\n",
        "plot_image(training_data_X[0])"
      ],
      "execution_count": 13,
      "outputs": [
        {
          "output_type": "display_data",
          "data": {
            "image/png": "[encoded data removed]",
            "text/plain": [
              "<matplotlib.figure.Figure at 0x7f8f3f5bb828>"
            ]
          },
          "metadata": {
            "tags": []
          }
        }
      ]
    },
    {
      "metadata": {
        "id": "b39TiZiBz7Uf",
        "colab_type": "code",
        "outputId": "59a86f74-a1bc-4aa1-9c01-210bda9ed2d1",
        "colab": {
          "base_uri": "https://localhost:8080/",
          "height": 348
        }
      },
      "cell_type": "code",
      "source": [
        "plot_color_image(training_data_X[0])"
      ],
      "execution_count": 14,
      "outputs": [
        {
          "output_type": "display_data",
          "data": {
            "image/png": "[encoded data removed]",
            "text/plain": [
              "<matplotlib.figure.Figure at 0x7f8f3fc58c18>"
            ]
          },
          "metadata": {
            "tags": []
          }
        }
      ]
    },
    {
      "metadata": {
        "id": "_Ss0ax-X0BD3",
        "colab_type": "code",
        "outputId": "184ea1f5-f2a4-40c8-dd2c-166439cd3e4f",
        "colab": {
          "base_uri": "https://localhost:8080/",
          "height": 34
        }
      },
      "cell_type": "code",
      "source": [
        "import keras\n",
        "from keras import Sequential, regularizers\n",
        "from keras import optimizers\n",
        "from keras.layers import Conv2D,MaxPooling2D,Dense,Flatten,Dropout, LocallyConnected2D, BatchNormalization\n",
        "from keras.layers import Activation, Dense, advanced_activations\n",
        "from keras.utils.np_utils import to_categorical"
      ],
      "execution_count": 15,
      "outputs": [
        {
          "output_type": "stream",
          "text": [
            "Using TensorFlow backend.\n"
          ],
          "name": "stderr"
        }
      ]
    },
    {
      "metadata": {
        "id": "12D38p1IBRdq",
        "colab_type": "code",
        "colab": {}
      },
      "cell_type": "code",
      "source": [
        "from keras import backend as K\n",
        "K.set_image_dim_ordering('tf')\n",
        "training_data_X_reshaped=np.array(training_data_X).reshape(-1, 50, 50, 1) / 255.0\n",
        "#training_data_y_reshaped=to_categorical(training_data_y, num_classes = 2)\n",
        "training_data_y_reshaped=np.array(training_data_y)"
      ],
      "execution_count": 0,
      "outputs": []
    },
    {
      "metadata": {
        "id": "eUl-Xa33yPK6",
        "colab_type": "code",
        "outputId": "b212731c-fc9e-4490-98d5-243b584620d3",
        "colab": {
          "base_uri": "https://localhost:8080/",
          "height": 34
        }
      },
      "cell_type": "code",
      "source": [
        "print (training_data_X_reshaped.shape, training_data_y_reshaped.shape)"
      ],
      "execution_count": 17,
      "outputs": [
        {
          "output_type": "stream",
          "text": [
            "(25000, 50, 50, 1) (25000,)\n"
          ],
          "name": "stdout"
        }
      ]
    },
    {
      "metadata": {
        "id": "aLQOtyGUy2le",
        "colab_type": "text"
      },
      "cell_type": "markdown",
      "source": [
        "# CNN Model"
      ]
    },
    {
      "metadata": {
        "id": "Th2cGKD7ojIf",
        "colab_type": "code",
        "outputId": "a0b05473-7fda-49fc-d012-e86219598696",
        "colab": {
          "base_uri": "https://localhost:8080/",
          "height": 54
        }
      },
      "cell_type": "code",
      "source": [
        "K.get_session().close()\n",
        "K.set_session(tf.Session())\n",
        "K.get_session().run(tf.global_variables_initializer())\n",
        "\n",
        "import tensorflow as tf\n",
        "from tensorflow.keras import layers\n",
        "\n",
        "'''model = tf.keras.Sequential([keras.layers.Flatten(input_shape=(50, 50)),\n",
        "                            keras.layers.Dense(150, activation=tf.nn.relu),\n",
        "                            keras.layers.Conv2D(32, 3*3, strides=(1, 1), padding='valid', data_format=None, dilation_rate=(1, 1), activation=None, use_bias=True, kernel_initializer='glorot_uniform', bias_initializer='zeros', kernel_regularizer=None, bias_regularizer=None, activity_regularizer=None, kernel_constraint=None, bias_constraint=None),\n",
        "                            keras.layers.Dense(10, activation=tf.nn.softmax)\n",
        "                            ])'''\n",
        "'''\n",
        "model = Sequential()\n",
        "#model.add(Dense(150, input_shape=(50,50,1), activation='relu')) #25000 images, with 50*50 pixels in plain (1 channels, if RGB use 3)\n",
        "model.add(Conv2D(filters=3, kernel_size=(3*3), strides=(1, 1), input_shape=training_data_X_reshaped.shape[1:]\n",
        "                 , padding='same', data_format=\"channels_last\", dilation_rate=(1, 1)\n",
        "                 , activation=\"relu\"))\n",
        "#model.add(BatchNormalization())\n",
        "\n",
        "model.add(Conv2D(filters=5, kernel_size=(3*3), padding='same', activation=\"relu\"))\n",
        "#model.add(BatchNormalization())\n",
        "\n",
        "model.add(MaxPooling2D(pool_size=(2, 2) , strides=(2,2)))\n",
        "\n",
        "model.add(Conv2D(filters=10, kernel_size=(3*3), padding='same', activation=\"relu\"))\n",
        "#model.add(BatchNormalization())\n",
        "\n",
        "model.add(MaxPooling2D(pool_size=(2, 2) , strides=(2,2)))\n",
        "\n",
        "#model.add(LocallyConnected2D(10, 3*3, strides=(1, 1), padding='valid', data_format=None, \n",
        "#                   activation=tf.nn.relu, use_bias=True, kernel_initializer='glorot_uniform', \n",
        "#                   bias_initializer='zeros', kernel_regularizer=None, bias_regularizer=None, \n",
        "#                   activity_regularizer=None, kernel_constraint=None, bias_constraint=None))\n",
        "#model.add(BatchNormalization())\n",
        "\n",
        "model.add(Flatten())\n",
        "model.add(Dense(50, activation=tf.nn.relu))\n",
        "#model.add(BatchNormalization())\n",
        "\n",
        "model.add(Dropout(0.2))\n",
        "\n",
        "model.add(Dense(1, activation=tf.nn.softmax))\n",
        "#model.add(BatchNormalization())\n",
        "model.compile(loss='binary_crossentropy', optimizer='sgd', metrics=['accuracy'])\n",
        "'''"
      ],
      "execution_count": 23,
      "outputs": [
        {
          "output_type": "execute_result",
          "data": {
            "text/plain": [
              "'\\nmodel = Sequential()\\n#model.add(Dense(150, input_shape=(50,50,1), activation=\\'relu\\')) #25000 images, with 50*50 pixels in plain (1 channels, if RGB use 3)\\nmodel.add(Conv2D(filters=3, kernel_size=(3*3), strides=(1, 1), input_shape=training_data_X_reshaped.shape[1:]\\n                 , padding=\\'same\\', data_format=\"channels_last\", dilation_rate=(1, 1)\\n                 , activation=\"relu\"))\\n#model.add(BatchNormalization())\\n\\nmodel.add(Conv2D(filters=5, kernel_size=(3*3), padding=\\'same\\', activation=\"relu\"))\\n#model.add(BatchNormalization())\\n\\nmodel.add(MaxPooling2D(pool_size=(2, 2) , strides=(2,2)))\\n\\nmodel.add(Conv2D(filters=10, kernel_size=(3*3), padding=\\'same\\', activation=\"relu\"))\\n#model.add(BatchNormalization())\\n\\nmodel.add(MaxPooling2D(pool_size=(2, 2) , strides=(2,2)))\\n\\n#model.add(LocallyConnected2D(10, 3*3, strides=(1, 1), padding=\\'valid\\', data_format=None, \\n#                   activation=tf.nn.relu, use_bias=True, kernel_initializer=\\'glorot_uniform\\', \\n#                   bias_initializer=\\'zeros\\', kernel_regularizer=None, bias_regularizer=None, \\n#                   activity_regularizer=None, kernel_constraint=None, bias_constraint=None))\\n#model.add(BatchNormalization())\\n\\nmodel.add(Flatten())\\nmodel.add(Dense(50, activation=tf.nn.relu))\\n#model.add(BatchNormalization())\\n\\nmodel.add(Dropout(0.2))\\n\\nmodel.add(Dense(1, activation=tf.nn.softmax))\\n#model.add(BatchNormalization())\\nmodel.compile(loss=\\'binary_crossentropy\\', optimizer=\\'sgd\\', metrics=[\\'accuracy\\'])\\n'"
            ]
          },
          "metadata": {
            "tags": []
          },
          "execution_count": 23
        }
      ]
    },
    {
      "metadata": {
        "id": "2f5VMWgQdPMH",
        "colab_type": "code",
        "colab": {}
      },
      "cell_type": "code",
      "source": [
        "K.get_session().close()\n",
        "K.set_session(tf.Session())\n",
        "K.get_session().run(tf.global_variables_initializer())\n",
        "\n",
        "import tensorflow as tf\n",
        "from tensorflow.keras import layers\n",
        "\n",
        "model=Sequential()\n",
        "model.add(Conv2D(kernel_size=(3,3),filters=3,input_shape=training_data_X_reshaped.shape[1:],activation=\"relu\"))\n",
        "model.add(Conv2D(kernel_size=(3,3),filters=10,activation=\"relu\",padding=\"same\"))\n",
        "model.add(MaxPooling2D(pool_size=(2,2),strides=(2,2)))\n",
        "model.add(Conv2D(kernel_size=(3,3),filters=3,activation=\"relu\"))\n",
        "model.add(Conv2D(kernel_size=(5,5),filters=5,activation=\"relu\"))\n",
        "model.add(MaxPooling2D(pool_size=(3,3),strides=(2,2), padding='valid'))\n",
        "#model.add(BatchNormalization())\n",
        "model.add(Conv2D(kernel_size=(2,2),strides=(2,2),filters=10,activation=\"relu\"))\n",
        "model.add(MaxPooling2D(pool_size=(3,3),strides=(2,2), padding='valid')) #newly added 1\n",
        "model.add(Flatten())\n",
        "model.add(Dropout(0.3))\n",
        "model.add(Dense(50,activation=\"sigmoid\"))\n",
        "model.add(Dense(1,activation=\"sigmoid\"))\n",
        "#opt=optimizers.Nadam(lr=0.002, beta_1=0.9, beta_2=0.999, epsilon=None, schedule_decay=0.004)\n",
        "#model.compile(loss='binary_crossentropy', optimizer=opt, metrics=['accuracy'])\n",
        "model.compile(loss='binary_crossentropy', optimizer='Nadam', metrics=['accuracy'])"
      ],
      "execution_count": 0,
      "outputs": []
    },
    {
      "metadata": {
        "id": "WF1_eOe28fKK",
        "colab_type": "code",
        "outputId": "27788c7a-2e13-4609-f4e4-6367cb95e1d3",
        "colab": {
          "base_uri": "https://localhost:8080/",
          "height": 562
        }
      },
      "cell_type": "code",
      "source": [
        "model.summary()"
      ],
      "execution_count": 25,
      "outputs": [
        {
          "output_type": "stream",
          "text": [
            "_________________________________________________________________\n",
            "Layer (type)                 Output Shape              Param #   \n",
            "=================================================================\n",
            "conv2d_6 (Conv2D)            (None, 48, 48, 3)         30        \n",
            "_________________________________________________________________\n",
            "conv2d_7 (Conv2D)            (None, 48, 48, 10)        280       \n",
            "_________________________________________________________________\n",
            "max_pooling2d_3 (MaxPooling2 (None, 24, 24, 10)        0         \n",
            "_________________________________________________________________\n",
            "conv2d_8 (Conv2D)            (None, 22, 22, 3)         273       \n",
            "_________________________________________________________________\n",
            "conv2d_9 (Conv2D)            (None, 18, 18, 5)         380       \n",
            "_________________________________________________________________\n",
            "max_pooling2d_4 (MaxPooling2 (None, 8, 8, 5)           0         \n",
            "_________________________________________________________________\n",
            "conv2d_10 (Conv2D)           (None, 4, 4, 10)          210       \n",
            "_________________________________________________________________\n",
            "max_pooling2d_5 (MaxPooling2 (None, 1, 1, 10)          0         \n",
            "_________________________________________________________________\n",
            "flatten_2 (Flatten)          (None, 10)                0         \n",
            "_________________________________________________________________\n",
            "dropout_2 (Dropout)          (None, 10)                0         \n",
            "_________________________________________________________________\n",
            "dense_3 (Dense)              (None, 50)                550       \n",
            "_________________________________________________________________\n",
            "dense_4 (Dense)              (None, 1)                 51        \n",
            "=================================================================\n",
            "Total params: 1,774\n",
            "Trainable params: 1,774\n",
            "Non-trainable params: 0\n",
            "_________________________________________________________________\n"
          ],
          "name": "stdout"
        }
      ]
    },
    {
      "metadata": {
        "id": "mjZEP9y06jBM",
        "colab_type": "code",
        "colab": {}
      },
      "cell_type": "code",
      "source": [
        "ProgbarLogger = keras.callbacks.ProgbarLogger(count_mode='samples', stateful_metrics=None)"
      ],
      "execution_count": 0,
      "outputs": []
    },
    {
      "metadata": {
        "colab_type": "code",
        "id": "ysrrFkVl21xD",
        "outputId": "1186fa1f-8d58-4317-b777-218a8276c1c3",
        "colab": {
          "base_uri": "https://localhost:8080/",
          "height": 386
        }
      },
      "cell_type": "code",
      "source": [
        "model_op=model.fit(training_data_X_reshaped, training_data_y_reshaped, epochs=100, validation_split=0.1, callbacks=[ProgbarLogger],batch_size=50)"
      ],
      "execution_count": 29,
      "outputs": [
        {
          "output_type": "stream",
          "text": [
            "Train on 22500 samples, validate on 2500 samples\n",
            "Epoch 1/5\n",
            "Epoch 1/5\n",
            "22500/22500 [==============================] - 66s 3ms/step - loss: 0.5512 - acc: 0.7216 - val_loss: 0.5322 - val_acc: 0.7464\n",
            "22500/22500 [==============================] - 66s 3ms/step - loss: 0.5512 - acc: 0.7216 - val_loss: 0.5322 - val_acc: 0.7464\n",
            "Epoch 2/5\n",
            "Epoch 2/5\n",
            "22500/22500 [==============================] - 66s 3ms/step - loss: 0.5464 - acc: 0.7285 - val_loss: 0.5336 - val_acc: 0.7316\n",
            "22500/22500 [==============================] - 66s 3ms/step - loss: 0.5464 - acc: 0.7285 - val_loss: 0.5336 - val_acc: 0.7316\n",
            "Epoch 3/5\n",
            "Epoch 3/5\n",
            "22500/22500 [==============================] - 66s 3ms/step - loss: 0.5435 - acc: 0.7281 - val_loss: 0.5244 - val_acc: 0.7472\n",
            "22500/22500 [==============================] - 66s 3ms/step - loss: 0.5435 - acc: 0.7281 - val_loss: 0.5244 - val_acc: 0.7472\n",
            "Epoch 4/5\n",
            "Epoch 4/5\n",
            "22500/22500 [==============================] - 66s 3ms/step - loss: 0.5419 - acc: 0.7321 - val_loss: 0.5343 - val_acc: 0.7372\n",
            "22500/22500 [==============================] - 66s 3ms/step - loss: 0.5419 - acc: 0.7321 - val_loss: 0.5343 - val_acc: 0.7372\n",
            "Epoch 5/5\n",
            "Epoch 5/5\n",
            "22500/22500 [==============================] - 66s 3ms/step - loss: 0.5382 - acc: 0.7329 - val_loss: 0.5358 - val_acc: 0.7356\n",
            "22500/22500 [==============================] - 66s 3ms/step - loss: 0.5382 - acc: 0.7329 - val_loss: 0.5358 - val_acc: 0.7356\n"
          ],
          "name": "stdout"
        }
      ]
    },
    {
      "metadata": {
        "id": "QtS2NtmaSMof",
        "colab_type": "code",
        "colab": {
          "base_uri": "https://localhost:8080/",
          "height": 34
        },
        "outputId": "aedb8a3a-de2c-406d-853b-618e8bf026b1"
      },
      "cell_type": "code",
      "source": [
        "model.metrics_names"
      ],
      "execution_count": 31,
      "outputs": [
        {
          "output_type": "execute_result",
          "data": {
            "text/plain": [
              "['loss', 'acc']"
            ]
          },
          "metadata": {
            "tags": []
          },
          "execution_count": 31
        }
      ]
    },
    {
      "metadata": {
        "id": "l6hZY6hASUcH",
        "colab_type": "code",
        "colab": {
          "base_uri": "https://localhost:8080/",
          "height": 34
        },
        "outputId": "500ce066-20e6-48d1-b0bc-0ec91a47e9de"
      },
      "cell_type": "code",
      "source": [
        "print(model_op.history.keys())"
      ],
      "execution_count": 41,
      "outputs": [
        {
          "output_type": "stream",
          "text": [
            "dict_keys(['val_loss', 'val_acc', 'loss', 'acc'])\n"
          ],
          "name": "stdout"
        }
      ]
    },
    {
      "metadata": {
        "id": "2giRcHIBSc8s",
        "colab_type": "code",
        "colab": {
          "base_uri": "https://localhost:8080/",
          "height": 347
        },
        "outputId": "bfcb7fb4-d09c-4018-de6e-02f3814250b1"
      },
      "cell_type": "code",
      "source": [
        "import matplotlib.pyplot as plt\n",
        "plt.plot(model_op.history['acc'], 'b+')\n",
        "plt.plot(model_op.history['val_acc'], 'ro')\n",
        "plt.plot(model_op.history['loss'], 'b-')\n",
        "plt.plot(model_op.history['val_loss'], 'r-')\n",
        "plt.show()"
      ],
      "execution_count": 39,
      "outputs": [
        {
          "output_type": "display_data",
          "data": {
            "image/png": "[encoded data removed]",
            "text/plain": [
              "<matplotlib.figure.Figure at 0x7f8f361a1b00>"
            ]
          },
          "metadata": {
            "tags": []
          }
        }
      ]
    },
    {
      "metadata": {
        "id": "XU6RuQhLzBTO",
        "colab_type": "text"
      },
      "cell_type": "markdown",
      "source": [
        "# kNN Model"
      ]
    },
    {
      "metadata": {
        "id": "RvdNxEgS2tjR",
        "colab_type": "code",
        "colab": {}
      },
      "cell_type": "code",
      "source": [
        "from sklearn.model_selection import train_test_split\n",
        "training_data_kNN_reshaped=np.array(training_data_kNN).reshape(len(training_data_kNN), -1) / 255.0\n",
        "X_train, X_test, y_train, y_test = train_test_split(training_data_kNN_reshaped, training_data_y_reshaped, test_size = 0.2) #20% data used"
      ],
      "execution_count": 0,
      "outputs": []
    },
    {
      "metadata": {
        "id": "ObMj6AhvMStI",
        "colab_type": "code",
        "colab": {}
      },
      "cell_type": "code",
      "source": [
        "from sklearn.neighbors import KNeighborsClassifier\n",
        "kNN = KNeighborsClassifier(n_neighbors=3)\n",
        "kNN.fit(X_train, y_train)"
      ],
      "execution_count": 0,
      "outputs": []
    },
    {
      "metadata": {
        "id": "-Tw9Q5u3ZqgK",
        "colab_type": "code",
        "colab": {}
      },
      "cell_type": "code",
      "source": [
        "accuracy = kNN.score(X_test, y_test)\n",
        "print(accuracy)"
      ],
      "execution_count": 0,
      "outputs": []
    },
    {
      "metadata": {
        "id": "xqoQAzES0w_v",
        "colab_type": "code",
        "colab": {}
      },
      "cell_type": "code",
      "source": [
        "print(kNN.predict(X_test))"
      ],
      "execution_count": 0,
      "outputs": []
    }
  ]
}