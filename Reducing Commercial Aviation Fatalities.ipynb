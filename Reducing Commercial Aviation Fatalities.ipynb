{
  "nbformat": 4,
  "nbformat_minor": 0,
  "metadata": {
    "colab": {
      "name": "Untitled9.ipynb",
      "version": "0.3.2",
      "provenance": [],
      "include_colab_link": true
    },
    "kernelspec": {
      "name": "python3",
      "display_name": "Python 3"
    }
  },
  "cells": [
    {
      "cell_type": "markdown",
      "metadata": {
        "id": "view-in-github",
        "colab_type": "text"
      },
      "source": [
        "<a href=\"https://colab.research.google.com/github/Saranyanv/test/blob/master/Reducing%20Commercial%20Aviation%20Fatalities.ipynb\" target=\"_parent\"><img src=\"https://colab.research.google.com/assets/colab-badge.svg\" alt=\"Open In Colab\"/></a>"
      ]
    },
    {
      "metadata": {
        "id": "BMSAans4-4q5",
        "colab_type": "text"
      },
      "cell_type": "markdown",
      "source": [
        "**REDUCING COMMERCIAL AVIATION FATALITIES**\n",
        "\n",
        "*https://www.kaggle.com/c/reducing-commercial-aviation-fatalities/data*"
      ]
    },
    {
      "metadata": {
        "id": "jhY_MjQpXhjW",
        "colab_type": "code",
        "colab": {}
      },
      "cell_type": "code",
      "source": [
        "import os \n",
        "import numpy as np\n",
        "import zipfile\n",
        "from tqdm import tqdm\n",
        "from matplotlib import pyplot as plt\n",
        "from pandas import DataFrame\n",
        "import pandas as pd\n",
        "import seaborn as sns\n",
        "RANDOM_SEED = 42"
      ],
      "execution_count": 0,
      "outputs": []
    },
    {
      "metadata": {
        "id": "XaUWU-1nYh6f",
        "colab_type": "code",
        "outputId": "3e76e330-52f8-4883-d5e5-5fe389777ea8",
        "colab": {
          "base_uri": "https://localhost:8080/",
          "height": 124
        }
      },
      "cell_type": "code",
      "source": [
        "from google.colab import drive\n",
        "drive.mount('/content/drive')"
      ],
      "execution_count": 2,
      "outputs": [
        {
          "output_type": "stream",
          "text": [
            "Go to this URL in a browser: https://accounts.google.com/o/oauth2/auth?client_id=947318989803-6bn6qk8qdgf4n4g3pfee6491hc0brc4i.apps.googleusercontent.com&redirect_uri=urn%3Aietf%3Awg%3Aoauth%3A2.0%3Aoob&scope=email%20https%3A%2F%2Fwww.googleapis.com%2Fauth%2Fdocs.test%20https%3A%2F%2Fwww.googleapis.com%2Fauth%2Fdrive%20https%3A%2F%2Fwww.googleapis.com%2Fauth%2Fdrive.photos.readonly%20https%3A%2F%2Fwww.googleapis.com%2Fauth%2Fpeopleapi.readonly&response_type=code\n",
            "\n",
            "Enter your authorization code:\n",
            "··········\n",
            "Mounted at /content/drive\n"
          ],
          "name": "stdout"
        }
      ]
    },
    {
      "metadata": {
        "id": "qiaDGGeqYlED",
        "colab_type": "code",
        "outputId": "e0a9cba7-6d82-4635-8e9c-3315a42214c7",
        "colab": {
          "base_uri": "https://localhost:8080/",
          "height": 52
        }
      },
      "cell_type": "code",
      "source": [
        "!ls -l \"drive/My Drive/MyWork/Kaggle/Reducing Commercial Aviation Fatalities\""
      ],
      "execution_count": 3,
      "outputs": [
        {
          "output_type": "stream",
          "text": [
            "total 439092\n",
            "-rw------- 1 root root 449629430 Mar 17 03:41 train.csv.zip\n"
          ],
          "name": "stdout"
        }
      ]
    },
    {
      "metadata": {
        "id": "IUDsdjuGY7gb",
        "colab_type": "code",
        "outputId": "3f4629ba-e275-43b1-bb42-652d70664d25",
        "colab": {
          "base_uri": "https://localhost:8080/",
          "height": 52
        }
      },
      "cell_type": "code",
      "source": [
        "!unzip \"drive/My Drive/MyWork/Kaggle/Reducing Commercial Aviation Fatalities/train.csv.zip\""
      ],
      "execution_count": 4,
      "outputs": [
        {
          "output_type": "stream",
          "text": [
            "Archive:  drive/My Drive/MyWork/Kaggle/Reducing Commercial Aviation Fatalities/train.csv.zip\n",
            "  inflating: train.csv               \n"
          ],
          "name": "stdout"
        }
      ]
    },
    {
      "metadata": {
        "id": "7NY3K3n6ZR1b",
        "colab_type": "code",
        "outputId": "4b7d3dd2-3070-4ced-d9a4-8dea7eca23c7",
        "colab": {
          "base_uri": "https://localhost:8080/",
          "height": 87
        }
      },
      "cell_type": "code",
      "source": [
        "!ls -lrt /content/"
      ],
      "execution_count": 5,
      "outputs": [
        {
          "output_type": "stream",
          "text": [
            "total 1205840\n",
            "---------- 1 root root 1234764001 Dec 14 23:11 train.csv\n",
            "drwxr-xr-x 1 root root       4096 Apr  4 20:20 sample_data\n",
            "drwx------ 3 root root       4096 Apr 29 03:52 drive\n"
          ],
          "name": "stdout"
        }
      ]
    },
    {
      "metadata": {
        "id": "uYQVCmwiag66",
        "colab_type": "code",
        "colab": {}
      },
      "cell_type": "code",
      "source": [
        "#train_df = pd.read_csv('train.csv', delim_whitespace=False, names=('id', 'crew', 'experiment', 'time', 'seat', 'eeg_fp1', 'eeg_f7', 'eeg_f8', 'eeg_t4', 'eeg_t6', 'eeg_t5', 'eeg_t3', 'eeg_fp2', 'eeg_o1', 'eeg_p3', 'eeg_pz', 'eeg_f3', 'eeg_fz', 'eeg_f4', 'eeg_c4', 'eeg_p4', 'eeg_poz', 'eeg_c3', 'eeg_cz', 'eeg_o2', 'ecg', 'r', 'gsr', 'event'))\n",
        "train_df = pd.read_csv('train.csv', header=0, dtype={'crew': np.int32, 'experiment' :str, 'time': np.float64, 'seat': np.int32, 'eeg_fp1': np.float64, 'eeg_f7': np.float64, 'eeg_f8': np.float64, 'eeg_t4': np.float64, 'eeg_t6': np.float64, 'eeg_t5': np.float64, 'eeg_t3': np.float64, 'eeg_fp2': np.float64, 'eeg_o1': np.float64, 'eeg_p3': np.float64, 'eeg_pz': np.float64, 'eeg_f3': np.float64, 'eeg_fz': np.float64, 'eeg_f4': np.float64, 'eeg_c4': np.float64, 'eeg_p4': np.float64, 'eeg_poz': np.float64, 'eeg_c3': np.float64, 'eeg_cz': np.float64, 'eeg_o2': np.float64, 'ecg': np.float64, 'r': np.float64, 'gsr': str, 'event': str})"
      ],
      "execution_count": 0,
      "outputs": []
    },
    {
      "metadata": {
        "id": "aUD3bqi-_m5S",
        "colab_type": "code",
        "outputId": "04d4b32b-babd-4539-9294-d3c535b105aa",
        "colab": {
          "base_uri": "https://localhost:8080/",
          "height": 35
        }
      },
      "cell_type": "code",
      "source": [
        "len(train_df)"
      ],
      "execution_count": 7,
      "outputs": [
        {
          "output_type": "execute_result",
          "data": {
            "text/plain": [
              "4867421"
            ]
          },
          "metadata": {
            "tags": []
          },
          "execution_count": 7
        }
      ]
    },
    {
      "metadata": {
        "id": "ydplB_wU_sTS",
        "colab_type": "code",
        "outputId": "bdcd3175-0b4e-426f-bb04-7710d97969bf",
        "colab": {
          "base_uri": "https://localhost:8080/",
          "height": 251
        }
      },
      "cell_type": "code",
      "source": [
        "train_df.head()"
      ],
      "execution_count": 8,
      "outputs": [
        {
          "output_type": "execute_result",
          "data": {
            "text/html": [
              "<div>\n",
              "<style scoped>\n",
              "    .dataframe tbody tr th:only-of-type {\n",
              "        vertical-align: middle;\n",
              "    }\n",
              "\n",
              "    .dataframe tbody tr th {\n",
              "        vertical-align: top;\n",
              "    }\n",
              "\n",
              "    .dataframe thead th {\n",
              "        text-align: right;\n",
              "    }\n",
              "</style>\n",
              "<table border=\"1\" class=\"dataframe\">\n",
              "  <thead>\n",
              "    <tr style=\"text-align: right;\">\n",
              "      <th></th>\n",
              "      <th>crew</th>\n",
              "      <th>experiment</th>\n",
              "      <th>time</th>\n",
              "      <th>seat</th>\n",
              "      <th>eeg_fp1</th>\n",
              "      <th>eeg_f7</th>\n",
              "      <th>eeg_f8</th>\n",
              "      <th>eeg_t4</th>\n",
              "      <th>eeg_t6</th>\n",
              "      <th>eeg_t5</th>\n",
              "      <th>...</th>\n",
              "      <th>eeg_c4</th>\n",
              "      <th>eeg_p4</th>\n",
              "      <th>eeg_poz</th>\n",
              "      <th>eeg_c3</th>\n",
              "      <th>eeg_cz</th>\n",
              "      <th>eeg_o2</th>\n",
              "      <th>ecg</th>\n",
              "      <th>r</th>\n",
              "      <th>gsr</th>\n",
              "      <th>event</th>\n",
              "    </tr>\n",
              "  </thead>\n",
              "  <tbody>\n",
              "    <tr>\n",
              "      <th>0</th>\n",
              "      <td>1</td>\n",
              "      <td>CA</td>\n",
              "      <td>0.011719</td>\n",
              "      <td>1</td>\n",
              "      <td>-5.28545</td>\n",
              "      <td>26.775801</td>\n",
              "      <td>-9.527310</td>\n",
              "      <td>-12.793200</td>\n",
              "      <td>16.717800</td>\n",
              "      <td>33.737499</td>\n",
              "      <td>...</td>\n",
              "      <td>37.368999</td>\n",
              "      <td>17.437599</td>\n",
              "      <td>19.201900</td>\n",
              "      <td>20.5968</td>\n",
              "      <td>-3.95115</td>\n",
              "      <td>14.507600</td>\n",
              "      <td>-4520.0</td>\n",
              "      <td>817.705994</td>\n",
              "      <td>388.829987</td>\n",
              "      <td>A</td>\n",
              "    </tr>\n",
              "    <tr>\n",
              "      <th>1</th>\n",
              "      <td>1</td>\n",
              "      <td>CA</td>\n",
              "      <td>0.015625</td>\n",
              "      <td>1</td>\n",
              "      <td>-2.42842</td>\n",
              "      <td>28.430901</td>\n",
              "      <td>-9.323510</td>\n",
              "      <td>-3.757230</td>\n",
              "      <td>15.969300</td>\n",
              "      <td>30.443600</td>\n",
              "      <td>...</td>\n",
              "      <td>31.170799</td>\n",
              "      <td>19.399700</td>\n",
              "      <td>19.689501</td>\n",
              "      <td>21.3547</td>\n",
              "      <td>1.33212</td>\n",
              "      <td>17.750200</td>\n",
              "      <td>-4520.0</td>\n",
              "      <td>817.705994</td>\n",
              "      <td>388.829987</td>\n",
              "      <td>A</td>\n",
              "    </tr>\n",
              "    <tr>\n",
              "      <th>2</th>\n",
              "      <td>1</td>\n",
              "      <td>CA</td>\n",
              "      <td>0.019531</td>\n",
              "      <td>1</td>\n",
              "      <td>10.67150</td>\n",
              "      <td>30.420200</td>\n",
              "      <td>15.350700</td>\n",
              "      <td>24.724001</td>\n",
              "      <td>16.143101</td>\n",
              "      <td>32.142799</td>\n",
              "      <td>...</td>\n",
              "      <td>-12.012600</td>\n",
              "      <td>19.396299</td>\n",
              "      <td>23.171700</td>\n",
              "      <td>22.4076</td>\n",
              "      <td>1.53786</td>\n",
              "      <td>22.247000</td>\n",
              "      <td>-4520.0</td>\n",
              "      <td>817.705994</td>\n",
              "      <td>388.829987</td>\n",
              "      <td>A</td>\n",
              "    </tr>\n",
              "    <tr>\n",
              "      <th>3</th>\n",
              "      <td>1</td>\n",
              "      <td>CA</td>\n",
              "      <td>0.023438</td>\n",
              "      <td>1</td>\n",
              "      <td>11.45250</td>\n",
              "      <td>25.609800</td>\n",
              "      <td>2.433080</td>\n",
              "      <td>12.412500</td>\n",
              "      <td>20.533300</td>\n",
              "      <td>31.494101</td>\n",
              "      <td>...</td>\n",
              "      <td>18.574100</td>\n",
              "      <td>23.156401</td>\n",
              "      <td>22.641199</td>\n",
              "      <td>19.3367</td>\n",
              "      <td>2.54492</td>\n",
              "      <td>18.998600</td>\n",
              "      <td>-4520.0</td>\n",
              "      <td>817.705994</td>\n",
              "      <td>388.829987</td>\n",
              "      <td>A</td>\n",
              "    </tr>\n",
              "    <tr>\n",
              "      <th>4</th>\n",
              "      <td>1</td>\n",
              "      <td>CA</td>\n",
              "      <td>0.027344</td>\n",
              "      <td>1</td>\n",
              "      <td>7.28321</td>\n",
              "      <td>25.942600</td>\n",
              "      <td>0.113564</td>\n",
              "      <td>5.748000</td>\n",
              "      <td>19.833599</td>\n",
              "      <td>28.753599</td>\n",
              "      <td>...</td>\n",
              "      <td>6.555440</td>\n",
              "      <td>22.754700</td>\n",
              "      <td>22.670300</td>\n",
              "      <td>20.2932</td>\n",
              "      <td>1.69962</td>\n",
              "      <td>22.812799</td>\n",
              "      <td>-4520.0</td>\n",
              "      <td>817.705994</td>\n",
              "      <td>388.829987</td>\n",
              "      <td>A</td>\n",
              "    </tr>\n",
              "  </tbody>\n",
              "</table>\n",
              "<p>5 rows × 28 columns</p>\n",
              "</div>"
            ],
            "text/plain": [
              "   crew experiment      time  seat   eeg_fp1     eeg_f7     eeg_f8     eeg_t4  \\\n",
              "0     1         CA  0.011719     1  -5.28545  26.775801  -9.527310 -12.793200   \n",
              "1     1         CA  0.015625     1  -2.42842  28.430901  -9.323510  -3.757230   \n",
              "2     1         CA  0.019531     1  10.67150  30.420200  15.350700  24.724001   \n",
              "3     1         CA  0.023438     1  11.45250  25.609800   2.433080  12.412500   \n",
              "4     1         CA  0.027344     1   7.28321  25.942600   0.113564   5.748000   \n",
              "\n",
              "      eeg_t6     eeg_t5  ...     eeg_c4     eeg_p4    eeg_poz   eeg_c3  \\\n",
              "0  16.717800  33.737499  ...  37.368999  17.437599  19.201900  20.5968   \n",
              "1  15.969300  30.443600  ...  31.170799  19.399700  19.689501  21.3547   \n",
              "2  16.143101  32.142799  ... -12.012600  19.396299  23.171700  22.4076   \n",
              "3  20.533300  31.494101  ...  18.574100  23.156401  22.641199  19.3367   \n",
              "4  19.833599  28.753599  ...   6.555440  22.754700  22.670300  20.2932   \n",
              "\n",
              "    eeg_cz     eeg_o2     ecg           r         gsr  event  \n",
              "0 -3.95115  14.507600 -4520.0  817.705994  388.829987      A  \n",
              "1  1.33212  17.750200 -4520.0  817.705994  388.829987      A  \n",
              "2  1.53786  22.247000 -4520.0  817.705994  388.829987      A  \n",
              "3  2.54492  18.998600 -4520.0  817.705994  388.829987      A  \n",
              "4  1.69962  22.812799 -4520.0  817.705994  388.829987      A  \n",
              "\n",
              "[5 rows x 28 columns]"
            ]
          },
          "metadata": {
            "tags": []
          },
          "execution_count": 8
        }
      ]
    },
    {
      "metadata": {
        "id": "m3hQDrzuQcHn",
        "colab_type": "code",
        "colab": {}
      },
      "cell_type": "code",
      "source": [
        "pd.set_option('display.float_format', lambda x: '%.6f' % x)"
      ],
      "execution_count": 0,
      "outputs": []
    },
    {
      "metadata": {
        "id": "t49UOYtSD3B5",
        "colab_type": "code",
        "outputId": "8fccb635-8b1c-4166-8a0c-3971f79bd7e2",
        "colab": {
          "base_uri": "https://localhost:8080/",
          "height": 191
        }
      },
      "cell_type": "code",
      "source": [
        "train_df.crew.value_counts()"
      ],
      "execution_count": 10,
      "outputs": [
        {
          "output_type": "execute_result",
          "data": {
            "text/plain": [
              "6     552958\n",
              "4     552881\n",
              "2     552868\n",
              "5     552815\n",
              "3     552795\n",
              "7     552769\n",
              "13    552724\n",
              "8     549959\n",
              "1     447652\n",
              "Name: crew, dtype: int64"
            ]
          },
          "metadata": {
            "tags": []
          },
          "execution_count": 10
        }
      ]
    },
    {
      "metadata": {
        "id": "fejGp5NJyiYm",
        "colab_type": "code",
        "colab": {}
      },
      "cell_type": "code",
      "source": [
        "train_df['experiment_DA'] = 0\n",
        "train_df.loc[train_df['experiment'].isin(['DA']), 'experiment_DA'] = 1\n",
        "\n",
        "train_df['experiment_CA'] = 0\n",
        "train_df.loc[train_df['experiment'].isin(['CA']), 'experiment_CA'] = 1\n",
        "\n",
        "train_df['experiment_SS'] = 0\n",
        "train_df.loc[train_df['experiment'].isin(['SS']), 'experiment_SS'] = 1"
      ],
      "execution_count": 0,
      "outputs": []
    },
    {
      "metadata": {
        "id": "HfHK9VG71fLA",
        "colab_type": "code",
        "colab": {}
      },
      "cell_type": "code",
      "source": [
        "#train_df['crew'] = train_df['crew'].apply({'1': 'crew_1', '2': 'crew_2', '3': 'crew_3', '4': 'crew_4', '5': 'crew_5'\n",
        "#                                        , '6': 'crew_6', '7': 'crew_7', '8': 'crew_8', '13': 'crew_13'}.get)"
      ],
      "execution_count": 0,
      "outputs": []
    },
    {
      "metadata": {
        "id": "E_xkqGFvJOea",
        "colab_type": "code",
        "colab": {}
      },
      "cell_type": "code",
      "source": [
        "class_variance=train_df.groupby('event').agg({'eeg_fp1': np.var, 'eeg_f7': np.var, 'eeg_f8': np.var, 'eeg_t4': np.var, 'eeg_t6': np.var, 'eeg_t5': np.var, 'eeg_t3': np.var\n",
        ", 'eeg_fp2': np.var, 'eeg_o1': np.var, 'eeg_p3': np.var, 'eeg_pz': np.var, 'eeg_f3': np.var, 'eeg_fz': np.var, 'eeg_f4': np.var\n",
        ", 'eeg_c4': np.var, 'eeg_p4': np.var, 'eeg_poz': np.var, 'eeg_c3': np.var, 'eeg_cz': np.var, 'eeg_o2': np.var, 'ecg': np.var, 'r': np.var})"
      ],
      "execution_count": 0,
      "outputs": []
    },
    {
      "metadata": {
        "id": "tlJn4NDcrN6_",
        "colab_type": "code",
        "outputId": "de82d5b7-27d7-4ccd-b174-f3d52f9110ba",
        "colab": {
          "base_uri": "https://localhost:8080/",
          "height": 251
        }
      },
      "cell_type": "code",
      "source": [
        "class_variance"
      ],
      "execution_count": 13,
      "outputs": [
        {
          "output_type": "execute_result",
          "data": {
            "text/html": [
              "<div>\n",
              "<style scoped>\n",
              "    .dataframe tbody tr th:only-of-type {\n",
              "        vertical-align: middle;\n",
              "    }\n",
              "\n",
              "    .dataframe tbody tr th {\n",
              "        vertical-align: top;\n",
              "    }\n",
              "\n",
              "    .dataframe thead th {\n",
              "        text-align: right;\n",
              "    }\n",
              "</style>\n",
              "<table border=\"1\" class=\"dataframe\">\n",
              "  <thead>\n",
              "    <tr style=\"text-align: right;\">\n",
              "      <th></th>\n",
              "      <th>eeg_fp1</th>\n",
              "      <th>eeg_f7</th>\n",
              "      <th>eeg_f8</th>\n",
              "      <th>eeg_t4</th>\n",
              "      <th>eeg_t6</th>\n",
              "      <th>eeg_t5</th>\n",
              "      <th>eeg_t3</th>\n",
              "      <th>eeg_fp2</th>\n",
              "      <th>eeg_o1</th>\n",
              "      <th>eeg_p3</th>\n",
              "      <th>...</th>\n",
              "      <th>eeg_fz</th>\n",
              "      <th>eeg_f4</th>\n",
              "      <th>eeg_c4</th>\n",
              "      <th>eeg_p4</th>\n",
              "      <th>eeg_poz</th>\n",
              "      <th>eeg_c3</th>\n",
              "      <th>eeg_cz</th>\n",
              "      <th>eeg_o2</th>\n",
              "      <th>ecg</th>\n",
              "      <th>r</th>\n",
              "    </tr>\n",
              "    <tr>\n",
              "      <th>event</th>\n",
              "      <th></th>\n",
              "      <th></th>\n",
              "      <th></th>\n",
              "      <th></th>\n",
              "      <th></th>\n",
              "      <th></th>\n",
              "      <th></th>\n",
              "      <th></th>\n",
              "      <th></th>\n",
              "      <th></th>\n",
              "      <th></th>\n",
              "      <th></th>\n",
              "      <th></th>\n",
              "      <th></th>\n",
              "      <th></th>\n",
              "      <th></th>\n",
              "      <th></th>\n",
              "      <th></th>\n",
              "      <th></th>\n",
              "      <th></th>\n",
              "      <th></th>\n",
              "    </tr>\n",
              "  </thead>\n",
              "  <tbody>\n",
              "    <tr>\n",
              "      <th>A</th>\n",
              "      <td>2558.376805</td>\n",
              "      <td>1659.027471</td>\n",
              "      <td>1745.998022</td>\n",
              "      <td>786.344336</td>\n",
              "      <td>372.836354</td>\n",
              "      <td>427.710878</td>\n",
              "      <td>859.745715</td>\n",
              "      <td>2659.703078</td>\n",
              "      <td>1209.932392</td>\n",
              "      <td>338.024412</td>\n",
              "      <td>...</td>\n",
              "      <td>4753.726891</td>\n",
              "      <td>2296.383872</td>\n",
              "      <td>523.930593</td>\n",
              "      <td>338.407485</td>\n",
              "      <td>449.196670</td>\n",
              "      <td>483.359611</td>\n",
              "      <td>452.667918</td>\n",
              "      <td>818.011390</td>\n",
              "      <td>139176188.177926</td>\n",
              "      <td>6748.073460</td>\n",
              "    </tr>\n",
              "    <tr>\n",
              "      <th>B</th>\n",
              "      <td>5324.425947</td>\n",
              "      <td>2716.481836</td>\n",
              "      <td>1102.471025</td>\n",
              "      <td>446.148131</td>\n",
              "      <td>339.792707</td>\n",
              "      <td>258.641433</td>\n",
              "      <td>466.286589</td>\n",
              "      <td>5616.848580</td>\n",
              "      <td>481.718383</td>\n",
              "      <td>232.318824</td>\n",
              "      <td>...</td>\n",
              "      <td>2436.074137</td>\n",
              "      <td>1502.794150</td>\n",
              "      <td>485.897660</td>\n",
              "      <td>280.688936</td>\n",
              "      <td>238.999345</td>\n",
              "      <td>473.871977</td>\n",
              "      <td>369.245890</td>\n",
              "      <td>522.909598</td>\n",
              "      <td>130060628.685917</td>\n",
              "      <td>6204.592809</td>\n",
              "    </tr>\n",
              "    <tr>\n",
              "      <th>C</th>\n",
              "      <td>941.973080</td>\n",
              "      <td>477.657898</td>\n",
              "      <td>411.268880</td>\n",
              "      <td>294.099871</td>\n",
              "      <td>252.973207</td>\n",
              "      <td>191.631516</td>\n",
              "      <td>317.920754</td>\n",
              "      <td>993.221244</td>\n",
              "      <td>159.186105</td>\n",
              "      <td>167.151634</td>\n",
              "      <td>...</td>\n",
              "      <td>361.195344</td>\n",
              "      <td>993.030355</td>\n",
              "      <td>241.632850</td>\n",
              "      <td>165.183190</td>\n",
              "      <td>155.534704</td>\n",
              "      <td>223.476354</td>\n",
              "      <td>267.065408</td>\n",
              "      <td>140.930385</td>\n",
              "      <td>160741572.193594</td>\n",
              "      <td>6593.171936</td>\n",
              "    </tr>\n",
              "    <tr>\n",
              "      <th>D</th>\n",
              "      <td>1431.137580</td>\n",
              "      <td>659.158884</td>\n",
              "      <td>977.814432</td>\n",
              "      <td>395.949915</td>\n",
              "      <td>252.151568</td>\n",
              "      <td>279.324399</td>\n",
              "      <td>351.768637</td>\n",
              "      <td>1742.181717</td>\n",
              "      <td>269.083880</td>\n",
              "      <td>292.251709</td>\n",
              "      <td>...</td>\n",
              "      <td>709.077280</td>\n",
              "      <td>972.068536</td>\n",
              "      <td>400.496658</td>\n",
              "      <td>288.348257</td>\n",
              "      <td>292.676587</td>\n",
              "      <td>388.780261</td>\n",
              "      <td>505.624664</td>\n",
              "      <td>257.844212</td>\n",
              "      <td>150255397.861736</td>\n",
              "      <td>7227.803104</td>\n",
              "    </tr>\n",
              "  </tbody>\n",
              "</table>\n",
              "<p>4 rows × 22 columns</p>\n",
              "</div>"
            ],
            "text/plain": [
              "          eeg_fp1      eeg_f7      eeg_f8     eeg_t4     eeg_t6     eeg_t5  \\\n",
              "event                                                                        \n",
              "A     2558.376805 1659.027471 1745.998022 786.344336 372.836354 427.710878   \n",
              "B     5324.425947 2716.481836 1102.471025 446.148131 339.792707 258.641433   \n",
              "C      941.973080  477.657898  411.268880 294.099871 252.973207 191.631516   \n",
              "D     1431.137580  659.158884  977.814432 395.949915 252.151568 279.324399   \n",
              "\n",
              "          eeg_t3     eeg_fp2      eeg_o1     eeg_p3  ...      eeg_fz  \\\n",
              "event                                                ...               \n",
              "A     859.745715 2659.703078 1209.932392 338.024412  ... 4753.726891   \n",
              "B     466.286589 5616.848580  481.718383 232.318824  ... 2436.074137   \n",
              "C     317.920754  993.221244  159.186105 167.151634  ...  361.195344   \n",
              "D     351.768637 1742.181717  269.083880 292.251709  ...  709.077280   \n",
              "\n",
              "           eeg_f4     eeg_c4     eeg_p4    eeg_poz     eeg_c3     eeg_cz  \\\n",
              "event                                                                      \n",
              "A     2296.383872 523.930593 338.407485 449.196670 483.359611 452.667918   \n",
              "B     1502.794150 485.897660 280.688936 238.999345 473.871977 369.245890   \n",
              "C      993.030355 241.632850 165.183190 155.534704 223.476354 267.065408   \n",
              "D      972.068536 400.496658 288.348257 292.676587 388.780261 505.624664   \n",
              "\n",
              "          eeg_o2              ecg           r  \n",
              "event                                          \n",
              "A     818.011390 139176188.177926 6748.073460  \n",
              "B     522.909598 130060628.685917 6204.592809  \n",
              "C     140.930385 160741572.193594 6593.171936  \n",
              "D     257.844212 150255397.861736 7227.803104  \n",
              "\n",
              "[4 rows x 22 columns]"
            ]
          },
          "metadata": {
            "tags": []
          },
          "execution_count": 13
        }
      ]
    },
    {
      "metadata": {
        "id": "FfONItS6VEuO",
        "colab_type": "code",
        "colab": {
          "base_uri": "https://localhost:8080/",
          "height": 202
        },
        "outputId": "5534c1be-dba4-4e5d-e704-a90a0652b5e4"
      },
      "cell_type": "code",
      "source": [
        "train_df[300000:450000].groupby('event').agg({'time': np.size})"
      ],
      "execution_count": 144,
      "outputs": [
        {
          "output_type": "execute_result",
          "data": {
            "text/html": [
              "<div>\n",
              "<style scoped>\n",
              "    .dataframe tbody tr th:only-of-type {\n",
              "        vertical-align: middle;\n",
              "    }\n",
              "\n",
              "    .dataframe tbody tr th {\n",
              "        vertical-align: top;\n",
              "    }\n",
              "\n",
              "    .dataframe thead th {\n",
              "        text-align: right;\n",
              "    }\n",
              "</style>\n",
              "<table border=\"1\" class=\"dataframe\">\n",
              "  <thead>\n",
              "    <tr style=\"text-align: right;\">\n",
              "      <th></th>\n",
              "      <th>time</th>\n",
              "    </tr>\n",
              "    <tr>\n",
              "      <th>event</th>\n",
              "      <th></th>\n",
              "    </tr>\n",
              "  </thead>\n",
              "  <tbody>\n",
              "    <tr>\n",
              "      <th>A</th>\n",
              "      <td>131495.000000</td>\n",
              "    </tr>\n",
              "    <tr>\n",
              "      <th>B</th>\n",
              "      <td>7689.000000</td>\n",
              "    </tr>\n",
              "    <tr>\n",
              "      <th>C</th>\n",
              "      <td>2004.000000</td>\n",
              "    </tr>\n",
              "    <tr>\n",
              "      <th>D</th>\n",
              "      <td>8812.000000</td>\n",
              "    </tr>\n",
              "  </tbody>\n",
              "</table>\n",
              "</div>"
            ],
            "text/plain": [
              "               time\n",
              "event              \n",
              "A     131495.000000\n",
              "B       7689.000000\n",
              "C       2004.000000\n",
              "D       8812.000000"
            ]
          },
          "metadata": {
            "tags": []
          },
          "execution_count": 144
        }
      ]
    },
    {
      "metadata": {
        "id": "jftG0M8zeLVh",
        "colab_type": "code",
        "colab": {}
      },
      "cell_type": "code",
      "source": [
        "#fig, ax = plt.subplots(figsize=(14, 8))\n",
        "#sns.countplot(x='event', data=train_df, palette='hls')"
      ],
      "execution_count": 0,
      "outputs": []
    },
    {
      "metadata": {
        "id": "4q6HSAwJebK7",
        "colab_type": "code",
        "outputId": "3e629384-743b-431e-af17-40c9735efa03",
        "colab": {
          "base_uri": "https://localhost:8080/",
          "height": 35
        }
      },
      "cell_type": "code",
      "source": [
        "train_df.isnull().sum().sum()"
      ],
      "execution_count": 15,
      "outputs": [
        {
          "output_type": "execute_result",
          "data": {
            "text/plain": [
              "0"
            ]
          },
          "metadata": {
            "tags": []
          },
          "execution_count": 15
        }
      ]
    },
    {
      "metadata": {
        "id": "aTjFNSC146WE",
        "colab_type": "code",
        "colab": {}
      },
      "cell_type": "code",
      "source": [
        "def shuffle_batch(X, y, batch_size):\n",
        "    rnd_idx = np.random.permutation(len(X))\n",
        "    n_batches = len(X) // batch_size \n",
        "    for batch_idx in np.array_split(rnd_idx, n_batches):\n",
        "        X_batch, y_batch = X[batch_idx], y[batch_idx]\n",
        "        yield X_batch, y_batch"
      ],
      "execution_count": 0,
      "outputs": []
    },
    {
      "metadata": {
        "id": "5VP1PpI9Pli6",
        "colab_type": "code",
        "colab": {}
      },
      "cell_type": "code",
      "source": [
        "import matplotlib.pyplot as plt\n",
        "from sklearn.ensemble.partial_dependence import plot_partial_dependence\n",
        "from sklearn.ensemble.partial_dependence import partial_dependence\n",
        "from sklearn.ensemble import RandomForestClassifier, GradientBoostingClassifier, ExtraTreesClassifier, AdaBoostClassifier\n",
        "from sklearn.tree import DecisionTreeClassifier\n",
        "from xgboost import XGBClassifier\n",
        "from sklearn.model_selection import cross_val_predict, StratifiedShuffleSplit\n",
        "from sklearn.model_selection import cross_val_score\n",
        "from sklearn.metrics import confusion_matrix\n",
        "from sklearn.metrics import accuracy_score"
      ],
      "execution_count": 0,
      "outputs": []
    },
    {
      "metadata": {
        "id": "-k7L-oCF8CAD",
        "colab_type": "code",
        "colab": {}
      },
      "cell_type": "code",
      "source": [
        "X=train_df[['crew', 'experiment_DA', 'experiment_CA', 'experiment_SS', 'time', 'seat', 'eeg_fp1', 'eeg_f7', 'eeg_f8', 'eeg_t4', 'eeg_t6', 'eeg_t5', 'eeg_t3', 'eeg_fp2', 'eeg_o1', 'eeg_p3', 'eeg_pz', 'eeg_f3', 'eeg_fz', 'eeg_f4', 'eeg_c4', 'eeg_p4', 'eeg_poz', 'eeg_c3', 'eeg_cz', 'eeg_o2', 'ecg', 'r']][300000:450000]\n",
        "#X=train_df[['crew', 'seat']][1:100000]\n",
        "y=train_df['event'][300000:450000]"
      ],
      "execution_count": 0,
      "outputs": []
    },
    {
      "metadata": {
        "id": "ZRTPLq2D-jJW",
        "colab_type": "code",
        "colab": {}
      },
      "cell_type": "code",
      "source": [
        "cv = StratifiedShuffleSplit(n_splits=1, test_size=0.2, random_state=42)"
      ],
      "execution_count": 0,
      "outputs": []
    },
    {
      "metadata": {
        "id": "ETfQAkZvDGS0",
        "colab_type": "code",
        "colab": {}
      },
      "cell_type": "code",
      "source": [
        "rand_clf1 = GradientBoostingClassifier(n_estimators=50, max_features='auto', random_state=42, learning_rate=0.05)"
      ],
      "execution_count": 0,
      "outputs": []
    },
    {
      "metadata": {
        "id": "XYGUO3uO71QE",
        "colab_type": "code",
        "outputId": "3b9afc56-a404-4786-fdd9-6433396ce515",
        "colab": {
          "base_uri": "https://localhost:8080/",
          "height": 34
        }
      },
      "cell_type": "code",
      "source": [
        "for train_index, test_index in cv.split(X, y):\n",
        "  #print(\"TRAIN:\", train_index, \"TEST:\", test_index)\n",
        "  X_train, y_train = X.iloc[train_index], y.iloc[train_index]\n",
        "  X_test, y_test = X.iloc[test_index], y.iloc[test_index]\n",
        "  rand_clf1.fit(X_train, y_train)\n",
        "  #scr=rand_clf1.score(X_test, y_test, sample_weight=None)\n",
        "  acc_scr=accuracy_score(y_test, rand_clf1.predict(X_test), normalize=False)\n",
        "  print (len(train_index), len(test_index), acc_scr)\n",
        "  #print (rand_clf.predict(X_test))"
      ],
      "execution_count": 148,
      "outputs": [
        {
          "output_type": "stream",
          "text": [
            "120000 30000 29838\n"
          ],
          "name": "stdout"
        }
      ]
    },
    {
      "metadata": {
        "id": "6ZzgdrhHQTIo",
        "colab_type": "code",
        "colab": {
          "base_uri": "https://localhost:8080/",
          "height": 87
        },
        "outputId": "f45bfc2d-71b3-4b68-9545-544b756226bd"
      },
      "cell_type": "code",
      "source": [
        "print (confusion_matrix(y_test, rand_clf1.predict(X_test), labels=['A','B','C','D']))"
      ],
      "execution_count": 152,
      "outputs": [
        {
          "output_type": "stream",
          "text": [
            "[[26292     3     1     3]\n",
            " [    0  1538     0     0]\n",
            " [    0     0   401     0]\n",
            " [  155     0     0  1607]]\n"
          ],
          "name": "stdout"
        }
      ]
    },
    {
      "metadata": {
        "id": "ggC4JSXscExx",
        "colab_type": "code",
        "colab": {
          "base_uri": "https://localhost:8080/",
          "height": 34
        },
        "outputId": "0cc0bdea-1b87-497a-c386-8374f7e3acc0"
      },
      "cell_type": "code",
      "source": [
        "print (accuracy_score(y_test, rand_clf1.predict(X_test)))"
      ],
      "execution_count": 153,
      "outputs": [
        {
          "output_type": "stream",
          "text": [
            "0.9946\n"
          ],
          "name": "stdout"
        }
      ]
    },
    {
      "metadata": {
        "id": "B079x2nOg4QB",
        "colab_type": "code",
        "colab": {
          "base_uri": "https://localhost:8080/",
          "height": 140
        },
        "outputId": "ae26eac2-db84-400d-ad0a-e25ec4949d7c"
      },
      "cell_type": "code",
      "source": [
        "print(rand_clf1.feature_importances_)"
      ],
      "execution_count": 170,
      "outputs": [
        {
          "output_type": "stream",
          "text": [
            "[6.94947600e-02 7.16593365e-02 3.57691555e-02 9.83712354e-02\n",
            " 6.15377069e-01 3.19768161e-03 0.00000000e+00 9.99322482e-05\n",
            " 0.00000000e+00 4.63619814e-04 0.00000000e+00 0.00000000e+00\n",
            " 0.00000000e+00 0.00000000e+00 2.54071215e-04 2.10998717e-05\n",
            " 2.16089968e-03 0.00000000e+00 0.00000000e+00 0.00000000e+00\n",
            " 2.20979480e-04 0.00000000e+00 2.39784233e-04 0.00000000e+00\n",
            " 2.63019091e-06 5.45854319e-04 9.63082719e-02 5.81361934e-03]\n"
          ],
          "name": "stdout"
        }
      ]
    },
    {
      "metadata": {
        "id": "clxZtQ2Bgco7",
        "colab_type": "code",
        "colab": {}
      },
      "cell_type": "code",
      "source": [
        "feature_names = [x for i,x in enumerate(X_train.columns) if i!=28]\n",
        "\n",
        "def plot_feature_importances_diabetes(model):\n",
        "    plt.figure(figsize=(14,6))\n",
        "    n_features = 28\n",
        "    plt.barh(range(n_features), model.feature_importances_, align='center')\n",
        "    plt.yticks(np.arange(n_features), feature_names)\n",
        "    plt.xlabel(\"Feature importance\")\n",
        "    plt.ylabel(\"Feature\")\n",
        "    plt.ylim(-1, n_features)"
      ],
      "execution_count": 0,
      "outputs": []
    },
    {
      "metadata": {
        "id": "vfgxhrHLgnps",
        "colab_type": "code",
        "colab": {
          "base_uri": "https://localhost:8080/",
          "height": 392
        },
        "outputId": "257bf73f-f909-4e24-9b27-ee566e8995d9"
      },
      "cell_type": "code",
      "source": [
        "plot_feature_importances_diabetes(rand_clf1)"
      ],
      "execution_count": 175,
      "outputs": [
        {
          "output_type": "display_data",
          "data": {
            "image/png": "[encoded data removed]",
            "text/plain": [
              "<Figure size 1008x432 with 1 Axes>"
            ]
          },
          "metadata": {
            "tags": []
          }
        }
      ]
    },
    {
      "metadata": {
        "id": "4kL7sUVe3lKT",
        "colab_type": "code",
        "outputId": "a2a46aa3-bb32-4a9f-91a6-fd3b5867d17a",
        "colab": {
          "base_uri": "https://localhost:8080/",
          "height": 105
        }
      },
      "cell_type": "code",
      "source": [
        "train_df['event'].value_counts()"
      ],
      "execution_count": 0,
      "outputs": [
        {
          "output_type": "execute_result",
          "data": {
            "text/plain": [
              "A    2848809\n",
              "C    1652686\n",
              "D     235329\n",
              "B     130597\n",
              "Name: event, dtype: int64"
            ]
          },
          "metadata": {
            "tags": []
          },
          "execution_count": 155
        }
      ]
    },
    {
      "metadata": {
        "id": "m1AffVhczcts",
        "colab_type": "code",
        "outputId": "91ce4492-ddcc-4418-c13e-1f889b4d8348",
        "colab": {
          "base_uri": "https://localhost:8080/",
          "height": 34
        }
      },
      "cell_type": "code",
      "source": [
        "from collections import Counter\n",
        "\n",
        "print (Counter(y).keys() # equals to list(set(words))\n",
        ",Counter(y).values() # counts the elements' frequency\n",
        "      )"
      ],
      "execution_count": 0,
      "outputs": [
        {
          "output_type": "stream",
          "text": [
            "dict_keys(['C']) dict_values([5111])\n"
          ],
          "name": "stdout"
        }
      ]
    },
    {
      "metadata": {
        "id": "qKn2RGmwSj9I",
        "colab_type": "code",
        "outputId": "e8de975c-c391-4bf2-e871-835ebc37eb73",
        "colab": {
          "base_uri": "https://localhost:8080/",
          "height": 381
        }
      },
      "cell_type": "code",
      "source": [
        "#features = [0,1]\n",
        "plot = plot_partial_dependence(rand_clf1, features=[0,1],\n",
        "                               X=X_train,\n",
        "                               feature_names=['crew','experiment_DA'],\n",
        "                               n_jobs=3, \n",
        "                               grid_resolution=50#,\n",
        "                               #label=['A','B','C','D']\n",
        "                              )\n",
        "\n",
        "\n",
        "#https://briangriner.github.io/Partial_Dependence_Plots_presentation-BrianGriner-PrincetonPublicLibrary-4.14.18-updated-4.22.18.html"
      ],
      "execution_count": 176,
      "outputs": [
        {
          "output_type": "error",
          "ename": "ValueError",
          "evalue": "ignored",
          "traceback": [
            "\u001b[0;31m---------------------------------------------------------------------------\u001b[0m",
            "\u001b[0;31mValueError\u001b[0m                                Traceback (most recent call last)",
            "\u001b[0;32m<ipython-input-176-d6e340849739>\u001b[0m in \u001b[0;36m<module>\u001b[0;34m()\u001b[0m\n\u001b[1;32m      3\u001b[0m                                \u001b[0mfeature_names\u001b[0m\u001b[0;34m=\u001b[0m\u001b[0;34m[\u001b[0m\u001b[0;34m'crew'\u001b[0m\u001b[0;34m,\u001b[0m\u001b[0;34m'experiment_DA'\u001b[0m\u001b[0;34m]\u001b[0m\u001b[0;34m,\u001b[0m\u001b[0;34m\u001b[0m\u001b[0;34m\u001b[0m\u001b[0m\n\u001b[1;32m      4\u001b[0m                                \u001b[0mn_jobs\u001b[0m\u001b[0;34m=\u001b[0m\u001b[0;36m3\u001b[0m\u001b[0;34m,\u001b[0m\u001b[0;34m\u001b[0m\u001b[0;34m\u001b[0m\u001b[0m\n\u001b[0;32m----> 5\u001b[0;31m                                \u001b[0mgrid_resolution\u001b[0m\u001b[0;34m=\u001b[0m\u001b[0;36m50\u001b[0m\u001b[0;31m#,\u001b[0m\u001b[0;34m\u001b[0m\u001b[0;34m\u001b[0m\u001b[0m\n\u001b[0m\u001b[1;32m      6\u001b[0m                                \u001b[0;31m#label=['A','B','C','D']\u001b[0m\u001b[0;34m\u001b[0m\u001b[0;34m\u001b[0m\u001b[0;34m\u001b[0m\u001b[0m\n\u001b[1;32m      7\u001b[0m                               )\n",
            "\u001b[0;32m/usr/local/lib/python3.6/dist-packages/sklearn/ensemble/partial_dependence.py\u001b[0m in \u001b[0;36mplot_partial_dependence\u001b[0;34m(gbrt, X, features, feature_names, label, n_cols, grid_resolution, percentiles, n_jobs, verbose, ax, line_kw, contour_kw, **fig_kw)\u001b[0m\n\u001b[1;32m    251\u001b[0m     \u001b[0;32mif\u001b[0m \u001b[0mhasattr\u001b[0m\u001b[0;34m(\u001b[0m\u001b[0mgbrt\u001b[0m\u001b[0;34m,\u001b[0m \u001b[0;34m'classes_'\u001b[0m\u001b[0;34m)\u001b[0m \u001b[0;32mand\u001b[0m \u001b[0mnp\u001b[0m\u001b[0;34m.\u001b[0m\u001b[0msize\u001b[0m\u001b[0;34m(\u001b[0m\u001b[0mgbrt\u001b[0m\u001b[0;34m.\u001b[0m\u001b[0mclasses_\u001b[0m\u001b[0;34m)\u001b[0m \u001b[0;34m>\u001b[0m \u001b[0;36m2\u001b[0m\u001b[0;34m:\u001b[0m\u001b[0;34m\u001b[0m\u001b[0;34m\u001b[0m\u001b[0m\n\u001b[1;32m    252\u001b[0m         \u001b[0;32mif\u001b[0m \u001b[0mlabel\u001b[0m \u001b[0;32mis\u001b[0m \u001b[0;32mNone\u001b[0m\u001b[0;34m:\u001b[0m\u001b[0;34m\u001b[0m\u001b[0;34m\u001b[0m\u001b[0m\n\u001b[0;32m--> 253\u001b[0;31m             \u001b[0;32mraise\u001b[0m \u001b[0mValueError\u001b[0m\u001b[0;34m(\u001b[0m\u001b[0;34m'label is not given for multi-class PDP'\u001b[0m\u001b[0;34m)\u001b[0m\u001b[0;34m\u001b[0m\u001b[0;34m\u001b[0m\u001b[0m\n\u001b[0m\u001b[1;32m    254\u001b[0m         \u001b[0mlabel_idx\u001b[0m \u001b[0;34m=\u001b[0m \u001b[0mnp\u001b[0m\u001b[0;34m.\u001b[0m\u001b[0msearchsorted\u001b[0m\u001b[0;34m(\u001b[0m\u001b[0mgbrt\u001b[0m\u001b[0;34m.\u001b[0m\u001b[0mclasses_\u001b[0m\u001b[0;34m,\u001b[0m \u001b[0mlabel\u001b[0m\u001b[0;34m)\u001b[0m\u001b[0;34m\u001b[0m\u001b[0;34m\u001b[0m\u001b[0m\n\u001b[1;32m    255\u001b[0m         \u001b[0;32mif\u001b[0m \u001b[0mgbrt\u001b[0m\u001b[0;34m.\u001b[0m\u001b[0mclasses_\u001b[0m\u001b[0;34m[\u001b[0m\u001b[0mlabel_idx\u001b[0m\u001b[0;34m]\u001b[0m \u001b[0;34m!=\u001b[0m \u001b[0mlabel\u001b[0m\u001b[0;34m:\u001b[0m\u001b[0;34m\u001b[0m\u001b[0;34m\u001b[0m\u001b[0m\n",
            "\u001b[0;31mValueError\u001b[0m: label is not given for multi-class PDP"
          ]
        }
      ]
    },
    {
      "metadata": {
        "id": "MtjjRgWetNeG",
        "colab_type": "code",
        "outputId": "654fc9d8-f551-4fd0-a64b-72b1fb43ccb6",
        "colab": {
          "base_uri": "https://localhost:8080/",
          "height": 70
        }
      },
      "cell_type": "code",
      "source": [
        "y_train.value_counts()"
      ],
      "execution_count": 0,
      "outputs": [
        {
          "output_type": "execute_result",
          "data": {
            "text/plain": [
              "C    49026\n",
              "A      974\n",
              "Name: event, dtype: int64"
            ]
          },
          "metadata": {
            "tags": []
          },
          "execution_count": 33
        }
      ]
    },
    {
      "metadata": {
        "id": "Gso2fpA-6lfb",
        "colab_type": "code",
        "colab": {}
      },
      "cell_type": "code",
      "source": [
        "Randforest_scores = cross_val_score(rnd_clf, X_test, y_test, cv=10, scoring=\"accuracy\")\n",
        "Randforest_scores.mean()"
      ],
      "execution_count": 0,
      "outputs": []
    }
  ]
}