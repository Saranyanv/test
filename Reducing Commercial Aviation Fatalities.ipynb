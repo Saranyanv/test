{
  "nbformat": 4,
  "nbformat_minor": 0,
  "metadata": {
    "colab": {
      "name": "Untitled9.ipynb",
      "version": "0.3.2",
      "provenance": [],
      "include_colab_link": true
    },
    "kernelspec": {
      "name": "python3",
      "display_name": "Python 3"
    }
  },
  "cells": [
    {
      "cell_type": "markdown",
      "metadata": {
        "id": "view-in-github",
        "colab_type": "text"
      },
      "source": [
        "<a href=\"https://colab.research.google.com/github/Saranyanv/test/blob/master/Reducing%20Commercial%20Aviation%20Fatalities.ipynb\" target=\"_parent\"><img src=\"https://colab.research.google.com/assets/colab-badge.svg\" alt=\"Open In Colab\"/></a>"
      ]
    },
    {
      "metadata": {
        "id": "BMSAans4-4q5",
        "colab_type": "text"
      },
      "cell_type": "markdown",
      "source": [
        "**REDUCING COMMERCIAL AVIATION FATALITIES**\n",
        "\n",
        "*https://www.kaggle.com/c/reducing-commercial-aviation-fatalities/data*"
      ]
    },
    {
      "metadata": {
        "id": "jhY_MjQpXhjW",
        "colab_type": "code",
        "colab": {}
      },
      "cell_type": "code",
      "source": [
        "import os \n",
        "import numpy as np\n",
        "import zipfile\n",
        "from tqdm import tqdm\n",
        "from matplotlib import pyplot as plt\n",
        "from pandas import DataFrame\n",
        "import pandas as pd\n",
        "import seaborn as sns\n",
        "RANDOM_SEED = 42"
      ],
      "execution_count": 0,
      "outputs": []
    },
    {
      "metadata": {
        "id": "XaUWU-1nYh6f",
        "colab_type": "code",
        "outputId": "53060b48-2c0a-47df-d730-8e28993332a3",
        "colab": {
          "base_uri": "https://localhost:8080/",
          "height": 125
        }
      },
      "cell_type": "code",
      "source": [
        "from google.colab import drive\n",
        "drive.mount('/content/drive')"
      ],
      "execution_count": 2,
      "outputs": [
        {
          "output_type": "stream",
          "text": [
            "Go to this URL in a browser: https://accounts.google.com/o/oauth2/auth?client_id=947318989803-6bn6qk8qdgf4n4g3pfee6491hc0brc4i.apps.googleusercontent.com&redirect_uri=urn%3Aietf%3Awg%3Aoauth%3A2.0%3Aoob&scope=email%20https%3A%2F%2Fwww.googleapis.com%2Fauth%2Fdocs.test%20https%3A%2F%2Fwww.googleapis.com%2Fauth%2Fdrive%20https%3A%2F%2Fwww.googleapis.com%2Fauth%2Fdrive.photos.readonly%20https%3A%2F%2Fwww.googleapis.com%2Fauth%2Fpeopleapi.readonly&response_type=code\n",
            "\n",
            "Enter your authorization code:\n",
            "··········\n",
            "Mounted at /content/drive\n"
          ],
          "name": "stdout"
        }
      ]
    },
    {
      "metadata": {
        "id": "qiaDGGeqYlED",
        "colab_type": "code",
        "outputId": "c3b1a9d9-9d70-41fe-ff9b-192dc04bb1f3",
        "colab": {
          "base_uri": "https://localhost:8080/",
          "height": 52
        }
      },
      "cell_type": "code",
      "source": [
        "!ls -l \"drive/My Drive/MyWork/Kaggle/Reducing Commercial Aviation Fatalities\""
      ],
      "execution_count": 2,
      "outputs": [
        {
          "output_type": "stream",
          "text": [
            "total 439092\n",
            "-rw------- 1 root root 449629430 Mar 17 03:41 train.csv.zip\n"
          ],
          "name": "stdout"
        }
      ]
    },
    {
      "metadata": {
        "id": "IUDsdjuGY7gb",
        "colab_type": "code",
        "outputId": "d9c87585-c589-4093-e5bb-018fea683e37",
        "colab": {
          "base_uri": "https://localhost:8080/",
          "height": 52
        }
      },
      "cell_type": "code",
      "source": [
        "!unzip \"drive/My Drive/MyWork/Kaggle/Reducing Commercial Aviation Fatalities/train.csv.zip\""
      ],
      "execution_count": 4,
      "outputs": [
        {
          "output_type": "stream",
          "text": [
            "Archive:  drive/My Drive/MyWork/Kaggle/Reducing Commercial Aviation Fatalities/train.csv.zip\n",
            "  inflating: train.csv               \n"
          ],
          "name": "stdout"
        }
      ]
    },
    {
      "metadata": {
        "id": "7NY3K3n6ZR1b",
        "colab_type": "code",
        "outputId": "841409bf-1de4-4d01-8b5f-41d520cc39c4",
        "colab": {
          "base_uri": "https://localhost:8080/",
          "height": 87
        }
      },
      "cell_type": "code",
      "source": [
        "!ls -lrt /content/"
      ],
      "execution_count": 3,
      "outputs": [
        {
          "output_type": "stream",
          "text": [
            "total 1205840\n",
            "---------- 1 root root 1234764001 Dec 14 23:11 train.csv\n",
            "drwxr-xr-x 1 root root       4096 Apr  4 20:20 sample_data\n",
            "drwx------ 3 root root       4096 Apr 12 01:39 drive\n"
          ],
          "name": "stdout"
        }
      ]
    },
    {
      "metadata": {
        "id": "uYQVCmwiag66",
        "colab_type": "code",
        "colab": {}
      },
      "cell_type": "code",
      "source": [
        "#train_df = pd.read_csv('train.csv', delim_whitespace=False, names=('id', 'crew', 'experiment', 'time', 'seat', 'eeg_fp1', 'eeg_f7', 'eeg_f8', 'eeg_t4', 'eeg_t6', 'eeg_t5', 'eeg_t3', 'eeg_fp2', 'eeg_o1', 'eeg_p3', 'eeg_pz', 'eeg_f3', 'eeg_fz', 'eeg_f4', 'eeg_c4', 'eeg_p4', 'eeg_poz', 'eeg_c3', 'eeg_cz', 'eeg_o2', 'ecg', 'r', 'gsr', 'event'))\n",
        "train_df = pd.read_csv('train.csv', header=0, dtype={'crew': np.int32, 'experiment' :str, 'time': np.float64, 'seat': np.int32, 'eeg_fp1': np.float64, 'eeg_f7': np.float64, 'eeg_f8': np.float64, 'eeg_t4': np.float64, 'eeg_t6': np.float64, 'eeg_t5': np.float64, 'eeg_t3': np.float64, 'eeg_fp2': np.float64, 'eeg_o1': np.float64, 'eeg_p3': np.float64, 'eeg_pz': np.float64, 'eeg_f3': np.float64, 'eeg_fz': np.float64, 'eeg_f4': np.float64, 'eeg_c4': np.float64, 'eeg_p4': np.float64, 'eeg_poz': np.float64, 'eeg_c3': np.float64, 'eeg_cz': np.float64, 'eeg_o2': np.float64, 'ecg': np.float64, 'r': np.float64, 'gsr': str, 'event': str})"
      ],
      "execution_count": 0,
      "outputs": []
    },
    {
      "metadata": {
        "id": "aUD3bqi-_m5S",
        "colab_type": "code",
        "outputId": "e5cecd10-c2ce-4826-e2cc-256faa0497cd",
        "colab": {
          "base_uri": "https://localhost:8080/",
          "height": 34
        }
      },
      "cell_type": "code",
      "source": [
        "len(train_df)"
      ],
      "execution_count": 18,
      "outputs": [
        {
          "output_type": "execute_result",
          "data": {
            "text/plain": [
              "4867421"
            ]
          },
          "metadata": {
            "tags": []
          },
          "execution_count": 18
        }
      ]
    },
    {
      "metadata": {
        "id": "ydplB_wU_sTS",
        "colab_type": "code",
        "outputId": "98be0287-6938-4c48-8fdd-c3f3789f532d",
        "colab": {
          "base_uri": "https://localhost:8080/",
          "height": 248
        }
      },
      "cell_type": "code",
      "source": [
        "train_df.head()"
      ],
      "execution_count": 73,
      "outputs": [
        {
          "output_type": "execute_result",
          "data": {
            "text/html": [
              "<div>\n",
              "<style scoped>\n",
              "    .dataframe tbody tr th:only-of-type {\n",
              "        vertical-align: middle;\n",
              "    }\n",
              "\n",
              "    .dataframe tbody tr th {\n",
              "        vertical-align: top;\n",
              "    }\n",
              "\n",
              "    .dataframe thead th {\n",
              "        text-align: right;\n",
              "    }\n",
              "</style>\n",
              "<table border=\"1\" class=\"dataframe\">\n",
              "  <thead>\n",
              "    <tr style=\"text-align: right;\">\n",
              "      <th></th>\n",
              "      <th>crew</th>\n",
              "      <th>experiment</th>\n",
              "      <th>time</th>\n",
              "      <th>seat</th>\n",
              "      <th>eeg_fp1</th>\n",
              "      <th>eeg_f7</th>\n",
              "      <th>eeg_f8</th>\n",
              "      <th>eeg_t4</th>\n",
              "      <th>eeg_t6</th>\n",
              "      <th>eeg_t5</th>\n",
              "      <th>...</th>\n",
              "      <th>eeg_c4</th>\n",
              "      <th>eeg_p4</th>\n",
              "      <th>eeg_poz</th>\n",
              "      <th>eeg_c3</th>\n",
              "      <th>eeg_cz</th>\n",
              "      <th>eeg_o2</th>\n",
              "      <th>ecg</th>\n",
              "      <th>r</th>\n",
              "      <th>gsr</th>\n",
              "      <th>event</th>\n",
              "    </tr>\n",
              "  </thead>\n",
              "  <tbody>\n",
              "    <tr>\n",
              "      <th>0</th>\n",
              "      <td>None</td>\n",
              "      <td>CA</td>\n",
              "      <td>0.01</td>\n",
              "      <td>1</td>\n",
              "      <td>-5.29</td>\n",
              "      <td>26.78</td>\n",
              "      <td>-9.53</td>\n",
              "      <td>-12.79</td>\n",
              "      <td>16.72</td>\n",
              "      <td>33.74</td>\n",
              "      <td>...</td>\n",
              "      <td>37.37</td>\n",
              "      <td>17.44</td>\n",
              "      <td>19.20</td>\n",
              "      <td>20.60</td>\n",
              "      <td>-3.95</td>\n",
              "      <td>14.51</td>\n",
              "      <td>-4520.00</td>\n",
              "      <td>817.71</td>\n",
              "      <td>388.829987</td>\n",
              "      <td>A</td>\n",
              "    </tr>\n",
              "    <tr>\n",
              "      <th>1</th>\n",
              "      <td>None</td>\n",
              "      <td>CA</td>\n",
              "      <td>0.02</td>\n",
              "      <td>1</td>\n",
              "      <td>-2.43</td>\n",
              "      <td>28.43</td>\n",
              "      <td>-9.32</td>\n",
              "      <td>-3.76</td>\n",
              "      <td>15.97</td>\n",
              "      <td>30.44</td>\n",
              "      <td>...</td>\n",
              "      <td>31.17</td>\n",
              "      <td>19.40</td>\n",
              "      <td>19.69</td>\n",
              "      <td>21.35</td>\n",
              "      <td>1.33</td>\n",
              "      <td>17.75</td>\n",
              "      <td>-4520.00</td>\n",
              "      <td>817.71</td>\n",
              "      <td>388.829987</td>\n",
              "      <td>A</td>\n",
              "    </tr>\n",
              "    <tr>\n",
              "      <th>2</th>\n",
              "      <td>None</td>\n",
              "      <td>CA</td>\n",
              "      <td>0.02</td>\n",
              "      <td>1</td>\n",
              "      <td>10.67</td>\n",
              "      <td>30.42</td>\n",
              "      <td>15.35</td>\n",
              "      <td>24.72</td>\n",
              "      <td>16.14</td>\n",
              "      <td>32.14</td>\n",
              "      <td>...</td>\n",
              "      <td>-12.01</td>\n",
              "      <td>19.40</td>\n",
              "      <td>23.17</td>\n",
              "      <td>22.41</td>\n",
              "      <td>1.54</td>\n",
              "      <td>22.25</td>\n",
              "      <td>-4520.00</td>\n",
              "      <td>817.71</td>\n",
              "      <td>388.829987</td>\n",
              "      <td>A</td>\n",
              "    </tr>\n",
              "    <tr>\n",
              "      <th>3</th>\n",
              "      <td>None</td>\n",
              "      <td>CA</td>\n",
              "      <td>0.02</td>\n",
              "      <td>1</td>\n",
              "      <td>11.45</td>\n",
              "      <td>25.61</td>\n",
              "      <td>2.43</td>\n",
              "      <td>12.41</td>\n",
              "      <td>20.53</td>\n",
              "      <td>31.49</td>\n",
              "      <td>...</td>\n",
              "      <td>18.57</td>\n",
              "      <td>23.16</td>\n",
              "      <td>22.64</td>\n",
              "      <td>19.34</td>\n",
              "      <td>2.54</td>\n",
              "      <td>19.00</td>\n",
              "      <td>-4520.00</td>\n",
              "      <td>817.71</td>\n",
              "      <td>388.829987</td>\n",
              "      <td>A</td>\n",
              "    </tr>\n",
              "    <tr>\n",
              "      <th>4</th>\n",
              "      <td>None</td>\n",
              "      <td>CA</td>\n",
              "      <td>0.03</td>\n",
              "      <td>1</td>\n",
              "      <td>7.28</td>\n",
              "      <td>25.94</td>\n",
              "      <td>0.11</td>\n",
              "      <td>5.75</td>\n",
              "      <td>19.83</td>\n",
              "      <td>28.75</td>\n",
              "      <td>...</td>\n",
              "      <td>6.56</td>\n",
              "      <td>22.75</td>\n",
              "      <td>22.67</td>\n",
              "      <td>20.29</td>\n",
              "      <td>1.70</td>\n",
              "      <td>22.81</td>\n",
              "      <td>-4520.00</td>\n",
              "      <td>817.71</td>\n",
              "      <td>388.829987</td>\n",
              "      <td>A</td>\n",
              "    </tr>\n",
              "  </tbody>\n",
              "</table>\n",
              "<p>5 rows × 28 columns</p>\n",
              "</div>"
            ],
            "text/plain": [
              "   crew experiment  time  seat  eeg_fp1  eeg_f7  eeg_f8  eeg_t4  eeg_t6  \\\n",
              "0  None         CA  0.01     1    -5.29   26.78   -9.53  -12.79   16.72   \n",
              "1  None         CA  0.02     1    -2.43   28.43   -9.32   -3.76   15.97   \n",
              "2  None         CA  0.02     1    10.67   30.42   15.35   24.72   16.14   \n",
              "3  None         CA  0.02     1    11.45   25.61    2.43   12.41   20.53   \n",
              "4  None         CA  0.03     1     7.28   25.94    0.11    5.75   19.83   \n",
              "\n",
              "   eeg_t5  ...    eeg_c4  eeg_p4  eeg_poz  eeg_c3  eeg_cz  eeg_o2      ecg  \\\n",
              "0   33.74  ...     37.37   17.44    19.20   20.60   -3.95   14.51 -4520.00   \n",
              "1   30.44  ...     31.17   19.40    19.69   21.35    1.33   17.75 -4520.00   \n",
              "2   32.14  ...    -12.01   19.40    23.17   22.41    1.54   22.25 -4520.00   \n",
              "3   31.49  ...     18.57   23.16    22.64   19.34    2.54   19.00 -4520.00   \n",
              "4   28.75  ...      6.56   22.75    22.67   20.29    1.70   22.81 -4520.00   \n",
              "\n",
              "       r         gsr  event  \n",
              "0 817.71  388.829987      A  \n",
              "1 817.71  388.829987      A  \n",
              "2 817.71  388.829987      A  \n",
              "3 817.71  388.829987      A  \n",
              "4 817.71  388.829987      A  \n",
              "\n",
              "[5 rows x 28 columns]"
            ]
          },
          "metadata": {
            "tags": []
          },
          "execution_count": 73
        }
      ]
    },
    {
      "metadata": {
        "id": "m3hQDrzuQcHn",
        "colab_type": "code",
        "colab": {}
      },
      "cell_type": "code",
      "source": [
        "pd.set_option('display.float_format', lambda x: '%.2f' % x)"
      ],
      "execution_count": 0,
      "outputs": []
    },
    {
      "metadata": {
        "id": "t49UOYtSD3B5",
        "colab_type": "code",
        "outputId": "a4539bbe-fe5b-4a86-ea33-8711195e6922",
        "colab": {
          "base_uri": "https://localhost:8080/",
          "height": 34
        }
      },
      "cell_type": "code",
      "source": [
        "train_df.crew.value_counts()"
      ],
      "execution_count": 72,
      "outputs": [
        {
          "output_type": "execute_result",
          "data": {
            "text/plain": [
              "Series([], Name: crew, dtype: int64)"
            ]
          },
          "metadata": {
            "tags": []
          },
          "execution_count": 72
        }
      ]
    },
    {
      "metadata": {
        "id": "HfHK9VG71fLA",
        "colab_type": "code",
        "colab": {}
      },
      "cell_type": "code",
      "source": [
        "train_df['crew'] = train_df['crew'].apply({'1': 'crew_1', '2': 'crew_2', '3': 'crew_3', '4': 'crew_4', '5': 'crew_5'\n",
        "                                        , '6': 'crew_6', '7': 'crew_7', '8': 'crew_8', '13': 'crew_13'}.get)"
      ],
      "execution_count": 0,
      "outputs": []
    },
    {
      "metadata": {
        "id": "E_xkqGFvJOea",
        "colab_type": "code",
        "colab": {}
      },
      "cell_type": "code",
      "source": [
        "class_variance=train_df.groupby('event').agg({'eeg_fp1': np.var, 'eeg_f7': np.var, 'eeg_f8': np.var, 'eeg_t4': np.var, 'eeg_t6': np.var, 'eeg_t5': np.var, 'eeg_t3': np.var\n",
        ", 'eeg_fp2': np.var, 'eeg_o1': np.var, 'eeg_p3': np.var, 'eeg_pz': np.var, 'eeg_f3': np.var, 'eeg_fz': np.var, 'eeg_f4': np.var\n",
        ", 'eeg_c4': np.var, 'eeg_p4': np.var, 'eeg_poz': np.var, 'eeg_c3': np.var, 'eeg_cz': np.var, 'eeg_o2': np.var, 'ecg': np.var, 'r': np.var})"
      ],
      "execution_count": 0,
      "outputs": []
    },
    {
      "metadata": {
        "id": "tlJn4NDcrN6_",
        "colab_type": "code",
        "colab": {
          "base_uri": "https://localhost:8080/",
          "height": 248
        },
        "outputId": "1d089204-ae58-4a31-cf2d-192e7e5d3014"
      },
      "cell_type": "code",
      "source": [
        "class_variance"
      ],
      "execution_count": 13,
      "outputs": [
        {
          "output_type": "execute_result",
          "data": {
            "text/html": [
              "<div>\n",
              "<style scoped>\n",
              "    .dataframe tbody tr th:only-of-type {\n",
              "        vertical-align: middle;\n",
              "    }\n",
              "\n",
              "    .dataframe tbody tr th {\n",
              "        vertical-align: top;\n",
              "    }\n",
              "\n",
              "    .dataframe thead th {\n",
              "        text-align: right;\n",
              "    }\n",
              "</style>\n",
              "<table border=\"1\" class=\"dataframe\">\n",
              "  <thead>\n",
              "    <tr style=\"text-align: right;\">\n",
              "      <th></th>\n",
              "      <th>eeg_fp1</th>\n",
              "      <th>eeg_f7</th>\n",
              "      <th>eeg_f8</th>\n",
              "      <th>eeg_t4</th>\n",
              "      <th>eeg_t6</th>\n",
              "      <th>eeg_t5</th>\n",
              "      <th>eeg_t3</th>\n",
              "      <th>eeg_fp2</th>\n",
              "      <th>eeg_o1</th>\n",
              "      <th>eeg_p3</th>\n",
              "      <th>...</th>\n",
              "      <th>eeg_fz</th>\n",
              "      <th>eeg_f4</th>\n",
              "      <th>eeg_c4</th>\n",
              "      <th>eeg_p4</th>\n",
              "      <th>eeg_poz</th>\n",
              "      <th>eeg_c3</th>\n",
              "      <th>eeg_cz</th>\n",
              "      <th>eeg_o2</th>\n",
              "      <th>ecg</th>\n",
              "      <th>r</th>\n",
              "    </tr>\n",
              "    <tr>\n",
              "      <th>event</th>\n",
              "      <th></th>\n",
              "      <th></th>\n",
              "      <th></th>\n",
              "      <th></th>\n",
              "      <th></th>\n",
              "      <th></th>\n",
              "      <th></th>\n",
              "      <th></th>\n",
              "      <th></th>\n",
              "      <th></th>\n",
              "      <th></th>\n",
              "      <th></th>\n",
              "      <th></th>\n",
              "      <th></th>\n",
              "      <th></th>\n",
              "      <th></th>\n",
              "      <th></th>\n",
              "      <th></th>\n",
              "      <th></th>\n",
              "      <th></th>\n",
              "      <th></th>\n",
              "    </tr>\n",
              "  </thead>\n",
              "  <tbody>\n",
              "    <tr>\n",
              "      <th>A</th>\n",
              "      <td>2558.38</td>\n",
              "      <td>1659.03</td>\n",
              "      <td>1746.00</td>\n",
              "      <td>786.34</td>\n",
              "      <td>372.84</td>\n",
              "      <td>427.71</td>\n",
              "      <td>859.75</td>\n",
              "      <td>2659.70</td>\n",
              "      <td>1209.93</td>\n",
              "      <td>338.02</td>\n",
              "      <td>...</td>\n",
              "      <td>4753.73</td>\n",
              "      <td>2296.38</td>\n",
              "      <td>523.93</td>\n",
              "      <td>338.41</td>\n",
              "      <td>449.20</td>\n",
              "      <td>483.36</td>\n",
              "      <td>452.67</td>\n",
              "      <td>818.01</td>\n",
              "      <td>139176188.18</td>\n",
              "      <td>6748.07</td>\n",
              "    </tr>\n",
              "    <tr>\n",
              "      <th>B</th>\n",
              "      <td>5324.43</td>\n",
              "      <td>2716.48</td>\n",
              "      <td>1102.47</td>\n",
              "      <td>446.15</td>\n",
              "      <td>339.79</td>\n",
              "      <td>258.64</td>\n",
              "      <td>466.29</td>\n",
              "      <td>5616.85</td>\n",
              "      <td>481.72</td>\n",
              "      <td>232.32</td>\n",
              "      <td>...</td>\n",
              "      <td>2436.07</td>\n",
              "      <td>1502.79</td>\n",
              "      <td>485.90</td>\n",
              "      <td>280.69</td>\n",
              "      <td>239.00</td>\n",
              "      <td>473.87</td>\n",
              "      <td>369.25</td>\n",
              "      <td>522.91</td>\n",
              "      <td>130060628.69</td>\n",
              "      <td>6204.59</td>\n",
              "    </tr>\n",
              "    <tr>\n",
              "      <th>C</th>\n",
              "      <td>941.97</td>\n",
              "      <td>477.66</td>\n",
              "      <td>411.27</td>\n",
              "      <td>294.10</td>\n",
              "      <td>252.97</td>\n",
              "      <td>191.63</td>\n",
              "      <td>317.92</td>\n",
              "      <td>993.22</td>\n",
              "      <td>159.19</td>\n",
              "      <td>167.15</td>\n",
              "      <td>...</td>\n",
              "      <td>361.20</td>\n",
              "      <td>993.03</td>\n",
              "      <td>241.63</td>\n",
              "      <td>165.18</td>\n",
              "      <td>155.53</td>\n",
              "      <td>223.48</td>\n",
              "      <td>267.07</td>\n",
              "      <td>140.93</td>\n",
              "      <td>160741572.19</td>\n",
              "      <td>6593.17</td>\n",
              "    </tr>\n",
              "    <tr>\n",
              "      <th>D</th>\n",
              "      <td>1431.14</td>\n",
              "      <td>659.16</td>\n",
              "      <td>977.81</td>\n",
              "      <td>395.95</td>\n",
              "      <td>252.15</td>\n",
              "      <td>279.32</td>\n",
              "      <td>351.77</td>\n",
              "      <td>1742.18</td>\n",
              "      <td>269.08</td>\n",
              "      <td>292.25</td>\n",
              "      <td>...</td>\n",
              "      <td>709.08</td>\n",
              "      <td>972.07</td>\n",
              "      <td>400.50</td>\n",
              "      <td>288.35</td>\n",
              "      <td>292.68</td>\n",
              "      <td>388.78</td>\n",
              "      <td>505.62</td>\n",
              "      <td>257.84</td>\n",
              "      <td>150255397.86</td>\n",
              "      <td>7227.80</td>\n",
              "    </tr>\n",
              "  </tbody>\n",
              "</table>\n",
              "<p>4 rows × 22 columns</p>\n",
              "</div>"
            ],
            "text/plain": [
              "       eeg_fp1  eeg_f7  eeg_f8  eeg_t4  eeg_t6  eeg_t5  eeg_t3  eeg_fp2  \\\n",
              "event                                                                     \n",
              "A      2558.38 1659.03 1746.00  786.34  372.84  427.71  859.75  2659.70   \n",
              "B      5324.43 2716.48 1102.47  446.15  339.79  258.64  466.29  5616.85   \n",
              "C       941.97  477.66  411.27  294.10  252.97  191.63  317.92   993.22   \n",
              "D      1431.14  659.16  977.81  395.95  252.15  279.32  351.77  1742.18   \n",
              "\n",
              "       eeg_o1  eeg_p3   ...    eeg_fz  eeg_f4  eeg_c4  eeg_p4  eeg_poz  \\\n",
              "event                   ...                                              \n",
              "A     1209.93  338.02   ...   4753.73 2296.38  523.93  338.41   449.20   \n",
              "B      481.72  232.32   ...   2436.07 1502.79  485.90  280.69   239.00   \n",
              "C      159.19  167.15   ...    361.20  993.03  241.63  165.18   155.53   \n",
              "D      269.08  292.25   ...    709.08  972.07  400.50  288.35   292.68   \n",
              "\n",
              "       eeg_c3  eeg_cz  eeg_o2          ecg       r  \n",
              "event                                               \n",
              "A      483.36  452.67  818.01 139176188.18 6748.07  \n",
              "B      473.87  369.25  522.91 130060628.69 6204.59  \n",
              "C      223.48  267.07  140.93 160741572.19 6593.17  \n",
              "D      388.78  505.62  257.84 150255397.86 7227.80  \n",
              "\n",
              "[4 rows x 22 columns]"
            ]
          },
          "metadata": {
            "tags": []
          },
          "execution_count": 13
        }
      ]
    },
    {
      "metadata": {
        "id": "jftG0M8zeLVh",
        "colab_type": "code",
        "colab": {}
      },
      "cell_type": "code",
      "source": [
        "#fig, ax = plt.subplots(figsize=(14, 8))\n",
        "#sns.countplot(x='event', data=train_df, palette='hls')"
      ],
      "execution_count": 0,
      "outputs": []
    },
    {
      "metadata": {
        "id": "4q6HSAwJebK7",
        "colab_type": "code",
        "outputId": "0196c192-f190-470e-b489-cf9078758b1e",
        "colab": {
          "base_uri": "https://localhost:8080/",
          "height": 34
        }
      },
      "cell_type": "code",
      "source": [
        "train_df.isnull().sum().sum()"
      ],
      "execution_count": 12,
      "outputs": [
        {
          "output_type": "execute_result",
          "data": {
            "text/plain": [
              "0"
            ]
          },
          "metadata": {
            "tags": []
          },
          "execution_count": 12
        }
      ]
    },
    {
      "metadata": {
        "id": "tfggwrWwgcLC",
        "colab_type": "code",
        "colab": {}
      },
      "cell_type": "code",
      "source": [
        "#data cleaning start with matrix of histogram with seaborn"
      ],
      "execution_count": 0,
      "outputs": []
    },
    {
      "metadata": {
        "id": "5VP1PpI9Pli6",
        "colab_type": "code",
        "colab": {}
      },
      "cell_type": "code",
      "source": [
        "import matplotlib.pyplot as plt\n",
        "from sklearn.ensemble.partial_dependence import plot_partial_dependence\n",
        "from sklearn.ensemble.partial_dependence import partial_dependence\n",
        "from sklearn.ensemble import RandomForestClassifier, GradientBoostingClassifier\n",
        "from xgboost import XGBClassifier"
      ],
      "execution_count": 0,
      "outputs": []
    },
    {
      "metadata": {
        "id": "PTQnaONXQTqf",
        "colab_type": "code",
        "colab": {}
      },
      "cell_type": "code",
      "source": [
        "rand_clf = GradientBoostingClassifier(n_estimators=100, max_features='auto', random_state=42)\n",
        "#rand_clf = XGBClassifier(n_estimators=100, max_features='auto', random_state=42)"
      ],
      "execution_count": 0,
      "outputs": []
    },
    {
      "metadata": {
        "id": "q8vXLXaqR-2W",
        "colab_type": "code",
        "colab": {}
      },
      "cell_type": "code",
      "source": [
        "x_train=train_df[['eeg_fp1', 'eeg_f7', 'eeg_f8', 'eeg_t4', 'eeg_t6', 'eeg_t5', 'eeg_t3', 'eeg_fp2', 'eeg_o1', 'eeg_p3', 'eeg_pz', 'eeg_f3', 'eeg_fz', 'eeg_f4', 'eeg_c4', 'eeg_p4', 'eeg_poz', 'eeg_c3', 'eeg_cz', 'eeg_o2', 'ecg', 'r']][0:50000]\n",
        "y_train=train_df['event'][0:50000]"
      ],
      "execution_count": 0,
      "outputs": []
    },
    {
      "metadata": {
        "id": "IVs59iAgSL7d",
        "colab_type": "code",
        "colab": {
          "base_uri": "https://localhost:8080/",
          "height": 175
        },
        "outputId": "5f19e9f5-6af9-4dcc-fad8-ab145b00b6c3"
      },
      "cell_type": "code",
      "source": [
        "rand_clf.fit(x_train, y_train)"
      ],
      "execution_count": 31,
      "outputs": [
        {
          "output_type": "execute_result",
          "data": {
            "text/plain": [
              "GradientBoostingClassifier(criterion='friedman_mse', init=None,\n",
              "              learning_rate=0.1, loss='deviance', max_depth=3,\n",
              "              max_features='auto', max_leaf_nodes=None,\n",
              "              min_impurity_decrease=0.0, min_impurity_split=None,\n",
              "              min_samples_leaf=1, min_samples_split=2,\n",
              "              min_weight_fraction_leaf=0.0, n_estimators=100,\n",
              "              n_iter_no_change=None, presort='auto', random_state=42,\n",
              "              subsample=1.0, tol=0.0001, validation_fraction=0.1,\n",
              "              verbose=0, warm_start=False)"
            ]
          },
          "metadata": {
            "tags": []
          },
          "execution_count": 31
        }
      ]
    },
    {
      "metadata": {
        "id": "DzXLiK1muKhy",
        "colab_type": "code",
        "colab": {}
      },
      "cell_type": "code",
      "source": [
        "y=list(rand_clf.predict(train_df[['eeg_fp1', 'eeg_f7', 'eeg_f8', 'eeg_t4', 'eeg_t6', 'eeg_t5', 'eeg_t3', 'eeg_fp2', 'eeg_o1', 'eeg_p3', 'eeg_pz', 'eeg_f3', 'eeg_fz', 'eeg_f4', 'eeg_c4', 'eeg_p4', 'eeg_poz', 'eeg_c3', 'eeg_cz', 'eeg_o2', 'ecg', 'r']][50001:55112]))"
      ],
      "execution_count": 0,
      "outputs": []
    },
    {
      "metadata": {
        "id": "m1AffVhczcts",
        "colab_type": "code",
        "colab": {}
      },
      "cell_type": "code",
      "source": [
        "y"
      ],
      "execution_count": 0,
      "outputs": []
    },
    {
      "metadata": {
        "id": "qKn2RGmwSj9I",
        "colab_type": "code",
        "colab": {
          "base_uri": "https://localhost:8080/",
          "height": 280
        },
        "outputId": "54e7eac0-9405-4253-a05f-91004851f8a7"
      },
      "cell_type": "code",
      "source": [
        "features = [0,1]\n",
        "plot = plot_partial_dependence(rand_clf, x_train, features,\n",
        "                                       feature_names=['eeg_fp1','eeg_f7'],\n",
        "                                       n_jobs=3, grid_resolution=50)"
      ],
      "execution_count": 34,
      "outputs": [
        {
          "output_type": "display_data",
          "data": {
            "image/png": "[encoded data removed]",
            "text/plain": [
              "<Figure size 576x396 with 2 Axes>"
            ]
          },
          "metadata": {
            "tags": []
          }
        }
      ]
    },
    {
      "metadata": {
        "id": "MtjjRgWetNeG",
        "colab_type": "code",
        "colab": {
          "base_uri": "https://localhost:8080/",
          "height": 70
        },
        "outputId": "654fc9d8-f551-4fd0-a64b-72b1fb43ccb6"
      },
      "cell_type": "code",
      "source": [
        "y_train.value_counts()"
      ],
      "execution_count": 33,
      "outputs": [
        {
          "output_type": "execute_result",
          "data": {
            "text/plain": [
              "C    49026\n",
              "A      974\n",
              "Name: event, dtype: int64"
            ]
          },
          "metadata": {
            "tags": []
          },
          "execution_count": 33
        }
      ]
    }
  ]
}