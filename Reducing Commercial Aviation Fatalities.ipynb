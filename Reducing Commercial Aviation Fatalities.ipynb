{
  "nbformat": 4,
  "nbformat_minor": 0,
  "metadata": {
    "colab": {
      "name": "Untitled9.ipynb",
      "version": "0.3.2",
      "provenance": [],
      "include_colab_link": true
    },
    "kernelspec": {
      "name": "python3",
      "display_name": "Python 3"
    }
  },
  "cells": [
    {
      "cell_type": "markdown",
      "metadata": {
        "id": "view-in-github",
        "colab_type": "text"
      },
      "source": [
        "<a href=\"https://colab.research.google.com/github/Saranyanv/test/blob/master/Reducing%20Commercial%20Aviation%20Fatalities.ipynb\" target=\"_parent\"><img src=\"https://colab.research.google.com/assets/colab-badge.svg\" alt=\"Open In Colab\"/></a>"
      ]
    },
    {
      "metadata": {
        "id": "BMSAans4-4q5",
        "colab_type": "text"
      },
      "cell_type": "markdown",
      "source": [
        "**REDUCING COMMERCIAL AVIATION FATALITIES**\n",
        "\n",
        "*https://www.kaggle.com/c/reducing-commercial-aviation-fatalities/data*"
      ]
    },
    {
      "metadata": {
        "id": "jhY_MjQpXhjW",
        "colab_type": "code",
        "colab": {}
      },
      "cell_type": "code",
      "source": [
        "import os \n",
        "import numpy as np\n",
        "import zipfile\n",
        "from tqdm import tqdm\n",
        "from matplotlib import pyplot as plt\n",
        "from pandas import DataFrame\n",
        "import pandas as pd\n",
        "import seaborn as sns\n",
        "RANDOM_SEED = 42"
      ],
      "execution_count": 0,
      "outputs": []
    },
    {
      "metadata": {
        "id": "XaUWU-1nYh6f",
        "colab_type": "code",
        "outputId": "5fe3d23a-2174-40c1-b34b-1fd6495c3909",
        "colab": {
          "base_uri": "https://localhost:8080/",
          "height": 124
        }
      },
      "cell_type": "code",
      "source": [
        "from google.colab import drive\n",
        "drive.mount('/content/drive')"
      ],
      "execution_count": 2,
      "outputs": [
        {
          "output_type": "stream",
          "text": [
            "Go to this URL in a browser: https://accounts.google.com/o/oauth2/auth?client_id=947318989803-6bn6qk8qdgf4n4g3pfee6491hc0brc4i.apps.googleusercontent.com&redirect_uri=urn%3Aietf%3Awg%3Aoauth%3A2.0%3Aoob&scope=email%20https%3A%2F%2Fwww.googleapis.com%2Fauth%2Fdocs.test%20https%3A%2F%2Fwww.googleapis.com%2Fauth%2Fdrive%20https%3A%2F%2Fwww.googleapis.com%2Fauth%2Fdrive.photos.readonly%20https%3A%2F%2Fwww.googleapis.com%2Fauth%2Fpeopleapi.readonly&response_type=code\n",
            "\n",
            "Enter your authorization code:\n",
            "··········\n",
            "Mounted at /content/drive\n"
          ],
          "name": "stdout"
        }
      ]
    },
    {
      "metadata": {
        "id": "qiaDGGeqYlED",
        "colab_type": "code",
        "outputId": "13b35839-ad86-4ecb-af03-dc8cd0bcf6c7",
        "colab": {
          "base_uri": "https://localhost:8080/",
          "height": 52
        }
      },
      "cell_type": "code",
      "source": [
        "!ls -l \"drive/My Drive/MyWork/Kaggle/Reducing Commercial Aviation Fatalities\""
      ],
      "execution_count": 3,
      "outputs": [
        {
          "output_type": "stream",
          "text": [
            "total 439092\n",
            "-rw------- 1 root root 449629430 Mar 17 03:41 train.csv.zip\n"
          ],
          "name": "stdout"
        }
      ]
    },
    {
      "metadata": {
        "id": "IUDsdjuGY7gb",
        "colab_type": "code",
        "outputId": "d40fe060-4d8c-4f8f-a7a9-5a35c7826964",
        "colab": {
          "base_uri": "https://localhost:8080/",
          "height": 52
        }
      },
      "cell_type": "code",
      "source": [
        "!unzip \"drive/My Drive/MyWork/Kaggle/Reducing Commercial Aviation Fatalities/train.csv.zip\""
      ],
      "execution_count": 4,
      "outputs": [
        {
          "output_type": "stream",
          "text": [
            "Archive:  drive/My Drive/MyWork/Kaggle/Reducing Commercial Aviation Fatalities/train.csv.zip\n",
            "  inflating: train.csv               \n"
          ],
          "name": "stdout"
        }
      ]
    },
    {
      "metadata": {
        "id": "7NY3K3n6ZR1b",
        "colab_type": "code",
        "outputId": "294fe213-1433-4bef-ef92-d8518242e825",
        "colab": {
          "base_uri": "https://localhost:8080/",
          "height": 87
        }
      },
      "cell_type": "code",
      "source": [
        "!ls -lrt /content/"
      ],
      "execution_count": 5,
      "outputs": [
        {
          "output_type": "stream",
          "text": [
            "total 1205840\n",
            "---------- 1 root root 1234764001 Dec 14 23:11 train.csv\n",
            "drwxr-xr-x 1 root root       4096 Apr  4 20:20 sample_data\n",
            "drwx------ 3 root root       4096 Apr 26 04:16 drive\n"
          ],
          "name": "stdout"
        }
      ]
    },
    {
      "metadata": {
        "id": "uYQVCmwiag66",
        "colab_type": "code",
        "colab": {}
      },
      "cell_type": "code",
      "source": [
        "#train_df = pd.read_csv('train.csv', delim_whitespace=False, names=('id', 'crew', 'experiment', 'time', 'seat', 'eeg_fp1', 'eeg_f7', 'eeg_f8', 'eeg_t4', 'eeg_t6', 'eeg_t5', 'eeg_t3', 'eeg_fp2', 'eeg_o1', 'eeg_p3', 'eeg_pz', 'eeg_f3', 'eeg_fz', 'eeg_f4', 'eeg_c4', 'eeg_p4', 'eeg_poz', 'eeg_c3', 'eeg_cz', 'eeg_o2', 'ecg', 'r', 'gsr', 'event'))\n",
        "train_df = pd.read_csv('train.csv', header=0, dtype={'crew': np.int32, 'experiment' :str, 'time': np.float64, 'seat': np.int32, 'eeg_fp1': np.float64, 'eeg_f7': np.float64, 'eeg_f8': np.float64, 'eeg_t4': np.float64, 'eeg_t6': np.float64, 'eeg_t5': np.float64, 'eeg_t3': np.float64, 'eeg_fp2': np.float64, 'eeg_o1': np.float64, 'eeg_p3': np.float64, 'eeg_pz': np.float64, 'eeg_f3': np.float64, 'eeg_fz': np.float64, 'eeg_f4': np.float64, 'eeg_c4': np.float64, 'eeg_p4': np.float64, 'eeg_poz': np.float64, 'eeg_c3': np.float64, 'eeg_cz': np.float64, 'eeg_o2': np.float64, 'ecg': np.float64, 'r': np.float64, 'gsr': str, 'event': str})"
      ],
      "execution_count": 0,
      "outputs": []
    },
    {
      "metadata": {
        "id": "aUD3bqi-_m5S",
        "colab_type": "code",
        "outputId": "b73cc7be-66e5-4509-bfa5-856ff6f1e1a5",
        "colab": {
          "base_uri": "https://localhost:8080/",
          "height": 35
        }
      },
      "cell_type": "code",
      "source": [
        "len(train_df)"
      ],
      "execution_count": 7,
      "outputs": [
        {
          "output_type": "execute_result",
          "data": {
            "text/plain": [
              "4867421"
            ]
          },
          "metadata": {
            "tags": []
          },
          "execution_count": 7
        }
      ]
    },
    {
      "metadata": {
        "id": "ydplB_wU_sTS",
        "colab_type": "code",
        "outputId": "7bc30890-b948-4949-a11a-a300ae18b5f1",
        "colab": {
          "base_uri": "https://localhost:8080/",
          "height": 251
        }
      },
      "cell_type": "code",
      "source": [
        "train_df.head()"
      ],
      "execution_count": 8,
      "outputs": [
        {
          "output_type": "execute_result",
          "data": {
            "text/html": [
              "<div>\n",
              "<style scoped>\n",
              "    .dataframe tbody tr th:only-of-type {\n",
              "        vertical-align: middle;\n",
              "    }\n",
              "\n",
              "    .dataframe tbody tr th {\n",
              "        vertical-align: top;\n",
              "    }\n",
              "\n",
              "    .dataframe thead th {\n",
              "        text-align: right;\n",
              "    }\n",
              "</style>\n",
              "<table border=\"1\" class=\"dataframe\">\n",
              "  <thead>\n",
              "    <tr style=\"text-align: right;\">\n",
              "      <th></th>\n",
              "      <th>crew</th>\n",
              "      <th>experiment</th>\n",
              "      <th>time</th>\n",
              "      <th>seat</th>\n",
              "      <th>eeg_fp1</th>\n",
              "      <th>eeg_f7</th>\n",
              "      <th>eeg_f8</th>\n",
              "      <th>eeg_t4</th>\n",
              "      <th>eeg_t6</th>\n",
              "      <th>eeg_t5</th>\n",
              "      <th>...</th>\n",
              "      <th>eeg_c4</th>\n",
              "      <th>eeg_p4</th>\n",
              "      <th>eeg_poz</th>\n",
              "      <th>eeg_c3</th>\n",
              "      <th>eeg_cz</th>\n",
              "      <th>eeg_o2</th>\n",
              "      <th>ecg</th>\n",
              "      <th>r</th>\n",
              "      <th>gsr</th>\n",
              "      <th>event</th>\n",
              "    </tr>\n",
              "  </thead>\n",
              "  <tbody>\n",
              "    <tr>\n",
              "      <th>0</th>\n",
              "      <td>1</td>\n",
              "      <td>CA</td>\n",
              "      <td>0.011719</td>\n",
              "      <td>1</td>\n",
              "      <td>-5.28545</td>\n",
              "      <td>26.775801</td>\n",
              "      <td>-9.527310</td>\n",
              "      <td>-12.793200</td>\n",
              "      <td>16.717800</td>\n",
              "      <td>33.737499</td>\n",
              "      <td>...</td>\n",
              "      <td>37.368999</td>\n",
              "      <td>17.437599</td>\n",
              "      <td>19.201900</td>\n",
              "      <td>20.5968</td>\n",
              "      <td>-3.95115</td>\n",
              "      <td>14.507600</td>\n",
              "      <td>-4520.0</td>\n",
              "      <td>817.705994</td>\n",
              "      <td>388.829987</td>\n",
              "      <td>A</td>\n",
              "    </tr>\n",
              "    <tr>\n",
              "      <th>1</th>\n",
              "      <td>1</td>\n",
              "      <td>CA</td>\n",
              "      <td>0.015625</td>\n",
              "      <td>1</td>\n",
              "      <td>-2.42842</td>\n",
              "      <td>28.430901</td>\n",
              "      <td>-9.323510</td>\n",
              "      <td>-3.757230</td>\n",
              "      <td>15.969300</td>\n",
              "      <td>30.443600</td>\n",
              "      <td>...</td>\n",
              "      <td>31.170799</td>\n",
              "      <td>19.399700</td>\n",
              "      <td>19.689501</td>\n",
              "      <td>21.3547</td>\n",
              "      <td>1.33212</td>\n",
              "      <td>17.750200</td>\n",
              "      <td>-4520.0</td>\n",
              "      <td>817.705994</td>\n",
              "      <td>388.829987</td>\n",
              "      <td>A</td>\n",
              "    </tr>\n",
              "    <tr>\n",
              "      <th>2</th>\n",
              "      <td>1</td>\n",
              "      <td>CA</td>\n",
              "      <td>0.019531</td>\n",
              "      <td>1</td>\n",
              "      <td>10.67150</td>\n",
              "      <td>30.420200</td>\n",
              "      <td>15.350700</td>\n",
              "      <td>24.724001</td>\n",
              "      <td>16.143101</td>\n",
              "      <td>32.142799</td>\n",
              "      <td>...</td>\n",
              "      <td>-12.012600</td>\n",
              "      <td>19.396299</td>\n",
              "      <td>23.171700</td>\n",
              "      <td>22.4076</td>\n",
              "      <td>1.53786</td>\n",
              "      <td>22.247000</td>\n",
              "      <td>-4520.0</td>\n",
              "      <td>817.705994</td>\n",
              "      <td>388.829987</td>\n",
              "      <td>A</td>\n",
              "    </tr>\n",
              "    <tr>\n",
              "      <th>3</th>\n",
              "      <td>1</td>\n",
              "      <td>CA</td>\n",
              "      <td>0.023438</td>\n",
              "      <td>1</td>\n",
              "      <td>11.45250</td>\n",
              "      <td>25.609800</td>\n",
              "      <td>2.433080</td>\n",
              "      <td>12.412500</td>\n",
              "      <td>20.533300</td>\n",
              "      <td>31.494101</td>\n",
              "      <td>...</td>\n",
              "      <td>18.574100</td>\n",
              "      <td>23.156401</td>\n",
              "      <td>22.641199</td>\n",
              "      <td>19.3367</td>\n",
              "      <td>2.54492</td>\n",
              "      <td>18.998600</td>\n",
              "      <td>-4520.0</td>\n",
              "      <td>817.705994</td>\n",
              "      <td>388.829987</td>\n",
              "      <td>A</td>\n",
              "    </tr>\n",
              "    <tr>\n",
              "      <th>4</th>\n",
              "      <td>1</td>\n",
              "      <td>CA</td>\n",
              "      <td>0.027344</td>\n",
              "      <td>1</td>\n",
              "      <td>7.28321</td>\n",
              "      <td>25.942600</td>\n",
              "      <td>0.113564</td>\n",
              "      <td>5.748000</td>\n",
              "      <td>19.833599</td>\n",
              "      <td>28.753599</td>\n",
              "      <td>...</td>\n",
              "      <td>6.555440</td>\n",
              "      <td>22.754700</td>\n",
              "      <td>22.670300</td>\n",
              "      <td>20.2932</td>\n",
              "      <td>1.69962</td>\n",
              "      <td>22.812799</td>\n",
              "      <td>-4520.0</td>\n",
              "      <td>817.705994</td>\n",
              "      <td>388.829987</td>\n",
              "      <td>A</td>\n",
              "    </tr>\n",
              "  </tbody>\n",
              "</table>\n",
              "<p>5 rows × 28 columns</p>\n",
              "</div>"
            ],
            "text/plain": [
              "   crew experiment      time  seat   eeg_fp1     eeg_f7     eeg_f8     eeg_t4  \\\n",
              "0     1         CA  0.011719     1  -5.28545  26.775801  -9.527310 -12.793200   \n",
              "1     1         CA  0.015625     1  -2.42842  28.430901  -9.323510  -3.757230   \n",
              "2     1         CA  0.019531     1  10.67150  30.420200  15.350700  24.724001   \n",
              "3     1         CA  0.023438     1  11.45250  25.609800   2.433080  12.412500   \n",
              "4     1         CA  0.027344     1   7.28321  25.942600   0.113564   5.748000   \n",
              "\n",
              "      eeg_t6     eeg_t5  ...     eeg_c4     eeg_p4    eeg_poz   eeg_c3  \\\n",
              "0  16.717800  33.737499  ...  37.368999  17.437599  19.201900  20.5968   \n",
              "1  15.969300  30.443600  ...  31.170799  19.399700  19.689501  21.3547   \n",
              "2  16.143101  32.142799  ... -12.012600  19.396299  23.171700  22.4076   \n",
              "3  20.533300  31.494101  ...  18.574100  23.156401  22.641199  19.3367   \n",
              "4  19.833599  28.753599  ...   6.555440  22.754700  22.670300  20.2932   \n",
              "\n",
              "    eeg_cz     eeg_o2     ecg           r         gsr  event  \n",
              "0 -3.95115  14.507600 -4520.0  817.705994  388.829987      A  \n",
              "1  1.33212  17.750200 -4520.0  817.705994  388.829987      A  \n",
              "2  1.53786  22.247000 -4520.0  817.705994  388.829987      A  \n",
              "3  2.54492  18.998600 -4520.0  817.705994  388.829987      A  \n",
              "4  1.69962  22.812799 -4520.0  817.705994  388.829987      A  \n",
              "\n",
              "[5 rows x 28 columns]"
            ]
          },
          "metadata": {
            "tags": []
          },
          "execution_count": 8
        }
      ]
    },
    {
      "metadata": {
        "id": "m3hQDrzuQcHn",
        "colab_type": "code",
        "colab": {}
      },
      "cell_type": "code",
      "source": [
        "pd.set_option('display.float_format', lambda x: '%.6f' % x)"
      ],
      "execution_count": 0,
      "outputs": []
    },
    {
      "metadata": {
        "id": "t49UOYtSD3B5",
        "colab_type": "code",
        "outputId": "69b7a4ec-77ef-410a-f1fe-dfd515dd1129",
        "colab": {
          "base_uri": "https://localhost:8080/",
          "height": 191
        }
      },
      "cell_type": "code",
      "source": [
        "train_df.crew.value_counts()"
      ],
      "execution_count": 10,
      "outputs": [
        {
          "output_type": "execute_result",
          "data": {
            "text/plain": [
              "6     552958\n",
              "4     552881\n",
              "2     552868\n",
              "5     552815\n",
              "3     552795\n",
              "7     552769\n",
              "13    552724\n",
              "8     549959\n",
              "1     447652\n",
              "Name: crew, dtype: int64"
            ]
          },
          "metadata": {
            "tags": []
          },
          "execution_count": 10
        }
      ]
    },
    {
      "metadata": {
        "id": "fejGp5NJyiYm",
        "colab_type": "code",
        "colab": {}
      },
      "cell_type": "code",
      "source": [
        "train_df['experiment_DA'] = 0\n",
        "train_df.loc[train_df['experiment'].isin(['DA']), 'experiment_DA'] = 1\n",
        "\n",
        "train_df['experiment_CA'] = 0\n",
        "train_df.loc[train_df['experiment'].isin(['CA']), 'experiment_CA'] = 1\n",
        "\n",
        "train_df['experiment_SS'] = 0\n",
        "train_df.loc[train_df['experiment'].isin(['SS']), 'experiment_SS'] = 1"
      ],
      "execution_count": 0,
      "outputs": []
    },
    {
      "metadata": {
        "id": "HfHK9VG71fLA",
        "colab_type": "code",
        "colab": {}
      },
      "cell_type": "code",
      "source": [
        "#train_df['crew'] = train_df['crew'].apply({'1': 'crew_1', '2': 'crew_2', '3': 'crew_3', '4': 'crew_4', '5': 'crew_5'\n",
        "#                                        , '6': 'crew_6', '7': 'crew_7', '8': 'crew_8', '13': 'crew_13'}.get)"
      ],
      "execution_count": 0,
      "outputs": []
    },
    {
      "metadata": {
        "id": "E_xkqGFvJOea",
        "colab_type": "code",
        "colab": {}
      },
      "cell_type": "code",
      "source": [
        "class_variance=train_df.groupby('event').agg({'eeg_fp1': np.var, 'eeg_f7': np.var, 'eeg_f8': np.var, 'eeg_t4': np.var, 'eeg_t6': np.var, 'eeg_t5': np.var, 'eeg_t3': np.var\n",
        ", 'eeg_fp2': np.var, 'eeg_o1': np.var, 'eeg_p3': np.var, 'eeg_pz': np.var, 'eeg_f3': np.var, 'eeg_fz': np.var, 'eeg_f4': np.var\n",
        ", 'eeg_c4': np.var, 'eeg_p4': np.var, 'eeg_poz': np.var, 'eeg_c3': np.var, 'eeg_cz': np.var, 'eeg_o2': np.var, 'ecg': np.var, 'r': np.var})"
      ],
      "execution_count": 0,
      "outputs": []
    },
    {
      "metadata": {
        "id": "tlJn4NDcrN6_",
        "colab_type": "code",
        "outputId": "75dab395-074d-437a-9c65-5c59b0d852cd",
        "colab": {
          "base_uri": "https://localhost:8080/",
          "height": 251
        }
      },
      "cell_type": "code",
      "source": [
        "class_variance"
      ],
      "execution_count": 13,
      "outputs": [
        {
          "output_type": "execute_result",
          "data": {
            "text/html": [
              "<div>\n",
              "<style scoped>\n",
              "    .dataframe tbody tr th:only-of-type {\n",
              "        vertical-align: middle;\n",
              "    }\n",
              "\n",
              "    .dataframe tbody tr th {\n",
              "        vertical-align: top;\n",
              "    }\n",
              "\n",
              "    .dataframe thead th {\n",
              "        text-align: right;\n",
              "    }\n",
              "</style>\n",
              "<table border=\"1\" class=\"dataframe\">\n",
              "  <thead>\n",
              "    <tr style=\"text-align: right;\">\n",
              "      <th></th>\n",
              "      <th>eeg_fp1</th>\n",
              "      <th>eeg_f7</th>\n",
              "      <th>eeg_f8</th>\n",
              "      <th>eeg_t4</th>\n",
              "      <th>eeg_t6</th>\n",
              "      <th>eeg_t5</th>\n",
              "      <th>eeg_t3</th>\n",
              "      <th>eeg_fp2</th>\n",
              "      <th>eeg_o1</th>\n",
              "      <th>eeg_p3</th>\n",
              "      <th>...</th>\n",
              "      <th>eeg_fz</th>\n",
              "      <th>eeg_f4</th>\n",
              "      <th>eeg_c4</th>\n",
              "      <th>eeg_p4</th>\n",
              "      <th>eeg_poz</th>\n",
              "      <th>eeg_c3</th>\n",
              "      <th>eeg_cz</th>\n",
              "      <th>eeg_o2</th>\n",
              "      <th>ecg</th>\n",
              "      <th>r</th>\n",
              "    </tr>\n",
              "    <tr>\n",
              "      <th>event</th>\n",
              "      <th></th>\n",
              "      <th></th>\n",
              "      <th></th>\n",
              "      <th></th>\n",
              "      <th></th>\n",
              "      <th></th>\n",
              "      <th></th>\n",
              "      <th></th>\n",
              "      <th></th>\n",
              "      <th></th>\n",
              "      <th></th>\n",
              "      <th></th>\n",
              "      <th></th>\n",
              "      <th></th>\n",
              "      <th></th>\n",
              "      <th></th>\n",
              "      <th></th>\n",
              "      <th></th>\n",
              "      <th></th>\n",
              "      <th></th>\n",
              "      <th></th>\n",
              "    </tr>\n",
              "  </thead>\n",
              "  <tbody>\n",
              "    <tr>\n",
              "      <th>A</th>\n",
              "      <td>2558.376805</td>\n",
              "      <td>1659.027471</td>\n",
              "      <td>1745.998022</td>\n",
              "      <td>786.344336</td>\n",
              "      <td>372.836354</td>\n",
              "      <td>427.710878</td>\n",
              "      <td>859.745715</td>\n",
              "      <td>2659.703078</td>\n",
              "      <td>1209.932392</td>\n",
              "      <td>338.024412</td>\n",
              "      <td>...</td>\n",
              "      <td>4753.726891</td>\n",
              "      <td>2296.383872</td>\n",
              "      <td>523.930593</td>\n",
              "      <td>338.407485</td>\n",
              "      <td>449.196670</td>\n",
              "      <td>483.359611</td>\n",
              "      <td>452.667918</td>\n",
              "      <td>818.011390</td>\n",
              "      <td>139176188.177926</td>\n",
              "      <td>6748.073460</td>\n",
              "    </tr>\n",
              "    <tr>\n",
              "      <th>B</th>\n",
              "      <td>5324.425947</td>\n",
              "      <td>2716.481836</td>\n",
              "      <td>1102.471025</td>\n",
              "      <td>446.148131</td>\n",
              "      <td>339.792707</td>\n",
              "      <td>258.641433</td>\n",
              "      <td>466.286589</td>\n",
              "      <td>5616.848580</td>\n",
              "      <td>481.718383</td>\n",
              "      <td>232.318824</td>\n",
              "      <td>...</td>\n",
              "      <td>2436.074137</td>\n",
              "      <td>1502.794150</td>\n",
              "      <td>485.897660</td>\n",
              "      <td>280.688936</td>\n",
              "      <td>238.999345</td>\n",
              "      <td>473.871977</td>\n",
              "      <td>369.245890</td>\n",
              "      <td>522.909598</td>\n",
              "      <td>130060628.685917</td>\n",
              "      <td>6204.592809</td>\n",
              "    </tr>\n",
              "    <tr>\n",
              "      <th>C</th>\n",
              "      <td>941.973080</td>\n",
              "      <td>477.657898</td>\n",
              "      <td>411.268880</td>\n",
              "      <td>294.099871</td>\n",
              "      <td>252.973207</td>\n",
              "      <td>191.631516</td>\n",
              "      <td>317.920754</td>\n",
              "      <td>993.221244</td>\n",
              "      <td>159.186105</td>\n",
              "      <td>167.151634</td>\n",
              "      <td>...</td>\n",
              "      <td>361.195344</td>\n",
              "      <td>993.030355</td>\n",
              "      <td>241.632850</td>\n",
              "      <td>165.183190</td>\n",
              "      <td>155.534704</td>\n",
              "      <td>223.476354</td>\n",
              "      <td>267.065408</td>\n",
              "      <td>140.930385</td>\n",
              "      <td>160741572.193594</td>\n",
              "      <td>6593.171936</td>\n",
              "    </tr>\n",
              "    <tr>\n",
              "      <th>D</th>\n",
              "      <td>1431.137580</td>\n",
              "      <td>659.158884</td>\n",
              "      <td>977.814432</td>\n",
              "      <td>395.949915</td>\n",
              "      <td>252.151568</td>\n",
              "      <td>279.324399</td>\n",
              "      <td>351.768637</td>\n",
              "      <td>1742.181717</td>\n",
              "      <td>269.083880</td>\n",
              "      <td>292.251709</td>\n",
              "      <td>...</td>\n",
              "      <td>709.077280</td>\n",
              "      <td>972.068536</td>\n",
              "      <td>400.496658</td>\n",
              "      <td>288.348257</td>\n",
              "      <td>292.676587</td>\n",
              "      <td>388.780261</td>\n",
              "      <td>505.624664</td>\n",
              "      <td>257.844212</td>\n",
              "      <td>150255397.861736</td>\n",
              "      <td>7227.803104</td>\n",
              "    </tr>\n",
              "  </tbody>\n",
              "</table>\n",
              "<p>4 rows × 22 columns</p>\n",
              "</div>"
            ],
            "text/plain": [
              "          eeg_fp1      eeg_f7      eeg_f8     eeg_t4     eeg_t6     eeg_t5  \\\n",
              "event                                                                        \n",
              "A     2558.376805 1659.027471 1745.998022 786.344336 372.836354 427.710878   \n",
              "B     5324.425947 2716.481836 1102.471025 446.148131 339.792707 258.641433   \n",
              "C      941.973080  477.657898  411.268880 294.099871 252.973207 191.631516   \n",
              "D     1431.137580  659.158884  977.814432 395.949915 252.151568 279.324399   \n",
              "\n",
              "          eeg_t3     eeg_fp2      eeg_o1     eeg_p3  ...      eeg_fz  \\\n",
              "event                                                ...               \n",
              "A     859.745715 2659.703078 1209.932392 338.024412  ... 4753.726891   \n",
              "B     466.286589 5616.848580  481.718383 232.318824  ... 2436.074137   \n",
              "C     317.920754  993.221244  159.186105 167.151634  ...  361.195344   \n",
              "D     351.768637 1742.181717  269.083880 292.251709  ...  709.077280   \n",
              "\n",
              "           eeg_f4     eeg_c4     eeg_p4    eeg_poz     eeg_c3     eeg_cz  \\\n",
              "event                                                                      \n",
              "A     2296.383872 523.930593 338.407485 449.196670 483.359611 452.667918   \n",
              "B     1502.794150 485.897660 280.688936 238.999345 473.871977 369.245890   \n",
              "C      993.030355 241.632850 165.183190 155.534704 223.476354 267.065408   \n",
              "D      972.068536 400.496658 288.348257 292.676587 388.780261 505.624664   \n",
              "\n",
              "          eeg_o2              ecg           r  \n",
              "event                                          \n",
              "A     818.011390 139176188.177926 6748.073460  \n",
              "B     522.909598 130060628.685917 6204.592809  \n",
              "C     140.930385 160741572.193594 6593.171936  \n",
              "D     257.844212 150255397.861736 7227.803104  \n",
              "\n",
              "[4 rows x 22 columns]"
            ]
          },
          "metadata": {
            "tags": []
          },
          "execution_count": 13
        }
      ]
    },
    {
      "metadata": {
        "id": "jftG0M8zeLVh",
        "colab_type": "code",
        "colab": {}
      },
      "cell_type": "code",
      "source": [
        "#fig, ax = plt.subplots(figsize=(14, 8))\n",
        "#sns.countplot(x='event', data=train_df, palette='hls')"
      ],
      "execution_count": 0,
      "outputs": []
    },
    {
      "metadata": {
        "id": "4q6HSAwJebK7",
        "colab_type": "code",
        "outputId": "08dad7e1-b16b-4865-f3fa-3dc38dcb053a",
        "colab": {
          "base_uri": "https://localhost:8080/",
          "height": 35
        }
      },
      "cell_type": "code",
      "source": [
        "train_df.isnull().sum().sum()"
      ],
      "execution_count": 14,
      "outputs": [
        {
          "output_type": "execute_result",
          "data": {
            "text/plain": [
              "0"
            ]
          },
          "metadata": {
            "tags": []
          },
          "execution_count": 14
        }
      ]
    },
    {
      "metadata": {
        "id": "aTjFNSC146WE",
        "colab_type": "code",
        "colab": {}
      },
      "cell_type": "code",
      "source": [
        "def shuffle_batch(X, y, batch_size):\n",
        "    rnd_idx = np.random.permutation(len(X))\n",
        "    n_batches = len(X) // batch_size \n",
        "    for batch_idx in np.array_split(rnd_idx, n_batches):\n",
        "        X_batch, y_batch = X[batch_idx], y[batch_idx]\n",
        "        yield X_batch, y_batch"
      ],
      "execution_count": 0,
      "outputs": []
    },
    {
      "metadata": {
        "id": "5VP1PpI9Pli6",
        "colab_type": "code",
        "colab": {}
      },
      "cell_type": "code",
      "source": [
        "import matplotlib.pyplot as plt\n",
        "from sklearn.ensemble.partial_dependence import plot_partial_dependence\n",
        "from sklearn.ensemble.partial_dependence import partial_dependence\n",
        "from sklearn.ensemble import RandomForestClassifier, GradientBoostingClassifier, ExtraTreesClassifier, AdaBoostClassifier\n",
        "from sklearn.tree import DecisionTreeClassifier\n",
        "from xgboost import XGBClassifier\n",
        "from sklearn.model_selection import cross_val_predict, StratifiedShuffleSplit\n",
        "from sklearn.model_selection import cross_val_score\n",
        "from sklearn.metrics import confusion_matrix"
      ],
      "execution_count": 0,
      "outputs": []
    },
    {
      "metadata": {
        "id": "-k7L-oCF8CAD",
        "colab_type": "code",
        "colab": {}
      },
      "cell_type": "code",
      "source": [
        "X=train_df[['crew', 'experiment_DA', 'experiment_CA', 'experiment_SS', 'time', 'seat', 'eeg_fp1', 'eeg_f7', 'eeg_f8', 'eeg_t4', 'eeg_t6', 'eeg_t5', 'eeg_t3', 'eeg_fp2', 'eeg_o1', 'eeg_p3', 'eeg_pz', 'eeg_f3', 'eeg_fz', 'eeg_f4', 'eeg_c4', 'eeg_p4', 'eeg_poz', 'eeg_c3', 'eeg_cz', 'eeg_o2', 'ecg', 'r']]\n",
        "y=train_df['event']"
      ],
      "execution_count": 0,
      "outputs": []
    },
    {
      "metadata": {
        "id": "ZRTPLq2D-jJW",
        "colab_type": "code",
        "colab": {}
      },
      "cell_type": "code",
      "source": [
        "cv = StratifiedShuffleSplit(n_splits=5, test_size=0.2, random_state=42)"
      ],
      "execution_count": 0,
      "outputs": []
    },
    {
      "metadata": {
        "id": "ETfQAkZvDGS0",
        "colab_type": "code",
        "colab": {}
      },
      "cell_type": "code",
      "source": [
        "rand_clf = GradientBoostingClassifier(n_estimators=50, max_features='auto', random_state=42, learning_rate=0.05)"
      ],
      "execution_count": 0,
      "outputs": []
    },
    {
      "metadata": {
        "id": "XYGUO3uO71QE",
        "colab_type": "code",
        "colab": {
          "base_uri": "https://localhost:8080/",
          "height": 4957
        },
        "outputId": "61d82e43-dc48-43ae-c97f-c37a3e710549"
      },
      "cell_type": "code",
      "source": [
        "for train_index, test_index in cv.split(X, y):\n",
        "  #print(\"TRAIN:\", train_index, \"TEST:\", test_index)\n",
        "  X_train, y_train = X.iloc[train_index], y.iloc[train_index]\n",
        "  X_test, y_test = X.iloc[test_index], y.iloc[test_index]\n",
        "  rand_clf.fit(X_train, y_train)\n",
        "  scr=rand_clf.score(X_test, y_test, sample_weight=None)\n",
        "  print (scr)"
      ],
      "execution_count": 70,
      "outputs": [
        {
          "output_type": "stream",
          "text": [
            "TRAIN: [194 122 445 369 622 495 349 165  41 190 627 473 626 157 933 960 541 968\n",
            " 158 522 731 335 652 362 485 526 109 877 910 837 975 899 203 301   0 695\n",
            " 544 239 920 327 328 847 180 361  53  90 334 395 421 978 257   3 795 322\n",
            " 744 961 947 741 149 125 124 631 291 338 691 830 531 901 483 679 644 101\n",
            " 188 848 402 588 238 509 655 114 987 173 357 611 147 463 666 302 305 318\n",
            " 452 404 296 193 113 629 440 586 354 780  15 643 874 263   6 486 656 231\n",
            "  88 810  82 232 457 415 118 799  18 143 761 880  45 941  16 703  68 253\n",
            " 935 195 407 753  51 447 381 746 321 688 396 487 179 787 162 758 692 872\n",
            " 672 323 127 340 202 707 380 867 304 119 696 904 228  96  25 584 116 364\n",
            " 658 638 293 307 539 246 950 593 668 778 581 368 861 341 371 207 803 538\n",
            "  48 108 494 326 993 312 557 185 139 197 123  23  59   2 249 959  57 382\n",
            " 558 578 712  26 972 227 983 737 997  29 120 928 713 637 290 222 403 739\n",
            " 247 424 750 468 507 219 178  97 310 405 580 512 107 903 286 633 497 115\n",
            " 272 868 365 843 551  94 493 958  42 902 912  61 303 456 294 635 756 923\n",
            " 264 324 576 907 952 433 865 673 583 801 990 981 884 797 480  70 956 320\n",
            " 164 409 184 370 694 845 477 653 438 682 705 568 281 917 547 521 662 268\n",
            " 224 352 196 844 414  56  55  84 800 649 708 974 587 591 948 131 886 721\n",
            " 100 384 995  83 412 982 623 604 680 111 657 984 145 542 126 311 174 348\n",
            " 478 921 336  69 832 501 980 519 594 416 640 664 151 785 896 817 549 448\n",
            " 467 535 260 781 814 835 894 374 807 154 434 279 248 266 331 514 490 529\n",
            " 212  49 582 399 183 808 751 533 450 488 420 687 946 430 597 669  50 469\n",
            " 394 347 895 462 630  33 678 689  19 608 606 442 575 671 842 709 617  31\n",
            " 796 429 944 299 444 537 135 400 906 511 841 148 534 314 765 802 988 333\n",
            " 660 892  67  73 790 973 595  38 915 472 441 827 619 496 970 425 789 882\n",
            " 431 426 417 760 743 446 963 144 152 329 225 632 736 528 924 590 764  12\n",
            " 650 377  72 722 616 258   5 971 648 453 599 168 146 820 211 732 284 155\n",
            " 693 659 292 866 878 767 133 186 881 554 717 618 569   9 282 285 625 552\n",
            "  43 103 236 822 319 989 398 770 757 806 355 353 636 465 828  17  63  36\n",
            " 256 530 667  76 922 819 259 571 358  46 436 942 218 607 548 464 289 204\n",
            " 710 870 885   7 774 153 676 408 209 798 888 332 344 132 572 470  39 265\n",
            " 250 932 570 150 277 177 579 711  93 350 171 716 900 754 351 198 869 718\n",
            " 966 706 927 624  11 393 532 684 376 298 215 503 755 784 505 518 788 181\n",
            "  89 267 346 639 945 141 929 685 714 675 720 167 951 602 363 261  44 221\n",
            " 849 545 419 938 777 854 163 449 836 383 375 306  37  30 979 390 793 297\n",
            " 913 142 234 229 665  28 316 220 237 585 857 792 536 451  65 728 356 745\n",
            " 275 759 386 117 169 176 934 262 615 964 957 839  10 373 936 411 104 192\n",
            " 823 909  74 567 786 199 916 887 437 863 278 986 182 423 410 735 740 697\n",
            " 730 883 513 309 481 829 890 851 610 783  77 112 280 499 367 628  79 620\n",
            " 954  60 859 937 876 919 136 525 388 939 977 129 809 550 634 439 609  81\n",
            " 226 749 893 325 506  54 422 527 914 605  75 704 967 342 889 223 543  92\n",
            " 996 137 677 762 930 432 651 925 482  22 589 940 210 621 834 734 559 773\n",
            " 826 317 752 208 110   8 479 245 813 500 943 905 271 283 926 879 360  86\n",
            " 873 233 517 213 175 598 359 601  66 852 641 908 898 670 140 603 596 850\n",
            " 613 811 255 428 962  24 300 244 516 287 254 723 846 443 645 985 274 515\n",
            " 523 172 816 715  78 235 858] TEST: [560 724 700 413  87 686 391 241 330  58 776 661 918 864 339 719 565 471\n",
            " 508 699 860 812 563 187 217 911 206  20  52 455 459 949 805 794  80 337\n",
            " 573 106 216 466 189 663 555 200 161 502  64  91 566 295 489 379 856  27\n",
            " 435 592  98  34 276 156 556 427 397 821  62 308 540 170 766 406 690 474\n",
            "   1 998 102 498 242 646 561 392 733 128 701 965 345 458 160 612 647 818\n",
            " 931  40 313 510 105 252 600 214 853 269 840 824 742 546  95 191 614 491\n",
            " 683 738  71 782   4 492 138 475 862 205 642 953 831 562 991  32 769 288\n",
            " 240 897 771  85 243 460 461 992  14 273 815 726 768  13 378 702 230 969\n",
            " 891 763 804 779 825 134 976 166 201 855 875 454 727 553 484  21 748 654\n",
            " 833 994 121 385 577 130 681 574 772 270 315  99 159 564 389 372 791 674\n",
            " 251 871 520 524 955 725 747 729 838 698  35 387 366 418 401  47 343 775\n",
            " 476 504]\n",
            "1.0\n",
            "TRAIN: [565 934 400 535  58 501 755 477  17 529 781  31 156 409 151 908 464 336\n",
            " 763 635  43 252 157  61 549 576 294 955 607 922 314 732  53 808 417 170\n",
            " 660 315 858 853 366  19 722 309 395 617 596  81 555 873 768 271 381 184\n",
            " 373 662 533 436 188 630 699 212 133 414 903 487 651 633 726 321 835 362\n",
            " 611 720 980 870 280 561 175 467 318 783 235 332 671 224 196 391  73 411\n",
            " 551 586 711 616 679 706 162 930 728 539 293 734 225 567  87 313 383 885\n",
            " 145 186 583 667 861 355 135 136 608 264 104 124 957 965 702 572 523  29\n",
            " 515 376 149  80 463 509 950 288 198 337 832 255 442 324 547  71 828 806\n",
            " 894 517 245  48 701   5 639 956 740 527 570 910 744 742 884 154  99 121\n",
            " 401 289 468 948 605 524 216 301 729 975 764 312 120 799 738 857 751 940\n",
            "  74 577 550  51 439  90 831 962 161 260 759 848 461 540 921  93  22 213\n",
            " 438 256 707 521 166 423 504 933 478 881 564 476 893 492   6 897 239 176\n",
            " 974 519 932  49 624  46 382 542 316 421 485 889 546 462 661 963 895 298\n",
            " 258 946 137 649 452 491 269 844 435 890 614 511 810 528 319 305 295 745\n",
            " 869 265   8 807  16 753 818 672 207 234 771 394 603 244 709  57 489 612\n",
            " 723  55 843 936 508  24 250 247 390 937 456 353 712 204 403 923  94 326\n",
            " 424 352 619 257 249  40 968 339 733  60 941  63 410  47 443 427 951 972\n",
            " 431 747 906 971 479 112 856 620  41 888 129 483 656 953 915 594 331 404\n",
            " 606 399 111 762  97 459 110 568 958 784 718 644 306   4 507  10 338 500\n",
            " 354  86 208 218 824  67 433 766 348 716 625 165  33 683 448 642 796 970\n",
            "  91 209 590 100 122 675 631 226 482 592 152 960 838 552 817 868 150 126\n",
            "  13 503 172  78 697 997 929 214 238 947  65 769 412 713 674 730 200 655\n",
            "  56 197 652 428 591 475 512 645 287  70 455 141 693 952 389 589 345 402\n",
            " 851 119 392 902 731 875 826 761 689 193 924 127 498  66 805 211 283 790\n",
            " 531 779  77 347 978 833  62 270 691 704 106 486 646 686 773 548 927 886\n",
            " 232 267 233 990 925 367 945 139 227 581 791 794 610 898  45 185 748 900\n",
            " 939 637 359  96 210 131  30 688 530 163 797 182 778 899 329 579 134 371\n",
            " 470 215 183 181 418 169 864 872  72 982 164 721 677 976 938 115 749  37\n",
            " 760 641 203 437 441 867  59 892 905 557 580 275 855 846 102 223 543 758\n",
            " 559 328 194 556 242  21 272 998 159 230 992 248 882 752 995 802 457 765\n",
            " 692  82 896 566 168 787 408 480 263 236 650 554 599 967 471 177 179 532\n",
            " 973 673 597 108 678  36 874  76 829 823 103 190 798 180 993 514 741 658\n",
            " 422 259 379 378 622 988 834 495 598 879  79 167 663 811 281 320 666  69\n",
            " 465 334 916 665 420 277 415 700 634 466 296 676  15 623 595 397 695  34\n",
            "  28 253 887 243 518 284 434 460 670 506 715 553 425 369 205 274  12 825\n",
            " 368 719  27 837 979 736 282 690 450 562 757 246 865 228 365 522 386 847\n",
            " 804 569  98 573 737  95 878 615 490 987 251 682 114 746 109 341 904 534\n",
            "  14 201 871 876 852 681 308 173  54 822 989  23 638 445 840  32 268 544\n",
            " 261 502 195 789 447 754 901 772 370 785 708  39 560 698 206 627 222 849\n",
            " 237 717 484 705 820 148 191 525 505 358 189 961 536 138 254 659 696 996\n",
            " 273 430 429 393 685 346 777 285 877 694 388 985 385 440 964 513 307 446\n",
            " 300 969 178 842 629 918 407 830 862 727 202  26 510 770 322 405 907   3\n",
            " 626 317 187 473 356 816 526 474 845 911 819 291  92 578 241 387 571 983\n",
            " 602 130 648 279 767 795 125 147 809 854 926 863 499 812 231 221 575 199\n",
            " 432 229  44 860 545 541 977] TEST: [444 496 416 680 788 836 756 827 278 454 323 469 780 426  85 574 632   1\n",
            " 107 584 343  50 472 304 297  75 839 600 219 593 262 364 928 776 813 604\n",
            " 335 563 668 793 361   0 292 743 493 349 585 601 451 643 303  25 174 587\n",
            " 413 636 538 801 116 406  64 687 866 775 276 344 220 398 582 144 654 618\n",
            "  88 449 396  11 669 330 943  20  89 725 105 160 340  42 920 310  52 628\n",
            " 558 981 458 792 342 419 537 710  38 357 488 703 782 653 333 132 774 384\n",
            " 664 841 850 363 609 302 351 714 192 155   2 146 375 657 814 481 113 286\n",
            " 800 966 497 118 735 931 909 520 377 158 942 935 859 912 613 949  83 821\n",
            " 917 684 372 914   7 299 944 142 880 883 786 621 913 750 803 128 815 123\n",
            " 494 117 739 994 380 240 311 290 516 991 171  35 919 350 588 954 217 327\n",
            " 959  18 724 101 984 153   9 647 640 325 360  84 374  68 891 266 453 140\n",
            " 143 986]\n",
            "1.0\n",
            "TRAIN: [374 431 444 234 967 120  61 770 774 343 346 783  50 928 755 276 135 438\n",
            " 810 615 626 121  78 555 742 587 318 857 295 619 330 746  25 428 259 939\n",
            "  88 578 194 890 231 250 371 689 703 719 697 548 941 360 208 877 445 172\n",
            " 965 651 781 561 564 434 387 478  20  57 851 563 525 517 164  65 402 816\n",
            " 114 349 119 241 724 735 947 607 177 337 584 612 468 775 909 631 601 848\n",
            " 677 640 567 785 245 355 118 237 333 704 107 439 836 658 796 262 264 685\n",
            " 248 897 918 764 671 841 707 682  12 954 806 123 243 132  28 285 579 554\n",
            " 863 717  51 872 899 553 718 948 448 827 853  81 202  22 647 395 791 793\n",
            " 754 373 106 866 905 306  13 629 599 329 645 663 169 869  56 348 440 910\n",
            " 441 833  67 223 207 534 595   2 483 665 893   6 204 449 566 115 134 576\n",
            "  33 861 921 600 181 274 210 138 920  92 240 930 538 757 287 277 376 815\n",
            " 695 847 722 370 126  73 598 455 385 332 933 467 556 991 946 297 768 463\n",
            " 594 530 281 251 984  24 804 710 310 797 170  94 618  71 708  23 596 322\n",
            " 104 963 539 610 585 959 222  58  40 642 975 219 500 351   1  91 186 242\n",
            " 542 932 638 747 364  93 293 831  53 313 183 206 633 940 895 266 805 670\n",
            " 426 558  34 575 421 731 350 484 881 630 741 176 380 977 399 497 826 904\n",
            " 978 794 246 498 447 122 324 606 159 391 808 711  89 684 396 844 320  38\n",
            "  52 254   5 521  74 995  36 460  96 569 878 209 394 334 602  32 221 737\n",
            "  30 823 871 471 128 540 340 756 590 459 720 839 870 993 224 192 908  11\n",
            " 158 884  69 280 571 228 315 961 477  90 522 117 547 236 674 973 765 389\n",
            " 200 698 849 989 397  18 388 130 661  44 589  66 443 311 291 855 393 485\n",
            " 239 906 771 363 736 636 502  76 668 358 927 226 424 300 838 879 141 582\n",
            " 199 411 659 352 230 672 936 492 267 454 531 327 490 613 597 102 457 480\n",
            " 482  63  59  16 821 777 593 734 412 235 676 865 786 475  29 987 321 155\n",
            " 681  70 195 233 850 772 813 344 537 304 628 362 802 545 544 652 469 769\n",
            " 962 294 635 252 894 361 148 686 317 533 499 822 519 157 858 105  68 511\n",
            " 154  47 603 846  43  45 664 970 763 357 789   4 509 273 617 160 935 549\n",
            "  49 953 669 875 608 852 109 423 691 761 922 646 179 809 501 609 712 147\n",
            "   8 446 507 818 885 641 726 966 409 353 382 715 379 792 401 998 308 925\n",
            " 137 151 465 436 458 986 958 583 345 892 951 275 776  19  60 213 743 149\n",
            " 386 400 301 654 257 588  79 175 969  97  35 173 227 407 845 214 416 738\n",
            " 767  17 496 265 523 639 632 778 472 779 335 795 494 801 546 486 365 624\n",
            " 369 452 256 292 740 491 622 840 702 859 980 902 145 687 662 900 124 303\n",
            " 733 384  85 837 516 298 283 968 929 842 971 723 415 990 505 675 354 185\n",
            " 919 745 450 714 856  15 683 165 430 960 347 125 526 705 323 982 854 258\n",
            "  62 512 331 225 178 133 911 952  10 414  54 413 232 979 156 425 437 751\n",
            " 506 696 983 489 268 820 800 319 229 812 788 586 263 616 299 828 620 515\n",
            " 625 150 882 643 528 296 372 729 572 730 513 807 143 657 773 880 916 942\n",
            " 988 453 136 577 605 655 937 623 189 667 532 216  86 518 171 688 867 466\n",
            " 907 573 901 405 464 992 112 926 830 744 678 203 787 721 934  14 359 621\n",
            " 955 693 260 883  82 780 187 656 938 819 392 284 759 196   7 888 997 462\n",
            " 217 886 666 891 129 860 116 408 255 142 748  98 524 162 713 591 604 716\n",
            " 288 139 375  55 749 709  27 568 100  26 964 817 113 238 976 218  41 529\n",
            " 429 249 874 653 481 732 694 272 456 811  48 799 403 692 215 887 286 427\n",
            " 648 611 290 144 433 944 328] TEST: [314 957 510 766 562 700   9 580 690 191 127 163 184 367 974 247 536 832\n",
            " 356 167 205 784 889   0 390 834 949 417  87 152  84 758 180 307 470 131\n",
            "   3 739 915 924 339 574 699 829 174 146 570  77 220  31 864 488 527  21\n",
            " 814 753 188 701 581 728 650 912 338 261 923 422 565 550 487 592 182 108\n",
            " 868 253 101 508 406 824 378 552 903 110  99 244 140 917 451  72 201 996\n",
            " 972 316 514 541 336 956 166 198 504 503 398 649 197 302 326 270  80 461\n",
            " 981 368 161 644 103  83 476  95 432 211 342 896 289 278  75 435 190 950\n",
            " 366 673 383 341 282 994 790 634 419 843 760 493 495 914 876 931 418  42\n",
            " 762 835 680 520 535 560  37 212 312 637 279 153 627 782 271 557 862 410\n",
            " 473 727 725 873 825 305 420 325 706 750 898 269 943 798 404 442 985 168\n",
            " 803 679 377  64 381 543 551  39 660 193 474 479  46 752 614 913 945 309\n",
            " 559 111]\n",
            "1.0\n",
            "TRAIN: [807 612  61 835 687 578 812 915 222 448 138 236 840 750 636 844  78 324\n",
            " 150 763 148 331 800 238 822 104 868 754 385 921 311 917 954 820 230 953\n",
            " 947 546 439 243 561 894 294 688 500 788 234 980 379 737 266 511 813 722\n",
            " 334 742 341 620 646 603 402  90 643 436 256 739 799 499 932 994 655  44\n",
            "  38 619 873 883 477 272 214 279 358 115  60 686 392 346 388 718 444 127\n",
            " 720  88 824 593  10 282  81 956 761 906 644 144 903  57 951  56 950 751\n",
            " 938 738 943 524 255 901 920 445 757  73 638 156 968 759 251 580 188 569\n",
            " 180 975 555 374 860  31 538  19 907 689 639 618  68 987 710 858 516 456\n",
            " 567  43 237 696 743 973 252 246 296 609 733 149 164 183 315 563   3 608\n",
            " 929 981 285 503 926 591 289 391 167 204 552 336 260 435 794 712 373 611\n",
            " 141 625 958 128 850 410 107 384 949 262 882 940 131 617 537  16 825 723\n",
            " 877 162  25 123 360 652 126   7 892 576 342 430 923  83 224 745 918 716\n",
            " 401 220 719 191 558 226  74 889 570 602 753 508 744 960 821 193 672 302\n",
            " 836  62 627 941 551 781 925 833 713 510 235 372  76 187 888 572 381 274\n",
            " 945  49  37  63 582 740 520 108 129 212 998 497 834 482 313 295 269 573\n",
            " 247 666 106 886   6 908  89 132 676 208  71 935 545 614  35 103 683 413\n",
            " 801 398 896 492 792 922 595 177 798 550  86 271 979 458   1  30 735  79\n",
            " 640 182 310 513 557 997 301 962 899 909 749 292 491  96 441 199 787 438\n",
            " 741 706 406 244 125 805 957 447 487  99 470 768 475 190 111 528 142 707\n",
            " 192 227   2 469 130 879 498  70 568 846 891 321 241 417 670 396 598 992\n",
            " 349 955 828  94 736 829 575 163 853 205 577 990 650 203 532 778 866 409\n",
            " 565 972 216 362 841 218 658 389 172 594 375 784  80 544  22 504 213 328\n",
            " 521 211 785 874  18 451 158 637 488 535 911 796 927 705 752 830 378 159\n",
            " 284 826 473 455 330 832  75 166 971 849 817 895  36 446   5 547 764 437\n",
            " 867  87 261 910  98 793 601 249 507 649 145 299 660 664 674 983  12 539\n",
            " 483 259 454 631 118 354 542 229  93 963 685 280 982 930 153 276 967 996\n",
            " 257  46 848 772 936 460 933 512 209 433 527 531  85 197 298 814 885 560\n",
            " 319 775 168 870  69 463  64 607 669 337 589 312 380 667 474 755 697 306\n",
            " 679 626 952 809 489 434 405  50 277 300 977 851 714 518 837 728 863 698\n",
            " 692 939 465   9 839  41 105 278  58 985 198  29 412 774 468  72  33 317\n",
            " 581 137 864 343 365 383 871 476 109   4 847 897 215 562 478 946 200 610\n",
            " 934 600 703 355 304 905 157 732 453 724 585 653 416 288 202  51 393 283\n",
            " 702 779 352 984 969 734 361 533 855 242 119 748  40 509 297 275 770 281\n",
            " 376 175  59 808 995 599 124 564 496  17 102 161 232 176 414 221 501 659\n",
            " 423 287  95 169 350 364 530 206 797 647 267 484 457 548 767 642 387  45\n",
            " 597 403 239 461 408 351 303 418 628 549 727 253 859 961 881 394 429 663\n",
            " 869 651 677 816  54  42 856 120 771 766  27 662 802 307 811 515  92 353\n",
            " 948 624 616 641 919 472 730 645  23 893 684 709 359 715 695 101 559 179\n",
            "  48 654 390  82 823 485 978 357 786 505 717 592 173 586 466 872 345 756\n",
            " 725 335 989  26 912 462 506 323 681 139 325 966 693 819 320 673 471 400\n",
            " 186 514 210 240 818 308 773 316 526 459 584 217 371 704 931 633 831  77\n",
            " 543  13 263 634 804 534  20 842 900 964 632 776 201 845 729 233 875 783\n",
            " 155 290 327 309 152  47 165 525 780 675 340 887 481  39 924 114 286 680\n",
            " 635 803 852 370 700 574 590 151 656 993  53 583 397 648 815 571 623 399\n",
            " 254 810 668 694 291 181 615] TEST: [791 225 207 318 258 264 942 160  52 368 305  24 356 479 665 421 795 721\n",
            " 876 502 490 878 629 486 976  66 965  84 194 777 140 426 606  97 322 293\n",
            " 196 339  55  21 861 329 495 250 522  28 865  91 782 245 862 630 419 449\n",
            " 440  32 184   0 268 937 554 338 366 731 493 189 536 154 914 424 135 708\n",
            " 420 517 758 621 431 671 122 443 415  34 270   8 100 916 691 880 174 333\n",
            " 523 223 228 185 428  15 395 112 579 467 273 195 480 827 494 422 854 442\n",
            " 219 464 613 411  65 789 344 178 699 986 857 690 991 678 382 701 231 404\n",
            " 682 134 110 386 762 529 988 913 367 970 540 519 326 769 605 746 377 747\n",
            " 838 596 657 452 806 556 314 332 959 425 363 348 765 147 146 902 170 711\n",
            " 116 248 450 553  67 427 726 622 117 133 347 265 974 884 928 407 890  11\n",
            " 661 898 588 790 904 587 171 541 113 604 432 944 369  14 136 121 760 566\n",
            " 143 843]\n",
            "1.0\n",
            "TRAIN: [770 551  71 902 144 927 147 502 268  38 238 991 912 249 623 476 242 245\n",
            " 518 124 401 303 933 173 123 890 402  96 762 803 635 778  60  10 705  93\n",
            " 307 684 783 743 110 375 957 354 250 607  13 495 290 332 708 950 488 913\n",
            " 126 838 763 700 198 992 317  62 678 710  75 865 751 261 591 801 572 559\n",
            " 450  54 314 427 671 341 208 297  39  41 548  23 199 985 225 726 526 905\n",
            " 606 759 292 267 663 337 745 886 484 964 889 683 333 853 446 878  22 791\n",
            " 331 499 451 116 520 675 716 618 394 654 858 787 465 294 725 480 895 664\n",
            "  86 850 662 550  84 896 598 938 869 620   9 321 880 847 118 691 660 318\n",
            " 121 496 594 422 181 688 859 651 398 846 965 419  16 622 973 944 800 789\n",
            " 558 897 338 740 276  40 731 738 613 599 104 176 193 907 157 744 421 704\n",
            " 528 241 164 281 585 420 862 533 565 839 115 971 348 345 308 185 323  65\n",
            " 434 172 260 442 581 614 160 346 652   7 523 733 749 737 717 782 701 264\n",
            " 998 845 236  79 790 639 702 372 205 501 863 840 577 842  12 667 747 877\n",
            "  78 462 600 728 305 240 590 741 447  26 871 155 356  56 469 706 816 149\n",
            " 834 266 256 945 819 119   3 367 167 454  20 374 630 588 217 498 967 760\n",
            " 136 355 670 313 393 270 295 987 516 689 807 137 410   6 300 649  42 711\n",
            "  88 843 911  29 183 231 947 638  44 265 437 525 833 247 448 695  43 253\n",
            " 673 549 279 949 963 408 951  80 665 538 403 809 603 163 255 626 986 799\n",
            " 209 554 589 940 423 218 134 369 189 188 128  34 517  27   1 814 610 182\n",
            "  85  49 304 415 574  94 616 311 212 417 883 257  14 325 534  52 457 221\n",
            " 601 661 243 515 891 611 425 612 424 605 837 459 796 768 497 959 463 914\n",
            " 727 961 492 363 732 724 511 828 723 224 192 251 141 365 632 211 537 658\n",
            " 983 861 411 174 342 841 326 634 474 924 553 970 795 628 668 166 213 561\n",
            " 567 952 765 722 162 586 477 666 350 364 399 633  77 736  17 158 624 485\n",
            " 750 368 597 436 133 117 659 694 347 108 127 135 500 881 400 780 784 272\n",
            " 278 148 191 416 413 481 153 805 775 583 948 282 343 958  87 821 287 773\n",
            " 831 190 524 381 309 216  53 939 406 714 503   5 994 471 794 818 679 980\n",
            " 703  64 150 376 204 617 937 493 366 527 788  89 316 903 669 827 386 472\n",
            " 981 563 202 475 512 464 507 571 604 930 244 271 106 656 426  95 383 709\n",
            " 262 761 412 322 904 102 340 414 360 543 535 186 644 195 504  50  63 852\n",
            " 239 729 734 756 431   4 542 806 391 977 441 739 215 887 180 302 956 619\n",
            " 915 855 735 324 685  83 608 978 214 993 570 545 868 154  47 996 771 942\n",
            " 629 455 409 159 929 506 229  82  59 876 146 226 362 813 699 418 433 220\n",
            " 112 510 404 530 781 395 817 283 306 200 544 491 916 145 435 486 908 130\n",
            " 815 378  45 482 184 874 995 646 509 178 746  24 207 969 352 359 650 712\n",
            " 643 910 330 103 222 179 584 246 829 344 232 997 291  18 677 107 223 777\n",
            " 798 825 552 884 893  76 680 587 975 602 934 248 568  19 686  35 298 258\n",
            " 521 894 227 371 844  37 976 132 286 779 284 748 177 289 320 923 627 835\n",
            " 169 438 972 730 315 769  55 802 832 562 713 931 445 458  69 138 489 872\n",
            " 785 467 397  15 854 443 645 335 219 529 539 273 647 370 764 384 882 377\n",
            "  48 653 917 636 201  66 152 988 293 405  36 982 168 456 379 508   0 774\n",
            " 439 194 234 466 687 547 640  67   2 349 954 339 824 826 532 885 849 830\n",
            " 793 357 358 301 792 836 595 857 468 672 592 752 676 131  90 786 576 966\n",
            "  21 932 822 693 582 109 820  92 452 206 151 143 165 941 196 120  33 430\n",
            " 851 479 720 776  32 955 546] TEST: [274 285 235 866  68 505 139 483 494 848 962 444 979 114 637 513 460 811\n",
            " 353 407 692  73 718 625 280  57 580 579 974 171 578  31 389 382 921 682\n",
            " 156 753 277 690 873 864 487 984  58 560 909 197  61 557 674 564 772  81\n",
            " 657 122 960 899  70 334 719 566 210 187 473 336 575 621 615 900 269 540\n",
            " 767 596 111 856  30 681 593 387 990 228 875 319 556 453 641 125 715 101\n",
            "  25 170 531 351 275 697 514 555 936 432 254 429 879 536 804 310 860 888\n",
            " 161 797 696  97 631 943 766 233 698 461 449 329 742  46 648 396 609 490\n",
            " 642 129 237 203 898 380 870 519 385 105 569 478 230 989 757 288  91 901\n",
            " 113 392 655 812 953 140 522 758 296 252 892 312 361  11 388 390  98 541\n",
            " 968 946 440 810  28  72 428 328 926   8  51 259 470 299 175 327 920 754\n",
            " 928 721 373 919 823  74 808 263 100  99 867 925 922 906 935 573 755 142\n",
            " 918 707]\n",
            "1.0\n"
          ],
          "name": "stdout"
        }
      ]
    },
    {
      "metadata": {
        "id": "pcfQ2PZp9TYa",
        "colab_type": "code",
        "colab": {
          "base_uri": "https://localhost:8080/",
          "height": 184
        },
        "outputId": "ace35456-f9c5-4000-a83c-00d3d3e4943b"
      },
      "cell_type": "code",
      "source": [
        "for train_index in cv.split(x_train):\n",
        "  print(\"TRAIN:\", train_index)"
      ],
      "execution_count": 31,
      "outputs": [
        {
          "output_type": "error",
          "ename": "TypeError",
          "evalue": "ignored",
          "traceback": [
            "\u001b[0;31m---------------------------------------------------------------------------\u001b[0m",
            "\u001b[0;31mTypeError\u001b[0m                                 Traceback (most recent call last)",
            "\u001b[0;32m<ipython-input-31-c6fa797d05a0>\u001b[0m in \u001b[0;36m<module>\u001b[0;34m()\u001b[0m\n\u001b[0;32m----> 1\u001b[0;31m \u001b[0;32mfor\u001b[0m \u001b[0mtrain_index\u001b[0m \u001b[0;32min\u001b[0m \u001b[0mcv\u001b[0m\u001b[0;34m.\u001b[0m\u001b[0msplit\u001b[0m\u001b[0;34m(\u001b[0m\u001b[0mx_train\u001b[0m\u001b[0;34m)\u001b[0m\u001b[0;34m:\u001b[0m\u001b[0;34m\u001b[0m\u001b[0;34m\u001b[0m\u001b[0m\n\u001b[0m\u001b[1;32m      2\u001b[0m   \u001b[0mprint\u001b[0m\u001b[0;34m(\u001b[0m\u001b[0;34m\"TRAIN:\"\u001b[0m\u001b[0;34m,\u001b[0m \u001b[0mtrain_index\u001b[0m\u001b[0;34m)\u001b[0m\u001b[0;34m\u001b[0m\u001b[0;34m\u001b[0m\u001b[0m\n",
            "\u001b[0;31mTypeError\u001b[0m: split() missing 1 required positional argument: 'y'"
          ]
        }
      ]
    },
    {
      "metadata": {
        "id": "CZ9gQ-Ge6DX6",
        "colab_type": "code",
        "colab": {}
      },
      "cell_type": "code",
      "source": [
        "n_epochs = 120\n",
        "batch_size = 500\n",
        "final_model_path = \"./model1\"\n",
        "\n",
        "start_tm=datetime.datetime.now()\n",
        "    for epoch in range(n_epochs):\n",
        "        for X_batch, y_batch in shuffle_batch(X_train, y_train, batch_size):\n",
        "            sess.run(training_op, feed_dict={X: X_batch, y: y_batch})\n",
        "        saver.save(sess, final_model_path)\n",
        "        acc_batch = accuracy.eval(feed_dict={X: X_batch, y: y_batch})\n",
        "        acc_valid = accuracy.eval(feed_dict={X: X_valid, y: y_valid})\n",
        "        print(epoch, \"Batch accuracy:\", acc_batch, \"Validation accuracy:\", acc_valid)\n",
        "end_tm=datetime.datetime.now()\n",
        "print (\"Time taken to fit is \",end_tm - start_tm)"
      ],
      "execution_count": 0,
      "outputs": []
    },
    {
      "metadata": {
        "id": "PTQnaONXQTqf",
        "colab_type": "code",
        "colab": {}
      },
      "cell_type": "code",
      "source": [
        "rand_clf = GradientBoostingClassifier(n_estimators=50, max_features='auto', random_state=42, learning_rate=0.05)\n",
        "#rand_clf = XGBClassifier(n_estimators=100, max_features='auto', random_state=42)"
      ],
      "execution_count": 0,
      "outputs": []
    },
    {
      "metadata": {
        "id": "O0qH53OB3wk-",
        "colab_type": "code",
        "colab": {}
      },
      "cell_type": "code",
      "source": [
        "train_df_master1=train_df.loc[train_df['event']=='A'][['event', 'crew', 'experiment_DA', 'experiment_CA', 'experiment_SS', 'time', 'seat', 'eeg_fp1', 'eeg_f7', 'eeg_f8', 'eeg_t4', 'eeg_t6', 'eeg_t5', 'eeg_t3', 'eeg_fp2', 'eeg_o1', 'eeg_p3', 'eeg_pz', 'eeg_f3', 'eeg_fz', 'eeg_f4', 'eeg_c4', 'eeg_p4', 'eeg_poz', 'eeg_c3', 'eeg_cz', 'eeg_o2', 'ecg', 'r']].head(5000)\n",
        "train_df_master2=train_df.loc[train_df['event']=='B'][['event', 'crew', 'experiment_DA', 'experiment_CA', 'experiment_SS', 'time', 'seat', 'eeg_fp1', 'eeg_f7', 'eeg_f8', 'eeg_t4', 'eeg_t6', 'eeg_t5', 'eeg_t3', 'eeg_fp2', 'eeg_o1', 'eeg_p3', 'eeg_pz', 'eeg_f3', 'eeg_fz', 'eeg_f4', 'eeg_c4', 'eeg_p4', 'eeg_poz', 'eeg_c3', 'eeg_cz', 'eeg_o2', 'ecg', 'r']].head(5000)\n",
        "train_df_master3=train_df.loc[train_df['event']=='C'][['event', 'crew', 'experiment_DA', 'experiment_CA', 'experiment_SS', 'time', 'seat', 'eeg_fp1', 'eeg_f7', 'eeg_f8', 'eeg_t4', 'eeg_t6', 'eeg_t5', 'eeg_t3', 'eeg_fp2', 'eeg_o1', 'eeg_p3', 'eeg_pz', 'eeg_f3', 'eeg_fz', 'eeg_f4', 'eeg_c4', 'eeg_p4', 'eeg_poz', 'eeg_c3', 'eeg_cz', 'eeg_o2', 'ecg', 'r']].head(5000)\n",
        "train_df_master4=train_df.loc[train_df['event']=='D'][['event', 'crew', 'experiment_DA', 'experiment_CA', 'experiment_SS', 'time', 'seat', 'eeg_fp1', 'eeg_f7', 'eeg_f8', 'eeg_t4', 'eeg_t6', 'eeg_t5', 'eeg_t3', 'eeg_fp2', 'eeg_o1', 'eeg_p3', 'eeg_pz', 'eeg_f3', 'eeg_fz', 'eeg_f4', 'eeg_c4', 'eeg_p4', 'eeg_poz', 'eeg_c3', 'eeg_cz', 'eeg_o2', 'ecg', 'r']].head(5000)\n",
        "\n",
        "#['crew', 'experiment_DA', 'experiment_CA', 'experiment_SS', 'time', 'seat', 'eeg_fp1', 'eeg_f7', 'eeg_f8', 'eeg_t4', 'eeg_t6', 'eeg_t5', 'eeg_t3', 'eeg_fp2', 'eeg_o1', 'eeg_p3', 'eeg_pz', 'eeg_f3', 'eeg_fz', 'eeg_f4', 'eeg_c4', 'eeg_p4', 'eeg_poz', 'eeg_c3', 'eeg_cz', 'eeg_o2', 'ecg', 'r']"
      ],
      "execution_count": 0,
      "outputs": []
    },
    {
      "metadata": {
        "id": "q8vXLXaqR-2W",
        "colab_type": "code",
        "colab": {}
      },
      "cell_type": "code",
      "source": [
        "x_train=train_df[['crew', 'experiment_DA', 'experiment_CA', 'experiment_SS', 'time', 'seat', 'eeg_fp1', 'eeg_f7', 'eeg_f8', 'eeg_t4', 'eeg_t6', 'eeg_t5', 'eeg_t3', 'eeg_fp2', 'eeg_o1', 'eeg_p3', 'eeg_pz', 'eeg_f3', 'eeg_fz', 'eeg_f4', 'eeg_c4', 'eeg_p4', 'eeg_poz', 'eeg_c3', 'eeg_cz', 'eeg_o2', 'ecg', 'r']][0:50000]\n",
        "#x_train=train_df[['ecg', 'r']][0:50000]\n",
        "y_train=train_df['event'][0:50000]"
      ],
      "execution_count": 0,
      "outputs": []
    },
    {
      "metadata": {
        "id": "FNjurgVJ2Z-3",
        "colab_type": "code",
        "outputId": "1418085a-8a90-424d-ef3f-8d463c5cd041",
        "colab": {
          "base_uri": "https://localhost:8080/",
          "height": 248
        }
      },
      "cell_type": "code",
      "source": [
        "x_train.head()"
      ],
      "execution_count": 0,
      "outputs": [
        {
          "output_type": "execute_result",
          "data": {
            "text/html": [
              "<div>\n",
              "<style scoped>\n",
              "    .dataframe tbody tr th:only-of-type {\n",
              "        vertical-align: middle;\n",
              "    }\n",
              "\n",
              "    .dataframe tbody tr th {\n",
              "        vertical-align: top;\n",
              "    }\n",
              "\n",
              "    .dataframe thead th {\n",
              "        text-align: right;\n",
              "    }\n",
              "</style>\n",
              "<table border=\"1\" class=\"dataframe\">\n",
              "  <thead>\n",
              "    <tr style=\"text-align: right;\">\n",
              "      <th></th>\n",
              "      <th>crew</th>\n",
              "      <th>experiment_DA</th>\n",
              "      <th>experiment_CA</th>\n",
              "      <th>experiment_SS</th>\n",
              "      <th>time</th>\n",
              "      <th>seat</th>\n",
              "      <th>eeg_fp1</th>\n",
              "      <th>eeg_f7</th>\n",
              "      <th>eeg_f8</th>\n",
              "      <th>eeg_t4</th>\n",
              "      <th>...</th>\n",
              "      <th>eeg_fz</th>\n",
              "      <th>eeg_f4</th>\n",
              "      <th>eeg_c4</th>\n",
              "      <th>eeg_p4</th>\n",
              "      <th>eeg_poz</th>\n",
              "      <th>eeg_c3</th>\n",
              "      <th>eeg_cz</th>\n",
              "      <th>eeg_o2</th>\n",
              "      <th>ecg</th>\n",
              "      <th>r</th>\n",
              "    </tr>\n",
              "  </thead>\n",
              "  <tbody>\n",
              "    <tr>\n",
              "      <th>0</th>\n",
              "      <td>1</td>\n",
              "      <td>0</td>\n",
              "      <td>1</td>\n",
              "      <td>0</td>\n",
              "      <td>0.011719</td>\n",
              "      <td>1</td>\n",
              "      <td>-5.285450</td>\n",
              "      <td>26.775801</td>\n",
              "      <td>-9.527310</td>\n",
              "      <td>-12.793200</td>\n",
              "      <td>...</td>\n",
              "      <td>1.075470</td>\n",
              "      <td>3.090290</td>\n",
              "      <td>37.368999</td>\n",
              "      <td>17.437599</td>\n",
              "      <td>19.201900</td>\n",
              "      <td>20.596800</td>\n",
              "      <td>-3.951150</td>\n",
              "      <td>14.507600</td>\n",
              "      <td>-4520.000000</td>\n",
              "      <td>817.705994</td>\n",
              "    </tr>\n",
              "    <tr>\n",
              "      <th>1</th>\n",
              "      <td>1</td>\n",
              "      <td>0</td>\n",
              "      <td>1</td>\n",
              "      <td>0</td>\n",
              "      <td>0.015625</td>\n",
              "      <td>1</td>\n",
              "      <td>-2.428420</td>\n",
              "      <td>28.430901</td>\n",
              "      <td>-9.323510</td>\n",
              "      <td>-3.757230</td>\n",
              "      <td>...</td>\n",
              "      <td>2.833540</td>\n",
              "      <td>7.101770</td>\n",
              "      <td>31.170799</td>\n",
              "      <td>19.399700</td>\n",
              "      <td>19.689501</td>\n",
              "      <td>21.354700</td>\n",
              "      <td>1.332120</td>\n",
              "      <td>17.750200</td>\n",
              "      <td>-4520.000000</td>\n",
              "      <td>817.705994</td>\n",
              "    </tr>\n",
              "    <tr>\n",
              "      <th>2</th>\n",
              "      <td>1</td>\n",
              "      <td>0</td>\n",
              "      <td>1</td>\n",
              "      <td>0</td>\n",
              "      <td>0.019531</td>\n",
              "      <td>1</td>\n",
              "      <td>10.671500</td>\n",
              "      <td>30.420200</td>\n",
              "      <td>15.350700</td>\n",
              "      <td>24.724001</td>\n",
              "      <td>...</td>\n",
              "      <td>4.519930</td>\n",
              "      <td>12.705500</td>\n",
              "      <td>-12.012600</td>\n",
              "      <td>19.396299</td>\n",
              "      <td>23.171700</td>\n",
              "      <td>22.407600</td>\n",
              "      <td>1.537860</td>\n",
              "      <td>22.247000</td>\n",
              "      <td>-4520.000000</td>\n",
              "      <td>817.705994</td>\n",
              "    </tr>\n",
              "    <tr>\n",
              "      <th>3</th>\n",
              "      <td>1</td>\n",
              "      <td>0</td>\n",
              "      <td>1</td>\n",
              "      <td>0</td>\n",
              "      <td>0.023438</td>\n",
              "      <td>1</td>\n",
              "      <td>11.452500</td>\n",
              "      <td>25.609800</td>\n",
              "      <td>2.433080</td>\n",
              "      <td>12.412500</td>\n",
              "      <td>...</td>\n",
              "      <td>7.275750</td>\n",
              "      <td>11.459800</td>\n",
              "      <td>18.574100</td>\n",
              "      <td>23.156401</td>\n",
              "      <td>22.641199</td>\n",
              "      <td>19.336700</td>\n",
              "      <td>2.544920</td>\n",
              "      <td>18.998600</td>\n",
              "      <td>-4520.000000</td>\n",
              "      <td>817.705994</td>\n",
              "    </tr>\n",
              "    <tr>\n",
              "      <th>4</th>\n",
              "      <td>1</td>\n",
              "      <td>0</td>\n",
              "      <td>1</td>\n",
              "      <td>0</td>\n",
              "      <td>0.027344</td>\n",
              "      <td>1</td>\n",
              "      <td>7.283210</td>\n",
              "      <td>25.942600</td>\n",
              "      <td>0.113564</td>\n",
              "      <td>5.748000</td>\n",
              "      <td>...</td>\n",
              "      <td>7.309760</td>\n",
              "      <td>8.008050</td>\n",
              "      <td>6.555440</td>\n",
              "      <td>22.754700</td>\n",
              "      <td>22.670300</td>\n",
              "      <td>20.293200</td>\n",
              "      <td>1.699620</td>\n",
              "      <td>22.812799</td>\n",
              "      <td>-4520.000000</td>\n",
              "      <td>817.705994</td>\n",
              "    </tr>\n",
              "  </tbody>\n",
              "</table>\n",
              "<p>5 rows × 28 columns</p>\n",
              "</div>"
            ],
            "text/plain": [
              "   crew  experiment_DA  experiment_CA  experiment_SS     time  seat   eeg_fp1  \\\n",
              "0     1              0              1              0 0.011719     1 -5.285450   \n",
              "1     1              0              1              0 0.015625     1 -2.428420   \n",
              "2     1              0              1              0 0.019531     1 10.671500   \n",
              "3     1              0              1              0 0.023438     1 11.452500   \n",
              "4     1              0              1              0 0.027344     1  7.283210   \n",
              "\n",
              "     eeg_f7    eeg_f8     eeg_t4  ...   eeg_fz    eeg_f4     eeg_c4    eeg_p4  \\\n",
              "0 26.775801 -9.527310 -12.793200  ... 1.075470  3.090290  37.368999 17.437599   \n",
              "1 28.430901 -9.323510  -3.757230  ... 2.833540  7.101770  31.170799 19.399700   \n",
              "2 30.420200 15.350700  24.724001  ... 4.519930 12.705500 -12.012600 19.396299   \n",
              "3 25.609800  2.433080  12.412500  ... 7.275750 11.459800  18.574100 23.156401   \n",
              "4 25.942600  0.113564   5.748000  ... 7.309760  8.008050   6.555440 22.754700   \n",
              "\n",
              "    eeg_poz    eeg_c3    eeg_cz    eeg_o2          ecg          r  \n",
              "0 19.201900 20.596800 -3.951150 14.507600 -4520.000000 817.705994  \n",
              "1 19.689501 21.354700  1.332120 17.750200 -4520.000000 817.705994  \n",
              "2 23.171700 22.407600  1.537860 22.247000 -4520.000000 817.705994  \n",
              "3 22.641199 19.336700  2.544920 18.998600 -4520.000000 817.705994  \n",
              "4 22.670300 20.293200  1.699620 22.812799 -4520.000000 817.705994  \n",
              "\n",
              "[5 rows x 28 columns]"
            ]
          },
          "metadata": {
            "tags": []
          },
          "execution_count": 157
        }
      ]
    },
    {
      "metadata": {
        "id": "4kL7sUVe3lKT",
        "colab_type": "code",
        "outputId": "a2a46aa3-bb32-4a9f-91a6-fd3b5867d17a",
        "colab": {
          "base_uri": "https://localhost:8080/",
          "height": 105
        }
      },
      "cell_type": "code",
      "source": [
        "train_df['event'].value_counts()"
      ],
      "execution_count": 0,
      "outputs": [
        {
          "output_type": "execute_result",
          "data": {
            "text/plain": [
              "A    2848809\n",
              "C    1652686\n",
              "D     235329\n",
              "B     130597\n",
              "Name: event, dtype: int64"
            ]
          },
          "metadata": {
            "tags": []
          },
          "execution_count": 155
        }
      ]
    },
    {
      "metadata": {
        "id": "v5yaiUcIvosr",
        "colab_type": "code",
        "outputId": "5425653c-a17a-41e4-df12-c99b1bcfc9b5",
        "colab": {
          "base_uri": "https://localhost:8080/",
          "height": 70
        }
      },
      "cell_type": "code",
      "source": [
        "train_df['event'][0:50000].value_counts()"
      ],
      "execution_count": 0,
      "outputs": [
        {
          "output_type": "execute_result",
          "data": {
            "text/plain": [
              "C    49026\n",
              "A      974\n",
              "Name: event, dtype: int64"
            ]
          },
          "metadata": {
            "tags": []
          },
          "execution_count": 154
        }
      ]
    },
    {
      "metadata": {
        "id": "IVs59iAgSL7d",
        "colab_type": "code",
        "outputId": "ef65dc37-3cdb-4526-836c-6f06b2fcf1a1",
        "colab": {
          "base_uri": "https://localhost:8080/",
          "height": 175
        }
      },
      "cell_type": "code",
      "source": [
        "rand_clf.fit(x_train, y_train)"
      ],
      "execution_count": 0,
      "outputs": [
        {
          "output_type": "execute_result",
          "data": {
            "text/plain": [
              "GradientBoostingClassifier(criterion='friedman_mse', init=None,\n",
              "              learning_rate=0.05, loss='deviance', max_depth=3,\n",
              "              max_features='auto', max_leaf_nodes=None,\n",
              "              min_impurity_decrease=0.0, min_impurity_split=None,\n",
              "              min_samples_leaf=1, min_samples_split=2,\n",
              "              min_weight_fraction_leaf=0.0, n_estimators=50,\n",
              "              n_iter_no_change=None, presort='auto', random_state=42,\n",
              "              subsample=1.0, tol=0.0001, validation_fraction=0.1,\n",
              "              verbose=0, warm_start=False)"
            ]
          },
          "metadata": {
            "tags": []
          },
          "execution_count": 153
        }
      ]
    },
    {
      "metadata": {
        "id": "DzXLiK1muKhy",
        "colab_type": "code",
        "colab": {}
      },
      "cell_type": "code",
      "source": [
        "y=list(rand_clf.predict(train_df[['crew', 'experiment_DA', 'experiment_CA', 'experiment_SS', 'time', 'seat', 'eeg_fp1', 'eeg_f7', 'eeg_f8', 'eeg_t4', 'eeg_t6', 'eeg_t5', 'eeg_t3', 'eeg_fp2', 'eeg_o1', 'eeg_p3', 'eeg_pz', 'eeg_f3', 'eeg_fz', 'eeg_f4', 'eeg_c4', 'eeg_p4', 'eeg_poz', 'eeg_c3', 'eeg_cz', 'eeg_o2', 'ecg', 'r']][50001:55112]))\n",
        "#y=list(rand_clf.predict(train_df[['ecg', 'r']][50001:55112]))"
      ],
      "execution_count": 0,
      "outputs": []
    },
    {
      "metadata": {
        "id": "m1AffVhczcts",
        "colab_type": "code",
        "outputId": "91ce4492-ddcc-4418-c13e-1f889b4d8348",
        "colab": {
          "base_uri": "https://localhost:8080/",
          "height": 34
        }
      },
      "cell_type": "code",
      "source": [
        "from collections import Counter\n",
        "\n",
        "print (Counter(y).keys() # equals to list(set(words))\n",
        ",Counter(y).values() # counts the elements' frequency\n",
        "      )"
      ],
      "execution_count": 0,
      "outputs": [
        {
          "output_type": "stream",
          "text": [
            "dict_keys(['C']) dict_values([5111])\n"
          ],
          "name": "stdout"
        }
      ]
    },
    {
      "metadata": {
        "id": "qKn2RGmwSj9I",
        "colab_type": "code",
        "outputId": "d6060b0a-0b07-4579-cd41-6c04f34c3ff3",
        "colab": {
          "base_uri": "https://localhost:8080/",
          "height": 385
        }
      },
      "cell_type": "code",
      "source": [
        "features = [0,1]\n",
        "plot = plot_partial_dependence(rand_clf, x_train, features,\n",
        "                                       feature_names=['eeg_fp1','eeg_f7'],\n",
        "                                       n_jobs=3, grid_resolution=50)"
      ],
      "execution_count": 0,
      "outputs": [
        {
          "output_type": "stream",
          "text": [
            "/usr/local/lib/python3.6/dist-packages/sklearn/ensemble/partial_dependence.py:391: UserWarning: Attempting to set identical bottom==top results\n",
            "in singular transformations; automatically expanding.\n",
            "bottom=2.341486945613385, top=2.341486945613385\n",
            "  ax.set_ylim(pdp_lim[1])\n",
            "/usr/local/lib/python3.6/dist-packages/sklearn/ensemble/partial_dependence.py:391: UserWarning: Attempting to set identical bottom==top results\n",
            "in singular transformations; automatically expanding.\n",
            "bottom=2.341486945613385, top=2.341486945613385\n",
            "  ax.set_ylim(pdp_lim[1])\n"
          ],
          "name": "stderr"
        },
        {
          "output_type": "display_data",
          "data": {
            "image/png": "[encoded data removed]",
            "text/plain": [
              "<Figure size 432x288 with 2 Axes>"
            ]
          },
          "metadata": {
            "tags": []
          }
        }
      ]
    },
    {
      "metadata": {
        "id": "MtjjRgWetNeG",
        "colab_type": "code",
        "outputId": "654fc9d8-f551-4fd0-a64b-72b1fb43ccb6",
        "colab": {
          "base_uri": "https://localhost:8080/",
          "height": 70
        }
      },
      "cell_type": "code",
      "source": [
        "y_train.value_counts()"
      ],
      "execution_count": 0,
      "outputs": [
        {
          "output_type": "execute_result",
          "data": {
            "text/plain": [
              "C    49026\n",
              "A      974\n",
              "Name: event, dtype: int64"
            ]
          },
          "metadata": {
            "tags": []
          },
          "execution_count": 33
        }
      ]
    },
    {
      "metadata": {
        "id": "Gso2fpA-6lfb",
        "colab_type": "code",
        "colab": {}
      },
      "cell_type": "code",
      "source": [
        "Randforest_scores = cross_val_score(rnd_clf, X_test, y_test, cv=10, scoring=\"accuracy\")\n",
        "Randforest_scores.mean()"
      ],
      "execution_count": 0,
      "outputs": []
    }
  ]
}