{
  "nbformat": 4,
  "nbformat_minor": 0,
  "metadata": {
    "colab": {
      "name": "Untitled9.ipynb",
      "version": "0.3.2",
      "provenance": [],
      "include_colab_link": true
    },
    "kernelspec": {
      "name": "python3",
      "display_name": "Python 3"
    },
    "accelerator": "GPU"
  },
  "cells": [
    {
      "cell_type": "markdown",
      "metadata": {
        "id": "view-in-github",
        "colab_type": "text"
      },
      "source": [
        "<a href=\"https://colab.research.google.com/github/Saranyanv/test/blob/master/Reducing%20Commercial%20Aviation%20Fatalities.ipynb\" target=\"_parent\"><img src=\"https://colab.research.google.com/assets/colab-badge.svg\" alt=\"Open In Colab\"/></a>"
      ]
    },
    {
      "metadata": {
        "id": "BMSAans4-4q5",
        "colab_type": "text"
      },
      "cell_type": "markdown",
      "source": [
        "**REDUCING COMMERCIAL AVIATION FATALITIES**\n",
        "\n",
        "*https://www.kaggle.com/c/reducing-commercial-aviation-fatalities/data*"
      ]
    },
    {
      "metadata": {
        "id": "jhY_MjQpXhjW",
        "colab_type": "code",
        "colab": {}
      },
      "cell_type": "code",
      "source": [
        "import os \n",
        "import numpy as np\n",
        "import zipfile\n",
        "from tqdm import tqdm\n",
        "from matplotlib import pyplot as plt\n",
        "from pandas import DataFrame\n",
        "import pandas as pd\n",
        "import seaborn as sns\n",
        "RANDOM_SEED = 42"
      ],
      "execution_count": 0,
      "outputs": []
    },
    {
      "metadata": {
        "id": "XaUWU-1nYh6f",
        "colab_type": "code",
        "outputId": "ddd18c6f-9121-44eb-cdba-25879e0ea448",
        "colab": {
          "base_uri": "https://localhost:8080/",
          "height": 125
        }
      },
      "cell_type": "code",
      "source": [
        "from google.colab import drive\n",
        "drive.mount('/content/drive')"
      ],
      "execution_count": 6,
      "outputs": [
        {
          "output_type": "stream",
          "text": [
            "Go to this URL in a browser: https://accounts.google.com/o/oauth2/auth?client_id=947318989803-6bn6qk8qdgf4n4g3pfee6491hc0brc4i.apps.googleusercontent.com&redirect_uri=urn%3Aietf%3Awg%3Aoauth%3A2.0%3Aoob&scope=email%20https%3A%2F%2Fwww.googleapis.com%2Fauth%2Fdocs.test%20https%3A%2F%2Fwww.googleapis.com%2Fauth%2Fdrive%20https%3A%2F%2Fwww.googleapis.com%2Fauth%2Fdrive.photos.readonly%20https%3A%2F%2Fwww.googleapis.com%2Fauth%2Fpeopleapi.readonly&response_type=code\n",
            "\n",
            "Enter your authorization code:\n",
            "··········\n",
            "Mounted at /content/drive\n"
          ],
          "name": "stdout"
        }
      ]
    },
    {
      "metadata": {
        "id": "qiaDGGeqYlED",
        "colab_type": "code",
        "outputId": "ec0247df-e26c-4316-e5c6-d7141b376f9f",
        "colab": {
          "base_uri": "https://localhost:8080/",
          "height": 87
        }
      },
      "cell_type": "code",
      "source": [
        "!ls -l \"drive/My Drive/MyWork/Kaggle/Reducing Commercial Aviation Fatalities\""
      ],
      "execution_count": 7,
      "outputs": [
        {
          "output_type": "stream",
          "text": [
            "total 2210014\n",
            "-rw------- 1 root root   43252727 May  1 03:25 sample_submission.csv.zip\n",
            "-rw------- 1 root root 1770171220 May  1 03:31 test.csv.zip\n",
            "-rw------- 1 root root  449629430 Mar 17 03:41 train.csv.zip\n"
          ],
          "name": "stdout"
        }
      ]
    },
    {
      "metadata": {
        "id": "IUDsdjuGY7gb",
        "colab_type": "code",
        "outputId": "1bedc30b-ad92-4789-8879-4abff12cb913",
        "colab": {
          "base_uri": "https://localhost:8080/",
          "height": 52
        }
      },
      "cell_type": "code",
      "source": [
        "!unzip \"drive/My Drive/MyWork/Kaggle/Reducing Commercial Aviation Fatalities/train.csv.zip\""
      ],
      "execution_count": 8,
      "outputs": [
        {
          "output_type": "stream",
          "text": [
            "Archive:  drive/My Drive/MyWork/Kaggle/Reducing Commercial Aviation Fatalities/train.csv.zip\n",
            "  inflating: train.csv               \n"
          ],
          "name": "stdout"
        }
      ]
    },
    {
      "metadata": {
        "id": "5DOT3-9hb4ex",
        "colab_type": "code",
        "colab": {
          "base_uri": "https://localhost:8080/",
          "height": 52
        },
        "outputId": "eed63f5f-ee96-4316-b0c2-66775aaed5fe"
      },
      "cell_type": "code",
      "source": [
        "!unzip \"drive/My Drive/MyWork/Kaggle/Reducing Commercial Aviation Fatalities/sample_submission.csv.zip\""
      ],
      "execution_count": 7,
      "outputs": [
        {
          "output_type": "stream",
          "text": [
            "Archive:  drive/My Drive/MyWork/Kaggle/Reducing Commercial Aviation Fatalities/sample_submission.csv.zip\n",
            "  inflating: sample_submission.csv   \n"
          ],
          "name": "stdout"
        }
      ]
    },
    {
      "metadata": {
        "id": "D0Weoucsb9mZ",
        "colab_type": "code",
        "colab": {
          "base_uri": "https://localhost:8080/",
          "height": 52
        },
        "outputId": "ea187e5d-9684-494d-a9f0-f7797b560061"
      },
      "cell_type": "code",
      "source": [
        "!unzip \"drive/My Drive/MyWork/Kaggle/Reducing Commercial Aviation Fatalities/test.csv.zip\""
      ],
      "execution_count": 10,
      "outputs": [
        {
          "output_type": "stream",
          "text": [
            "Archive:  drive/My Drive/MyWork/Kaggle/Reducing Commercial Aviation Fatalities/test.csv.zip\n",
            "  inflating: test.csv                \n"
          ],
          "name": "stdout"
        }
      ]
    },
    {
      "metadata": {
        "id": "7NY3K3n6ZR1b",
        "colab_type": "code",
        "outputId": "15724789-41af-46d5-d7c1-7e82cdaccfc3",
        "colab": {
          "base_uri": "https://localhost:8080/",
          "height": 105
        }
      },
      "cell_type": "code",
      "source": [
        "!ls -lrt /content/"
      ],
      "execution_count": 2,
      "outputs": [
        {
          "output_type": "stream",
          "text": [
            "total 5879936\n",
            "---------- 1 root root 1234764001 Dec 14 23:11 train.csv\n",
            "---------- 1 root root 4786266819 Dec 14 23:11 test.csv\n",
            "drwxr-xr-x 1 root root       4096 Apr  4 20:20 sample_data\n",
            "drwx------ 3 root root       4096 May  1 04:27 drive\n"
          ],
          "name": "stdout"
        }
      ]
    },
    {
      "metadata": {
        "id": "uYQVCmwiag66",
        "colab_type": "code",
        "colab": {}
      },
      "cell_type": "code",
      "source": [
        "#train_df = pd.read_csv('train.csv', delim_whitespace=False, names=('id', 'crew', 'experiment', 'time', 'seat', 'eeg_fp1', 'eeg_f7', 'eeg_f8', 'eeg_t4', 'eeg_t6', 'eeg_t5', 'eeg_t3', 'eeg_fp2', 'eeg_o1', 'eeg_p3', 'eeg_pz', 'eeg_f3', 'eeg_fz', 'eeg_f4', 'eeg_c4', 'eeg_p4', 'eeg_poz', 'eeg_c3', 'eeg_cz', 'eeg_o2', 'ecg', 'r', 'gsr', 'event'))\n",
        "train_df = pd.read_csv('train.csv', header=0, dtype={'crew': np.int32, 'experiment' :str, 'time': np.float64, 'seat': np.int32, 'eeg_fp1': np.float64, 'eeg_f7': np.float64, 'eeg_f8': np.float64, 'eeg_t4': np.float64, 'eeg_t6': np.float64, 'eeg_t5': np.float64, 'eeg_t3': np.float64, 'eeg_fp2': np.float64, 'eeg_o1': np.float64, 'eeg_p3': np.float64, 'eeg_pz': np.float64, 'eeg_f3': np.float64, 'eeg_fz': np.float64, 'eeg_f4': np.float64, 'eeg_c4': np.float64, 'eeg_p4': np.float64, 'eeg_poz': np.float64, 'eeg_c3': np.float64, 'eeg_cz': np.float64, 'eeg_o2': np.float64, 'ecg': np.float64, 'r': np.float64, 'gsr': str, 'event': str})"
      ],
      "execution_count": 0,
      "outputs": []
    },
    {
      "metadata": {
        "id": "7OVFeuypd0y6",
        "colab_type": "code",
        "colab": {}
      },
      "cell_type": "code",
      "source": [
        "test_df = pd.read_csv('test.csv', header=0, dtype={'id': np.int32, 'crew': np.int32, 'experiment' :str, 'time': np.float64, 'seat': np.int32, 'eeg_fp1': np.float64, 'eeg_f7': np.float64, 'eeg_f8': np.float64, 'eeg_t4': np.float64, 'eeg_t6': np.float64, 'eeg_t5': np.float64, 'eeg_t3': np.float64, 'eeg_fp2': np.float64, 'eeg_o1': np.float64, 'eeg_p3': np.float64, 'eeg_pz': np.float64, 'eeg_f3': np.float64, 'eeg_fz': np.float64, 'eeg_f4': np.float64, 'eeg_c4': np.float64, 'eeg_p4': np.float64, 'eeg_poz': np.float64, 'eeg_c3': np.float64, 'eeg_cz': np.float64, 'eeg_o2': np.float64, 'ecg': np.float64, 'r': np.float64, 'gsr': str, 'event': str})"
      ],
      "execution_count": 0,
      "outputs": []
    },
    {
      "metadata": {
        "id": "UWOD0kFjcMQN",
        "colab_type": "code",
        "colab": {
          "base_uri": "https://localhost:8080/",
          "height": 248
        },
        "outputId": "45a2ba55-4751-4c69-f6cf-88c04bd919bb"
      },
      "cell_type": "code",
      "source": [
        "train_df.tail()"
      ],
      "execution_count": 14,
      "outputs": [
        {
          "output_type": "execute_result",
          "data": {
            "text/html": [
              "<div>\n",
              "<style scoped>\n",
              "    .dataframe tbody tr th:only-of-type {\n",
              "        vertical-align: middle;\n",
              "    }\n",
              "\n",
              "    .dataframe tbody tr th {\n",
              "        vertical-align: top;\n",
              "    }\n",
              "\n",
              "    .dataframe thead th {\n",
              "        text-align: right;\n",
              "    }\n",
              "</style>\n",
              "<table border=\"1\" class=\"dataframe\">\n",
              "  <thead>\n",
              "    <tr style=\"text-align: right;\">\n",
              "      <th></th>\n",
              "      <th>crew</th>\n",
              "      <th>experiment</th>\n",
              "      <th>time</th>\n",
              "      <th>seat</th>\n",
              "      <th>eeg_fp1</th>\n",
              "      <th>eeg_f7</th>\n",
              "      <th>eeg_f8</th>\n",
              "      <th>eeg_t4</th>\n",
              "      <th>eeg_t6</th>\n",
              "      <th>eeg_t5</th>\n",
              "      <th>...</th>\n",
              "      <th>eeg_c4</th>\n",
              "      <th>eeg_p4</th>\n",
              "      <th>eeg_poz</th>\n",
              "      <th>eeg_c3</th>\n",
              "      <th>eeg_cz</th>\n",
              "      <th>eeg_o2</th>\n",
              "      <th>ecg</th>\n",
              "      <th>r</th>\n",
              "      <th>gsr</th>\n",
              "      <th>event</th>\n",
              "    </tr>\n",
              "  </thead>\n",
              "  <tbody>\n",
              "    <tr>\n",
              "      <th>4867416</th>\n",
              "      <td>13</td>\n",
              "      <td>SS</td>\n",
              "      <td>99.991005</td>\n",
              "      <td>1</td>\n",
              "      <td>-47.758202</td>\n",
              "      <td>-71.050400</td>\n",
              "      <td>-37.980801</td>\n",
              "      <td>-33.852901</td>\n",
              "      <td>-59.413601</td>\n",
              "      <td>-21.614300</td>\n",
              "      <td>...</td>\n",
              "      <td>-40.906898</td>\n",
              "      <td>-20.153000</td>\n",
              "      <td>-15.993900</td>\n",
              "      <td>-16.493200</td>\n",
              "      <td>-27.873301</td>\n",
              "      <td>-25.03330</td>\n",
              "      <td>-8395.570313</td>\n",
              "      <td>758.981018</td>\n",
              "      <td>658.107971</td>\n",
              "      <td>A</td>\n",
              "    </tr>\n",
              "    <tr>\n",
              "      <th>4867417</th>\n",
              "      <td>13</td>\n",
              "      <td>SS</td>\n",
              "      <td>99.993004</td>\n",
              "      <td>0</td>\n",
              "      <td>-24.536699</td>\n",
              "      <td>79.787399</td>\n",
              "      <td>-45.435699</td>\n",
              "      <td>-6.329290</td>\n",
              "      <td>25.052500</td>\n",
              "      <td>-13.852700</td>\n",
              "      <td>...</td>\n",
              "      <td>143.602997</td>\n",
              "      <td>9.987780</td>\n",
              "      <td>7.322090</td>\n",
              "      <td>105.588997</td>\n",
              "      <td>11.096600</td>\n",
              "      <td>9.38001</td>\n",
              "      <td>-13660.400391</td>\n",
              "      <td>666.289978</td>\n",
              "      <td>547.533997</td>\n",
              "      <td>A</td>\n",
              "    </tr>\n",
              "    <tr>\n",
              "      <th>4867418</th>\n",
              "      <td>13</td>\n",
              "      <td>SS</td>\n",
              "      <td>99.994003</td>\n",
              "      <td>1</td>\n",
              "      <td>-42.078499</td>\n",
              "      <td>-66.937401</td>\n",
              "      <td>-27.298201</td>\n",
              "      <td>-25.931900</td>\n",
              "      <td>-47.430302</td>\n",
              "      <td>-17.464199</td>\n",
              "      <td>...</td>\n",
              "      <td>-29.533701</td>\n",
              "      <td>-9.368280</td>\n",
              "      <td>-4.770910</td>\n",
              "      <td>-5.474580</td>\n",
              "      <td>-14.157300</td>\n",
              "      <td>-13.60910</td>\n",
              "      <td>-8395.570313</td>\n",
              "      <td>758.981018</td>\n",
              "      <td>658.107971</td>\n",
              "      <td>A</td>\n",
              "    </tr>\n",
              "    <tr>\n",
              "      <th>4867419</th>\n",
              "      <td>13</td>\n",
              "      <td>SS</td>\n",
              "      <td>99.997002</td>\n",
              "      <td>0</td>\n",
              "      <td>20.536301</td>\n",
              "      <td>10.485500</td>\n",
              "      <td>63.723400</td>\n",
              "      <td>44.422600</td>\n",
              "      <td>95.535500</td>\n",
              "      <td>76.922096</td>\n",
              "      <td>...</td>\n",
              "      <td>207.649002</td>\n",
              "      <td>159.938995</td>\n",
              "      <td>83.391998</td>\n",
              "      <td>230.376007</td>\n",
              "      <td>93.575104</td>\n",
              "      <td>79.91600</td>\n",
              "      <td>-13660.400391</td>\n",
              "      <td>666.289978</td>\n",
              "      <td>547.533997</td>\n",
              "      <td>A</td>\n",
              "    </tr>\n",
              "    <tr>\n",
              "      <th>4867420</th>\n",
              "      <td>13</td>\n",
              "      <td>SS</td>\n",
              "      <td>99.998001</td>\n",
              "      <td>1</td>\n",
              "      <td>-12.230700</td>\n",
              "      <td>-39.962601</td>\n",
              "      <td>-2.675310</td>\n",
              "      <td>5.699130</td>\n",
              "      <td>-22.091000</td>\n",
              "      <td>-7.601820</td>\n",
              "      <td>...</td>\n",
              "      <td>-11.827200</td>\n",
              "      <td>9.628450</td>\n",
              "      <td>12.666100</td>\n",
              "      <td>6.895800</td>\n",
              "      <td>3.136320</td>\n",
              "      <td>5.43481</td>\n",
              "      <td>-8395.570313</td>\n",
              "      <td>758.981018</td>\n",
              "      <td>658.107971</td>\n",
              "      <td>A</td>\n",
              "    </tr>\n",
              "  </tbody>\n",
              "</table>\n",
              "<p>5 rows × 28 columns</p>\n",
              "</div>"
            ],
            "text/plain": [
              "         crew experiment       time  seat    eeg_fp1     eeg_f7     eeg_f8  \\\n",
              "4867416    13         SS  99.991005     1 -47.758202 -71.050400 -37.980801   \n",
              "4867417    13         SS  99.993004     0 -24.536699  79.787399 -45.435699   \n",
              "4867418    13         SS  99.994003     1 -42.078499 -66.937401 -27.298201   \n",
              "4867419    13         SS  99.997002     0  20.536301  10.485500  63.723400   \n",
              "4867420    13         SS  99.998001     1 -12.230700 -39.962601  -2.675310   \n",
              "\n",
              "            eeg_t4     eeg_t6     eeg_t5  ...      eeg_c4      eeg_p4  \\\n",
              "4867416 -33.852901 -59.413601 -21.614300  ...  -40.906898  -20.153000   \n",
              "4867417  -6.329290  25.052500 -13.852700  ...  143.602997    9.987780   \n",
              "4867418 -25.931900 -47.430302 -17.464199  ...  -29.533701   -9.368280   \n",
              "4867419  44.422600  95.535500  76.922096  ...  207.649002  159.938995   \n",
              "4867420   5.699130 -22.091000  -7.601820  ...  -11.827200    9.628450   \n",
              "\n",
              "           eeg_poz      eeg_c3     eeg_cz    eeg_o2           ecg           r  \\\n",
              "4867416 -15.993900  -16.493200 -27.873301 -25.03330  -8395.570313  758.981018   \n",
              "4867417   7.322090  105.588997  11.096600   9.38001 -13660.400391  666.289978   \n",
              "4867418  -4.770910   -5.474580 -14.157300 -13.60910  -8395.570313  758.981018   \n",
              "4867419  83.391998  230.376007  93.575104  79.91600 -13660.400391  666.289978   \n",
              "4867420  12.666100    6.895800   3.136320   5.43481  -8395.570313  758.981018   \n",
              "\n",
              "                gsr  event  \n",
              "4867416  658.107971      A  \n",
              "4867417  547.533997      A  \n",
              "4867418  658.107971      A  \n",
              "4867419  547.533997      A  \n",
              "4867420  658.107971      A  \n",
              "\n",
              "[5 rows x 28 columns]"
            ]
          },
          "metadata": {
            "tags": []
          },
          "execution_count": 14
        }
      ]
    },
    {
      "metadata": {
        "id": "aUD3bqi-_m5S",
        "colab_type": "code",
        "outputId": "307639d0-4372-401f-f6b7-5731731f9ca5",
        "colab": {
          "base_uri": "https://localhost:8080/",
          "height": 34
        }
      },
      "cell_type": "code",
      "source": [
        "len(train_df)"
      ],
      "execution_count": 15,
      "outputs": [
        {
          "output_type": "execute_result",
          "data": {
            "text/plain": [
              "4867421"
            ]
          },
          "metadata": {
            "tags": []
          },
          "execution_count": 15
        }
      ]
    },
    {
      "metadata": {
        "id": "bL6jDgV5hDiy",
        "colab_type": "code",
        "colab": {
          "base_uri": "https://localhost:8080/",
          "height": 34
        },
        "outputId": "faa8a271-4999-4f1f-a26d-297c91a66f15"
      },
      "cell_type": "code",
      "source": [
        "len(test_df)"
      ],
      "execution_count": 16,
      "outputs": [
        {
          "output_type": "execute_result",
          "data": {
            "text/plain": [
              "17965143"
            ]
          },
          "metadata": {
            "tags": []
          },
          "execution_count": 16
        }
      ]
    },
    {
      "metadata": {
        "id": "ydplB_wU_sTS",
        "colab_type": "code",
        "outputId": "706a462b-1754-451e-ea42-06fff9d07343",
        "colab": {
          "base_uri": "https://localhost:8080/",
          "height": 248
        }
      },
      "cell_type": "code",
      "source": [
        "train_df.head()"
      ],
      "execution_count": 17,
      "outputs": [
        {
          "output_type": "execute_result",
          "data": {
            "text/html": [
              "<div>\n",
              "<style scoped>\n",
              "    .dataframe tbody tr th:only-of-type {\n",
              "        vertical-align: middle;\n",
              "    }\n",
              "\n",
              "    .dataframe tbody tr th {\n",
              "        vertical-align: top;\n",
              "    }\n",
              "\n",
              "    .dataframe thead th {\n",
              "        text-align: right;\n",
              "    }\n",
              "</style>\n",
              "<table border=\"1\" class=\"dataframe\">\n",
              "  <thead>\n",
              "    <tr style=\"text-align: right;\">\n",
              "      <th></th>\n",
              "      <th>crew</th>\n",
              "      <th>experiment</th>\n",
              "      <th>time</th>\n",
              "      <th>seat</th>\n",
              "      <th>eeg_fp1</th>\n",
              "      <th>eeg_f7</th>\n",
              "      <th>eeg_f8</th>\n",
              "      <th>eeg_t4</th>\n",
              "      <th>eeg_t6</th>\n",
              "      <th>eeg_t5</th>\n",
              "      <th>...</th>\n",
              "      <th>eeg_c4</th>\n",
              "      <th>eeg_p4</th>\n",
              "      <th>eeg_poz</th>\n",
              "      <th>eeg_c3</th>\n",
              "      <th>eeg_cz</th>\n",
              "      <th>eeg_o2</th>\n",
              "      <th>ecg</th>\n",
              "      <th>r</th>\n",
              "      <th>gsr</th>\n",
              "      <th>event</th>\n",
              "    </tr>\n",
              "  </thead>\n",
              "  <tbody>\n",
              "    <tr>\n",
              "      <th>0</th>\n",
              "      <td>1</td>\n",
              "      <td>CA</td>\n",
              "      <td>0.011719</td>\n",
              "      <td>1</td>\n",
              "      <td>-5.28545</td>\n",
              "      <td>26.775801</td>\n",
              "      <td>-9.527310</td>\n",
              "      <td>-12.793200</td>\n",
              "      <td>16.717800</td>\n",
              "      <td>33.737499</td>\n",
              "      <td>...</td>\n",
              "      <td>37.368999</td>\n",
              "      <td>17.437599</td>\n",
              "      <td>19.201900</td>\n",
              "      <td>20.5968</td>\n",
              "      <td>-3.95115</td>\n",
              "      <td>14.507600</td>\n",
              "      <td>-4520.0</td>\n",
              "      <td>817.705994</td>\n",
              "      <td>388.829987</td>\n",
              "      <td>A</td>\n",
              "    </tr>\n",
              "    <tr>\n",
              "      <th>1</th>\n",
              "      <td>1</td>\n",
              "      <td>CA</td>\n",
              "      <td>0.015625</td>\n",
              "      <td>1</td>\n",
              "      <td>-2.42842</td>\n",
              "      <td>28.430901</td>\n",
              "      <td>-9.323510</td>\n",
              "      <td>-3.757230</td>\n",
              "      <td>15.969300</td>\n",
              "      <td>30.443600</td>\n",
              "      <td>...</td>\n",
              "      <td>31.170799</td>\n",
              "      <td>19.399700</td>\n",
              "      <td>19.689501</td>\n",
              "      <td>21.3547</td>\n",
              "      <td>1.33212</td>\n",
              "      <td>17.750200</td>\n",
              "      <td>-4520.0</td>\n",
              "      <td>817.705994</td>\n",
              "      <td>388.829987</td>\n",
              "      <td>A</td>\n",
              "    </tr>\n",
              "    <tr>\n",
              "      <th>2</th>\n",
              "      <td>1</td>\n",
              "      <td>CA</td>\n",
              "      <td>0.019531</td>\n",
              "      <td>1</td>\n",
              "      <td>10.67150</td>\n",
              "      <td>30.420200</td>\n",
              "      <td>15.350700</td>\n",
              "      <td>24.724001</td>\n",
              "      <td>16.143101</td>\n",
              "      <td>32.142799</td>\n",
              "      <td>...</td>\n",
              "      <td>-12.012600</td>\n",
              "      <td>19.396299</td>\n",
              "      <td>23.171700</td>\n",
              "      <td>22.4076</td>\n",
              "      <td>1.53786</td>\n",
              "      <td>22.247000</td>\n",
              "      <td>-4520.0</td>\n",
              "      <td>817.705994</td>\n",
              "      <td>388.829987</td>\n",
              "      <td>A</td>\n",
              "    </tr>\n",
              "    <tr>\n",
              "      <th>3</th>\n",
              "      <td>1</td>\n",
              "      <td>CA</td>\n",
              "      <td>0.023438</td>\n",
              "      <td>1</td>\n",
              "      <td>11.45250</td>\n",
              "      <td>25.609800</td>\n",
              "      <td>2.433080</td>\n",
              "      <td>12.412500</td>\n",
              "      <td>20.533300</td>\n",
              "      <td>31.494101</td>\n",
              "      <td>...</td>\n",
              "      <td>18.574100</td>\n",
              "      <td>23.156401</td>\n",
              "      <td>22.641199</td>\n",
              "      <td>19.3367</td>\n",
              "      <td>2.54492</td>\n",
              "      <td>18.998600</td>\n",
              "      <td>-4520.0</td>\n",
              "      <td>817.705994</td>\n",
              "      <td>388.829987</td>\n",
              "      <td>A</td>\n",
              "    </tr>\n",
              "    <tr>\n",
              "      <th>4</th>\n",
              "      <td>1</td>\n",
              "      <td>CA</td>\n",
              "      <td>0.027344</td>\n",
              "      <td>1</td>\n",
              "      <td>7.28321</td>\n",
              "      <td>25.942600</td>\n",
              "      <td>0.113564</td>\n",
              "      <td>5.748000</td>\n",
              "      <td>19.833599</td>\n",
              "      <td>28.753599</td>\n",
              "      <td>...</td>\n",
              "      <td>6.555440</td>\n",
              "      <td>22.754700</td>\n",
              "      <td>22.670300</td>\n",
              "      <td>20.2932</td>\n",
              "      <td>1.69962</td>\n",
              "      <td>22.812799</td>\n",
              "      <td>-4520.0</td>\n",
              "      <td>817.705994</td>\n",
              "      <td>388.829987</td>\n",
              "      <td>A</td>\n",
              "    </tr>\n",
              "  </tbody>\n",
              "</table>\n",
              "<p>5 rows × 28 columns</p>\n",
              "</div>"
            ],
            "text/plain": [
              "   crew experiment      time  seat   eeg_fp1     eeg_f7     eeg_f8     eeg_t4  \\\n",
              "0     1         CA  0.011719     1  -5.28545  26.775801  -9.527310 -12.793200   \n",
              "1     1         CA  0.015625     1  -2.42842  28.430901  -9.323510  -3.757230   \n",
              "2     1         CA  0.019531     1  10.67150  30.420200  15.350700  24.724001   \n",
              "3     1         CA  0.023438     1  11.45250  25.609800   2.433080  12.412500   \n",
              "4     1         CA  0.027344     1   7.28321  25.942600   0.113564   5.748000   \n",
              "\n",
              "      eeg_t6     eeg_t5  ...     eeg_c4     eeg_p4    eeg_poz   eeg_c3  \\\n",
              "0  16.717800  33.737499  ...  37.368999  17.437599  19.201900  20.5968   \n",
              "1  15.969300  30.443600  ...  31.170799  19.399700  19.689501  21.3547   \n",
              "2  16.143101  32.142799  ... -12.012600  19.396299  23.171700  22.4076   \n",
              "3  20.533300  31.494101  ...  18.574100  23.156401  22.641199  19.3367   \n",
              "4  19.833599  28.753599  ...   6.555440  22.754700  22.670300  20.2932   \n",
              "\n",
              "    eeg_cz     eeg_o2     ecg           r         gsr  event  \n",
              "0 -3.95115  14.507600 -4520.0  817.705994  388.829987      A  \n",
              "1  1.33212  17.750200 -4520.0  817.705994  388.829987      A  \n",
              "2  1.53786  22.247000 -4520.0  817.705994  388.829987      A  \n",
              "3  2.54492  18.998600 -4520.0  817.705994  388.829987      A  \n",
              "4  1.69962  22.812799 -4520.0  817.705994  388.829987      A  \n",
              "\n",
              "[5 rows x 28 columns]"
            ]
          },
          "metadata": {
            "tags": []
          },
          "execution_count": 17
        }
      ]
    },
    {
      "metadata": {
        "id": "m3hQDrzuQcHn",
        "colab_type": "code",
        "colab": {}
      },
      "cell_type": "code",
      "source": [
        "pd.set_option('display.float_format', lambda x: '%.6f' % x)"
      ],
      "execution_count": 0,
      "outputs": []
    },
    {
      "metadata": {
        "id": "t49UOYtSD3B5",
        "colab_type": "code",
        "outputId": "29bb07d3-08f8-48eb-f427-dab315f1859b",
        "colab": {
          "base_uri": "https://localhost:8080/",
          "height": 193
        }
      },
      "cell_type": "code",
      "source": [
        "train_df.crew.value_counts()"
      ],
      "execution_count": 19,
      "outputs": [
        {
          "output_type": "execute_result",
          "data": {
            "text/plain": [
              "6     552958\n",
              "4     552881\n",
              "2     552868\n",
              "5     552815\n",
              "3     552795\n",
              "7     552769\n",
              "13    552724\n",
              "8     549959\n",
              "1     447652\n",
              "Name: crew, dtype: int64"
            ]
          },
          "metadata": {
            "tags": []
          },
          "execution_count": 19
        }
      ]
    },
    {
      "metadata": {
        "id": "fejGp5NJyiYm",
        "colab_type": "code",
        "colab": {}
      },
      "cell_type": "code",
      "source": [
        "#train_df['experiment_DA'] = 0\n",
        "#train_df.loc[train_df['experiment'].isin(['DA']), 'experiment_DA'] = 1\n",
        "\n",
        "#train_df['experiment_CA'] = 0\n",
        "#train_df.loc[train_df['experiment'].isin(['CA']), 'experiment_CA'] = 1\n",
        "\n",
        "#train_df['experiment_SS'] = 0\n",
        "#train_df.loc[train_df['experiment'].isin(['SS']), 'experiment_SS'] = 1"
      ],
      "execution_count": 0,
      "outputs": []
    },
    {
      "metadata": {
        "id": "HfHK9VG71fLA",
        "colab_type": "code",
        "colab": {}
      },
      "cell_type": "code",
      "source": [
        "#train_df['crew'] = train_df['crew'].apply({'1': 'crew_1', '2': 'crew_2', '3': 'crew_3', '4': 'crew_4', '5': 'crew_5'\n",
        "#                                        , '6': 'crew_6', '7': 'crew_7', '8': 'crew_8', '13': 'crew_13'}.get)"
      ],
      "execution_count": 0,
      "outputs": []
    },
    {
      "metadata": {
        "id": "E_xkqGFvJOea",
        "colab_type": "code",
        "colab": {}
      },
      "cell_type": "code",
      "source": [
        "class_variance=train_df.groupby('event').agg({'eeg_fp1': np.var, 'eeg_f7': np.var, 'eeg_f8': np.var, 'eeg_t4': np.var, 'eeg_t6': np.var, 'eeg_t5': np.var, 'eeg_t3': np.var\n",
        ", 'eeg_fp2': np.var, 'eeg_o1': np.var, 'eeg_p3': np.var, 'eeg_pz': np.var, 'eeg_f3': np.var, 'eeg_fz': np.var, 'eeg_f4': np.var\n",
        ", 'eeg_c4': np.var, 'eeg_p4': np.var, 'eeg_poz': np.var, 'eeg_c3': np.var, 'eeg_cz': np.var, 'eeg_o2': np.var, 'ecg': np.var, 'r': np.var})"
      ],
      "execution_count": 0,
      "outputs": []
    },
    {
      "metadata": {
        "id": "tlJn4NDcrN6_",
        "colab_type": "code",
        "outputId": "b61199ed-9ccc-4a13-8892-d591590dce70",
        "colab": {
          "base_uri": "https://localhost:8080/",
          "height": 248
        }
      },
      "cell_type": "code",
      "source": [
        "class_variance"
      ],
      "execution_count": 28,
      "outputs": [
        {
          "output_type": "execute_result",
          "data": {
            "text/html": [
              "<div>\n",
              "<style scoped>\n",
              "    .dataframe tbody tr th:only-of-type {\n",
              "        vertical-align: middle;\n",
              "    }\n",
              "\n",
              "    .dataframe tbody tr th {\n",
              "        vertical-align: top;\n",
              "    }\n",
              "\n",
              "    .dataframe thead th {\n",
              "        text-align: right;\n",
              "    }\n",
              "</style>\n",
              "<table border=\"1\" class=\"dataframe\">\n",
              "  <thead>\n",
              "    <tr style=\"text-align: right;\">\n",
              "      <th></th>\n",
              "      <th>eeg_fp1</th>\n",
              "      <th>eeg_f7</th>\n",
              "      <th>eeg_f8</th>\n",
              "      <th>eeg_t4</th>\n",
              "      <th>eeg_t6</th>\n",
              "      <th>eeg_t5</th>\n",
              "      <th>eeg_t3</th>\n",
              "      <th>eeg_fp2</th>\n",
              "      <th>eeg_o1</th>\n",
              "      <th>eeg_p3</th>\n",
              "      <th>...</th>\n",
              "      <th>eeg_fz</th>\n",
              "      <th>eeg_f4</th>\n",
              "      <th>eeg_c4</th>\n",
              "      <th>eeg_p4</th>\n",
              "      <th>eeg_poz</th>\n",
              "      <th>eeg_c3</th>\n",
              "      <th>eeg_cz</th>\n",
              "      <th>eeg_o2</th>\n",
              "      <th>ecg</th>\n",
              "      <th>r</th>\n",
              "    </tr>\n",
              "    <tr>\n",
              "      <th>event</th>\n",
              "      <th></th>\n",
              "      <th></th>\n",
              "      <th></th>\n",
              "      <th></th>\n",
              "      <th></th>\n",
              "      <th></th>\n",
              "      <th></th>\n",
              "      <th></th>\n",
              "      <th></th>\n",
              "      <th></th>\n",
              "      <th></th>\n",
              "      <th></th>\n",
              "      <th></th>\n",
              "      <th></th>\n",
              "      <th></th>\n",
              "      <th></th>\n",
              "      <th></th>\n",
              "      <th></th>\n",
              "      <th></th>\n",
              "      <th></th>\n",
              "      <th></th>\n",
              "    </tr>\n",
              "  </thead>\n",
              "  <tbody>\n",
              "    <tr>\n",
              "      <th>A</th>\n",
              "      <td>2558.376805</td>\n",
              "      <td>1659.027471</td>\n",
              "      <td>1745.998022</td>\n",
              "      <td>786.344336</td>\n",
              "      <td>372.836354</td>\n",
              "      <td>427.710878</td>\n",
              "      <td>859.745715</td>\n",
              "      <td>2659.703078</td>\n",
              "      <td>1209.932392</td>\n",
              "      <td>338.024412</td>\n",
              "      <td>...</td>\n",
              "      <td>4753.726891</td>\n",
              "      <td>2296.383872</td>\n",
              "      <td>523.930593</td>\n",
              "      <td>338.407485</td>\n",
              "      <td>449.196670</td>\n",
              "      <td>483.359611</td>\n",
              "      <td>452.667918</td>\n",
              "      <td>818.011390</td>\n",
              "      <td>139176188.177926</td>\n",
              "      <td>6748.073460</td>\n",
              "    </tr>\n",
              "    <tr>\n",
              "      <th>B</th>\n",
              "      <td>5324.425947</td>\n",
              "      <td>2716.481836</td>\n",
              "      <td>1102.471025</td>\n",
              "      <td>446.148131</td>\n",
              "      <td>339.792707</td>\n",
              "      <td>258.641433</td>\n",
              "      <td>466.286589</td>\n",
              "      <td>5616.848580</td>\n",
              "      <td>481.718383</td>\n",
              "      <td>232.318824</td>\n",
              "      <td>...</td>\n",
              "      <td>2436.074137</td>\n",
              "      <td>1502.794150</td>\n",
              "      <td>485.897660</td>\n",
              "      <td>280.688936</td>\n",
              "      <td>238.999345</td>\n",
              "      <td>473.871977</td>\n",
              "      <td>369.245890</td>\n",
              "      <td>522.909598</td>\n",
              "      <td>130060628.685917</td>\n",
              "      <td>6204.592809</td>\n",
              "    </tr>\n",
              "    <tr>\n",
              "      <th>C</th>\n",
              "      <td>941.973080</td>\n",
              "      <td>477.657898</td>\n",
              "      <td>411.268880</td>\n",
              "      <td>294.099871</td>\n",
              "      <td>252.973207</td>\n",
              "      <td>191.631516</td>\n",
              "      <td>317.920754</td>\n",
              "      <td>993.221244</td>\n",
              "      <td>159.186105</td>\n",
              "      <td>167.151634</td>\n",
              "      <td>...</td>\n",
              "      <td>361.195344</td>\n",
              "      <td>993.030355</td>\n",
              "      <td>241.632850</td>\n",
              "      <td>165.183190</td>\n",
              "      <td>155.534704</td>\n",
              "      <td>223.476354</td>\n",
              "      <td>267.065408</td>\n",
              "      <td>140.930385</td>\n",
              "      <td>160741572.193594</td>\n",
              "      <td>6593.171936</td>\n",
              "    </tr>\n",
              "    <tr>\n",
              "      <th>D</th>\n",
              "      <td>1431.137580</td>\n",
              "      <td>659.158884</td>\n",
              "      <td>977.814432</td>\n",
              "      <td>395.949915</td>\n",
              "      <td>252.151568</td>\n",
              "      <td>279.324399</td>\n",
              "      <td>351.768637</td>\n",
              "      <td>1742.181717</td>\n",
              "      <td>269.083880</td>\n",
              "      <td>292.251709</td>\n",
              "      <td>...</td>\n",
              "      <td>709.077280</td>\n",
              "      <td>972.068536</td>\n",
              "      <td>400.496658</td>\n",
              "      <td>288.348257</td>\n",
              "      <td>292.676587</td>\n",
              "      <td>388.780261</td>\n",
              "      <td>505.624664</td>\n",
              "      <td>257.844212</td>\n",
              "      <td>150255397.861736</td>\n",
              "      <td>7227.803104</td>\n",
              "    </tr>\n",
              "  </tbody>\n",
              "</table>\n",
              "<p>4 rows × 22 columns</p>\n",
              "</div>"
            ],
            "text/plain": [
              "          eeg_fp1      eeg_f7      eeg_f8     eeg_t4     eeg_t6     eeg_t5  \\\n",
              "event                                                                        \n",
              "A     2558.376805 1659.027471 1745.998022 786.344336 372.836354 427.710878   \n",
              "B     5324.425947 2716.481836 1102.471025 446.148131 339.792707 258.641433   \n",
              "C      941.973080  477.657898  411.268880 294.099871 252.973207 191.631516   \n",
              "D     1431.137580  659.158884  977.814432 395.949915 252.151568 279.324399   \n",
              "\n",
              "          eeg_t3     eeg_fp2      eeg_o1     eeg_p3  ...      eeg_fz  \\\n",
              "event                                                ...               \n",
              "A     859.745715 2659.703078 1209.932392 338.024412  ... 4753.726891   \n",
              "B     466.286589 5616.848580  481.718383 232.318824  ... 2436.074137   \n",
              "C     317.920754  993.221244  159.186105 167.151634  ...  361.195344   \n",
              "D     351.768637 1742.181717  269.083880 292.251709  ...  709.077280   \n",
              "\n",
              "           eeg_f4     eeg_c4     eeg_p4    eeg_poz     eeg_c3     eeg_cz  \\\n",
              "event                                                                      \n",
              "A     2296.383872 523.930593 338.407485 449.196670 483.359611 452.667918   \n",
              "B     1502.794150 485.897660 280.688936 238.999345 473.871977 369.245890   \n",
              "C      993.030355 241.632850 165.183190 155.534704 223.476354 267.065408   \n",
              "D      972.068536 400.496658 288.348257 292.676587 388.780261 505.624664   \n",
              "\n",
              "          eeg_o2              ecg           r  \n",
              "event                                          \n",
              "A     818.011390 139176188.177926 6748.073460  \n",
              "B     522.909598 130060628.685917 6204.592809  \n",
              "C     140.930385 160741572.193594 6593.171936  \n",
              "D     257.844212 150255397.861736 7227.803104  \n",
              "\n",
              "[4 rows x 22 columns]"
            ]
          },
          "metadata": {
            "tags": []
          },
          "execution_count": 28
        }
      ]
    },
    {
      "metadata": {
        "id": "FfONItS6VEuO",
        "colab_type": "code",
        "outputId": "353966a7-0401-4cc1-d2b9-f10097b1cf1b",
        "colab": {
          "base_uri": "https://localhost:8080/",
          "height": 199
        }
      },
      "cell_type": "code",
      "source": [
        "train_df[300000:450000].groupby('event').agg({'time': np.max})"
      ],
      "execution_count": 21,
      "outputs": [
        {
          "output_type": "execute_result",
          "data": {
            "text/html": [
              "<div>\n",
              "<style scoped>\n",
              "    .dataframe tbody tr th:only-of-type {\n",
              "        vertical-align: middle;\n",
              "    }\n",
              "\n",
              "    .dataframe tbody tr th {\n",
              "        vertical-align: top;\n",
              "    }\n",
              "\n",
              "    .dataframe thead th {\n",
              "        text-align: right;\n",
              "    }\n",
              "</style>\n",
              "<table border=\"1\" class=\"dataframe\">\n",
              "  <thead>\n",
              "    <tr style=\"text-align: right;\">\n",
              "      <th></th>\n",
              "      <th>time</th>\n",
              "    </tr>\n",
              "    <tr>\n",
              "      <th>event</th>\n",
              "      <th></th>\n",
              "    </tr>\n",
              "  </thead>\n",
              "  <tbody>\n",
              "    <tr>\n",
              "      <th>A</th>\n",
              "      <td>359.890625</td>\n",
              "    </tr>\n",
              "    <tr>\n",
              "      <th>B</th>\n",
              "      <td>97.339844</td>\n",
              "    </tr>\n",
              "    <tr>\n",
              "      <th>C</th>\n",
              "      <td>101.630005</td>\n",
              "    </tr>\n",
              "    <tr>\n",
              "      <th>D</th>\n",
              "      <td>359.847656</td>\n",
              "    </tr>\n",
              "  </tbody>\n",
              "</table>\n",
              "</div>"
            ],
            "text/plain": [
              "            time\n",
              "event           \n",
              "A     359.890625\n",
              "B      97.339844\n",
              "C     101.630005\n",
              "D     359.847656"
            ]
          },
          "metadata": {
            "tags": []
          },
          "execution_count": 21
        }
      ]
    },
    {
      "metadata": {
        "id": "jftG0M8zeLVh",
        "colab_type": "code",
        "colab": {}
      },
      "cell_type": "code",
      "source": [
        "#fig, ax = plt.subplots(figsize=(14, 8))\n",
        "#sns.countplot(x='event', data=train_df, palette='hls')"
      ],
      "execution_count": 0,
      "outputs": []
    },
    {
      "metadata": {
        "id": "4q6HSAwJebK7",
        "colab_type": "code",
        "outputId": "e83c950f-8b41-4d0f-e0e6-56f11af69c2c",
        "colab": {
          "base_uri": "https://localhost:8080/",
          "height": 34
        }
      },
      "cell_type": "code",
      "source": [
        "train_df.isnull().sum().sum()"
      ],
      "execution_count": 22,
      "outputs": [
        {
          "output_type": "execute_result",
          "data": {
            "text/plain": [
              "0"
            ]
          },
          "metadata": {
            "tags": []
          },
          "execution_count": 22
        }
      ]
    },
    {
      "metadata": {
        "id": "aTjFNSC146WE",
        "colab_type": "code",
        "colab": {}
      },
      "cell_type": "code",
      "source": [
        "def shuffle_batch(X, y, batch_size):\n",
        "    rnd_idx = np.random.permutation(len(X))\n",
        "    n_batches = len(X) // batch_size \n",
        "    for batch_idx in np.array_split(rnd_idx, n_batches):\n",
        "        X_batch, y_batch = X[batch_idx], y[batch_idx]\n",
        "        yield X_batch, y_batch"
      ],
      "execution_count": 0,
      "outputs": []
    },
    {
      "metadata": {
        "id": "5VP1PpI9Pli6",
        "colab_type": "code",
        "colab": {}
      },
      "cell_type": "code",
      "source": [
        "import matplotlib.pyplot as plt\n",
        "from sklearn.ensemble.partial_dependence import plot_partial_dependence\n",
        "from sklearn.ensemble.partial_dependence import partial_dependence\n",
        "from sklearn.ensemble import RandomForestClassifier, GradientBoostingClassifier, ExtraTreesClassifier, AdaBoostClassifier\n",
        "from sklearn.tree import DecisionTreeClassifier\n",
        "from xgboost import XGBClassifier\n",
        "from sklearn.model_selection import cross_val_predict, StratifiedShuffleSplit\n",
        "from sklearn.model_selection import cross_val_score\n",
        "from sklearn.metrics import confusion_matrix\n",
        "from sklearn.metrics import accuracy_score"
      ],
      "execution_count": 0,
      "outputs": []
    },
    {
      "metadata": {
        "id": "-k7L-oCF8CAD",
        "colab_type": "code",
        "colab": {}
      },
      "cell_type": "code",
      "source": [
        "X=train_df[['crew', 'time', 'seat', 'eeg_fp1', 'eeg_f7', 'eeg_f8', 'eeg_t4', 'eeg_t6', 'eeg_t5', 'eeg_t3', 'eeg_fp2', 'eeg_o1', 'eeg_p3', 'eeg_pz', 'eeg_f3', 'eeg_fz', 'eeg_f4', 'eeg_c4', 'eeg_p4', 'eeg_poz', 'eeg_c3', 'eeg_cz', 'eeg_o2', 'ecg', 'r']][1:50000]\n",
        "#X=train_df[['crew', 'seat']][1:100000]\n",
        "y=train_df['event'][1:50000]"
      ],
      "execution_count": 0,
      "outputs": []
    },
    {
      "metadata": {
        "id": "ZRTPLq2D-jJW",
        "colab_type": "code",
        "colab": {}
      },
      "cell_type": "code",
      "source": [
        "cv = StratifiedShuffleSplit(n_splits=5, test_size=0.2, random_state=42)"
      ],
      "execution_count": 0,
      "outputs": []
    },
    {
      "metadata": {
        "id": "ETfQAkZvDGS0",
        "colab_type": "code",
        "colab": {}
      },
      "cell_type": "code",
      "source": [
        "rand_clf1 = GradientBoostingClassifier(n_estimators=50, max_features='auto', random_state=42, learning_rate=0.05)"
      ],
      "execution_count": 0,
      "outputs": []
    },
    {
      "metadata": {
        "id": "XYGUO3uO71QE",
        "colab_type": "code",
        "outputId": "444d3692-4f5f-4c47-c5b5-6b1cc7315184",
        "colab": {
          "base_uri": "https://localhost:8080/",
          "height": 105
        }
      },
      "cell_type": "code",
      "source": [
        "for train_index, test_index in cv.split(X, y):\n",
        "  #print(\"TRAIN:\", train_index, \"TEST:\", test_index)\n",
        "  X_train, y_train = X.iloc[train_index], y.iloc[train_index]\n",
        "  X_test, y_test = X.iloc[test_index], y.iloc[test_index]\n",
        "  rand_clf1.fit(X_train, y_train)\n",
        "  #scr=rand_clf1.score(X_test, y_test, sample_weight=None)\n",
        "  acc_scr=accuracy_score(y_test, rand_clf1.predict(X_test), normalize=False)\n",
        "  print (len(train_index), len(test_index), acc_scr)\n",
        "  #print (rand_clf.predict(X_test))"
      ],
      "execution_count": 31,
      "outputs": [
        {
          "output_type": "stream",
          "text": [
            "39999 10000 10000\n",
            "39999 10000 10000\n",
            "39999 10000 10000\n",
            "39999 10000 10000\n",
            "39999 10000 10000\n"
          ],
          "name": "stdout"
        }
      ]
    },
    {
      "metadata": {
        "id": "6ZzgdrhHQTIo",
        "colab_type": "code",
        "outputId": "8bf307aa-3640-418a-c960-2dcf5760bfdf",
        "colab": {
          "base_uri": "https://localhost:8080/",
          "height": 87
        }
      },
      "cell_type": "code",
      "source": [
        "print (confusion_matrix(y_test, rand_clf1.predict(X_test), labels=['A','B','C','D']))"
      ],
      "execution_count": 32,
      "outputs": [
        {
          "output_type": "stream",
          "text": [
            "[[ 195    0    0    0]\n",
            " [   0    0    0    0]\n",
            " [   0    0 9805    0]\n",
            " [   0    0    0    0]]\n"
          ],
          "name": "stdout"
        }
      ]
    },
    {
      "metadata": {
        "id": "ggC4JSXscExx",
        "colab_type": "code",
        "outputId": "de1537e7-e7dc-44e0-fb9a-38f49d0cf157",
        "colab": {
          "base_uri": "https://localhost:8080/",
          "height": 34
        }
      },
      "cell_type": "code",
      "source": [
        "print (accuracy_score(y_test, rand_clf1.predict(X_test)))"
      ],
      "execution_count": 33,
      "outputs": [
        {
          "output_type": "stream",
          "text": [
            "1.0\n"
          ],
          "name": "stdout"
        }
      ]
    },
    {
      "metadata": {
        "id": "B079x2nOg4QB",
        "colab_type": "code",
        "outputId": "01b1dd67-c3b4-40d3-b6ff-5839b3161465",
        "colab": {
          "base_uri": "https://localhost:8080/",
          "height": 52
        }
      },
      "cell_type": "code",
      "source": [
        "print(rand_clf1.feature_importances_)"
      ],
      "execution_count": 34,
      "outputs": [
        {
          "output_type": "stream",
          "text": [
            "[0. 1. 0. 0. 0. 0. 0. 0. 0. 0. 0. 0. 0. 0. 0. 0. 0. 0. 0. 0. 0. 0. 0. 0.\n",
            " 0.]\n"
          ],
          "name": "stdout"
        }
      ]
    },
    {
      "metadata": {
        "id": "clxZtQ2Bgco7",
        "colab_type": "code",
        "colab": {}
      },
      "cell_type": "code",
      "source": [
        "feature_names = [x for i,x in enumerate(X_train.columns) if i!=28]\n",
        "\n",
        "def plot_feature_importances_diabetes(model):\n",
        "    plt.figure(figsize=(14,6))\n",
        "    n_features = 25\n",
        "    plt.barh(range(n_features), model.feature_importances_, align='center')\n",
        "    plt.yticks(np.arange(n_features), feature_names)\n",
        "    plt.xlabel(\"Feature importance\")\n",
        "    plt.ylabel(\"Feature\")\n",
        "    plt.ylim(-1, n_features)"
      ],
      "execution_count": 0,
      "outputs": []
    },
    {
      "metadata": {
        "id": "vfgxhrHLgnps",
        "colab_type": "code",
        "outputId": "ed2f1bed-68d9-4e29-fb32-5d3bede254fe",
        "colab": {
          "base_uri": "https://localhost:8080/",
          "height": 392
        }
      },
      "cell_type": "code",
      "source": [
        "plot_feature_importances_diabetes(rand_clf1)"
      ],
      "execution_count": 38,
      "outputs": [
        {
          "output_type": "display_data",
          "data": {
            "image/png": "[encoded data removed]",
            "text/plain": [
              "<Figure size 1008x432 with 1 Axes>"
            ]
          },
          "metadata": {
            "tags": []
          }
        }
      ]
    },
    {
      "metadata": {
        "id": "4kL7sUVe3lKT",
        "colab_type": "code",
        "outputId": "7b1a5c55-15bb-4bab-87f7-40e47cc406a5",
        "colab": {
          "base_uri": "https://localhost:8080/",
          "height": 105
        }
      },
      "cell_type": "code",
      "source": [
        "train_df['event'].value_counts()"
      ],
      "execution_count": 38,
      "outputs": [
        {
          "output_type": "execute_result",
          "data": {
            "text/plain": [
              "A    2848809\n",
              "C    1652686\n",
              "D     235329\n",
              "B     130597\n",
              "Name: event, dtype: int64"
            ]
          },
          "metadata": {
            "tags": []
          },
          "execution_count": 38
        }
      ]
    },
    {
      "metadata": {
        "id": "qKn2RGmwSj9I",
        "colab_type": "code",
        "outputId": "b12f8dc8-d2cf-4ad5-ebe5-55ef6a7d0b20",
        "colab": {
          "base_uri": "https://localhost:8080/",
          "height": 259
        }
      },
      "cell_type": "code",
      "source": [
        "#features = [0,1]\n",
        "\n",
        "import matplotlib.pyplot as plt\n",
        "plt.figure(figsize=(20,10)) \n",
        "#plot = \n",
        "#names = X_train.feature_names\n",
        "plot_partial_dependence(rand_clf1, \n",
        "                               #features=[0,1,2,3,4,5,6,7,8,9,10,11,12,13,14,15,16,17,18,19,20,21,22,23,24,25,26,27],\n",
        "                               features=[4],\n",
        "                               X=X_train,\n",
        "                               #feature_names=['crew', 'time', 'seat', 'eeg_fp1', 'eeg_f7', 'eeg_f8', 'eeg_t4', 'eeg_t6', 'eeg_t5', 'eeg_t3', 'eeg_fp2', 'eeg_o1', 'eeg_p3', 'eeg_pz', 'eeg_f3', 'eeg_fz', 'eeg_f4', 'eeg_c4', 'eeg_p4', 'eeg_poz', 'eeg_c3', 'eeg_cz', 'eeg_o2', 'ecg', 'r'],\n",
        "                               #feature_names=['time'],\n",
        "                               n_jobs=3, \n",
        "                               grid_resolution=50,\n",
        "                               label='A'\n",
        "                              )\n",
        "plt.ylabel('')\n",
        "#https://briangriner.github.io/Partial_Dependence_Plots_presentation-BrianGriner-PrincetonPublicLibrary-4.14.18-updated-4.22.18.html"
      ],
      "execution_count": 42,
      "outputs": [
        {
          "output_type": "execute_result",
          "data": {
            "text/plain": [
              "Text(0, 0.5, '')"
            ]
          },
          "metadata": {
            "tags": []
          },
          "execution_count": 42
        },
        {
          "output_type": "display_data",
          "data": {
            "text/plain": [
              "<Figure size 1440x720 with 0 Axes>"
            ]
          },
          "metadata": {
            "tags": []
          }
        },
        {
          "output_type": "display_data",
          "data": {
            "image/png": "[encoded data removed]",
            "text/plain": [
              "<Figure size 432x288 with 1 Axes>"
            ]
          },
          "metadata": {
            "tags": []
          }
        }
      ]
    },
    {
      "metadata": {
        "id": "x0qWjBgRihUp",
        "colab_type": "code",
        "outputId": "697adcec-ef46-4025-bc81-c9f16f5cf2db",
        "colab": {
          "base_uri": "https://localhost:8080/",
          "height": 242
        }
      },
      "cell_type": "code",
      "source": [
        "plot_partial_dependence(rand_clf1, \n",
        "                               #features=[0,1,2,3,4,5,6,7,8,9,10,11,12,13,14,15,16,17,18,19,20,21,22,23,24,25,26,27],\n",
        "                               features=[4],\n",
        "                               X=X_train,\n",
        "                               #feature_names=['crew', 'time', 'seat', 'eeg_fp1', 'eeg_f7', 'eeg_f8', 'eeg_t4', 'eeg_t6', 'eeg_t5', 'eeg_t3', 'eeg_fp2', 'eeg_o1', 'eeg_p3', 'eeg_pz', 'eeg_f3', 'eeg_fz', 'eeg_f4', 'eeg_c4', 'eeg_p4', 'eeg_poz', 'eeg_c3', 'eeg_cz', 'eeg_o2', 'ecg', 'r'],\n",
        "                               #feature_names=['time'],\n",
        "                               n_jobs=3, \n",
        "                               grid_resolution=50,\n",
        "                               label='B'\n",
        "                              )\n",
        "plt.ylabel('')"
      ],
      "execution_count": 43,
      "outputs": [
        {
          "output_type": "execute_result",
          "data": {
            "text/plain": [
              "Text(0, 0.5, '')"
            ]
          },
          "metadata": {
            "tags": []
          },
          "execution_count": 43
        },
        {
          "output_type": "display_data",
          "data": {
            "image/png": "[encoded data removed]",
            "text/plain": [
              "<Figure size 432x288 with 1 Axes>"
            ]
          },
          "metadata": {
            "tags": []
          }
        }
      ]
    },
    {
      "metadata": {
        "id": "XLzZ9hx7ih7M",
        "colab_type": "code",
        "outputId": "5adcd703-c5b3-4889-d8b6-ffcec7590000",
        "colab": {
          "base_uri": "https://localhost:8080/",
          "height": 242
        }
      },
      "cell_type": "code",
      "source": [
        "plot_partial_dependence(rand_clf1, \n",
        "                               #features=[0,1,2,3,4,5,6,7,8,9,10,11,12,13,14,15,16,17,18,19,20,21,22,23,24,25,26,27],\n",
        "                               features=[4],\n",
        "                               X=X_train,\n",
        "                               #feature_names=['crew', 'time', 'seat', 'eeg_fp1', 'eeg_f7', 'eeg_f8', 'eeg_t4', 'eeg_t6', 'eeg_t5', 'eeg_t3', 'eeg_fp2', 'eeg_o1', 'eeg_p3', 'eeg_pz', 'eeg_f3', 'eeg_fz', 'eeg_f4', 'eeg_c4', 'eeg_p4', 'eeg_poz', 'eeg_c3', 'eeg_cz', 'eeg_o2', 'ecg', 'r'],\n",
        "                               #feature_names=['time'],\n",
        "                               n_jobs=3, \n",
        "                               grid_resolution=50,\n",
        "                               label='C'\n",
        "                              )\n",
        "plt.ylabel('')"
      ],
      "execution_count": 44,
      "outputs": [
        {
          "output_type": "execute_result",
          "data": {
            "text/plain": [
              "Text(0, 0.5, '')"
            ]
          },
          "metadata": {
            "tags": []
          },
          "execution_count": 44
        },
        {
          "output_type": "display_data",
          "data": {
            "image/png": "[encoded data removed]",
            "text/plain": [
              "<Figure size 432x288 with 1 Axes>"
            ]
          },
          "metadata": {
            "tags": []
          }
        }
      ]
    },
    {
      "metadata": {
        "id": "xOQMsM7Jiiou",
        "colab_type": "code",
        "outputId": "7265e836-a607-4412-882c-8bff1115d7cc",
        "colab": {
          "base_uri": "https://localhost:8080/",
          "height": 242
        }
      },
      "cell_type": "code",
      "source": [
        "plot_partial_dependence(rand_clf1, \n",
        "                               #features=[0,1,2,3,4,5,6,7,8,9,10,11,12,13,14,15,16,17,18,19,20,21,22,23,24,25,26,27],\n",
        "                               features=[4],\n",
        "                               X=X_train,\n",
        "                               #feature_names=['crew', 'time', 'seat', 'eeg_fp1', 'eeg_f7', 'eeg_f8', 'eeg_t4', 'eeg_t6', 'eeg_t5', 'eeg_t3', 'eeg_fp2', 'eeg_o1', 'eeg_p3', 'eeg_pz', 'eeg_f3', 'eeg_fz', 'eeg_f4', 'eeg_c4', 'eeg_p4', 'eeg_poz', 'eeg_c3', 'eeg_cz', 'eeg_o2', 'ecg', 'r'],\n",
        "                               #feature_names=['time'],\n",
        "                               n_jobs=3, \n",
        "                               grid_resolution=50,\n",
        "                               label='D'\n",
        "                              )\n",
        "plt.ylabel('')"
      ],
      "execution_count": 45,
      "outputs": [
        {
          "output_type": "execute_result",
          "data": {
            "text/plain": [
              "Text(0, 0.5, '')"
            ]
          },
          "metadata": {
            "tags": []
          },
          "execution_count": 45
        },
        {
          "output_type": "display_data",
          "data": {
            "image/png": "[encoded data removed]",
            "text/plain": [
              "<Figure size 432x288 with 1 Axes>"
            ]
          },
          "metadata": {
            "tags": []
          }
        }
      ]
    },
    {
      "metadata": {
        "id": "Gso2fpA-6lfb",
        "colab_type": "code",
        "colab": {}
      },
      "cell_type": "code",
      "source": [
        "from sklearn.naive_bayes import GaussianNB "
      ],
      "execution_count": 0,
      "outputs": []
    },
    {
      "metadata": {
        "id": "dfNY_Hf0jSIr",
        "colab_type": "code",
        "colab": {}
      },
      "cell_type": "code",
      "source": [
        "gnb_clf1 = GaussianNB(priors=None, var_smoothing=1e-09)"
      ],
      "execution_count": 0,
      "outputs": []
    },
    {
      "metadata": {
        "id": "R1Lvg8-wjDrb",
        "colab_type": "code",
        "outputId": "3333bd1c-a31e-4648-f24b-ecd2ba8cd433",
        "colab": {
          "base_uri": "https://localhost:8080/",
          "height": 34
        }
      },
      "cell_type": "code",
      "source": [
        "for train_index, test_index in cv.split(X, y):\n",
        "  #print(\"TRAIN:\", train_index, \"TEST:\", test_index)\n",
        "  X_train, y_train = X.iloc[train_index], y.iloc[train_index]\n",
        "  X_test, y_test = X.iloc[test_index], y.iloc[test_index]\n",
        "  gnb_clf1.fit(X_train, y_train)\n",
        "  #scr=rand_clf1.score(X_test, y_test, sample_weight=None)\n",
        "  acc_scr=accuracy_score(y_test, gnb_clf1.predict(X_test), normalize=False)\n",
        "  print (len(train_index), len(test_index), acc_scr)\n",
        "  #print (rand_clf.predict(X_test))"
      ],
      "execution_count": 0,
      "outputs": [
        {
          "output_type": "stream",
          "text": [
            "120000 30000 15140\n"
          ],
          "name": "stdout"
        }
      ]
    },
    {
      "metadata": {
        "id": "qnPeyBaej58f",
        "colab_type": "code",
        "outputId": "9da1813c-c981-4f82-cda1-878cf6421543",
        "colab": {
          "base_uri": "https://localhost:8080/",
          "height": 87
        }
      },
      "cell_type": "code",
      "source": [
        "print (confusion_matrix(y_test, gnb_clf1.predict(X_test), labels=['A','B','C','D']))"
      ],
      "execution_count": 0,
      "outputs": [
        {
          "output_type": "stream",
          "text": [
            "[[11715  3057    68 11459]\n",
            " [  186  1352     0     0]\n",
            " [   14     0   387     0]\n",
            " [   76     0     0  1686]]\n"
          ],
          "name": "stdout"
        }
      ]
    },
    {
      "metadata": {
        "id": "3actrx1ot2FP",
        "colab_type": "code",
        "colab": {}
      },
      "cell_type": "code",
      "source": [
        "test_df1=test_df.head()"
      ],
      "execution_count": 0,
      "outputs": []
    },
    {
      "metadata": {
        "id": "mVzoGMC9vKTa",
        "colab_type": "code",
        "colab": {
          "base_uri": "https://localhost:8080/",
          "height": 248
        },
        "outputId": "0a534d0b-88e2-4947-ae02-571dfd45cd25"
      },
      "cell_type": "code",
      "source": [
        "test_df1"
      ],
      "execution_count": 25,
      "outputs": [
        {
          "output_type": "execute_result",
          "data": {
            "text/html": [
              "<div>\n",
              "<style scoped>\n",
              "    .dataframe tbody tr th:only-of-type {\n",
              "        vertical-align: middle;\n",
              "    }\n",
              "\n",
              "    .dataframe tbody tr th {\n",
              "        vertical-align: top;\n",
              "    }\n",
              "\n",
              "    .dataframe thead th {\n",
              "        text-align: right;\n",
              "    }\n",
              "</style>\n",
              "<table border=\"1\" class=\"dataframe\">\n",
              "  <thead>\n",
              "    <tr style=\"text-align: right;\">\n",
              "      <th></th>\n",
              "      <th>id</th>\n",
              "      <th>crew</th>\n",
              "      <th>experiment</th>\n",
              "      <th>time</th>\n",
              "      <th>seat</th>\n",
              "      <th>eeg_fp1</th>\n",
              "      <th>eeg_f7</th>\n",
              "      <th>eeg_f8</th>\n",
              "      <th>eeg_t4</th>\n",
              "      <th>eeg_t6</th>\n",
              "      <th>...</th>\n",
              "      <th>eeg_poz</th>\n",
              "      <th>eeg_c3</th>\n",
              "      <th>eeg_cz</th>\n",
              "      <th>eeg_o2</th>\n",
              "      <th>ecg</th>\n",
              "      <th>r</th>\n",
              "      <th>gsr</th>\n",
              "      <th>experiment_DA</th>\n",
              "      <th>experiment_CA</th>\n",
              "      <th>experiment_SS</th>\n",
              "    </tr>\n",
              "  </thead>\n",
              "  <tbody>\n",
              "    <tr>\n",
              "      <th>0</th>\n",
              "      <td>0</td>\n",
              "      <td>1</td>\n",
              "      <td>LOFT</td>\n",
              "      <td>0.000000</td>\n",
              "      <td>0</td>\n",
              "      <td>17.899500</td>\n",
              "      <td>6.127830</td>\n",
              "      <td>0.994807</td>\n",
              "      <td>-28.206200</td>\n",
              "      <td>-47.695499</td>\n",
              "      <td>...</td>\n",
              "      <td>-0.393799</td>\n",
              "      <td>31.83810</td>\n",
              "      <td>17.075600</td>\n",
              "      <td>-8.137350</td>\n",
              "      <td>-7323.120117</td>\n",
              "      <td>643.177002</td>\n",
              "      <td>594.778992</td>\n",
              "      <td>0</td>\n",
              "      <td>0</td>\n",
              "      <td>0</td>\n",
              "    </tr>\n",
              "    <tr>\n",
              "      <th>1</th>\n",
              "      <td>1</td>\n",
              "      <td>1</td>\n",
              "      <td>LOFT</td>\n",
              "      <td>0.000000</td>\n",
              "      <td>1</td>\n",
              "      <td>45.883202</td>\n",
              "      <td>94.749001</td>\n",
              "      <td>23.290800</td>\n",
              "      <td>1.392000</td>\n",
              "      <td>2.060940</td>\n",
              "      <td>...</td>\n",
              "      <td>7.340940</td>\n",
              "      <td>9.66785</td>\n",
              "      <td>1169.239990</td>\n",
              "      <td>-0.024414</td>\n",
              "      <td>-3335.080078</td>\n",
              "      <td>826.724976</td>\n",
              "      <td>136.235001</td>\n",
              "      <td>0</td>\n",
              "      <td>0</td>\n",
              "      <td>0</td>\n",
              "    </tr>\n",
              "    <tr>\n",
              "      <th>2</th>\n",
              "      <td>2</td>\n",
              "      <td>1</td>\n",
              "      <td>LOFT</td>\n",
              "      <td>0.003906</td>\n",
              "      <td>0</td>\n",
              "      <td>33.120098</td>\n",
              "      <td>28.356501</td>\n",
              "      <td>-7.239220</td>\n",
              "      <td>-7.690860</td>\n",
              "      <td>-25.833799</td>\n",
              "      <td>...</td>\n",
              "      <td>6.513360</td>\n",
              "      <td>36.01860</td>\n",
              "      <td>24.356600</td>\n",
              "      <td>0.956158</td>\n",
              "      <td>-7323.120117</td>\n",
              "      <td>643.177002</td>\n",
              "      <td>594.778992</td>\n",
              "      <td>0</td>\n",
              "      <td>0</td>\n",
              "      <td>0</td>\n",
              "    </tr>\n",
              "    <tr>\n",
              "      <th>3</th>\n",
              "      <td>3</td>\n",
              "      <td>1</td>\n",
              "      <td>LOFT</td>\n",
              "      <td>0.003906</td>\n",
              "      <td>1</td>\n",
              "      <td>43.280102</td>\n",
              "      <td>95.887001</td>\n",
              "      <td>18.702299</td>\n",
              "      <td>-1.432890</td>\n",
              "      <td>-4.232600</td>\n",
              "      <td>...</td>\n",
              "      <td>3.504520</td>\n",
              "      <td>3.87811</td>\n",
              "      <td>1159.400024</td>\n",
              "      <td>-0.047607</td>\n",
              "      <td>-3335.080078</td>\n",
              "      <td>826.724976</td>\n",
              "      <td>136.235001</td>\n",
              "      <td>0</td>\n",
              "      <td>0</td>\n",
              "      <td>0</td>\n",
              "    </tr>\n",
              "    <tr>\n",
              "      <th>4</th>\n",
              "      <td>4</td>\n",
              "      <td>1</td>\n",
              "      <td>LOFT</td>\n",
              "      <td>0.007812</td>\n",
              "      <td>0</td>\n",
              "      <td>7.929110</td>\n",
              "      <td>3.460380</td>\n",
              "      <td>-10.860800</td>\n",
              "      <td>-26.366699</td>\n",
              "      <td>-25.894699</td>\n",
              "      <td>...</td>\n",
              "      <td>-7.539830</td>\n",
              "      <td>3.08397</td>\n",
              "      <td>13.647900</td>\n",
              "      <td>1.473720</td>\n",
              "      <td>-7323.120117</td>\n",
              "      <td>643.177002</td>\n",
              "      <td>594.778992</td>\n",
              "      <td>0</td>\n",
              "      <td>0</td>\n",
              "      <td>0</td>\n",
              "    </tr>\n",
              "  </tbody>\n",
              "</table>\n",
              "<p>5 rows × 31 columns</p>\n",
              "</div>"
            ],
            "text/plain": [
              "   id  crew experiment      time  seat    eeg_fp1     eeg_f7     eeg_f8  \\\n",
              "0   0     1       LOFT  0.000000     0  17.899500   6.127830   0.994807   \n",
              "1   1     1       LOFT  0.000000     1  45.883202  94.749001  23.290800   \n",
              "2   2     1       LOFT  0.003906     0  33.120098  28.356501  -7.239220   \n",
              "3   3     1       LOFT  0.003906     1  43.280102  95.887001  18.702299   \n",
              "4   4     1       LOFT  0.007812     0   7.929110   3.460380 -10.860800   \n",
              "\n",
              "      eeg_t4     eeg_t6  ...   eeg_poz    eeg_c3       eeg_cz    eeg_o2  \\\n",
              "0 -28.206200 -47.695499  ... -0.393799  31.83810    17.075600 -8.137350   \n",
              "1   1.392000   2.060940  ...  7.340940   9.66785  1169.239990 -0.024414   \n",
              "2  -7.690860 -25.833799  ...  6.513360  36.01860    24.356600  0.956158   \n",
              "3  -1.432890  -4.232600  ...  3.504520   3.87811  1159.400024 -0.047607   \n",
              "4 -26.366699 -25.894699  ... -7.539830   3.08397    13.647900  1.473720   \n",
              "\n",
              "           ecg           r         gsr  experiment_DA  experiment_CA  \\\n",
              "0 -7323.120117  643.177002  594.778992              0              0   \n",
              "1 -3335.080078  826.724976  136.235001              0              0   \n",
              "2 -7323.120117  643.177002  594.778992              0              0   \n",
              "3 -3335.080078  826.724976  136.235001              0              0   \n",
              "4 -7323.120117  643.177002  594.778992              0              0   \n",
              "\n",
              "   experiment_SS  \n",
              "0              0  \n",
              "1              0  \n",
              "2              0  \n",
              "3              0  \n",
              "4              0  \n",
              "\n",
              "[5 rows x 31 columns]"
            ]
          },
          "metadata": {
            "tags": []
          },
          "execution_count": 25
        }
      ]
    },
    {
      "metadata": {
        "id": "ELusLB76lrj-",
        "colab_type": "code",
        "colab": {}
      },
      "cell_type": "code",
      "source": [
        "op=rand_clf1.predict(test_df1[['crew', 'time', 'seat', 'eeg_fp1', 'eeg_f7', 'eeg_f8', 'eeg_t4', 'eeg_t6', 'eeg_t5', 'eeg_t3', 'eeg_fp2', 'eeg_o1', 'eeg_p3', 'eeg_pz', 'eeg_f3', 'eeg_fz', 'eeg_f4', 'eeg_c4', 'eeg_p4', 'eeg_poz', 'eeg_c3', 'eeg_cz', 'eeg_o2', 'ecg', 'r']])"
      ],
      "execution_count": 0,
      "outputs": []
    },
    {
      "metadata": {
        "id": "21wBUCoIy69f",
        "colab_type": "code",
        "colab": {
          "base_uri": "https://localhost:8080/",
          "height": 248
        },
        "outputId": "978d4477-ed18-40b3-b84c-75a2bec66576"
      },
      "cell_type": "code",
      "source": [
        "test_df1"
      ],
      "execution_count": 62,
      "outputs": [
        {
          "output_type": "execute_result",
          "data": {
            "text/html": [
              "<div>\n",
              "<style scoped>\n",
              "    .dataframe tbody tr th:only-of-type {\n",
              "        vertical-align: middle;\n",
              "    }\n",
              "\n",
              "    .dataframe tbody tr th {\n",
              "        vertical-align: top;\n",
              "    }\n",
              "\n",
              "    .dataframe thead th {\n",
              "        text-align: right;\n",
              "    }\n",
              "</style>\n",
              "<table border=\"1\" class=\"dataframe\">\n",
              "  <thead>\n",
              "    <tr style=\"text-align: right;\">\n",
              "      <th></th>\n",
              "      <th>id</th>\n",
              "      <th>crew</th>\n",
              "      <th>experiment</th>\n",
              "      <th>time</th>\n",
              "      <th>seat</th>\n",
              "      <th>eeg_fp1</th>\n",
              "      <th>eeg_f7</th>\n",
              "      <th>eeg_f8</th>\n",
              "      <th>eeg_t4</th>\n",
              "      <th>eeg_t6</th>\n",
              "      <th>...</th>\n",
              "      <th>eeg_c3</th>\n",
              "      <th>eeg_cz</th>\n",
              "      <th>eeg_o2</th>\n",
              "      <th>ecg</th>\n",
              "      <th>r</th>\n",
              "      <th>gsr</th>\n",
              "      <th>experiment_DA</th>\n",
              "      <th>experiment_CA</th>\n",
              "      <th>experiment_SS</th>\n",
              "      <th>pred_op</th>\n",
              "    </tr>\n",
              "  </thead>\n",
              "  <tbody>\n",
              "    <tr>\n",
              "      <th>0</th>\n",
              "      <td>0</td>\n",
              "      <td>1</td>\n",
              "      <td>LOFT</td>\n",
              "      <td>0.000000</td>\n",
              "      <td>0</td>\n",
              "      <td>17.899500</td>\n",
              "      <td>6.127830</td>\n",
              "      <td>0.994807</td>\n",
              "      <td>-28.206200</td>\n",
              "      <td>-47.695499</td>\n",
              "      <td>...</td>\n",
              "      <td>31.83810</td>\n",
              "      <td>17.075600</td>\n",
              "      <td>-8.137350</td>\n",
              "      <td>-7323.120117</td>\n",
              "      <td>643.177002</td>\n",
              "      <td>594.778992</td>\n",
              "      <td>0</td>\n",
              "      <td>0</td>\n",
              "      <td>0</td>\n",
              "      <td>A</td>\n",
              "    </tr>\n",
              "    <tr>\n",
              "      <th>1</th>\n",
              "      <td>1</td>\n",
              "      <td>1</td>\n",
              "      <td>LOFT</td>\n",
              "      <td>0.000000</td>\n",
              "      <td>1</td>\n",
              "      <td>45.883202</td>\n",
              "      <td>94.749001</td>\n",
              "      <td>23.290800</td>\n",
              "      <td>1.392000</td>\n",
              "      <td>2.060940</td>\n",
              "      <td>...</td>\n",
              "      <td>9.66785</td>\n",
              "      <td>1169.239990</td>\n",
              "      <td>-0.024414</td>\n",
              "      <td>-3335.080078</td>\n",
              "      <td>826.724976</td>\n",
              "      <td>136.235001</td>\n",
              "      <td>0</td>\n",
              "      <td>0</td>\n",
              "      <td>0</td>\n",
              "      <td>A</td>\n",
              "    </tr>\n",
              "    <tr>\n",
              "      <th>2</th>\n",
              "      <td>2</td>\n",
              "      <td>1</td>\n",
              "      <td>LOFT</td>\n",
              "      <td>0.003906</td>\n",
              "      <td>0</td>\n",
              "      <td>33.120098</td>\n",
              "      <td>28.356501</td>\n",
              "      <td>-7.239220</td>\n",
              "      <td>-7.690860</td>\n",
              "      <td>-25.833799</td>\n",
              "      <td>...</td>\n",
              "      <td>36.01860</td>\n",
              "      <td>24.356600</td>\n",
              "      <td>0.956158</td>\n",
              "      <td>-7323.120117</td>\n",
              "      <td>643.177002</td>\n",
              "      <td>594.778992</td>\n",
              "      <td>0</td>\n",
              "      <td>0</td>\n",
              "      <td>0</td>\n",
              "      <td>A</td>\n",
              "    </tr>\n",
              "    <tr>\n",
              "      <th>3</th>\n",
              "      <td>3</td>\n",
              "      <td>1</td>\n",
              "      <td>LOFT</td>\n",
              "      <td>0.003906</td>\n",
              "      <td>1</td>\n",
              "      <td>43.280102</td>\n",
              "      <td>95.887001</td>\n",
              "      <td>18.702299</td>\n",
              "      <td>-1.432890</td>\n",
              "      <td>-4.232600</td>\n",
              "      <td>...</td>\n",
              "      <td>3.87811</td>\n",
              "      <td>1159.400024</td>\n",
              "      <td>-0.047607</td>\n",
              "      <td>-3335.080078</td>\n",
              "      <td>826.724976</td>\n",
              "      <td>136.235001</td>\n",
              "      <td>0</td>\n",
              "      <td>0</td>\n",
              "      <td>0</td>\n",
              "      <td>A</td>\n",
              "    </tr>\n",
              "    <tr>\n",
              "      <th>4</th>\n",
              "      <td>4</td>\n",
              "      <td>1</td>\n",
              "      <td>LOFT</td>\n",
              "      <td>0.007812</td>\n",
              "      <td>0</td>\n",
              "      <td>7.929110</td>\n",
              "      <td>3.460380</td>\n",
              "      <td>-10.860800</td>\n",
              "      <td>-26.366699</td>\n",
              "      <td>-25.894699</td>\n",
              "      <td>...</td>\n",
              "      <td>3.08397</td>\n",
              "      <td>13.647900</td>\n",
              "      <td>1.473720</td>\n",
              "      <td>-7323.120117</td>\n",
              "      <td>643.177002</td>\n",
              "      <td>594.778992</td>\n",
              "      <td>0</td>\n",
              "      <td>0</td>\n",
              "      <td>0</td>\n",
              "      <td>A</td>\n",
              "    </tr>\n",
              "  </tbody>\n",
              "</table>\n",
              "<p>5 rows × 32 columns</p>\n",
              "</div>"
            ],
            "text/plain": [
              "   id  crew experiment      time  seat    eeg_fp1     eeg_f7     eeg_f8  \\\n",
              "0   0     1       LOFT  0.000000     0  17.899500   6.127830   0.994807   \n",
              "1   1     1       LOFT  0.000000     1  45.883202  94.749001  23.290800   \n",
              "2   2     1       LOFT  0.003906     0  33.120098  28.356501  -7.239220   \n",
              "3   3     1       LOFT  0.003906     1  43.280102  95.887001  18.702299   \n",
              "4   4     1       LOFT  0.007812     0   7.929110   3.460380 -10.860800   \n",
              "\n",
              "      eeg_t4     eeg_t6  ...    eeg_c3       eeg_cz    eeg_o2          ecg  \\\n",
              "0 -28.206200 -47.695499  ...  31.83810    17.075600 -8.137350 -7323.120117   \n",
              "1   1.392000   2.060940  ...   9.66785  1169.239990 -0.024414 -3335.080078   \n",
              "2  -7.690860 -25.833799  ...  36.01860    24.356600  0.956158 -7323.120117   \n",
              "3  -1.432890  -4.232600  ...   3.87811  1159.400024 -0.047607 -3335.080078   \n",
              "4 -26.366699 -25.894699  ...   3.08397    13.647900  1.473720 -7323.120117   \n",
              "\n",
              "            r         gsr  experiment_DA  experiment_CA  experiment_SS  \\\n",
              "0  643.177002  594.778992              0              0              0   \n",
              "1  826.724976  136.235001              0              0              0   \n",
              "2  643.177002  594.778992              0              0              0   \n",
              "3  826.724976  136.235001              0              0              0   \n",
              "4  643.177002  594.778992              0              0              0   \n",
              "\n",
              "   pred_op  \n",
              "0        A  \n",
              "1        A  \n",
              "2        A  \n",
              "3        A  \n",
              "4        A  \n",
              "\n",
              "[5 rows x 32 columns]"
            ]
          },
          "metadata": {
            "tags": []
          },
          "execution_count": 62
        }
      ]
    },
    {
      "metadata": {
        "id": "a7q_zzKayWFg",
        "colab_type": "code",
        "colab": {}
      },
      "cell_type": "code",
      "source": [
        "k_range = range(0, len(test_df1))\n",
        "scores = []\n",
        "for k in k_range:\n",
        "    scores.append(rand_clf1.predict(test_df1[k:k+1][['crew', 'time', 'seat', 'eeg_fp1', 'eeg_f7', 'eeg_f8', 'eeg_t4', 'eeg_t6', 'eeg_t5', 'eeg_t3', 'eeg_fp2', 'eeg_o1', 'eeg_p3', 'eeg_pz', 'eeg_f3', 'eeg_fz', 'eeg_f4', 'eeg_c4', 'eeg_p4', 'eeg_poz', 'eeg_c3', 'eeg_cz', 'eeg_o2', 'ecg', 'r']]))"
      ],
      "execution_count": 0,
      "outputs": []
    },
    {
      "metadata": {
        "id": "iZsbNpXkzlOW",
        "colab_type": "code",
        "colab": {}
      },
      "cell_type": "code",
      "source": [
        "op=rand_clf1.predict(test_df1[['crew', 'time', 'seat', 'eeg_fp1', 'eeg_f7', 'eeg_f8', 'eeg_t4', 'eeg_t6', 'eeg_t5', 'eeg_t3', 'eeg_fp2', 'eeg_o1', 'eeg_p3', 'eeg_pz', 'eeg_f3', 'eeg_fz', 'eeg_f4', 'eeg_c4', 'eeg_p4', 'eeg_poz', 'eeg_c3', 'eeg_cz', 'eeg_o2', 'ecg', 'r']])"
      ],
      "execution_count": 0,
      "outputs": []
    },
    {
      "metadata": {
        "id": "4KUl86ToyxJG",
        "colab_type": "code",
        "colab": {
          "base_uri": "https://localhost:8080/",
          "height": 105
        },
        "outputId": "f6b10030-9af0-468a-9b49-b33540aaf6d8"
      },
      "cell_type": "code",
      "source": [
        "scores"
      ],
      "execution_count": 67,
      "outputs": [
        {
          "output_type": "execute_result",
          "data": {
            "text/plain": [
              "[array(['A'], dtype=object),\n",
              " array(['A'], dtype=object),\n",
              " array(['A'], dtype=object),\n",
              " array(['A'], dtype=object),\n",
              " array(['A'], dtype=object)]"
            ]
          },
          "metadata": {
            "tags": []
          },
          "execution_count": 67
        }
      ]
    },
    {
      "metadata": {
        "id": "bDd3BmF4mNHx",
        "colab_type": "code",
        "colab": {}
      },
      "cell_type": "code",
      "source": [
        "test_df1['pred_op'] = op"
      ],
      "execution_count": 0,
      "outputs": []
    },
    {
      "metadata": {
        "id": "ehMOdk0ux-k2",
        "colab_type": "code",
        "colab": {
          "base_uri": "https://localhost:8080/",
          "height": 248
        },
        "outputId": "f030d10d-dd01-47ac-83d1-e0a7adf3c480"
      },
      "cell_type": "code",
      "source": [
        "test_df1"
      ],
      "execution_count": 75,
      "outputs": [
        {
          "output_type": "execute_result",
          "data": {
            "text/html": [
              "<div>\n",
              "<style scoped>\n",
              "    .dataframe tbody tr th:only-of-type {\n",
              "        vertical-align: middle;\n",
              "    }\n",
              "\n",
              "    .dataframe tbody tr th {\n",
              "        vertical-align: top;\n",
              "    }\n",
              "\n",
              "    .dataframe thead th {\n",
              "        text-align: right;\n",
              "    }\n",
              "</style>\n",
              "<table border=\"1\" class=\"dataframe\">\n",
              "  <thead>\n",
              "    <tr style=\"text-align: right;\">\n",
              "      <th></th>\n",
              "      <th>id</th>\n",
              "      <th>crew</th>\n",
              "      <th>experiment</th>\n",
              "      <th>time</th>\n",
              "      <th>seat</th>\n",
              "      <th>eeg_fp1</th>\n",
              "      <th>eeg_f7</th>\n",
              "      <th>eeg_f8</th>\n",
              "      <th>eeg_t4</th>\n",
              "      <th>eeg_t6</th>\n",
              "      <th>...</th>\n",
              "      <th>eeg_c3</th>\n",
              "      <th>eeg_cz</th>\n",
              "      <th>eeg_o2</th>\n",
              "      <th>ecg</th>\n",
              "      <th>r</th>\n",
              "      <th>gsr</th>\n",
              "      <th>experiment_DA</th>\n",
              "      <th>experiment_CA</th>\n",
              "      <th>experiment_SS</th>\n",
              "      <th>pred_op</th>\n",
              "    </tr>\n",
              "  </thead>\n",
              "  <tbody>\n",
              "    <tr>\n",
              "      <th>0</th>\n",
              "      <td>0</td>\n",
              "      <td>1</td>\n",
              "      <td>LOFT</td>\n",
              "      <td>0.000000</td>\n",
              "      <td>0</td>\n",
              "      <td>17.899500</td>\n",
              "      <td>6.127830</td>\n",
              "      <td>0.994807</td>\n",
              "      <td>-28.206200</td>\n",
              "      <td>-47.695499</td>\n",
              "      <td>...</td>\n",
              "      <td>31.83810</td>\n",
              "      <td>17.075600</td>\n",
              "      <td>-8.137350</td>\n",
              "      <td>-7323.120117</td>\n",
              "      <td>643.177002</td>\n",
              "      <td>594.778992</td>\n",
              "      <td>0</td>\n",
              "      <td>0</td>\n",
              "      <td>0</td>\n",
              "      <td>A</td>\n",
              "    </tr>\n",
              "    <tr>\n",
              "      <th>1</th>\n",
              "      <td>1</td>\n",
              "      <td>1</td>\n",
              "      <td>LOFT</td>\n",
              "      <td>0.000000</td>\n",
              "      <td>1</td>\n",
              "      <td>45.883202</td>\n",
              "      <td>94.749001</td>\n",
              "      <td>23.290800</td>\n",
              "      <td>1.392000</td>\n",
              "      <td>2.060940</td>\n",
              "      <td>...</td>\n",
              "      <td>9.66785</td>\n",
              "      <td>1169.239990</td>\n",
              "      <td>-0.024414</td>\n",
              "      <td>-3335.080078</td>\n",
              "      <td>826.724976</td>\n",
              "      <td>136.235001</td>\n",
              "      <td>0</td>\n",
              "      <td>0</td>\n",
              "      <td>0</td>\n",
              "      <td>A</td>\n",
              "    </tr>\n",
              "    <tr>\n",
              "      <th>2</th>\n",
              "      <td>2</td>\n",
              "      <td>1</td>\n",
              "      <td>LOFT</td>\n",
              "      <td>0.003906</td>\n",
              "      <td>0</td>\n",
              "      <td>33.120098</td>\n",
              "      <td>28.356501</td>\n",
              "      <td>-7.239220</td>\n",
              "      <td>-7.690860</td>\n",
              "      <td>-25.833799</td>\n",
              "      <td>...</td>\n",
              "      <td>36.01860</td>\n",
              "      <td>24.356600</td>\n",
              "      <td>0.956158</td>\n",
              "      <td>-7323.120117</td>\n",
              "      <td>643.177002</td>\n",
              "      <td>594.778992</td>\n",
              "      <td>0</td>\n",
              "      <td>0</td>\n",
              "      <td>0</td>\n",
              "      <td>A</td>\n",
              "    </tr>\n",
              "    <tr>\n",
              "      <th>3</th>\n",
              "      <td>3</td>\n",
              "      <td>1</td>\n",
              "      <td>LOFT</td>\n",
              "      <td>0.003906</td>\n",
              "      <td>1</td>\n",
              "      <td>43.280102</td>\n",
              "      <td>95.887001</td>\n",
              "      <td>18.702299</td>\n",
              "      <td>-1.432890</td>\n",
              "      <td>-4.232600</td>\n",
              "      <td>...</td>\n",
              "      <td>3.87811</td>\n",
              "      <td>1159.400024</td>\n",
              "      <td>-0.047607</td>\n",
              "      <td>-3335.080078</td>\n",
              "      <td>826.724976</td>\n",
              "      <td>136.235001</td>\n",
              "      <td>0</td>\n",
              "      <td>0</td>\n",
              "      <td>0</td>\n",
              "      <td>A</td>\n",
              "    </tr>\n",
              "    <tr>\n",
              "      <th>4</th>\n",
              "      <td>4</td>\n",
              "      <td>1</td>\n",
              "      <td>LOFT</td>\n",
              "      <td>0.007812</td>\n",
              "      <td>0</td>\n",
              "      <td>7.929110</td>\n",
              "      <td>3.460380</td>\n",
              "      <td>-10.860800</td>\n",
              "      <td>-26.366699</td>\n",
              "      <td>-25.894699</td>\n",
              "      <td>...</td>\n",
              "      <td>3.08397</td>\n",
              "      <td>13.647900</td>\n",
              "      <td>1.473720</td>\n",
              "      <td>-7323.120117</td>\n",
              "      <td>643.177002</td>\n",
              "      <td>594.778992</td>\n",
              "      <td>0</td>\n",
              "      <td>0</td>\n",
              "      <td>0</td>\n",
              "      <td>A</td>\n",
              "    </tr>\n",
              "  </tbody>\n",
              "</table>\n",
              "<p>5 rows × 32 columns</p>\n",
              "</div>"
            ],
            "text/plain": [
              "   id  crew experiment      time  seat    eeg_fp1     eeg_f7     eeg_f8  \\\n",
              "0   0     1       LOFT  0.000000     0  17.899500   6.127830   0.994807   \n",
              "1   1     1       LOFT  0.000000     1  45.883202  94.749001  23.290800   \n",
              "2   2     1       LOFT  0.003906     0  33.120098  28.356501  -7.239220   \n",
              "3   3     1       LOFT  0.003906     1  43.280102  95.887001  18.702299   \n",
              "4   4     1       LOFT  0.007812     0   7.929110   3.460380 -10.860800   \n",
              "\n",
              "      eeg_t4     eeg_t6  ...    eeg_c3       eeg_cz    eeg_o2          ecg  \\\n",
              "0 -28.206200 -47.695499  ...  31.83810    17.075600 -8.137350 -7323.120117   \n",
              "1   1.392000   2.060940  ...   9.66785  1169.239990 -0.024414 -3335.080078   \n",
              "2  -7.690860 -25.833799  ...  36.01860    24.356600  0.956158 -7323.120117   \n",
              "3  -1.432890  -4.232600  ...   3.87811  1159.400024 -0.047607 -3335.080078   \n",
              "4 -26.366699 -25.894699  ...   3.08397    13.647900  1.473720 -7323.120117   \n",
              "\n",
              "            r         gsr  experiment_DA  experiment_CA  experiment_SS  \\\n",
              "0  643.177002  594.778992              0              0              0   \n",
              "1  826.724976  136.235001              0              0              0   \n",
              "2  643.177002  594.778992              0              0              0   \n",
              "3  826.724976  136.235001              0              0              0   \n",
              "4  643.177002  594.778992              0              0              0   \n",
              "\n",
              "   pred_op  \n",
              "0        A  \n",
              "1        A  \n",
              "2        A  \n",
              "3        A  \n",
              "4        A  \n",
              "\n",
              "[5 rows x 32 columns]"
            ]
          },
          "metadata": {
            "tags": []
          },
          "execution_count": 75
        }
      ]
    }
  ]
}