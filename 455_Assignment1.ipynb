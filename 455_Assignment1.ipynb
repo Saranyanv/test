{
  "nbformat": 4,
  "nbformat_minor": 0,
  "metadata": {
    "colab": {
      "name": "Untitled10.ipynb",
      "version": "0.3.2",
      "provenance": [],
      "include_colab_link": true
    },
    "kernelspec": {
      "name": "python3",
      "display_name": "Python 3"
    }
  },
  "cells": [
    {
      "cell_type": "markdown",
      "metadata": {
        "id": "view-in-github",
        "colab_type": "text"
      },
      "source": [
        "<a href=\"https://colab.research.google.com/github/Saranyanv/test/blob/master/455_Assignment1.ipynb\" target=\"_parent\"><img src=\"https://colab.research.google.com/assets/colab-badge.svg\" alt=\"Open In Colab\"/></a>"
      ]
    },
    {
      "metadata": {
        "id": "UzdLtcUL1jYf",
        "colab_type": "text"
      },
      "cell_type": "markdown",
      "source": [
        "Source: https://catalog.data.gov/dataset/air-traffic-passenger-statistics"
      ]
    },
    {
      "metadata": {
        "id": "etGTxyf5aZbG",
        "colab_type": "code",
        "colab": {}
      },
      "cell_type": "code",
      "source": [
        "import os \n",
        "import numpy as np\n",
        "import zipfile\n",
        "from tqdm import tqdm\n",
        "from matplotlib import pyplot as plt\n",
        "from pandas import DataFrame\n",
        "import pandas as pd\n",
        "import seaborn as sns\n",
        "import io\n",
        "RANDOM_SEED = 42"
      ],
      "execution_count": 0,
      "outputs": []
    },
    {
      "metadata": {
        "id": "ylaUNgNIaaid",
        "colab_type": "code",
        "outputId": "deff2a75-164c-4d7d-b4a3-f43822d1c24e",
        "colab": {
          "resources": {
            "http://localhost:8080/nbextensions/google.colab/files.js": {
              "data": "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",
              "ok": true,
              "headers": [
                [
                  "content-type",
                  "application/javascript"
                ]
              ],
              "status": 200,
              "status_text": ""
            }
          },
          "base_uri": "https://localhost:8080/",
          "height": 75
        }
      },
      "cell_type": "code",
      "source": [
        "#sfo_air_traffic = pd.read_csv('C:\\\\Users\\\\Saranyan\\\\Dropbox\\\\MSPA\\\\Practical Machine Learning\\\\Week3\\\\Air_Traffic_Passenger_Statistics.csv', header=0)\n",
        "\n",
        "from google.colab import files\n",
        "uploaded = files.upload()"
      ],
      "execution_count": 2,
      "outputs": [
        {
          "output_type": "display_data",
          "data": {
            "text/html": [
              "\n",
              "     <input type=\"file\" id=\"files-6397101a-8c28-45b7-aa5b-5fc6195e5f59\" name=\"files[]\" multiple disabled />\n",
              "     <output id=\"result-6397101a-8c28-45b7-aa5b-5fc6195e5f59\">\n",
              "      Upload widget is only available when the cell has been executed in the\n",
              "      current browser session. Please rerun this cell to enable.\n",
              "      </output>\n",
              "      <script src=\"/nbextensions/google.colab/files.js\"></script> "
            ],
            "text/plain": [
              "<IPython.core.display.HTML object>"
            ]
          },
          "metadata": {
            "tags": []
          }
        },
        {
          "output_type": "stream",
          "text": [
            "Saving Air_Traffic_Passenger_Statistics.csv to Air_Traffic_Passenger_Statistics.csv\n"
          ],
          "name": "stdout"
        }
      ]
    },
    {
      "metadata": {
        "id": "bOgIw1xnbnW7",
        "colab_type": "code",
        "colab": {}
      },
      "cell_type": "code",
      "source": [
        "sfo_air_traffic = pd.read_csv(io.StringIO(uploaded['Air_Traffic_Passenger_Statistics.csv'].decode('utf-8')), sep = ',')"
      ],
      "execution_count": 0,
      "outputs": []
    },
    {
      "metadata": {
        "id": "nxwbkbwZhmb1",
        "colab_type": "code",
        "outputId": "fef6cf19-57fe-48a5-fe75-6294931721bf",
        "colab": {
          "base_uri": "https://localhost:8080/",
          "height": 352
        }
      },
      "cell_type": "code",
      "source": [
        "sfo_air_traffic.head()"
      ],
      "execution_count": 4,
      "outputs": [
        {
          "output_type": "execute_result",
          "data": {
            "text/html": [
              "<div>\n",
              "<style scoped>\n",
              "    .dataframe tbody tr th:only-of-type {\n",
              "        vertical-align: middle;\n",
              "    }\n",
              "\n",
              "    .dataframe tbody tr th {\n",
              "        vertical-align: top;\n",
              "    }\n",
              "\n",
              "    .dataframe thead th {\n",
              "        text-align: right;\n",
              "    }\n",
              "</style>\n",
              "<table border=\"1\" class=\"dataframe\">\n",
              "  <thead>\n",
              "    <tr style=\"text-align: right;\">\n",
              "      <th></th>\n",
              "      <th>Activity Period</th>\n",
              "      <th>Operating Airline</th>\n",
              "      <th>Operating Airline IATA Code</th>\n",
              "      <th>Published Airline</th>\n",
              "      <th>Published Airline IATA Code</th>\n",
              "      <th>GEO Summary</th>\n",
              "      <th>GEO Region</th>\n",
              "      <th>Activity Type Code</th>\n",
              "      <th>Price Category Code</th>\n",
              "      <th>Terminal</th>\n",
              "      <th>Boarding Area</th>\n",
              "      <th>Passenger Count</th>\n",
              "    </tr>\n",
              "  </thead>\n",
              "  <tbody>\n",
              "    <tr>\n",
              "      <th>0</th>\n",
              "      <td>201812</td>\n",
              "      <td>ABC Aerolineas S.A. de C.V. dba Interjet</td>\n",
              "      <td>4O</td>\n",
              "      <td>ABC Aerolineas S.A. de C.V. dba Interjet</td>\n",
              "      <td>4O</td>\n",
              "      <td>International</td>\n",
              "      <td>Mexico</td>\n",
              "      <td>Deplaned</td>\n",
              "      <td>Other</td>\n",
              "      <td>International</td>\n",
              "      <td>A</td>\n",
              "      <td>5179</td>\n",
              "    </tr>\n",
              "    <tr>\n",
              "      <th>1</th>\n",
              "      <td>201812</td>\n",
              "      <td>Volaris Airlines</td>\n",
              "      <td>Y4</td>\n",
              "      <td>Volaris Airlines</td>\n",
              "      <td>Y4</td>\n",
              "      <td>International</td>\n",
              "      <td>Mexico</td>\n",
              "      <td>Enplaned</td>\n",
              "      <td>Low Fare</td>\n",
              "      <td>International</td>\n",
              "      <td>A</td>\n",
              "      <td>2791</td>\n",
              "    </tr>\n",
              "    <tr>\n",
              "      <th>2</th>\n",
              "      <td>201812</td>\n",
              "      <td>Volaris Airlines</td>\n",
              "      <td>Y4</td>\n",
              "      <td>Volaris Airlines</td>\n",
              "      <td>Y4</td>\n",
              "      <td>International</td>\n",
              "      <td>Mexico</td>\n",
              "      <td>Deplaned</td>\n",
              "      <td>Low Fare</td>\n",
              "      <td>International</td>\n",
              "      <td>A</td>\n",
              "      <td>2111</td>\n",
              "    </tr>\n",
              "    <tr>\n",
              "      <th>3</th>\n",
              "      <td>201812</td>\n",
              "      <td>Virgin Atlantic</td>\n",
              "      <td>VS</td>\n",
              "      <td>Virgin Atlantic</td>\n",
              "      <td>VS</td>\n",
              "      <td>International</td>\n",
              "      <td>Europe</td>\n",
              "      <td>Enplaned</td>\n",
              "      <td>Other</td>\n",
              "      <td>International</td>\n",
              "      <td>A</td>\n",
              "      <td>11359</td>\n",
              "    </tr>\n",
              "    <tr>\n",
              "      <th>4</th>\n",
              "      <td>201812</td>\n",
              "      <td>Virgin Atlantic</td>\n",
              "      <td>VS</td>\n",
              "      <td>Virgin Atlantic</td>\n",
              "      <td>VS</td>\n",
              "      <td>International</td>\n",
              "      <td>Europe</td>\n",
              "      <td>Deplaned</td>\n",
              "      <td>Other</td>\n",
              "      <td>International</td>\n",
              "      <td>A</td>\n",
              "      <td>10645</td>\n",
              "    </tr>\n",
              "  </tbody>\n",
              "</table>\n",
              "</div>"
            ],
            "text/plain": [
              "   Activity Period                         Operating Airline  \\\n",
              "0           201812  ABC Aerolineas S.A. de C.V. dba Interjet   \n",
              "1           201812                          Volaris Airlines   \n",
              "2           201812                          Volaris Airlines   \n",
              "3           201812                           Virgin Atlantic   \n",
              "4           201812                           Virgin Atlantic   \n",
              "\n",
              "  Operating Airline IATA Code                         Published Airline  \\\n",
              "0                          4O  ABC Aerolineas S.A. de C.V. dba Interjet   \n",
              "1                          Y4                          Volaris Airlines   \n",
              "2                          Y4                          Volaris Airlines   \n",
              "3                          VS                           Virgin Atlantic   \n",
              "4                          VS                           Virgin Atlantic   \n",
              "\n",
              "  Published Airline IATA Code    GEO Summary GEO Region Activity Type Code  \\\n",
              "0                          4O  International     Mexico           Deplaned   \n",
              "1                          Y4  International     Mexico           Enplaned   \n",
              "2                          Y4  International     Mexico           Deplaned   \n",
              "3                          VS  International     Europe           Enplaned   \n",
              "4                          VS  International     Europe           Deplaned   \n",
              "\n",
              "  Price Category Code       Terminal Boarding Area  Passenger Count  \n",
              "0               Other  International             A             5179  \n",
              "1            Low Fare  International             A             2791  \n",
              "2            Low Fare  International             A             2111  \n",
              "3               Other  International             A            11359  \n",
              "4               Other  International             A            10645  "
            ]
          },
          "metadata": {
            "tags": []
          },
          "execution_count": 4
        }
      ]
    },
    {
      "metadata": {
        "id": "B7_9HvEZbose",
        "colab_type": "code",
        "outputId": "be66b403-dc25-4b5a-c740-9380f3fdc1d9",
        "colab": {
          "base_uri": "https://localhost:8080/",
          "height": 316
        }
      },
      "cell_type": "code",
      "source": [
        "sfo_air_traffic.info()"
      ],
      "execution_count": 5,
      "outputs": [
        {
          "output_type": "stream",
          "text": [
            "<class 'pandas.core.frame.DataFrame'>\n",
            "RangeIndex: 19815 entries, 0 to 19814\n",
            "Data columns (total 12 columns):\n",
            "Activity Period                19815 non-null int64\n",
            "Operating Airline              19815 non-null object\n",
            "Operating Airline IATA Code    19752 non-null object\n",
            "Published Airline              19815 non-null object\n",
            "Published Airline IATA Code    19752 non-null object\n",
            "GEO Summary                    19815 non-null object\n",
            "GEO Region                     19815 non-null object\n",
            "Activity Type Code             19815 non-null object\n",
            "Price Category Code            19815 non-null object\n",
            "Terminal                       19815 non-null object\n",
            "Boarding Area                  19815 non-null object\n",
            "Passenger Count                19815 non-null int64\n",
            "dtypes: int64(2), object(10)\n",
            "memory usage: 1.8+ MB\n"
          ],
          "name": "stdout"
        }
      ]
    },
    {
      "metadata": {
        "id": "fY0z-FCUc4YO",
        "colab_type": "code",
        "outputId": "c74d7b8d-3a83-4535-9575-e90536b73a0e",
        "colab": {
          "base_uri": "https://localhost:8080/",
          "height": 52
        }
      },
      "cell_type": "code",
      "source": [
        "print('Shape of the SFO Passenger Traffic DataFrame: Rows, Columns')\n",
        "sfo_air_traffic.shape"
      ],
      "execution_count": 6,
      "outputs": [
        {
          "output_type": "stream",
          "text": [
            "Shape of the SFO Passenger Traffic DataFrame: Rows, Columns\n"
          ],
          "name": "stdout"
        },
        {
          "output_type": "execute_result",
          "data": {
            "text/plain": [
              "(19815, 12)"
            ]
          },
          "metadata": {
            "tags": []
          },
          "execution_count": 6
        }
      ]
    },
    {
      "metadata": {
        "id": "J-ru_lSRg9nk",
        "colab_type": "code",
        "outputId": "88b9531a-d3d2-4eb3-98a5-2fe2954218a1",
        "colab": {
          "base_uri": "https://localhost:8080/",
          "height": 193
        }
      },
      "cell_type": "code",
      "source": [
        "print('Descriptive statistics of the SFO Passenger Traffic DataFrame:')\n",
        "print(sfo_air_traffic.describe())"
      ],
      "execution_count": 7,
      "outputs": [
        {
          "output_type": "stream",
          "text": [
            "Descriptive statistics of the SFO Passenger Traffic DataFrame:\n",
            "       Activity Period  Passenger Count\n",
            "count     19815.000000     19815.000000\n",
            "mean     201208.862125     29980.150694\n",
            "std         399.483206     61411.417938\n",
            "min      200507.000000         1.000000\n",
            "25%      200901.000000      5327.000000\n",
            "50%      201208.000000      9158.000000\n",
            "75%      201602.000000     20545.000000\n",
            "max      201812.000000    659837.000000\n"
          ],
          "name": "stdout"
        }
      ]
    },
    {
      "metadata": {
        "id": "-_Q6G506n68E",
        "colab_type": "code",
        "colab": {}
      },
      "cell_type": "code",
      "source": [
        "sfo_air_traffic_big4 = sfo_air_traffic.loc[(sfo_air_traffic['Published Airline IATA Code'].isin(['AA', 'UA', 'B6', 'DL'])) & (sfo_air_traffic['Activity Period'] >= 201501) & (sfo_air_traffic['Activity Type Code'] == 'Enplaned')]"
      ],
      "execution_count": 0,
      "outputs": []
    },
    {
      "metadata": {
        "id": "HvLM_WR8j2vW",
        "colab_type": "code",
        "colab": {}
      },
      "cell_type": "code",
      "source": [
        "sfo_air_traffic_big4['Airline'] = 'United Airlines'"
      ],
      "execution_count": 0,
      "outputs": []
    },
    {
      "metadata": {
        "id": "D6Zneo1zojbQ",
        "colab_type": "code",
        "colab": {}
      },
      "cell_type": "code",
      "source": [
        "sfo_air_traffic_big4.loc[sfo_air_traffic_big4['Published Airline IATA Code'].isin(['AA', 'B6', 'DL']), 'Airline'] = 'Other Carriers'"
      ],
      "execution_count": 0,
      "outputs": []
    },
    {
      "metadata": {
        "id": "h39qSDRZozlV",
        "colab_type": "code",
        "colab": {}
      },
      "cell_type": "code",
      "source": [
        "sfo_air_traffic_UA=DataFrame({'Passenger Counts' : sfo_air_traffic_big4.groupby(['Airline', 'Activity Period'])['Passenger Count'].sum()}).reset_index()"
      ],
      "execution_count": 0,
      "outputs": []
    },
    {
      "metadata": {
        "id": "CAdA85PQS-wB",
        "colab_type": "code",
        "colab": {}
      },
      "cell_type": "code",
      "source": [
        "sfo_air_traffic_AA_UA['Activity Period Formatted']=pd.to_datetime(sfo_air_traffic_AA_UA['Activity Period'], format='%Y%m')"
      ],
      "execution_count": 0,
      "outputs": []
    },
    {
      "metadata": {
        "id": "rPy20T7zNTtY",
        "colab_type": "code",
        "colab": {}
      },
      "cell_type": "code",
      "source": [
        "#sfo_EK_Enplane_air_traffic = sfo_air_traffic.loc[(sfo_air_traffic['Published Airline IATA Code'].isin(['AA', 'UA', 'DL'])) & (sfo_air_traffic['Activity Period'] >= 201500) & (sfo_air_traffic['Activity Type Code'] == 'Deplaned') & (sfo_air_traffic['Terminal'] == 'International')]"
      ],
      "execution_count": 0,
      "outputs": []
    },
    {
      "metadata": {
        "id": "wM7hGEuJpii7",
        "colab_type": "code",
        "colab": {}
      },
      "cell_type": "code",
      "source": [
        "#sfo_air_traffic.loc[(sfo_air_traffic['Published Airline IATA Code'].isin(['AA', 'UA', 'B6', 'DL'])) & (sfo_air_traffic['Activity Period'] >= 201501) & (sfo_air_traffic['Activity Type Code'] == 'Enplaned')].groupby(['Published Airline IATA Code', 'Activity Period'])['Passenger Count'].sum()"
      ],
      "execution_count": 0,
      "outputs": []
    },
    {
      "metadata": {
        "id": "vGvY0u0vj5js",
        "colab_type": "code",
        "outputId": "6c05e7e0-c4b5-4d47-d670-afe32e41475f",
        "colab": {
          "base_uri": "https://localhost:8080/",
          "height": 410
        }
      },
      "cell_type": "code",
      "source": [
        "import matplotlib.ticker as ticker\n",
        "import matplotlib.dates as mdates\n",
        "#import seaborn.apionly as sns\n",
        "sns.set(rc={'figure.figsize':(9,6)})\n",
        "sns.set_style(\"dark\")\n",
        "\n",
        "fig = plt.figure()\n",
        "ax = fig.add_subplot(111)\n",
        "\n",
        "years = mdates.YearLocator()\n",
        "months = mdates.MonthLocator(interval=3)\n",
        "monthsFmt = mdates.DateFormatter('%m')\n",
        "yearsFmt = mdates.DateFormatter('%Y')\n",
        "\n",
        "plt.grid(True)\n",
        "#ax.xaxis.set_ticklabels([])\n",
        "\n",
        "\n",
        "sns.lineplot(x=\"Activity Period Formatted\", y=\"Passenger Counts\", hue=\"Airline\",data=sfo_air_traffic_AA_UA, linewidth=2.0, ci=None).set_title(\"SFO - Passenger Traffic - United vs Others\")\n",
        "ax.set_xticks([])\n",
        "plt.legend(title='Airline', loc='upper left', labels=['American, JetBlue, Delta', 'United'])\n",
        "\n",
        "#ax.xaxis.set_minor_locator(months)\n",
        "#ax.xaxis.set_minor_formatter(ticker.FuncFormatter(monthsFmt))\n",
        "ax.xaxis.set_major_locator(years)\n",
        "ax.xaxis.set_major_formatter(yearsFmt)\n",
        "#plt.setp(ax.xaxis.get_minorticklabels(), rotation=45)\n",
        "#plt.setp(ax.get_xmajorticklabels(), rotation=45)"
      ],
      "execution_count": 299,
      "outputs": [
        {
          "output_type": "display_data",
          "data": {
            "image/png": "[encoded data removed]",
            "text/plain": [
              "<Figure size 648x432 with 1 Axes>"
            ]
          },
          "metadata": {
            "tags": []
          }
        }
      ]
    },
    {
      "metadata": {
        "id": "x8j1dRf8390r",
        "colab_type": "code",
        "colab": {}
      },
      "cell_type": "code",
      "source": [
        "#sfo_air_traffic_AA_UA_PIVOT=sfo_air_traffic_AA_UA.pivot(index='Activity Period Formatted', columns='Published Airline IATA Code', values='Passenger Counts')"
      ],
      "execution_count": 0,
      "outputs": []
    },
    {
      "metadata": {
        "id": "LidAdNsQ7d_Y",
        "colab_type": "code",
        "colab": {}
      },
      "cell_type": "code",
      "source": [
        "sfo_air_traffic_AA_UA_PIVOT=pd.pivot_table(sfo_air_traffic_AA_UA, values = 'Passenger Counts', index=['Activity Period'], columns = 'Published Airline IATA Code').reset_index()"
      ],
      "execution_count": 0,
      "outputs": []
    },
    {
      "metadata": {
        "id": "VHeJY5SN5IC-",
        "colab_type": "code",
        "colab": {
          "base_uri": "https://localhost:8080/",
          "height": 199
        },
        "outputId": "8bbf2ec9-a143-45f6-9533-19dc6c2dad9c"
      },
      "cell_type": "code",
      "source": [
        "sfo_air_traffic_AA_UA_PIVOT.head(5)"
      ],
      "execution_count": 315,
      "outputs": [
        {
          "output_type": "execute_result",
          "data": {
            "text/html": [
              "<div>\n",
              "<style scoped>\n",
              "    .dataframe tbody tr th:only-of-type {\n",
              "        vertical-align: middle;\n",
              "    }\n",
              "\n",
              "    .dataframe tbody tr th {\n",
              "        vertical-align: top;\n",
              "    }\n",
              "\n",
              "    .dataframe thead th {\n",
              "        text-align: right;\n",
              "    }\n",
              "</style>\n",
              "<table border=\"1\" class=\"dataframe\">\n",
              "  <thead>\n",
              "    <tr style=\"text-align: right;\">\n",
              "      <th>Published Airline IATA Code</th>\n",
              "      <th>Activity Period</th>\n",
              "      <th>AA</th>\n",
              "      <th>B6</th>\n",
              "      <th>DL</th>\n",
              "      <th>UA</th>\n",
              "    </tr>\n",
              "  </thead>\n",
              "  <tbody>\n",
              "    <tr>\n",
              "      <th>0</th>\n",
              "      <td>201501</td>\n",
              "      <td>111441</td>\n",
              "      <td>46785</td>\n",
              "      <td>130103</td>\n",
              "      <td>788622</td>\n",
              "    </tr>\n",
              "    <tr>\n",
              "      <th>1</th>\n",
              "      <td>201502</td>\n",
              "      <td>102413</td>\n",
              "      <td>46569</td>\n",
              "      <td>122766</td>\n",
              "      <td>729106</td>\n",
              "    </tr>\n",
              "    <tr>\n",
              "      <th>2</th>\n",
              "      <td>201503</td>\n",
              "      <td>124194</td>\n",
              "      <td>59523</td>\n",
              "      <td>169730</td>\n",
              "      <td>906129</td>\n",
              "    </tr>\n",
              "    <tr>\n",
              "      <th>3</th>\n",
              "      <td>201504</td>\n",
              "      <td>123648</td>\n",
              "      <td>60254</td>\n",
              "      <td>170106</td>\n",
              "      <td>889197</td>\n",
              "    </tr>\n",
              "    <tr>\n",
              "      <th>4</th>\n",
              "      <td>201505</td>\n",
              "      <td>124173</td>\n",
              "      <td>61200</td>\n",
              "      <td>183202</td>\n",
              "      <td>972194</td>\n",
              "    </tr>\n",
              "  </tbody>\n",
              "</table>\n",
              "</div>"
            ],
            "text/plain": [
              "Published Airline IATA Code  Activity Period      AA     B6      DL      UA\n",
              "0                                     201501  111441  46785  130103  788622\n",
              "1                                     201502  102413  46569  122766  729106\n",
              "2                                     201503  124194  59523  169730  906129\n",
              "3                                     201504  123648  60254  170106  889197\n",
              "4                                     201505  124173  61200  183202  972194"
            ]
          },
          "metadata": {
            "tags": []
          },
          "execution_count": 315
        }
      ]
    },
    {
      "metadata": {
        "id": "PAY4PZ-44nOF",
        "colab_type": "code",
        "colab": {}
      },
      "cell_type": "code",
      "source": [
        "sfo_air_traffic_AA_UA_PIVOT.columns=['Activity Period', 'American' , 'jetBlue', 'Delta', 'United']"
      ],
      "execution_count": 0,
      "outputs": []
    },
    {
      "metadata": {
        "id": "nFhDT2xE8O7A",
        "colab_type": "code",
        "colab": {
          "base_uri": "https://localhost:8080/",
          "height": 427
        },
        "outputId": "c85e3e42-1f8e-4eab-8cad-de683315f373"
      },
      "cell_type": "code",
      "source": [
        "plt.figure(figsize=(9,6))\n",
        "#ax = fig.add_subplot(111)\n",
        "\n",
        "#years = mdates.YearLocator()\n",
        "#months = mdates.MonthLocator(interval=3)\n",
        "#monthsFmt = mdates.DateFormatter('%m')\n",
        "#yearsFmt = mdates.DateFormatter('%Y')\n",
        "\n",
        "plt.stackplot(sfo_air_traffic_AA_UA_PIVOT['Activity Period']\n",
        "              ,sfo_air_traffic_AA_UA_PIVOT['American']\n",
        "              ,sfo_air_traffic_AA_UA_PIVOT['jetBlue']\n",
        "              ,sfo_air_traffic_AA_UA_PIVOT['Delta']\n",
        "              , labels=['American','jetBlue','Delta']\n",
        "              , baseline='sym'\n",
        "             )\n",
        "plt.xlabel('Activity Period')\n",
        "plt.title('SFO - Market share - American, United, jetBlue')\n",
        "plt.legend(loc='lower left', ncol=3, mode='expand')"
      ],
      "execution_count": 321,
      "outputs": [
        {
          "output_type": "execute_result",
          "data": {
            "text/plain": [
              "<matplotlib.legend.Legend at 0x7f7264d5a940>"
            ]
          },
          "metadata": {
            "tags": []
          },
          "execution_count": 321
        },
        {
          "output_type": "display_data",
          "data": {
            "image/png": "[encoded data removed]",
            "text/plain": [
              "<Figure size 648x432 with 1 Axes>"
            ]
          },
          "metadata": {
            "tags": []
          }
        }
      ]
    }
  ]
}