{
  "nbformat": 4,
  "nbformat_minor": 0,
  "metadata": {
    "colab": {
      "name": "Untitled10.ipynb",
      "version": "0.3.2",
      "provenance": [],
      "include_colab_link": true
    },
    "kernelspec": {
      "name": "python3",
      "display_name": "Python 3"
    }
  },
  "cells": [
    {
      "cell_type": "markdown",
      "metadata": {
        "id": "view-in-github",
        "colab_type": "text"
      },
      "source": [
        "<a href=\"https://colab.research.google.com/github/Saranyanv/test/blob/master/455_Assignment3.ipynb\" target=\"_parent\"><img src=\"https://colab.research.google.com/assets/colab-badge.svg\" alt=\"Open In Colab\"/></a>"
      ]
    },
    {
      "cell_type": "markdown",
      "metadata": {
        "id": "UzdLtcUL1jYf",
        "colab_type": "text"
      },
      "source": [
        "Source: https://www.kaggle.com/vjchoudhary7/customer-segmentation-tutorial-in-python/downloads/customer-segmentation-tutorial-in-python.zip/1"
      ]
    },
    {
      "cell_type": "code",
      "metadata": {
        "id": "etGTxyf5aZbG",
        "colab_type": "code",
        "colab": {}
      },
      "source": [
        "import os \n",
        "import numpy as np\n",
        "import zipfile\n",
        "from tqdm import tqdm\n",
        "from pandas import DataFrame\n",
        "import pandas as pd\n",
        "import io\n",
        "RANDOM_SEED = 42"
      ],
      "execution_count": 0,
      "outputs": []
    },
    {
      "cell_type": "code",
      "metadata": {
        "id": "ylaUNgNIaaid",
        "colab_type": "code",
        "outputId": "9b6685b7-bb9a-4ce2-e242-593f416e61b9",
        "colab": {
          "resources": {
            "http://localhost:8080/nbextensions/google.colab/files.js": {
              "data": "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",
              "ok": true,
              "headers": [
                [
                  "content-type",
                  "application/javascript"
                ]
              ],
              "status": 200,
              "status_text": ""
            }
          },
          "base_uri": "https://localhost:8080/",
          "height": 75
        }
      },
      "source": [
        "from google.colab import files\n",
        "uploaded = files.upload()"
      ],
      "execution_count": 2,
      "outputs": [
        {
          "output_type": "display_data",
          "data": {
            "text/html": [
              "\n",
              "     <input type=\"file\" id=\"files-78d1083d-f848-4284-997c-af26d891bd16\" name=\"files[]\" multiple disabled />\n",
              "     <output id=\"result-78d1083d-f848-4284-997c-af26d891bd16\">\n",
              "      Upload widget is only available when the cell has been executed in the\n",
              "      current browser session. Please rerun this cell to enable.\n",
              "      </output>\n",
              "      <script src=\"/nbextensions/google.colab/files.js\"></script> "
            ],
            "text/plain": [
              "<IPython.core.display.HTML object>"
            ]
          },
          "metadata": {
            "tags": []
          }
        },
        {
          "output_type": "stream",
          "text": [
            "Saving Mall_Customers.csv to Mall_Customers.csv\n"
          ],
          "name": "stdout"
        }
      ]
    },
    {
      "cell_type": "code",
      "metadata": {
        "id": "bOgIw1xnbnW7",
        "colab_type": "code",
        "colab": {}
      },
      "source": [
        "Mall_Customers = pd.read_csv(io.StringIO(uploaded['Mall_Customers.csv'].decode('utf-8')), sep = ',')"
      ],
      "execution_count": 0,
      "outputs": []
    },
    {
      "cell_type": "code",
      "metadata": {
        "id": "nxwbkbwZhmb1",
        "colab_type": "code",
        "outputId": "4e0b04ba-14d1-479b-a351-1ecd48894dbd",
        "colab": {
          "base_uri": "https://localhost:8080/",
          "height": 199
        }
      },
      "source": [
        "Mall_Customers.head()"
      ],
      "execution_count": 4,
      "outputs": [
        {
          "output_type": "execute_result",
          "data": {
            "text/html": [
              "<div>\n",
              "<style scoped>\n",
              "    .dataframe tbody tr th:only-of-type {\n",
              "        vertical-align: middle;\n",
              "    }\n",
              "\n",
              "    .dataframe tbody tr th {\n",
              "        vertical-align: top;\n",
              "    }\n",
              "\n",
              "    .dataframe thead th {\n",
              "        text-align: right;\n",
              "    }\n",
              "</style>\n",
              "<table border=\"1\" class=\"dataframe\">\n",
              "  <thead>\n",
              "    <tr style=\"text-align: right;\">\n",
              "      <th></th>\n",
              "      <th>CustomerID</th>\n",
              "      <th>Gender</th>\n",
              "      <th>Age</th>\n",
              "      <th>Annual Income (k$)</th>\n",
              "      <th>Spending Score (1-100)</th>\n",
              "    </tr>\n",
              "  </thead>\n",
              "  <tbody>\n",
              "    <tr>\n",
              "      <th>0</th>\n",
              "      <td>1</td>\n",
              "      <td>Male</td>\n",
              "      <td>19</td>\n",
              "      <td>15</td>\n",
              "      <td>39</td>\n",
              "    </tr>\n",
              "    <tr>\n",
              "      <th>1</th>\n",
              "      <td>2</td>\n",
              "      <td>Male</td>\n",
              "      <td>21</td>\n",
              "      <td>15</td>\n",
              "      <td>81</td>\n",
              "    </tr>\n",
              "    <tr>\n",
              "      <th>2</th>\n",
              "      <td>3</td>\n",
              "      <td>Female</td>\n",
              "      <td>20</td>\n",
              "      <td>16</td>\n",
              "      <td>6</td>\n",
              "    </tr>\n",
              "    <tr>\n",
              "      <th>3</th>\n",
              "      <td>4</td>\n",
              "      <td>Female</td>\n",
              "      <td>23</td>\n",
              "      <td>16</td>\n",
              "      <td>77</td>\n",
              "    </tr>\n",
              "    <tr>\n",
              "      <th>4</th>\n",
              "      <td>5</td>\n",
              "      <td>Female</td>\n",
              "      <td>31</td>\n",
              "      <td>17</td>\n",
              "      <td>40</td>\n",
              "    </tr>\n",
              "  </tbody>\n",
              "</table>\n",
              "</div>"
            ],
            "text/plain": [
              "   CustomerID  Gender  Age  Annual Income (k$)  Spending Score (1-100)\n",
              "0           1    Male   19                  15                      39\n",
              "1           2    Male   21                  15                      81\n",
              "2           3  Female   20                  16                       6\n",
              "3           4  Female   23                  16                      77\n",
              "4           5  Female   31                  17                      40"
            ]
          },
          "metadata": {
            "tags": []
          },
          "execution_count": 4
        }
      ]
    },
    {
      "cell_type": "code",
      "metadata": {
        "id": "B7_9HvEZbose",
        "colab_type": "code",
        "outputId": "e812d78e-ed20-4c1f-8f86-f937bacd2192",
        "colab": {
          "base_uri": "https://localhost:8080/",
          "height": 193
        }
      },
      "source": [
        "Mall_Customers.info()"
      ],
      "execution_count": 5,
      "outputs": [
        {
          "output_type": "stream",
          "text": [
            "<class 'pandas.core.frame.DataFrame'>\n",
            "RangeIndex: 200 entries, 0 to 199\n",
            "Data columns (total 5 columns):\n",
            "CustomerID                200 non-null int64\n",
            "Gender                    200 non-null object\n",
            "Age                       200 non-null int64\n",
            "Annual Income (k$)        200 non-null int64\n",
            "Spending Score (1-100)    200 non-null int64\n",
            "dtypes: int64(4), object(1)\n",
            "memory usage: 7.9+ KB\n"
          ],
          "name": "stdout"
        }
      ]
    },
    {
      "cell_type": "code",
      "metadata": {
        "id": "fY0z-FCUc4YO",
        "colab_type": "code",
        "outputId": "95257cad-ff54-4df7-a895-15e754e26ac4",
        "colab": {
          "base_uri": "https://localhost:8080/",
          "height": 52
        }
      },
      "source": [
        "print('Shape of the Mall_Customers dataset: Rows, Columns')\n",
        "Mall_Customers.shape"
      ],
      "execution_count": 6,
      "outputs": [
        {
          "output_type": "stream",
          "text": [
            "Shape of the Mall_Customers dataset: Rows, Columns\n"
          ],
          "name": "stdout"
        },
        {
          "output_type": "execute_result",
          "data": {
            "text/plain": [
              "(200, 5)"
            ]
          },
          "metadata": {
            "tags": []
          },
          "execution_count": 6
        }
      ]
    },
    {
      "cell_type": "code",
      "metadata": {
        "id": "J-ru_lSRg9nk",
        "colab_type": "code",
        "outputId": "abc973f1-4e8b-46c9-e9c0-5ec580b7e2ab",
        "colab": {
          "base_uri": "https://localhost:8080/",
          "height": 193
        }
      },
      "source": [
        "print('Descriptive statistics of the Mall_Customers DataFrame:')\n",
        "print(Mall_Customers.describe())"
      ],
      "execution_count": 7,
      "outputs": [
        {
          "output_type": "stream",
          "text": [
            "Descriptive statistics of the Mall_Customers DataFrame:\n",
            "       CustomerID         Age  Annual Income (k$)  Spending Score (1-100)\n",
            "count  200.000000  200.000000          200.000000              200.000000\n",
            "mean   100.500000   38.850000           60.560000               50.200000\n",
            "std     57.879185   13.969007           26.264721               25.823522\n",
            "min      1.000000   18.000000           15.000000                1.000000\n",
            "25%     50.750000   28.750000           41.500000               34.750000\n",
            "50%    100.500000   36.000000           61.500000               50.000000\n",
            "75%    150.250000   49.000000           78.000000               73.000000\n",
            "max    200.000000   70.000000          137.000000               99.000000\n"
          ],
          "name": "stdout"
        }
      ]
    },
    {
      "cell_type": "code",
      "metadata": {
        "id": "-_Q6G506n68E",
        "colab_type": "code",
        "outputId": "a67264ca-2be8-4513-b713-dd6def61b9e5",
        "colab": {
          "base_uri": "https://localhost:8080/",
          "height": 199
        }
      },
      "source": [
        "Mall_Customers.head(5)"
      ],
      "execution_count": 8,
      "outputs": [
        {
          "output_type": "execute_result",
          "data": {
            "text/html": [
              "<div>\n",
              "<style scoped>\n",
              "    .dataframe tbody tr th:only-of-type {\n",
              "        vertical-align: middle;\n",
              "    }\n",
              "\n",
              "    .dataframe tbody tr th {\n",
              "        vertical-align: top;\n",
              "    }\n",
              "\n",
              "    .dataframe thead th {\n",
              "        text-align: right;\n",
              "    }\n",
              "</style>\n",
              "<table border=\"1\" class=\"dataframe\">\n",
              "  <thead>\n",
              "    <tr style=\"text-align: right;\">\n",
              "      <th></th>\n",
              "      <th>CustomerID</th>\n",
              "      <th>Gender</th>\n",
              "      <th>Age</th>\n",
              "      <th>Annual Income (k$)</th>\n",
              "      <th>Spending Score (1-100)</th>\n",
              "    </tr>\n",
              "  </thead>\n",
              "  <tbody>\n",
              "    <tr>\n",
              "      <th>0</th>\n",
              "      <td>1</td>\n",
              "      <td>Male</td>\n",
              "      <td>19</td>\n",
              "      <td>15</td>\n",
              "      <td>39</td>\n",
              "    </tr>\n",
              "    <tr>\n",
              "      <th>1</th>\n",
              "      <td>2</td>\n",
              "      <td>Male</td>\n",
              "      <td>21</td>\n",
              "      <td>15</td>\n",
              "      <td>81</td>\n",
              "    </tr>\n",
              "    <tr>\n",
              "      <th>2</th>\n",
              "      <td>3</td>\n",
              "      <td>Female</td>\n",
              "      <td>20</td>\n",
              "      <td>16</td>\n",
              "      <td>6</td>\n",
              "    </tr>\n",
              "    <tr>\n",
              "      <th>3</th>\n",
              "      <td>4</td>\n",
              "      <td>Female</td>\n",
              "      <td>23</td>\n",
              "      <td>16</td>\n",
              "      <td>77</td>\n",
              "    </tr>\n",
              "    <tr>\n",
              "      <th>4</th>\n",
              "      <td>5</td>\n",
              "      <td>Female</td>\n",
              "      <td>31</td>\n",
              "      <td>17</td>\n",
              "      <td>40</td>\n",
              "    </tr>\n",
              "  </tbody>\n",
              "</table>\n",
              "</div>"
            ],
            "text/plain": [
              "   CustomerID  Gender  Age  Annual Income (k$)  Spending Score (1-100)\n",
              "0           1    Male   19                  15                      39\n",
              "1           2    Male   21                  15                      81\n",
              "2           3  Female   20                  16                       6\n",
              "3           4  Female   23                  16                      77\n",
              "4           5  Female   31                  17                      40"
            ]
          },
          "metadata": {
            "tags": []
          },
          "execution_count": 8
        }
      ]
    },
    {
      "cell_type": "code",
      "metadata": {
        "id": "C-ztFTPg3vc_",
        "colab_type": "code",
        "colab": {}
      },
      "source": [
        "Mall_Customers['Age_Range']='0 - Age - No Range'\n",
        "Mall_Customers.loc[Mall_Customers['Age'].between(18, 24, inclusive = True), 'Age_Range'] = '1 - Age < 25'\n",
        "Mall_Customers.loc[Mall_Customers['Age'].between(25, 30, inclusive = True), 'Age_Range'] = '2 - Age between 25 and 30'\n",
        "Mall_Customers.loc[Mall_Customers['Age'].between(31, 40, inclusive = True), 'Age_Range'] = '3 - Age between 31 and 40'\n",
        "Mall_Customers.loc[Mall_Customers['Age'].between(41, 50, inclusive = True), 'Age_Range'] = '4 - Age between 41 and 50'\n",
        "Mall_Customers.loc[Mall_Customers['Age'].between(51, 60, inclusive = True), 'Age_Range'] = '5 - Age between 51 and 60'\n",
        "Mall_Customers.loc[Mall_Customers['Age'] > 60, 'Age_Range'] = '6 - Age > 60'"
      ],
      "execution_count": 0,
      "outputs": []
    },
    {
      "cell_type": "code",
      "metadata": {
        "id": "YjsfiMQ0OsSq",
        "colab_type": "code",
        "colab": {}
      },
      "source": [
        "Mall_Customers['Income_Range']='0 - Income - No Range'\n",
        "Mall_Customers.loc[Mall_Customers['Annual Income (k$)'].between(15, 30, inclusive = True), 'Income_Range'] = '1 - Income under 30'\n",
        "Mall_Customers.loc[Mall_Customers['Annual Income (k$)'].between(31, 50, inclusive = True), 'Income_Range'] = '2 - Income between 31 and 50'\n",
        "Mall_Customers.loc[Mall_Customers['Annual Income (k$)'].between(51, 70, inclusive = True), 'Income_Range'] = '3 - Income between 51 and 70'\n",
        "Mall_Customers.loc[Mall_Customers['Annual Income (k$)'].between(71, 90, inclusive = True), 'Income_Range'] = '4 - Income between 71 and 90'\n",
        "Mall_Customers.loc[Mall_Customers['Annual Income (k$)'].between(91, 120, inclusive = True), 'Income_Range'] = '5 - Income between 91 and 120'\n",
        "Mall_Customers.loc[Mall_Customers['Annual Income (k$)'] > 120, 'Income_Range'] = '6 - Income over 120k'"
      ],
      "execution_count": 0,
      "outputs": []
    },
    {
      "cell_type": "code",
      "metadata": {
        "id": "NGZR0hz79aGc",
        "colab_type": "code",
        "outputId": "d390b604-97fc-4106-f062-2a2e561ac795",
        "colab": {
          "base_uri": "https://localhost:8080/",
          "height": 140
        }
      },
      "source": [
        "Mall_Customers['Income_Range'].value_counts()"
      ],
      "execution_count": 11,
      "outputs": [
        {
          "output_type": "execute_result",
          "data": {
            "text/plain": [
              "4 - Income between 71 and 90     52\n",
              "3 - Income between 51 and 70     52\n",
              "2 - Income between 31 and 50     42\n",
              "1 - Income under 30              32\n",
              "5 - Income between 91 and 120    18\n",
              "6 - Income over 120k              4\n",
              "Name: Income_Range, dtype: int64"
            ]
          },
          "metadata": {
            "tags": []
          },
          "execution_count": 11
        }
      ]
    },
    {
      "cell_type": "code",
      "metadata": {
        "id": "A1hg4V3K9qBg",
        "colab_type": "code",
        "colab": {}
      },
      "source": [
        "Mall_Customers_Agg = Mall_Customers.groupby(['Age_Range', 'Income_Range'])['Spending Score (1-100)'].agg('sum').reset_index()\n",
        "Mall_Customers_Agg_Sorted = Mall_Customers_Agg.sort_values(by=['Age_Range', 'Income_Range'])"
      ],
      "execution_count": 0,
      "outputs": []
    },
    {
      "cell_type": "code",
      "metadata": {
        "id": "ojgMZWNUzwAy",
        "colab_type": "code",
        "colab": {}
      },
      "source": [
        "Mall_Customers_Agg_Age_Gender = Mall_Customers.groupby(['Age_Range', 'Gender'])['Spending Score (1-100)'].agg('sum').reset_index()\n",
        "Mall_Customers_Agg_Age_Gender_Sorted = Mall_Customers_Agg_Age_Gender.sort_values(by=['Age_Range', 'Gender'])"
      ],
      "execution_count": 0,
      "outputs": []
    },
    {
      "cell_type": "code",
      "metadata": {
        "id": "L9HQ8GYDZCUF",
        "colab_type": "code",
        "colab": {}
      },
      "source": [
        "Mall_Customers_Agg_Age = Mall_Customers.groupby(['Age_Range'])['Spending Score (1-100)'].agg('sum').reset_index()\n",
        "Mall_Customers_Agg_Age_Sorted = Mall_Customers_Agg_Age.sort_values(by=['Age_Range'])"
      ],
      "execution_count": 0,
      "outputs": []
    },
    {
      "cell_type": "code",
      "metadata": {
        "id": "om7wjIFCkLob",
        "colab_type": "code",
        "colab": {}
      },
      "source": [
        "Mall_Customers_Agg_Income = Mall_Customers.groupby(['Income_Range'])['Spending Score (1-100)'].agg('sum').reset_index()\n",
        "Mall_Customers_Agg_Income_Sorted = Mall_Customers_Agg_Income.sort_values(by=['Income_Range'])"
      ],
      "execution_count": 0,
      "outputs": []
    },
    {
      "cell_type": "code",
      "metadata": {
        "id": "fPpaDbfFtbkx",
        "colab_type": "code",
        "colab": {}
      },
      "source": [
        "Mall_Customers_Agg_Age_Income = Mall_Customers.groupby(['Age_Range', 'Income_Range'])['Spending Score (1-100)'].agg('sum').reset_index()\n",
        "Mall_Customers_Agg_Age_Income_Sorted = Mall_Customers_Agg_Age_Income.sort_values(by=['Age_Range', 'Income_Range'])"
      ],
      "execution_count": 0,
      "outputs": []
    },
    {
      "cell_type": "code",
      "metadata": {
        "id": "MFXYixLlJUVM",
        "colab_type": "code",
        "colab": {
          "base_uri": "https://localhost:8080/",
          "height": 140
        },
        "outputId": "aa9cb355-9216-4d54-f0b2-aa369bbe5d24"
      },
      "source": [
        "Mall_Customers_Agg_Age['Spending Score (1-100)']"
      ],
      "execution_count": 85,
      "outputs": [
        {
          "output_type": "execute_result",
          "data": {
            "text/plain": [
              "0    1969\n",
              "1    1815\n",
              "2    3450\n",
              "3    1307\n",
              "4     748\n",
              "5     751\n",
              "Name: Spending Score (1-100), dtype: int64"
            ]
          },
          "metadata": {
            "tags": []
          },
          "execution_count": 85
        }
      ]
    },
    {
      "cell_type": "code",
      "metadata": {
        "id": "MNV-qzGc9-sy",
        "colab_type": "code",
        "colab": {}
      },
      "source": [
        "group_names=['<25 Yrs \\n (19.6%)', '25-30 Yrs \\n (18.1%)', '31-40 Yrs \\n (34.4%)', '41-50 Yrs \\n (13%)', '51-60 Yrs \\n (7.5%)', '>60 Yrs \\n (7.5%)']\n",
        "group_size=list(Mall_Customers_Agg_Age_Sorted['Spending Score (1-100)'])\n",
        "\n",
        "subgroup_names=['Income under 30', 'Income between 31 and 50', 'Income between 51 and 70', 'Income between 71 and 90'\n",
        "                ,'Income under 30', 'Income between 31 and 50', 'Income between 51 and 70', 'Income between 71 and 90'\n",
        "                , 'Income between 91 and 120', 'Income over 120k',\n",
        "               'Income under 30', 'Income between 31 and 50', 'Income between 51 and 70', 'Income between 71 and 90'\n",
        "                , 'Income between 91 and 120', 'Income over 120k',\n",
        "               'Income under 30', 'Income between 31 and 50', 'Income between 51 and 70', 'Income between 71 and 90'\n",
        "                , 'Income between 91 and 120', 'Income over 120k',\n",
        "               'Income under 30', 'Income between 31 and 50', 'Income between 51 and 70', 'Income between 71 and 90'\n",
        "                , 'Income between 91 and 120',\n",
        "               'Income under 30', 'Income between 31 and 50', 'Income between 51 and 70']\n",
        "subgroup_size=list(Mall_Customers_Agg_Age_Income_Sorted['Spending Score (1-100)'])\n",
        "\n",
        "subgroup2_size=list(Mall_Customers_Agg_Age_Gender_Sorted['Spending Score (1-100)'])\n",
        "subgroup2_names=['F','M', 'F','M', 'F','M', 'F','M', 'F','M', 'F','M']\n",
        "colors_gender = ['#ffb3e6', '#66b3ff','#ffb3e6', '#66b3ff','#ffb3e6', '#66b3ff','#ffb3e6', '#66b3ff']"
      ],
      "execution_count": 0,
      "outputs": []
    },
    {
      "cell_type": "code",
      "metadata": {
        "id": "mUbqh9EmuTfe",
        "colab_type": "code",
        "colab": {}
      },
      "source": [
        "#Mall_Customers_Agg_Age_Income_Sorted"
      ],
      "execution_count": 0,
      "outputs": []
    },
    {
      "cell_type": "code",
      "metadata": {
        "id": "LdFmdR1xh3a5",
        "colab_type": "code",
        "colab": {}
      },
      "source": [
        "subgroup_names=['<30k', '31k-50k', '51k-70k', '', \n",
        "                '', '', '', '71k-90k', '', '', \n",
        "                '', '', '', '71k-90k', '', '', \n",
        "                '', '', '51k-70k', '', '', '',\n",
        "                '', '31k-50k', '', '', '', \n",
        "                '', '', '51k-70k']"
      ],
      "execution_count": 0,
      "outputs": []
    },
    {
      "cell_type": "code",
      "metadata": {
        "id": "ax7mp1-oedfl",
        "colab_type": "code",
        "colab": {}
      },
      "source": [
        "import matplotlib.pyplot as plt\n",
        "import matplotlib.patches as mpatches\n",
        "# Create colors\n",
        "a, b, c, d, e, f=[plt.cm.Blues, plt.cm.Reds, plt.cm.Greens, plt.cm.Oranges, plt.cm.Purples, plt.cm.Greys]\n",
        "\n",
        "#a, b, c, d, e, f = ['#ff9999','#66b3ff','#99ff99','#ffcc99', \"#396ab1\", \"#990011\"]"
      ],
      "execution_count": 0,
      "outputs": []
    },
    {
      "cell_type": "code",
      "metadata": {
        "id": "HwRTsGuuwKjh",
        "colab_type": "code",
        "colab": {}
      },
      "source": [
        "def func(pct, allvals):\n",
        "    absolute = int(pct/100.*np.sum(allvals))\n",
        "    return \"{:.1f}%\\n({:d})\".format(pct, absolute)"
      ],
      "execution_count": 0,
      "outputs": []
    },
    {
      "cell_type": "code",
      "metadata": {
        "id": "-kNzGgXre91g",
        "colab_type": "code",
        "colab": {}
      },
      "source": [
        "# First Ring (outside)\n",
        "#fig, ax = plt.subplots()\n",
        "#ax.axis('equal')\n",
        "#mypie, _ = ax.pie(group_size, radius=2.9, labels=group_names, colors=[a(0.6), b(0.6), c(0.6), d(0.6), e(0.6), f(0.6)],startangle=90\n",
        "#                ) \n",
        "#plt.setp( mypie, width=0.3, edgecolor='white')\n",
        "\n",
        "# Second Ring (Inside)\n",
        "#mypie2, _ = ax.pie(subgroup_size, radius=2.9-0.3, labels=subgroup_names, labeldistance=0.7, colors=[a(0.25), a(0.4), a(0.25), a(0.4),\n",
        "#                                                                                                    b(0.15), b(0.25), b(0.15), b(0.25), b(0.15), b(0.25),\n",
        "#                                                                                                    c(0.15), c(0.25), c(0.15), c(0.25), c(0.15), c(0.25),\n",
        "#                                                                                                    d(0.15), d(0.25), d(0.15), d(0.25), d(0.15), d(0.25),\n",
        "#                                                                                                    e(0.15), e(0.3), e(0.15), e(0.3), e(0.15),\n",
        "#                                                                                                    f(0.25), f(0.5), f(0.25)]\n",
        "#                  ,startangle=90)\n",
        "#plt.setp( mypie2, width=0.4, edgecolor='white')\n",
        "#plt.margins(0,0)"
      ],
      "execution_count": 0,
      "outputs": []
    },
    {
      "cell_type": "code",
      "metadata": {
        "id": "gASVCED_J3NB",
        "colab_type": "code",
        "colab": {
          "base_uri": "https://localhost:8080/",
          "height": 70
        },
        "outputId": "cdf39293-b426-4d5d-a007-a7590cb6571f"
      },
      "source": [
        "Mall_Customers_Agg_Age1.Gender"
      ],
      "execution_count": 44,
      "outputs": [
        {
          "output_type": "execute_result",
          "data": {
            "text/plain": [
              "0    Female\n",
              "1      Male\n",
              "Name: Gender, dtype: object"
            ]
          },
          "metadata": {
            "tags": []
          },
          "execution_count": 44
        }
      ]
    },
    {
      "cell_type": "code",
      "metadata": {
        "id": "Srm_O_-tw56Y",
        "colab_type": "code",
        "outputId": "237a2c26-0ec5-4356-8f64-88e49be92291",
        "colab": {
          "base_uri": "https://localhost:8080/",
          "height": 341
        }
      },
      "source": [
        "fig, ax = plt.subplots()\n",
        "plt.pie(group_size, labels=group_names, colors=[a(0.6), b(0.6), c(0.6), d(0.6), e(0.6), f(0.6)], startangle=90,frame=True\n",
        "       , wedgeprops=dict(edgecolor='w'))\n",
        "       #,autopct='%1.1f%%')\n",
        "\n",
        "plt.pie(subgroup2_size,colors=colors_gender,radius=0.85,startangle=90, wedgeprops=dict(edgecolor='w')) #, labels=subgroup2_names)\n",
        "        \n",
        "#plt.pie(subgroup_size,colors=[a(0.25), a(0.4), a(0.25), a(0.4),\n",
        "#                              b(0.15), b(0.25), b(0.15), b(0.25), b(0.15), b(0.25),\n",
        "#                              c(0.15), c(0.25), c(0.15), c(0.25), c(0.15), c(0.25),\n",
        "#                              d(0.15), d(0.25), d(0.15), d(0.25), d(0.15), d(0.25),\n",
        "#                              e(0.15), e(0.3), e(0.15), e(0.3), e(0.15),\n",
        "#                              f(0.25), f(0.5), f(0.25)],radius=0.85,startangle=90)\n",
        "centre_circle = plt.Circle((0,0),0.7,color='black', fc='white',linewidth=0)\n",
        "fig = plt.gcf()\n",
        "fig.gca().add_artist(centre_circle)\n",
        " \n",
        "plt.axis('equal')\n",
        "plt.tight_layout()\n",
        "plt.title('Mall Customer Segmentation - Age & Gender \\n\\n',fontsize=14)\n",
        "\n",
        "\n",
        "pink_patch = mpatches.Patch(color='#ffb3e6', label='Female')\n",
        "blue_patch = mpatches.Patch(color='#66b3ff', label='Male')\n",
        "\n",
        "plt.legend(handles=[pink_patch, blue_patch], loc=4)\n",
        "\n",
        "plt.show()"
      ],
      "execution_count": 129,
      "outputs": [
        {
          "output_type": "display_data",
          "data": {
            "image/png": "[encoded data removed]",
            "text/plain": [
              "<Figure size 432x288 with 1 Axes>"
            ]
          },
          "metadata": {
            "tags": []
          }
        }
      ]
    },
    {
      "cell_type": "code",
      "metadata": {
        "id": "K54E5W5u-GQq",
        "colab_type": "code",
        "outputId": "469aa064-4ba1-453d-953a-3d15fc338f23",
        "colab": {
          "base_uri": "https://localhost:8080/",
          "height": 107
        }
      },
      "source": [
        "!pip install squarify\n",
        "import squarify"
      ],
      "execution_count": 37,
      "outputs": [
        {
          "output_type": "stream",
          "text": [
            "Collecting squarify\n",
            "  Downloading https://files.pythonhosted.org/packages/4e/f2/1f47d7f8c34e3c5f45de8b7fad06947558964e05ce6cccc94cf2066bd22b/squarify-0.4.2-py3-none-any.whl\n",
            "Installing collected packages: squarify\n",
            "Successfully installed squarify-0.4.2\n"
          ],
          "name": "stdout"
        }
      ]
    },
    {
      "cell_type": "code",
      "metadata": {
        "id": "7IGlyykOcvm2",
        "colab_type": "code",
        "colab": {}
      },
      "source": [
        "Mall_Customers_Agg_Income_Sorted['Income_Range_Int']=Mall_Customers_Agg_Income_Sorted['Income_Range'].str[:1]"
      ],
      "execution_count": 0,
      "outputs": []
    },
    {
      "cell_type": "code",
      "metadata": {
        "id": "z8sfEFDJbwGQ",
        "colab_type": "code",
        "colab": {}
      },
      "source": [
        "import matplotlib as mtp\n",
        "norm = mtp.colors.Normalize(vmin=min(Mall_Customers_Agg_Income_Sorted.Income_Range_Int), vmax=max(Mall_Customers_Agg_Income_Sorted.Income_Range_Int))\n",
        "#colors = [mtp.cm.Blues(norm(i)) for i in Mall_Customers_Agg_Age['Spending Score (1-100)']]"
      ],
      "execution_count": 0,
      "outputs": []
    },
    {
      "cell_type": "code",
      "metadata": {
        "id": "D--WLyDNgapr",
        "colab_type": "code",
        "colab": {
          "base_uri": "https://localhost:8080/",
          "height": 34
        },
        "outputId": "3890852c-2cf5-4bed-a6b6-9b9d184c293b"
      },
      "source": [
        "fig = plt.gcf()\n",
        "ax = fig.add_subplot()\n",
        "fig.set_size_inches(20.5, 8)"
      ],
      "execution_count": 124,
      "outputs": [
        {
          "output_type": "display_data",
          "data": {
            "text/plain": [
              "<Figure size 1476x576 with 0 Axes>"
            ]
          },
          "metadata": {
            "tags": []
          }
        }
      ]
    },
    {
      "cell_type": "code",
      "metadata": {
        "id": "vpQraWvNg3xH",
        "colab_type": "code",
        "colab": {
          "base_uri": "https://localhost:8080/",
          "height": 462
        },
        "outputId": "6e9061a4-a351-43b2-b0ce-d0e26f02e840"
      },
      "source": [
        "plt.figure(figsize=(12,7)) \n",
        "squarify.plot(label=['<30k \\n (15.83%)', '31k-50k \\n (21.20%)', '51k-70k \\n (25.99%)'\n",
        "                     , '71k-90k \\n (25.60%)', '91k-120k \\n (9.37%)', '>120k \\n (2.02%)']\n",
        "              ,sizes=Mall_Customers_Agg_Income_Sorted['Spending Score (1-100)']\n",
        "              , color = [a(0.6), b(0.6), c(0.6), d(0.6), e(0.6), f(0.6)]\n",
        "              , alpha=.6\n",
        "             )\n",
        "plt.title(\"Mall Customer Segmentation - Income (USD) \\n\",fontsize=14)\n",
        "plt.axis('off')\n",
        "plt.show()"
      ],
      "execution_count": 130,
      "outputs": [
        {
          "output_type": "display_data",
          "data": {
            "image/png": "[encoded data removed]",
            "text/plain": [
              "<Figure size 864x504 with 1 Axes>"
            ]
          },
          "metadata": {
            "tags": []
          }
        }
      ]
    },
    {
      "cell_type": "code",
      "metadata": {
        "id": "3G7yAN4bvAQZ",
        "colab_type": "code",
        "colab": {}
      },
      "source": [
        "Mall_Customers['Income_Range2']='0 - Income - No Range'\n",
        "Mall_Customers.loc[Mall_Customers['Annual Income (k$)'].between(15, 75, inclusive = True), 'Income_Range2'] = '1 - Income between 15 and 75'\n",
        "Mall_Customers.loc[Mall_Customers['Annual Income (k$)'].between(76, 140, inclusive = True), 'Income_Range2'] = '2 - Income between 76 and 140'\n",
        "\n",
        "\n",
        "Mall_Customers_Agg_Age_Income = Mall_Customers.groupby(['Age_Range', 'Income_Range2'])['Spending Score (1-100)'].agg('sum').reset_index()\n",
        "Mall_Customers_Agg_Age_Income_Sorted = Mall_Customers_Agg_Age_Income.sort_values(by=['Age_Range', 'Income_Range2'])"
      ],
      "execution_count": 0,
      "outputs": []
    },
    {
      "cell_type": "code",
      "metadata": {
        "id": "SvXbsK9y0L_W",
        "colab_type": "code",
        "colab": {
          "base_uri": "https://localhost:8080/",
          "height": 381
        },
        "outputId": "ffe6d516-cbf5-47d0-cb54-3c14be60eaf9"
      },
      "source": [
        "Mall_Customers_Agg_Age_Income"
      ],
      "execution_count": 178,
      "outputs": [
        {
          "output_type": "execute_result",
          "data": {
            "text/html": [
              "<div>\n",
              "<style scoped>\n",
              "    .dataframe tbody tr th:only-of-type {\n",
              "        vertical-align: middle;\n",
              "    }\n",
              "\n",
              "    .dataframe tbody tr th {\n",
              "        vertical-align: top;\n",
              "    }\n",
              "\n",
              "    .dataframe thead th {\n",
              "        text-align: right;\n",
              "    }\n",
              "</style>\n",
              "<table border=\"1\" class=\"dataframe\">\n",
              "  <thead>\n",
              "    <tr style=\"text-align: right;\">\n",
              "      <th></th>\n",
              "      <th>Age_Range</th>\n",
              "      <th>Income_Range2</th>\n",
              "      <th>Spending Score (1-100)</th>\n",
              "    </tr>\n",
              "  </thead>\n",
              "  <tbody>\n",
              "    <tr>\n",
              "      <th>0</th>\n",
              "      <td>1 - Age &lt; 25</td>\n",
              "      <td>1 - Income between 15 and 75</td>\n",
              "      <td>1964</td>\n",
              "    </tr>\n",
              "    <tr>\n",
              "      <th>1</th>\n",
              "      <td>1 - Age &lt; 25</td>\n",
              "      <td>2 - Income between 76 and 140</td>\n",
              "      <td>5</td>\n",
              "    </tr>\n",
              "    <tr>\n",
              "      <th>2</th>\n",
              "      <td>2 - Age between 25 and 30</td>\n",
              "      <td>1 - Income between 15 and 75</td>\n",
              "      <td>777</td>\n",
              "    </tr>\n",
              "    <tr>\n",
              "      <th>3</th>\n",
              "      <td>2 - Age between 25 and 30</td>\n",
              "      <td>2 - Income between 76 and 140</td>\n",
              "      <td>1038</td>\n",
              "    </tr>\n",
              "    <tr>\n",
              "      <th>4</th>\n",
              "      <td>3 - Age between 31 and 40</td>\n",
              "      <td>1 - Income between 15 and 75</td>\n",
              "      <td>1888</td>\n",
              "    </tr>\n",
              "    <tr>\n",
              "      <th>5</th>\n",
              "      <td>3 - Age between 31 and 40</td>\n",
              "      <td>2 - Income between 76 and 140</td>\n",
              "      <td>1562</td>\n",
              "    </tr>\n",
              "    <tr>\n",
              "      <th>6</th>\n",
              "      <td>4 - Age between 41 and 50</td>\n",
              "      <td>1 - Income between 15 and 75</td>\n",
              "      <td>1057</td>\n",
              "    </tr>\n",
              "    <tr>\n",
              "      <th>7</th>\n",
              "      <td>4 - Age between 41 and 50</td>\n",
              "      <td>2 - Income between 76 and 140</td>\n",
              "      <td>250</td>\n",
              "    </tr>\n",
              "    <tr>\n",
              "      <th>8</th>\n",
              "      <td>5 - Age between 51 and 60</td>\n",
              "      <td>1 - Income between 15 and 75</td>\n",
              "      <td>647</td>\n",
              "    </tr>\n",
              "    <tr>\n",
              "      <th>9</th>\n",
              "      <td>5 - Age between 51 and 60</td>\n",
              "      <td>2 - Income between 76 and 140</td>\n",
              "      <td>101</td>\n",
              "    </tr>\n",
              "    <tr>\n",
              "      <th>10</th>\n",
              "      <td>6 - Age &gt; 60</td>\n",
              "      <td>1 - Income between 15 and 75</td>\n",
              "      <td>751</td>\n",
              "    </tr>\n",
              "  </tbody>\n",
              "</table>\n",
              "</div>"
            ],
            "text/plain": [
              "                    Age_Range                  Income_Range2  \\\n",
              "0                1 - Age < 25   1 - Income between 15 and 75   \n",
              "1                1 - Age < 25  2 - Income between 76 and 140   \n",
              "2   2 - Age between 25 and 30   1 - Income between 15 and 75   \n",
              "3   2 - Age between 25 and 30  2 - Income between 76 and 140   \n",
              "4   3 - Age between 31 and 40   1 - Income between 15 and 75   \n",
              "5   3 - Age between 31 and 40  2 - Income between 76 and 140   \n",
              "6   4 - Age between 41 and 50   1 - Income between 15 and 75   \n",
              "7   4 - Age between 41 and 50  2 - Income between 76 and 140   \n",
              "8   5 - Age between 51 and 60   1 - Income between 15 and 75   \n",
              "9   5 - Age between 51 and 60  2 - Income between 76 and 140   \n",
              "10               6 - Age > 60   1 - Income between 15 and 75   \n",
              "\n",
              "    Spending Score (1-100)  \n",
              "0                     1964  \n",
              "1                        5  \n",
              "2                      777  \n",
              "3                     1038  \n",
              "4                     1888  \n",
              "5                     1562  \n",
              "6                     1057  \n",
              "7                      250  \n",
              "8                      647  \n",
              "9                      101  \n",
              "10                     751  "
            ]
          },
          "metadata": {
            "tags": []
          },
          "execution_count": 178
        }
      ]
    },
    {
      "cell_type": "code",
      "metadata": {
        "id": "PTLxiSce1194",
        "colab_type": "code",
        "colab": {}
      },
      "source": [
        "g, h=[plt.cm.RdGy, plt.cm.seismic]\n",
        "\n",
        "#'PiYG', 'PRGn', 'BrBG', 'PuOr', 'RdGy', 'RdBu',            'RdYlBu', 'RdYlGn', 'Spectral', 'coolwarm', 'bwr', 'seismic'"
      ],
      "execution_count": 0,
      "outputs": []
    },
    {
      "cell_type": "code",
      "metadata": {
        "id": "-TO4G2sYtBgM",
        "colab_type": "code",
        "colab": {
          "base_uri": "https://localhost:8080/",
          "height": 341
        },
        "outputId": "c20f4feb-54b1-4926-b876-921c1ce7e22c"
      },
      "source": [
        "fig, ax = plt.subplots()\n",
        "plt.pie(group_size, labels=group_names, colors=[a(0.6), b(0.6), c(0.6), d(0.6), e(0.6), f(0.6)], startangle=90,frame=True\n",
        "       , wedgeprops=dict(edgecolor='w'))\n",
        "  \n",
        "plt.pie(list(Mall_Customers_Agg_Age_Income_Sorted['Spending Score (1-100)'])\n",
        "        , colors=[g(0.4), h(0.4), g(0.4), h(0.4), g(0.4), h(0.4), g(0.4), h(0.4), g(0.4), h(0.4), g(0.4)]\n",
        "#        , colors=[a(0.25), a(0.4), a(0.25), a(0.4),b(0.15), b(0.25), b(0.15), b(0.25), b(0.15), b(0.25),\n",
        "#                              c(0.15), c(0.25), c(0.15), c(0.25), c(0.15), c(0.25),d(0.15), d(0.25), d(0.15), d(0.25), d(0.15), d(0.25),\n",
        "#                              e(0.15), e(0.3), e(0.15), e(0.3), e(0.15),f(0.25), f(0.5), f(0.25)]\n",
        "        , radius=0.85\n",
        "        , startangle=90,frame=True\n",
        "        , wedgeprops=dict(edgecolor='w'))\n",
        "\n",
        "plt.pie(subgroup2_size,colors=colors_gender,radius=0.75,startangle=90, wedgeprops=dict(edgecolor='w'))\n",
        "        \n",
        "#plt.pie(subgroup_size,colors=[a(0.25), a(0.4), a(0.25), a(0.4),\n",
        "#                              b(0.15), b(0.25), b(0.15), b(0.25), b(0.15), b(0.25),\n",
        "#                              c(0.15), c(0.25), c(0.15), c(0.25), c(0.15), c(0.25),\n",
        "#                              d(0.15), d(0.25), d(0.15), d(0.25), d(0.15), d(0.25),\n",
        "#                              e(0.15), e(0.3), e(0.15), e(0.3), e(0.15),\n",
        "#                              f(0.25), f(0.5), f(0.25)],radius=0.85,startangle=90)\n",
        "centre_circle = plt.Circle((0,0),0.62,color='black', fc='white',linewidth=0)\n",
        "fig = plt.gcf()\n",
        "fig.gca().add_artist(centre_circle)\n",
        " \n",
        "plt.axis('equal')\n",
        "plt.tight_layout()\n",
        "plt.title('Mall Customer Segmentation - Age & Gender \\n\\n',fontsize=14)\n",
        "\n",
        "\n",
        "pink_patch = mpatches.Patch(color='#ffb3e6', label='Female')\n",
        "blue_patch = mpatches.Patch(color='#66b3ff', label='Male')\n",
        "\n",
        "Inc_patch1 = mpatches.Patch(color=g(0.4), label='Income in 15k to 75k')\n",
        "Inc_patch2 = mpatches.Patch(color=h(0.4), label='Income in 76k to 140k')\n",
        "\n",
        "first_legend = plt.legend(handles=[pink_patch, blue_patch], loc=3)\n",
        "ax = plt.gca().add_artist(first_legend)\n",
        "plt.legend(handles=[Inc_patch1, Inc_patch2], loc=4, bbox_to_anchor=(0.65, 0., 0.5, 0.5))\n",
        "\n",
        "plt.show()"
      ],
      "execution_count": 218,
      "outputs": [
        {
          "output_type": "display_data",
          "data": {
            "image/png": "[encoded data removed]",
            "text/plain": [
              "<Figure size 432x288 with 1 Axes>"
            ]
          },
          "metadata": {
            "tags": []
          }
        }
      ]
    }
  ]
}