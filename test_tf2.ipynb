{
  "nbformat": 4,
  "nbformat_minor": 0,
  "metadata": {
    "colab": {
      "name": "Untitled3.ipynb",
      "version": "0.3.2",
      "provenance": [],
      "include_colab_link": true
    },
    "kernelspec": {
      "name": "python3",
      "display_name": "Python 3"
    }
  },
  "cells": [
    {
      "cell_type": "markdown",
      "metadata": {
        "id": "view-in-github",
        "colab_type": "text"
      },
      "source": [
        "<a href=\"https://colab.research.google.com/github/Saranyanv/test/blob/master/test_tf2.ipynb\" target=\"_parent\"><img src=\"https://colab.research.google.com/assets/colab-badge.svg\" alt=\"Open In Colab\"/></a>"
      ]
    },
    {
      "metadata": {
        "id": "Wtl1NWymqWBy",
        "colab_type": "code",
        "colab": {}
      },
      "cell_type": "code",
      "source": [
        "import tensorflow as tf\n",
        "(X_train, y_train), (X_test, y_test) = tf.keras.datasets.mnist.load_data()"
      ],
      "execution_count": 0,
      "outputs": []
    },
    {
      "metadata": {
        "id": "3OXgoYLcBjTe",
        "colab_type": "code",
        "colab": {}
      },
      "cell_type": "code",
      "source": [
        "def shuffle_batch(X, y, batch_size):\n",
        "    rnd_idx = np.random.permutation(len(X))\n",
        "    n_batches = len(X) // batch_size\n",
        "    for batch_idx in np.array_split(rnd_idx, n_batches):\n",
        "        X_batch, y_batch = X[batch_idx], y[batch_idx]\n",
        "        yield X_batch, y_batch"
      ],
      "execution_count": 0,
      "outputs": []
    },
    {
      "metadata": {
        "id": "TF02x73wBkFs",
        "colab_type": "code",
        "colab": {}
      },
      "cell_type": "code",
      "source": [
        "from IPython.display import clear_output, Image, display, HTML\n",
        "\n",
        "def strip_consts(graph_def, max_const_size=32):\n",
        "    \"\"\"Strip large constant values from graph_def.\"\"\"\n",
        "    strip_def = tf.GraphDef()\n",
        "    for n0 in graph_def.node:\n",
        "        n = strip_def.node.add() \n",
        "        n.MergeFrom(n0)\n",
        "        if n.op == 'Const':\n",
        "            tensor = n.attr['value'].tensor\n",
        "            size = len(tensor.tensor_content)\n",
        "            if size > max_const_size:\n",
        "                tensor.tensor_content = \"<stripped %d bytes>\"%size\n",
        "    return strip_def\n",
        "  \n",
        "  \n",
        "def show_graph(graph_def, max_const_size=32):\n",
        "    \"\"\"Visualize TensorFlow graph.\"\"\"\n",
        "    if hasattr(graph_def, 'as_graph_def'):\n",
        "        graph_def = graph_def.as_graph_def()\n",
        "    strip_def = strip_consts(graph_def, max_const_size=max_const_size)\n",
        "    code = \"\"\"\n",
        "        <script>\n",
        "          function load() {{\n",
        "            document.getElementById(\"{id}\").pbtxt = {data};\n",
        "          }}\n",
        "        </script>\n",
        "        <link rel=\"import\" href=\"https://tensorboard.appspot.com/tf-graph-basic.build.html\" onload=load()>\n",
        "        <div style=\"height:600px\">\n",
        "          <tf-graph-basic id=\"{id}\"></tf-graph-basic>\n",
        "        </div>\n",
        "    \"\"\".format(data=repr(str(strip_def)), id='graph'+str(np.random.rand()))\n",
        "\n",
        "    iframe = \"\"\"\n",
        "        <iframe seamless style=\"width:1200px;height:620px;border:0\" srcdoc=\"{}\"></iframe>\n",
        "    \"\"\".format(code.replace('\"', '&quot;'))\n",
        "    display(HTML(iframe))"
      ],
      "execution_count": 0,
      "outputs": []
    },
    {
      "metadata": {
        "id": "kZxgaHHBqXo8",
        "colab_type": "code",
        "colab": {}
      },
      "cell_type": "code",
      "source": [
        "X_train=X_train[0:600]\n",
        "y_train=y_train[0:600]\n",
        "X_test=X_test[0:100]\n",
        "y_test=y_test[0:100]"
      ],
      "execution_count": 0,
      "outputs": []
    },
    {
      "metadata": {
        "id": "JyhroNZCqY0u",
        "colab_type": "code",
        "colab": {}
      },
      "cell_type": "code",
      "source": [
        "import numpy as np\n",
        "X_train = X_train.astype(np.float32).reshape(-1, 28*28) / 255.0\n",
        "X_test = X_test.astype(np.float32).reshape(-1, 28*28) / 255.0\n",
        "y_train = y_train.astype(np.int32)\n",
        "y_test = y_test.astype(np.int32)\n",
        "X_valid, X_train = X_train[0:50], X_train[50:500]\n",
        "y_valid, y_train = y_train[0:50], y_train[50:500]"
      ],
      "execution_count": 0,
      "outputs": []
    },
    {
      "metadata": {
        "id": "WRLi1gr_pjNu",
        "colab_type": "code",
        "colab": {}
      },
      "cell_type": "code",
      "source": [
        "n_inputs = 28*28  # MNIST\n",
        "n_hidden1_1 = 300\n",
        "n_hidden1_2 = 100\n",
        "n_hidden2_1 = 300\n",
        "n_hidden2_2 = 100\n",
        "n_outputs = 10"
      ],
      "execution_count": 0,
      "outputs": []
    },
    {
      "metadata": {
        "id": "IYFHKKINq3nn",
        "colab_type": "code",
        "colab": {}
      },
      "cell_type": "code",
      "source": [
        "def reset_graph(seed=42):\n",
        "    tf.reset_default_graph()\n",
        "    tf.set_random_seed(seed)\n",
        "    np.random.seed(seed)"
      ],
      "execution_count": 0,
      "outputs": []
    },
    {
      "metadata": {
        "id": "hWpr4oA2pmDf",
        "colab_type": "code",
        "colab": {}
      },
      "cell_type": "code",
      "source": [
        "reset_graph()\n",
        "\n",
        "X = tf.placeholder(tf.float32, shape=(None, n_inputs), name=\"X\")\n",
        "y = tf.placeholder(tf.int32, shape=(None), name=\"y\")"
      ],
      "execution_count": 0,
      "outputs": []
    },
    {
      "metadata": {
        "id": "fYiWEuQ9pod0",
        "colab_type": "code",
        "colab": {}
      },
      "cell_type": "code",
      "source": [
        "with tf.name_scope(\"dnn1\"):\n",
        "    hidden1 = tf.layers.dense(X, n_hidden1_1, name=\"hidden1\",\n",
        "                              activation=tf.nn.softmax)\n",
        "    hidden2 = tf.layers.dense(hidden1, n_hidden1_2, name=\"hidden2\",\n",
        "                              activation=tf.nn.softmax)\n",
        "    logits = tf.layers.dense(hidden2, n_outputs, name=\"outputs\")\n",
        "    y_proba = tf.nn.softmax(logits)"
      ],
      "execution_count": 0,
      "outputs": []
    },
    {
      "metadata": {
        "id": "znmOsv-MpqJb",
        "colab_type": "code",
        "colab": {}
      },
      "cell_type": "code",
      "source": [
        "with tf.name_scope(\"loss1\"):\n",
        "    xentropy = tf.nn.sparse_softmax_cross_entropy_with_logits(labels=y, logits=logits)\n",
        "    loss = tf.reduce_mean(xentropy, name=\"loss\")"
      ],
      "execution_count": 0,
      "outputs": []
    },
    {
      "metadata": {
        "id": "dIskaQYXprv6",
        "colab_type": "code",
        "colab": {}
      },
      "cell_type": "code",
      "source": [
        "learning_rate = 0.01\n",
        "\n",
        "with tf.name_scope(\"train1\"):\n",
        "    optimizer = tf.train.GradientDescentOptimizer(learning_rate)\n",
        "    training_op = optimizer.minimize(loss)"
      ],
      "execution_count": 0,
      "outputs": []
    },
    {
      "metadata": {
        "id": "dnQguSyXptba",
        "colab_type": "code",
        "colab": {}
      },
      "cell_type": "code",
      "source": [
        "with tf.name_scope(\"eval1\"):\n",
        "    correct = tf.nn.in_top_k(logits, y, 1)\n",
        "    accuracy = tf.reduce_mean(tf.cast(correct, tf.float32))"
      ],
      "execution_count": 0,
      "outputs": []
    },
    {
      "metadata": {
        "id": "77sectyFpvBk",
        "colab_type": "code",
        "colab": {}
      },
      "cell_type": "code",
      "source": [
        "init = tf.global_variables_initializer()\n",
        "saver = tf.train.Saver()"
      ],
      "execution_count": 0,
      "outputs": []
    },
    {
      "metadata": {
        "id": "3XDDKcXfpx0s",
        "colab_type": "code",
        "outputId": "570bf4ee-4a0e-4951-ac05-919fdf9d27b2",
        "colab": {
          "base_uri": "https://localhost:8080/",
          "height": 364
        }
      },
      "cell_type": "code",
      "source": [
        "n_epochs = 20\n",
        "batch_size = 50\n",
        "\n",
        "with tf.Session() as sess:\n",
        "    init.run()\n",
        "    for epoch in range(n_epochs):\n",
        "        for X_batch, y_batch in shuffle_batch(X_train, y_train, batch_size):\n",
        "            sess.run(training_op, feed_dict={X: X_batch, y: y_batch})\n",
        "        acc_batch = accuracy.eval(feed_dict={X: X_batch, y: y_batch})\n",
        "        acc_valid = accuracy.eval(feed_dict={X: X_valid, y: y_valid})\n",
        "        print(epoch, \"Batch accuracy:\", acc_batch, \"Validation accuracy:\", acc_valid)"
      ],
      "execution_count": 51,
      "outputs": [
        {
          "output_type": "stream",
          "text": [
            "0 Batch accuracy: 0.2 Validation accuracy: 0.14\n",
            "1 Batch accuracy: 0.14 Validation accuracy: 0.14\n",
            "2 Batch accuracy: 0.06 Validation accuracy: 0.14\n",
            "3 Batch accuracy: 0.12 Validation accuracy: 0.14\n",
            "4 Batch accuracy: 0.12 Validation accuracy: 0.14\n",
            "5 Batch accuracy: 0.02 Validation accuracy: 0.14\n",
            "6 Batch accuracy: 0.22 Validation accuracy: 0.14\n",
            "7 Batch accuracy: 0.16 Validation accuracy: 0.14\n",
            "8 Batch accuracy: 0.22 Validation accuracy: 0.14\n",
            "9 Batch accuracy: 0.12 Validation accuracy: 0.14\n",
            "10 Batch accuracy: 0.14 Validation accuracy: 0.14\n",
            "11 Batch accuracy: 0.18 Validation accuracy: 0.14\n",
            "12 Batch accuracy: 0.1 Validation accuracy: 0.14\n",
            "13 Batch accuracy: 0.02 Validation accuracy: 0.14\n",
            "14 Batch accuracy: 0.18 Validation accuracy: 0.14\n",
            "15 Batch accuracy: 0.06 Validation accuracy: 0.14\n",
            "16 Batch accuracy: 0.16 Validation accuracy: 0.14\n",
            "17 Batch accuracy: 0.12 Validation accuracy: 0.14\n",
            "18 Batch accuracy: 0.14 Validation accuracy: 0.14\n",
            "19 Batch accuracy: 0.12 Validation accuracy: 0.14\n"
          ],
          "name": "stdout"
        }
      ]
    },
    {
      "metadata": {
        "id": "H1SHFiuBsPpq",
        "colab_type": "code",
        "colab": {}
      },
      "cell_type": "code",
      "source": [
        "#show_graph(tf.get_default_graph())\n",
        "#show_graph(tf.get_default_graph().as_graph_def())"
      ],
      "execution_count": 0,
      "outputs": []
    },
    {
      "metadata": {
        "id": "4KlWq80WaFud",
        "colab_type": "code",
        "colab": {}
      },
      "cell_type": "code",
      "source": [
        "reset_graph()\n",
        "X = tf.placeholder(tf.float32, shape=(None, n_inputs), name=\"X\")\n",
        "y = tf.placeholder(tf.int32, shape=(None), name=\"y\")"
      ],
      "execution_count": 0,
      "outputs": []
    },
    {
      "metadata": {
        "id": "ozvSMAfvaKpQ",
        "colab_type": "code",
        "colab": {}
      },
      "cell_type": "code",
      "source": [
        "with tf.name_scope(\"dnn2\"):\n",
        "    hidden1 = tf.layers.dense(X, n_hidden1_1, name=\"hidden1\",\n",
        "                              activation=tf.nn.relu)\n",
        "    hidden2 = tf.layers.dense(hidden1, n_hidden1_2, name=\"hidden2\",\n",
        "                              activation=tf.nn.relu)\n",
        "    logits = tf.layers.dense(hidden2, n_outputs, name=\"outputs\")\n",
        "    y_proba = tf.nn.softmax(logits)"
      ],
      "execution_count": 0,
      "outputs": []
    },
    {
      "metadata": {
        "id": "VON_3ES4csdG",
        "colab_type": "code",
        "colab": {}
      },
      "cell_type": "code",
      "source": [
        "with tf.name_scope(\"loss2\"):\n",
        "    xentropy = tf.nn.sparse_softmax_cross_entropy_with_logits(labels=y, logits=logits)\n",
        "    loss = tf.reduce_mean(xentropy, name=\"loss\")   "
      ],
      "execution_count": 0,
      "outputs": []
    },
    {
      "metadata": {
        "id": "wUszHNJJcsYl",
        "colab_type": "code",
        "colab": {}
      },
      "cell_type": "code",
      "source": [
        "learning_rate = 0.01\n",
        "\n",
        "with tf.name_scope(\"train2\"):\n",
        "    optimizer = tf.train.GradientDescentOptimizer(learning_rate)\n",
        "    training_op = optimizer.minimize(loss)"
      ],
      "execution_count": 0,
      "outputs": []
    },
    {
      "metadata": {
        "id": "HHJRUOvjcsW3",
        "colab_type": "code",
        "colab": {}
      },
      "cell_type": "code",
      "source": [
        "with tf.name_scope(\"eval2\"):\n",
        "    correct = tf.nn.in_top_k(logits, y, 1)\n",
        "    accuracy = tf.reduce_mean(tf.cast(correct, tf.float32))"
      ],
      "execution_count": 0,
      "outputs": []
    },
    {
      "metadata": {
        "id": "R6a2YvZVcsS4",
        "colab_type": "code",
        "colab": {}
      },
      "cell_type": "code",
      "source": [
        "init = tf.global_variables_initializer()\n",
        "saver = tf.train.Saver()"
      ],
      "execution_count": 0,
      "outputs": []
    },
    {
      "metadata": {
        "id": "HPMAs7jqcsPR",
        "colab_type": "code",
        "colab": {
          "base_uri": "https://localhost:8080/",
          "height": 364
        },
        "outputId": "0a3fa4f4-0bd8-4f8e-80fd-0c84ebb527a6"
      },
      "cell_type": "code",
      "source": [
        "n_epochs = 20\n",
        "batch_size = 50\n",
        "\n",
        "with tf.Session() as sess:\n",
        "    init.run()\n",
        "    for epoch in range(n_epochs):\n",
        "        for X_batch, y_batch in shuffle_batch(X_train, y_train, batch_size):\n",
        "            sess.run(training_op, feed_dict={X: X_batch, y: y_batch})\n",
        "        acc_batch = accuracy.eval(feed_dict={X: X_batch, y: y_batch})\n",
        "        acc_valid = accuracy.eval(feed_dict={X: X_valid, y: y_valid})\n",
        "        print(epoch, \"Batch accuracy:\", acc_batch, \"Validation accuracy:\", acc_valid)"
      ],
      "execution_count": 59,
      "outputs": [
        {
          "output_type": "stream",
          "text": [
            "0 Batch accuracy: 0.16 Validation accuracy: 0.18\n",
            "1 Batch accuracy: 0.12 Validation accuracy: 0.24\n",
            "2 Batch accuracy: 0.2 Validation accuracy: 0.32\n",
            "3 Batch accuracy: 0.38 Validation accuracy: 0.38\n",
            "4 Batch accuracy: 0.6 Validation accuracy: 0.48\n",
            "5 Batch accuracy: 0.56 Validation accuracy: 0.5\n",
            "6 Batch accuracy: 0.64 Validation accuracy: 0.56\n",
            "7 Batch accuracy: 0.66 Validation accuracy: 0.56\n",
            "8 Batch accuracy: 0.66 Validation accuracy: 0.58\n",
            "9 Batch accuracy: 0.66 Validation accuracy: 0.58\n",
            "10 Batch accuracy: 0.78 Validation accuracy: 0.58\n",
            "11 Batch accuracy: 0.82 Validation accuracy: 0.58\n",
            "12 Batch accuracy: 0.74 Validation accuracy: 0.6\n",
            "13 Batch accuracy: 0.68 Validation accuracy: 0.62\n",
            "14 Batch accuracy: 0.76 Validation accuracy: 0.62\n",
            "15 Batch accuracy: 0.84 Validation accuracy: 0.62\n",
            "16 Batch accuracy: 0.84 Validation accuracy: 0.64\n",
            "17 Batch accuracy: 0.74 Validation accuracy: 0.66\n",
            "18 Batch accuracy: 0.86 Validation accuracy: 0.66\n",
            "19 Batch accuracy: 0.8 Validation accuracy: 0.66\n"
          ],
          "name": "stdout"
        }
      ]
    },
    {
      "metadata": {
        "id": "CBQrZymWcsHJ",
        "colab_type": "code",
        "colab": {}
      },
      "cell_type": "code",
      "source": [
        "#show_graph(tf.get_default_graph().as_graph_def())"
      ],
      "execution_count": 0,
      "outputs": []
    },
    {
      "metadata": {
        "id": "E1FdLUmvcr5l",
        "colab_type": "code",
        "colab": {}
      },
      "cell_type": "code",
      "source": [
        "reset_graph()\n",
        "\n",
        "X = tf.placeholder(tf.float32, shape=(None, n_inputs), name=\"X\")\n",
        "y = tf.placeholder(tf.int32, shape=(None), name=\"y\")"
      ],
      "execution_count": 0,
      "outputs": []
    },
    {
      "metadata": {
        "id": "Z85lZyXvj7OM",
        "colab_type": "code",
        "colab": {}
      },
      "cell_type": "code",
      "source": [
        "with tf.name_scope(\"dnn3\"):\n",
        "    hidden1 = tf.layers.dense(X, n_hidden2_1, name=\"hidden1\",\n",
        "                              activation=tf.nn.softmax)\n",
        "    hidden2 = tf.layers.dense(hidden1, n_hidden2_2, name=\"hidden2\",\n",
        "                              activation=tf.nn.softmax)\n",
        "    logits = tf.layers.dense(hidden2, n_outputs, name=\"outputs\")\n",
        "    y_proba = tf.nn.softmax(logits)"
      ],
      "execution_count": 0,
      "outputs": []
    },
    {
      "metadata": {
        "id": "0SbsmwLUj7LG",
        "colab_type": "code",
        "colab": {}
      },
      "cell_type": "code",
      "source": [
        "with tf.name_scope(\"loss3\"):\n",
        "    xentropy = tf.nn.sparse_softmax_cross_entropy_with_logits(labels=y, logits=logits)\n",
        "    loss = tf.reduce_mean(xentropy, name=\"loss\") "
      ],
      "execution_count": 0,
      "outputs": []
    },
    {
      "metadata": {
        "id": "0X91n1S1j7Hw",
        "colab_type": "code",
        "colab": {}
      },
      "cell_type": "code",
      "source": [
        "learning_rate = 0.01\n",
        "\n",
        "with tf.name_scope(\"train3\"):\n",
        "    optimizer = tf.train.GradientDescentOptimizer(learning_rate)\n",
        "    training_op = optimizer.minimize(loss)"
      ],
      "execution_count": 0,
      "outputs": []
    },
    {
      "metadata": {
        "id": "LdQry-3Qj6-W",
        "colab_type": "code",
        "colab": {}
      },
      "cell_type": "code",
      "source": [
        "with tf.name_scope(\"eval3\"):\n",
        "    correct = tf.nn.in_top_k(logits, y, 1)\n",
        "    accuracy = tf.reduce_mean(tf.cast(correct, tf.float32))"
      ],
      "execution_count": 0,
      "outputs": []
    },
    {
      "metadata": {
        "id": "qjzbKrG7kBkm",
        "colab_type": "code",
        "colab": {}
      },
      "cell_type": "code",
      "source": [
        "init = tf.global_variables_initializer()\n",
        "saver = tf.train.Saver()"
      ],
      "execution_count": 0,
      "outputs": []
    },
    {
      "metadata": {
        "id": "o3MdocK6kBg8",
        "colab_type": "code",
        "colab": {
          "base_uri": "https://localhost:8080/",
          "height": 364
        },
        "outputId": "1737682b-8374-465b-c3eb-dcd39c554bff"
      },
      "cell_type": "code",
      "source": [
        "n_epochs = 20\n",
        "batch_size = 50\n",
        "\n",
        "with tf.Session() as sess:\n",
        "    init.run()\n",
        "    for epoch in range(n_epochs):\n",
        "        for X_batch, y_batch in shuffle_batch(X_train, y_train, batch_size):\n",
        "            sess.run(training_op, feed_dict={X: X_batch, y: y_batch})\n",
        "        acc_batch = accuracy.eval(feed_dict={X: X_batch, y: y_batch})\n",
        "        acc_valid = accuracy.eval(feed_dict={X: X_valid, y: y_valid})\n",
        "        print(epoch, \"Batch accuracy:\", acc_batch, \"Validation accuracy:\", acc_valid)"
      ],
      "execution_count": 67,
      "outputs": [
        {
          "output_type": "stream",
          "text": [
            "0 Batch accuracy: 0.2 Validation accuracy: 0.14\n",
            "1 Batch accuracy: 0.14 Validation accuracy: 0.14\n",
            "2 Batch accuracy: 0.06 Validation accuracy: 0.14\n",
            "3 Batch accuracy: 0.12 Validation accuracy: 0.14\n",
            "4 Batch accuracy: 0.12 Validation accuracy: 0.14\n",
            "5 Batch accuracy: 0.02 Validation accuracy: 0.14\n",
            "6 Batch accuracy: 0.22 Validation accuracy: 0.14\n",
            "7 Batch accuracy: 0.16 Validation accuracy: 0.14\n",
            "8 Batch accuracy: 0.22 Validation accuracy: 0.14\n",
            "9 Batch accuracy: 0.12 Validation accuracy: 0.14\n",
            "10 Batch accuracy: 0.14 Validation accuracy: 0.14\n",
            "11 Batch accuracy: 0.18 Validation accuracy: 0.14\n",
            "12 Batch accuracy: 0.1 Validation accuracy: 0.14\n",
            "13 Batch accuracy: 0.02 Validation accuracy: 0.14\n",
            "14 Batch accuracy: 0.18 Validation accuracy: 0.14\n",
            "15 Batch accuracy: 0.06 Validation accuracy: 0.14\n",
            "16 Batch accuracy: 0.16 Validation accuracy: 0.14\n",
            "17 Batch accuracy: 0.12 Validation accuracy: 0.14\n",
            "18 Batch accuracy: 0.14 Validation accuracy: 0.14\n",
            "19 Batch accuracy: 0.12 Validation accuracy: 0.14\n"
          ],
          "name": "stdout"
        }
      ]
    },
    {
      "metadata": {
        "id": "O9mh2inNkBdx",
        "colab_type": "code",
        "colab": {}
      },
      "cell_type": "code",
      "source": [
        "#show_graph(tf.get_default_graph().as_graph_def())"
      ],
      "execution_count": 0,
      "outputs": []
    },
    {
      "metadata": {
        "id": "gjYHfp8ukNPC",
        "colab_type": "code",
        "colab": {}
      },
      "cell_type": "code",
      "source": [
        "reset_graph()\n",
        "\n",
        "X = tf.placeholder(tf.float32, shape=(None, n_inputs), name=\"X\")\n",
        "y = tf.placeholder(tf.int32, shape=(None), name=\"y\")"
      ],
      "execution_count": 0,
      "outputs": []
    },
    {
      "metadata": {
        "id": "MVoaW_OSkNLY",
        "colab_type": "code",
        "colab": {}
      },
      "cell_type": "code",
      "source": [
        "with tf.name_scope(\"dnn4\"):\n",
        "    hidden1 = tf.layers.dense(X, n_hidden2_1, name=\"hidden1\",\n",
        "                              activation=tf.nn.relu)\n",
        "    hidden2 = tf.layers.dense(hidden1, n_hidden2_2, name=\"hidden2\",\n",
        "                              activation=tf.nn.relu)\n",
        "    logits = tf.layers.dense(hidden2, n_outputs, name=\"outputs\")\n",
        "    y_proba = tf.nn.softmax(logits)"
      ],
      "execution_count": 0,
      "outputs": []
    },
    {
      "metadata": {
        "id": "TgZNmxHykNJ8",
        "colab_type": "code",
        "colab": {}
      },
      "cell_type": "code",
      "source": [
        "with tf.name_scope(\"loss4\"):\n",
        "    xentropy = tf.nn.sparse_softmax_cross_entropy_with_logits(labels=y, logits=logits)\n",
        "    loss = tf.reduce_mean(xentropy, name=\"loss\") "
      ],
      "execution_count": 0,
      "outputs": []
    },
    {
      "metadata": {
        "id": "b2Af9ZKYkNGa",
        "colab_type": "code",
        "colab": {}
      },
      "cell_type": "code",
      "source": [
        "learning_rate = 0.01\n",
        "\n",
        "with tf.name_scope(\"train4\"):\n",
        "    optimizer = tf.train.GradientDescentOptimizer(learning_rate)\n",
        "    training_op = optimizer.minimize(loss)"
      ],
      "execution_count": 0,
      "outputs": []
    },
    {
      "metadata": {
        "id": "Qnf666N1kNEV",
        "colab_type": "code",
        "colab": {}
      },
      "cell_type": "code",
      "source": [
        "with tf.name_scope(\"eval4\"):\n",
        "    correct = tf.nn.in_top_k(logits, y, 1)\n",
        "    accuracy = tf.reduce_mean(tf.cast(correct, tf.float32))"
      ],
      "execution_count": 0,
      "outputs": []
    },
    {
      "metadata": {
        "id": "LsdlTwRjmDnd",
        "colab_type": "code",
        "colab": {}
      },
      "cell_type": "code",
      "source": [
        "init = tf.global_variables_initializer()\n",
        "saver = tf.train.Saver()"
      ],
      "execution_count": 0,
      "outputs": []
    },
    {
      "metadata": {
        "id": "ylkobhxqkSyh",
        "colab_type": "code",
        "colab": {
          "base_uri": "https://localhost:8080/",
          "height": 364
        },
        "outputId": "121c1910-2209-4428-c74e-bbfe6f979886"
      },
      "cell_type": "code",
      "source": [
        "n_epochs = 20\n",
        "batch_size = 50\n",
        "\n",
        "with tf.Session() as sess:\n",
        "    init.run()\n",
        "    for epoch in range(n_epochs):\n",
        "        for X_batch, y_batch in shuffle_batch(X_train, y_train, batch_size):\n",
        "            sess.run(training_op, feed_dict={X: X_batch, y: y_batch})\n",
        "        acc_batch = accuracy.eval(feed_dict={X: X_batch, y: y_batch})\n",
        "        acc_valid = accuracy.eval(feed_dict={X: X_valid, y: y_valid})\n",
        "        print(epoch, \"Batch accuracy:\", acc_batch, \"Validation accuracy:\", acc_valid)"
      ],
      "execution_count": 84,
      "outputs": [
        {
          "output_type": "stream",
          "text": [
            "0 Batch accuracy: 0.16 Validation accuracy: 0.18\n",
            "1 Batch accuracy: 0.12 Validation accuracy: 0.24\n",
            "2 Batch accuracy: 0.2 Validation accuracy: 0.32\n",
            "3 Batch accuracy: 0.38 Validation accuracy: 0.38\n",
            "4 Batch accuracy: 0.6 Validation accuracy: 0.48\n",
            "5 Batch accuracy: 0.56 Validation accuracy: 0.5\n",
            "6 Batch accuracy: 0.64 Validation accuracy: 0.56\n",
            "7 Batch accuracy: 0.66 Validation accuracy: 0.56\n",
            "8 Batch accuracy: 0.66 Validation accuracy: 0.58\n",
            "9 Batch accuracy: 0.66 Validation accuracy: 0.58\n",
            "10 Batch accuracy: 0.78 Validation accuracy: 0.58\n",
            "11 Batch accuracy: 0.82 Validation accuracy: 0.58\n",
            "12 Batch accuracy: 0.74 Validation accuracy: 0.6\n",
            "13 Batch accuracy: 0.68 Validation accuracy: 0.62\n",
            "14 Batch accuracy: 0.76 Validation accuracy: 0.62\n",
            "15 Batch accuracy: 0.84 Validation accuracy: 0.62\n",
            "16 Batch accuracy: 0.84 Validation accuracy: 0.64\n",
            "17 Batch accuracy: 0.74 Validation accuracy: 0.66\n",
            "18 Batch accuracy: 0.86 Validation accuracy: 0.66\n",
            "19 Batch accuracy: 0.8 Validation accuracy: 0.66\n"
          ],
          "name": "stdout"
        }
      ]
    },
    {
      "metadata": {
        "id": "C1YUZOJGkUVW",
        "colab_type": "code",
        "colab": {}
      },
      "cell_type": "code",
      "source": [
        "#show_graph(tf.get_default_graph().as_graph_def())"
      ],
      "execution_count": 0,
      "outputs": []
    }
  ]
}